{
 "cells": [
  {
   "cell_type": "markdown",
   "metadata": {},
   "source": [
    "## Assignment-03 First Step of Machine Learning: Model and Evaluation"
   ]
  },
  {
   "cell_type": "markdown",
   "metadata": {},
   "source": [
    "同学们，今天我们的学习了基本的机器学习概念，相比你已经对机器学习的这些方法有一个基本的认识了。值得说明的是，机器学习不仅仅是一系列方法，更重要的是一种思维体系，即：依据以往的、现有的数据，构建某种方法来解决未见过的问题。而且决策树，贝叶斯只是实现这个目标的一个方法，包括之后的神经网络。很有可能有一天，神经网络也会被淘汰，但是重要的是我们要理解机器学习的目标，就是尽可能的自动化解决未知的问题。"
   ]
  },
  {
   "cell_type": "markdown",
   "metadata": {},
   "source": [
    "![](https://timgsa.baidu.com/timg?image&quality=80&size=b9999_10000&sec=1571556399207&di=4a97dc15ad08dd49d3748d1edf6109b3&imgtype=0&src=http%3A%2F%2Fc.hiphotos.baidu.com%2Fzhidao%2Fwh%3D450%2C600%2Fsign%3Dae742c6aedcd7b89e93932873a146e91%2F5d6034a85edf8db1b16050c40223dd54574e74c7.jpg)"
   ]
  },
  {
   "cell_type": "markdown",
   "metadata": {},
   "source": [
    "## Part-1 Programming Review 编程回顾"
   ]
  },
  {
   "cell_type": "markdown",
   "metadata": {},
   "source": [
    "#### 1. Re-code the Linear-Regression Model using scikit-learning(10 points)"
   ]
  },
  {
   "cell_type": "markdown",
   "metadata": {},
   "source": [
    "<评阅点>： \n",
    "> + 是否完成线性回归模型 (4')\n",
    "+ 能够进行预测新数据(3')\n",
    "+ 能够进行可视化操作(3')"
   ]
  },
  {
   "cell_type": "code",
   "execution_count": 1,
   "metadata": {},
   "outputs": [],
   "source": [
    "import numpy as np\n",
    "import matplotlib.pyplot as plt\n",
    "%matplotlib inline\n",
    "\n",
    "import random\n",
    "from sklearn.linear_model import LinearRegression"
   ]
  },
  {
   "cell_type": "code",
   "execution_count": 2,
   "metadata": {},
   "outputs": [
    {
     "data": {
      "text/plain": [
       "array([0.08111108, 0.55260899, 0.55282767, 0.80154683, 0.09385932,\n",
       "       0.86309379, 0.11394969, 0.32266401, 0.99820976, 0.58250899,\n",
       "       0.93236685, 0.09011821, 0.51686701, 0.3815499 , 0.55895762,\n",
       "       0.0640334 , 0.43759165, 0.62726974, 0.81190512, 0.40191704])"
      ]
     },
     "execution_count": 2,
     "metadata": {},
     "output_type": "execute_result"
    }
   ],
   "source": [
    "X = np.random.random(20)\n",
    "X"
   ]
  },
  {
   "cell_type": "code",
   "execution_count": 3,
   "metadata": {},
   "outputs": [],
   "source": [
    "def assuming_func(x):\n",
    "    return 13.4 * x + 5 + random.randint(-5,5)"
   ]
  },
  {
   "cell_type": "code",
   "execution_count": 4,
   "metadata": {
    "scrolled": true
   },
   "outputs": [
    {
     "data": {
      "text/plain": [
       "<matplotlib.collections.PathCollection at 0x7f15641086a0>"
      ]
     },
     "execution_count": 4,
     "metadata": {},
     "output_type": "execute_result"
    },
    {
     "data": {
      "image/png": "[encoded data removed]",
      "text/plain": [
       "<Figure size 432x288 with 1 Axes>"
      ]
     },
     "metadata": {
      "needs_background": "light"
     },
     "output_type": "display_data"
    }
   ],
   "source": [
    "y = [assuming_func(x) for x in X]\n",
    "plt.scatter(X,y)"
   ]
  },
  {
   "cell_type": "code",
   "execution_count": 5,
   "metadata": {},
   "outputs": [],
   "source": [
    "\"\"\"\n",
    "用LR来拟合函数\n",
    "\"\"\"\n",
    "y = np.array(y)\n",
    "LR = LinearRegression()\n",
    "reg = LR.fit(X.reshape(-1,1),y)"
   ]
  },
  {
   "cell_type": "code",
   "execution_count": 6,
   "metadata": {},
   "outputs": [
    {
     "data": {
      "text/plain": [
       "0.4797565006047161"
      ]
     },
     "execution_count": 6,
     "metadata": {},
     "output_type": "execute_result"
    }
   ],
   "source": [
    "\"\"\"\n",
    "R2值，越接近1说明拟合越好\n",
    "\"\"\"\n",
    "reg.score(X.reshape(-1,1),y)"
   ]
  },
  {
   "cell_type": "code",
   "execution_count": 7,
   "metadata": {},
   "outputs": [
    {
     "data": {
      "text/plain": [
       "(array([7.78817082]), 7.595575260318629)"
      ]
     },
     "execution_count": 7,
     "metadata": {},
     "output_type": "execute_result"
    }
   ],
   "source": [
    "\"\"\"\n",
    "参数的拟合值，k和b\n",
    "\"\"\"\n",
    "reg.coef_,reg.intercept_"
   ]
  },
  {
   "cell_type": "code",
   "execution_count": 8,
   "metadata": {},
   "outputs": [
    {
     "data": {
      "text/plain": [
       "[<matplotlib.lines.Line2D at 0x7f15640e8eb8>]"
      ]
     },
     "execution_count": 8,
     "metadata": {},
     "output_type": "execute_result"
    },
    {
     "data": {
      "image/png": "[encoded data removed]",
      "text/plain": [
       "<Figure size 432x288 with 1 Axes>"
      ]
     },
     "metadata": {
      "needs_background": "light"
     },
     "output_type": "display_data"
    }
   ],
   "source": [
    "\"\"\"拟合好的函数\"\"\"\n",
    "\n",
    "def func(x):\n",
    "    return reg.coef_ * x + reg.intercept_\n",
    "\n",
    "y_pred = np.array([func(x) for x in X])\n",
    "\n",
    "plt.scatter(X.reshape(-1,1),y)\n",
    "plt.plot(X.reshape(-1,1),y_pred,color='red')"
   ]
  },
  {
   "cell_type": "markdown",
   "metadata": {},
   "source": [
    "#### 2. Complete the unfinished KNN Model using pure python to solve the previous Line-Regression problem. (8 points)"
   ]
  },
  {
   "cell_type": "markdown",
   "metadata": {},
   "source": [
    "<评阅点>:\n",
    "> + 是否完成了KNN模型 (4')\n",
    "+ 是否能够预测新的数据 (4')"
   ]
  },
  {
   "cell_type": "code",
   "execution_count": 9,
   "metadata": {},
   "outputs": [],
   "source": [
    "\"\"\"\n",
    "用欧式距离作为测度，找出和预测点最近的3个点，\n",
    "并求均值作为预测值。\n",
    "这个和分类不一样，是预测问题，\n",
    "而且变量只有一个，用余弦距离度量不合适。\n",
    "\"\"\"\n",
    "from scipy.spatial.distance import pdist\n",
    "\n",
    "def model(X,y):\n",
    "    return [(x,y)for x,y in zip(X,y)]\n",
    "\n",
    "def distance(x1,x2):\n",
    "    return pdist([[x1,0],[x2,0]])\n",
    "\n",
    "def predict(x,k=3):\n",
    "    most_similars = sorted(model(X,y),key=lambda xi: distance(xi[0],x))[:k]\n",
    "    return np.mean([pair[1] for pair in most_similars])"
   ]
  },
  {
   "cell_type": "code",
   "execution_count": 10,
   "metadata": {},
   "outputs": [],
   "source": [
    "y_pred = [predict (x) for x in X]"
   ]
  },
  {
   "cell_type": "code",
   "execution_count": 11,
   "metadata": {},
   "outputs": [
    {
     "data": {
      "text/plain": [
       "<matplotlib.collections.PathCollection at 0x7f15640160b8>"
      ]
     },
     "execution_count": 11,
     "metadata": {},
     "output_type": "execute_result"
    },
    {
     "data": {
      "image/png": "[encoded data removed]",
      "text/plain": [
       "<Figure size 432x288 with 1 Axes>"
      ]
     },
     "metadata": {
      "needs_background": "light"
     },
     "output_type": "display_data"
    }
   ],
   "source": [
    "plt.scatter(X.reshape(-1,1),y)\n",
    "plt.scatter(X.reshape(-1,1),y_pred,color='red')"
   ]
  },
  {
   "cell_type": "code",
   "execution_count": 12,
   "metadata": {},
   "outputs": [
    {
     "data": {
      "text/plain": [
       "12.061904311817917"
      ]
     },
     "execution_count": 12,
     "metadata": {},
     "output_type": "execute_result"
    }
   ],
   "source": [
    "predict(0.8)"
   ]
  },
  {
   "cell_type": "markdown",
   "metadata": {},
   "source": [
    "#### 3. Re-code the Decision Tree, which could sort the features by salience. (12 points)"
   ]
  },
  {
   "cell_type": "markdown",
   "metadata": {},
   "source": [
    "<评阅点>\n",
    "> + 是否实现了信息熵 (1' )\n",
    "+ 是否实现了最优先特征点的选择(5')\n",
    "+ 是否实现了持续的特征选则(6')"
   ]
  },
  {
   "cell_type": "code",
   "execution_count": 68,
   "metadata": {},
   "outputs": [],
   "source": [
    "from collections import Counter"
   ]
  },
  {
   "cell_type": "code",
   "execution_count": 69,
   "metadata": {},
   "outputs": [],
   "source": [
    "def entropy(elements):\n",
    "    counter = Counter(elements)\n",
    "    probs = [counter[c] / len(elements) for c in counter]\n",
    "    return -sum([p * np.log(p) for p in probs])"
   ]
  },
  {
   "cell_type": "code",
   "execution_count": 70,
   "metadata": {},
   "outputs": [
    {
     "data": {
      "text/plain": [
       "-0.0"
      ]
     },
     "execution_count": 70,
     "metadata": {},
     "output_type": "execute_result"
    }
   ],
   "source": [
    "entropy([1,1,1,1])"
   ]
  },
  {
   "cell_type": "code",
   "execution_count": 71,
   "metadata": {},
   "outputs": [
    {
     "data": {
      "text/plain": [
       "0.5623351446188083"
      ]
     },
     "execution_count": 71,
     "metadata": {},
     "output_type": "execute_result"
    }
   ],
   "source": [
    "entropy([1,1,1,0])"
   ]
  },
  {
   "cell_type": "code",
   "execution_count": 72,
   "metadata": {},
   "outputs": [],
   "source": [
    "mock_data = {\n",
    "    'gender':['F', 'F', 'F', 'F', 'M', 'M', 'M'],\n",
    "    'income': ['+10', '-10', '+10', '+10', '+10', '+10', '-10'],\n",
    "    'family_number': [1, 1, 2, 1, 1, 1, 2],\n",
    "    'bought': [1, 1, 1, 0, 0, 0, 1],\n",
    "}"
   ]
  },
  {
   "cell_type": "code",
   "execution_count": 73,
   "metadata": {},
   "outputs": [],
   "source": [
    "import pandas as pd"
   ]
  },
  {
   "cell_type": "code",
   "execution_count": 74,
   "metadata": {},
   "outputs": [
    {
     "data": {
      "text/html": [
       "<div>\n",
       "<style scoped>\n",
       "    .dataframe tbody tr th:only-of-type {\n",
       "        vertical-align: middle;\n",
       "    }\n",
       "\n",
       "    .dataframe tbody tr th {\n",
       "        vertical-align: top;\n",
       "    }\n",
       "\n",
       "    .dataframe thead th {\n",
       "        text-align: right;\n",
       "    }\n",
       "</style>\n",
       "<table border=\"1\" class=\"dataframe\">\n",
       "  <thead>\n",
       "    <tr style=\"text-align: right;\">\n",
       "      <th></th>\n",
       "      <th>gender</th>\n",
       "      <th>income</th>\n",
       "      <th>family_number</th>\n",
       "      <th>bought</th>\n",
       "    </tr>\n",
       "  </thead>\n",
       "  <tbody>\n",
       "    <tr>\n",
       "      <th>0</th>\n",
       "      <td>F</td>\n",
       "      <td>+10</td>\n",
       "      <td>1</td>\n",
       "      <td>1</td>\n",
       "    </tr>\n",
       "    <tr>\n",
       "      <th>1</th>\n",
       "      <td>F</td>\n",
       "      <td>-10</td>\n",
       "      <td>1</td>\n",
       "      <td>1</td>\n",
       "    </tr>\n",
       "    <tr>\n",
       "      <th>2</th>\n",
       "      <td>F</td>\n",
       "      <td>+10</td>\n",
       "      <td>2</td>\n",
       "      <td>1</td>\n",
       "    </tr>\n",
       "    <tr>\n",
       "      <th>3</th>\n",
       "      <td>F</td>\n",
       "      <td>+10</td>\n",
       "      <td>1</td>\n",
       "      <td>0</td>\n",
       "    </tr>\n",
       "    <tr>\n",
       "      <th>4</th>\n",
       "      <td>M</td>\n",
       "      <td>+10</td>\n",
       "      <td>1</td>\n",
       "      <td>0</td>\n",
       "    </tr>\n",
       "    <tr>\n",
       "      <th>5</th>\n",
       "      <td>M</td>\n",
       "      <td>+10</td>\n",
       "      <td>1</td>\n",
       "      <td>0</td>\n",
       "    </tr>\n",
       "    <tr>\n",
       "      <th>6</th>\n",
       "      <td>M</td>\n",
       "      <td>-10</td>\n",
       "      <td>2</td>\n",
       "      <td>1</td>\n",
       "    </tr>\n",
       "  </tbody>\n",
       "</table>\n",
       "</div>"
      ],
      "text/plain": [
       "  gender income  family_number  bought\n",
       "0      F    +10              1       1\n",
       "1      F    -10              1       1\n",
       "2      F    +10              2       1\n",
       "3      F    +10              1       0\n",
       "4      M    +10              1       0\n",
       "5      M    +10              1       0\n",
       "6      M    -10              2       1"
      ]
     },
     "execution_count": 74,
     "metadata": {},
     "output_type": "execute_result"
    }
   ],
   "source": [
    "dataset = pd.DataFrame.from_dict(mock_data)\n",
    "dataset"
   ]
  },
  {
   "cell_type": "code",
   "execution_count": 75,
   "metadata": {},
   "outputs": [
    {
     "data": {
      "text/plain": [
       "{1, 2}"
      ]
     },
     "execution_count": 75,
     "metadata": {},
     "output_type": "execute_result"
    }
   ],
   "source": [
    "set(dataset['family_number'])"
   ]
  },
  {
   "cell_type": "code",
   "execution_count": 76,
   "metadata": {},
   "outputs": [],
   "source": [
    "\"\"\"\n",
    "以 family number 作为分裂特征进行分裂\n",
    "\"\"\"\n",
    "sub_split_11 = dataset[dataset['family_number']==1]['bought'].tolist()"
   ]
  },
  {
   "cell_type": "code",
   "execution_count": 77,
   "metadata": {},
   "outputs": [
    {
     "data": {
      "text/plain": [
       "[1, 1, 0, 0, 0]"
      ]
     },
     "execution_count": 77,
     "metadata": {},
     "output_type": "execute_result"
    }
   ],
   "source": [
    "sub_split_11"
   ]
  },
  {
   "cell_type": "code",
   "execution_count": 78,
   "metadata": {},
   "outputs": [
    {
     "data": {
      "text/plain": [
       "[1, 1]"
      ]
     },
     "execution_count": 78,
     "metadata": {},
     "output_type": "execute_result"
    }
   ],
   "source": [
    "sub_split_12 = dataset[dataset['family_number']!=1]['bought'].tolist()\n",
    "sub_split_12"
   ]
  },
  {
   "cell_type": "code",
   "execution_count": 79,
   "metadata": {},
   "outputs": [
    {
     "data": {
      "text/plain": [
       "{'F', 'M'}"
      ]
     },
     "execution_count": 79,
     "metadata": {},
     "output_type": "execute_result"
    }
   ],
   "source": [
    "set(dataset['gender'])"
   ]
  },
  {
   "cell_type": "code",
   "execution_count": 80,
   "metadata": {},
   "outputs": [
    {
     "data": {
      "text/plain": [
       "[0, 0, 1]"
      ]
     },
     "execution_count": 80,
     "metadata": {},
     "output_type": "execute_result"
    }
   ],
   "source": [
    "\"\"\"\n",
    "以性别作为分裂特征进行分裂\n",
    "\"\"\"\n",
    "\n",
    "sub_split_21 = dataset[dataset['gender']=='M']['bought'].tolist()\n",
    "sub_split_21"
   ]
  },
  {
   "cell_type": "code",
   "execution_count": 81,
   "metadata": {},
   "outputs": [
    {
     "data": {
      "text/plain": [
       "[1, 1, 1, 0]"
      ]
     },
     "execution_count": 81,
     "metadata": {},
     "output_type": "execute_result"
    }
   ],
   "source": [
    "sub_split_22 = dataset[dataset['gender']!='M']['bought'].tolist()\n",
    "sub_split_22"
   ]
  },
  {
   "cell_type": "code",
   "execution_count": 82,
   "metadata": {},
   "outputs": [
    {
     "data": {
      "text/plain": [
       "0.6730116670092565"
      ]
     },
     "execution_count": 82,
     "metadata": {},
     "output_type": "execute_result"
    }
   ],
   "source": [
    "entropy(sub_split_11) + entropy(sub_split_12)"
   ]
  },
  {
   "cell_type": "code",
   "execution_count": 83,
   "metadata": {},
   "outputs": [
    {
     "data": {
      "text/plain": [
       "1.198849312913621"
      ]
     },
     "execution_count": 83,
     "metadata": {},
     "output_type": "execute_result"
    }
   ],
   "source": [
    "\"\"\"\n",
    "可以看到以family number 作为分裂特征，分裂后的熵更小，\n",
    "则数据的混乱程度更小，进一步计算得到的信息增益更大。\n",
    "两相比较选择family number作为最佳分裂特征。\n",
    "\"\"\"\n",
    "\n",
    "entropy(sub_split_21) + entropy(sub_split_22)"
   ]
  },
  {
   "cell_type": "code",
   "execution_count": 84,
   "metadata": {},
   "outputs": [
    {
     "data": {
      "text/plain": [
       "['gender', 'income', 'family_number', 'bought']"
      ]
     },
     "execution_count": 84,
     "metadata": {},
     "output_type": "execute_result"
    }
   ],
   "source": [
    "dataset.columns.tolist()"
   ]
  },
  {
   "cell_type": "code",
   "execution_count": 85,
   "metadata": {},
   "outputs": [],
   "source": [
    "from icecream import ic"
   ]
  },
  {
   "cell_type": "code",
   "execution_count": 88,
   "metadata": {},
   "outputs": [],
   "source": [
    "def find_the_min_spliter(trainning_data:pd.DataFrame,target:str)->str:\n",
    "    x_fields = set(trainning_data.columns.tolist()) - {target}\n",
    "    \n",
    "    spliter = None\n",
    "    min_entropy = float('inf')\n",
    "    \n",
    "    for f in x_fields:\n",
    "        ic(f)\n",
    "        values = set(trainning_data[f])\n",
    "        ic(values)\n",
    "        \n",
    "        for v in values:\n",
    "            ic(v)\n",
    "            sub_spliter_1 = trainning_data[trainning_data[f]==v][target].tolist()\n",
    "            sub_spliter_2 = trainning_data[trainning_data[f]!=v][target].tolist()\n",
    "            ic(sub_spliter_1)\n",
    "            ic(sub_spliter_2)\n",
    "            \n",
    "            entropy_v = entropy(sub_spliter_1) + entropy(sub_spliter_2)\n",
    "            ic(entropy_v)\n",
    "            \n",
    "            if entropy_v <= min_entropy:\n",
    "                min_entropy = entropy_v\n",
    "                spliter = (f,v)\n",
    "    print('Spliter is: {}'.format(spliter))\n",
    "    print('The min entropy is: {}'.format(min_entropy))\n",
    "    return spliter"
   ]
  },
  {
   "cell_type": "code",
   "execution_count": 89,
   "metadata": {},
   "outputs": [
    {
     "name": "stderr",
     "output_type": "stream",
     "text": [
      "ic| f: 'gender'\n",
      "ic| values: {'F', 'M'}\n",
      "ic| v: 'F'\n",
      "ic| sub_spliter_1: [1, 1, 1, 0]\n",
      "ic| sub_spliter_2: [0, 0, 1]\n",
      "ic| entropy_v: 1.198849312913621\n",
      "ic| v: 'M'\n",
      "ic| sub_spliter_1: [0, 0, 1]\n",
      "ic| sub_spliter_2: [1, 1, 1, 0]\n",
      "ic| entropy_v: 1.198849312913621\n",
      "ic| f: 'family_number'\n",
      "ic| values: {1, 2}\n",
      "ic| v: 1\n",
      "ic| sub_spliter_1: [1, 1, 0, 0, 0]\n",
      "ic| sub_spliter_2: [1, 1]\n",
      "ic| entropy_v: 0.6730116670092565\n",
      "ic| v: 2\n",
      "ic| sub_spliter_1: [1, 1]\n",
      "ic| sub_spliter_2: [1, 1, 0, 0, 0]\n",
      "ic| entropy_v: 0.6730116670092565\n",
      "ic| f: 'income'\n",
      "ic| values: {'+10', '-10'}\n",
      "ic| v: '+10'\n",
      "ic| sub_spliter_1: [1, 1, 0, 0, 0]\n",
      "ic| sub_spliter_2: [1, 1]\n",
      "ic| entropy_v: 0.6730116670092565\n",
      "ic| v: '-10'\n",
      "ic| sub_spliter_1: [1, 1]\n",
      "ic| sub_spliter_2: [1, 1, 0, 0, 0]\n",
      "ic| entropy_v: 0.6730116670092565\n"
     ]
    },
    {
     "name": "stdout",
     "output_type": "stream",
     "text": [
      "Spliter is: ('income', '-10')\n",
      "The min entropy is: 0.6730116670092565\n"
     ]
    },
    {
     "data": {
      "text/plain": [
       "('income', '-10')"
      ]
     },
     "execution_count": 89,
     "metadata": {},
     "output_type": "execute_result"
    }
   ],
   "source": [
    "find_the_min_spliter(dataset,'bought')"
   ]
  },
  {
   "cell_type": "code",
   "execution_count": 90,
   "metadata": {},
   "outputs": [
    {
     "data": {
      "text/html": [
       "<div>\n",
       "<style scoped>\n",
       "    .dataframe tbody tr th:only-of-type {\n",
       "        vertical-align: middle;\n",
       "    }\n",
       "\n",
       "    .dataframe tbody tr th {\n",
       "        vertical-align: top;\n",
       "    }\n",
       "\n",
       "    .dataframe thead th {\n",
       "        text-align: right;\n",
       "    }\n",
       "</style>\n",
       "<table border=\"1\" class=\"dataframe\">\n",
       "  <thead>\n",
       "    <tr style=\"text-align: right;\">\n",
       "      <th></th>\n",
       "      <th>gender</th>\n",
       "      <th>income</th>\n",
       "      <th>family_number</th>\n",
       "      <th>bought</th>\n",
       "    </tr>\n",
       "  </thead>\n",
       "  <tbody>\n",
       "    <tr>\n",
       "      <th>0</th>\n",
       "      <td>F</td>\n",
       "      <td>+10</td>\n",
       "      <td>1</td>\n",
       "      <td>1</td>\n",
       "    </tr>\n",
       "    <tr>\n",
       "      <th>2</th>\n",
       "      <td>F</td>\n",
       "      <td>+10</td>\n",
       "      <td>2</td>\n",
       "      <td>1</td>\n",
       "    </tr>\n",
       "    <tr>\n",
       "      <th>3</th>\n",
       "      <td>F</td>\n",
       "      <td>+10</td>\n",
       "      <td>1</td>\n",
       "      <td>0</td>\n",
       "    </tr>\n",
       "    <tr>\n",
       "      <th>4</th>\n",
       "      <td>M</td>\n",
       "      <td>+10</td>\n",
       "      <td>1</td>\n",
       "      <td>0</td>\n",
       "    </tr>\n",
       "    <tr>\n",
       "      <th>5</th>\n",
       "      <td>M</td>\n",
       "      <td>+10</td>\n",
       "      <td>1</td>\n",
       "      <td>0</td>\n",
       "    </tr>\n",
       "  </tbody>\n",
       "</table>\n",
       "</div>"
      ],
      "text/plain": [
       "  gender income  family_number  bought\n",
       "0      F    +10              1       1\n",
       "2      F    +10              2       1\n",
       "3      F    +10              1       0\n",
       "4      M    +10              1       0\n",
       "5      M    +10              1       0"
      ]
     },
     "execution_count": 90,
     "metadata": {},
     "output_type": "execute_result"
    }
   ],
   "source": [
    "\"\"\"\n",
    "可以看到应该选择收入为首先分割的特征，\n",
    "收入为-10的时候，样本都是同一类，\n",
    "所以对收入为10的样本再进行划分\n",
    "\"\"\"\n",
    "\n",
    "sub_dataset_1 = dataset[dataset['income']=='+10']\n",
    "sub_dataset_1"
   ]
  },
  {
   "cell_type": "code",
   "execution_count": 91,
   "metadata": {},
   "outputs": [
    {
     "name": "stderr",
     "output_type": "stream",
     "text": [
      "ic| f: 'gender'\n",
      "ic| values: {'F', 'M'}\n",
      "ic| v: 'F'\n",
      "ic| sub_spliter_1: [1, 1, 0]\n",
      "ic| sub_spliter_2: [0, 0]\n",
      "ic| entropy_v: 0.6365141682948128\n",
      "ic| v: 'M'\n",
      "ic| sub_spliter_1: [0, 0]\n",
      "ic| sub_spliter_2: [1, 1, 0]\n",
      "ic| entropy_v: 0.6365141682948128\n",
      "ic| f: 'family_number'\n",
      "ic| values: {1, 2}\n",
      "ic| v: 1\n",
      "ic| sub_spliter_1: [1, 0, 0, 0]\n",
      "ic| sub_spliter_2: [1]\n",
      "ic| entropy_v: 0.5623351446188083\n",
      "ic| v: 2\n",
      "ic| sub_spliter_1: [1]\n",
      "ic| sub_spliter_2: [1, 0, 0, 0]\n",
      "ic| entropy_v: 0.5623351446188083\n",
      "ic| f: 'income'\n",
      "ic| values: {'+10'}\n",
      "ic| v: '+10'\n",
      "ic| sub_spliter_1: [1, 1, 0, 0, 0]\n",
      "ic| sub_spliter_2: []\n",
      "ic| entropy_v: 0.6730116670092565\n"
     ]
    },
    {
     "name": "stdout",
     "output_type": "stream",
     "text": [
      "Spliter is: ('family_number', 2)\n",
      "The min entropy is: 0.5623351446188083\n"
     ]
    },
    {
     "data": {
      "text/plain": [
       "('family_number', 2)"
      ]
     },
     "execution_count": 91,
     "metadata": {},
     "output_type": "execute_result"
    }
   ],
   "source": [
    "find_the_min_spliter(sub_dataset_1,'bought')"
   ]
  },
  {
   "cell_type": "code",
   "execution_count": 92,
   "metadata": {},
   "outputs": [
    {
     "data": {
      "text/html": [
       "<div>\n",
       "<style scoped>\n",
       "    .dataframe tbody tr th:only-of-type {\n",
       "        vertical-align: middle;\n",
       "    }\n",
       "\n",
       "    .dataframe tbody tr th {\n",
       "        vertical-align: top;\n",
       "    }\n",
       "\n",
       "    .dataframe thead th {\n",
       "        text-align: right;\n",
       "    }\n",
       "</style>\n",
       "<table border=\"1\" class=\"dataframe\">\n",
       "  <thead>\n",
       "    <tr style=\"text-align: right;\">\n",
       "      <th></th>\n",
       "      <th>gender</th>\n",
       "      <th>income</th>\n",
       "      <th>family_number</th>\n",
       "      <th>bought</th>\n",
       "    </tr>\n",
       "  </thead>\n",
       "  <tbody>\n",
       "    <tr>\n",
       "      <th>0</th>\n",
       "      <td>F</td>\n",
       "      <td>+10</td>\n",
       "      <td>1</td>\n",
       "      <td>1</td>\n",
       "    </tr>\n",
       "    <tr>\n",
       "      <th>2</th>\n",
       "      <td>F</td>\n",
       "      <td>+10</td>\n",
       "      <td>2</td>\n",
       "      <td>1</td>\n",
       "    </tr>\n",
       "    <tr>\n",
       "      <th>3</th>\n",
       "      <td>F</td>\n",
       "      <td>+10</td>\n",
       "      <td>1</td>\n",
       "      <td>0</td>\n",
       "    </tr>\n",
       "  </tbody>\n",
       "</table>\n",
       "</div>"
      ],
      "text/plain": [
       "  gender income  family_number  bought\n",
       "0      F    +10              1       1\n",
       "2      F    +10              2       1\n",
       "3      F    +10              1       0"
      ]
     },
     "execution_count": 92,
     "metadata": {},
     "output_type": "execute_result"
    }
   ],
   "source": [
    "\"\"\"\n",
    "可以看到第二步的最佳分割特征为gender，\n",
    "gender为M时，都划分为一类，\n",
    "所以再对gender为F的子集进行分割\n",
    "\"\"\"\n",
    "\n",
    "sub_dataset_2 = sub_dataset_1[sub_dataset_1['gender']=='F']\n",
    "sub_dataset_2"
   ]
  },
  {
   "cell_type": "code",
   "execution_count": 93,
   "metadata": {},
   "outputs": [
    {
     "name": "stderr",
     "output_type": "stream",
     "text": [
      "ic| f: 'gender'\n",
      "ic| values: {'F'}\n",
      "ic| v: 'F'\n",
      "ic| sub_spliter_1: [1, 1, 0]\n",
      "ic| sub_spliter_2: []\n",
      "ic| entropy_v: 0.6365141682948128\n",
      "ic| f: 'family_number'\n",
      "ic| values: {1, 2}\n",
      "ic| v: 1\n",
      "ic| sub_spliter_1: [1, 0]\n",
      "ic| sub_spliter_2: [1]\n",
      "ic| entropy_v: 0.6931471805599453\n",
      "ic| v: 2\n",
      "ic| sub_spliter_1: [1]\n",
      "ic| sub_spliter_2: [1, 0]\n",
      "ic| entropy_v: 0.6931471805599453\n",
      "ic| f: 'income'\n",
      "ic| values: {'+10'}\n",
      "ic| v: '+10'\n",
      "ic| sub_spliter_1: [1, 1, 0]\n",
      "ic| sub_spliter_2: []\n",
      "ic| entropy_v: 0.6365141682948128\n"
     ]
    },
    {
     "name": "stdout",
     "output_type": "stream",
     "text": [
      "Spliter is: ('income', '+10')\n",
      "The min entropy is: 0.6365141682948128\n"
     ]
    },
    {
     "data": {
      "text/plain": [
       "('income', '+10')"
      ]
     },
     "execution_count": 93,
     "metadata": {},
     "output_type": "execute_result"
    }
   ],
   "source": [
    "find_the_min_spliter(sub_dataset_2,'bought')"
   ]
  },
  {
   "cell_type": "code",
   "execution_count": 94,
   "metadata": {},
   "outputs": [
    {
     "data": {
      "text/html": [
       "<div>\n",
       "<style scoped>\n",
       "    .dataframe tbody tr th:only-of-type {\n",
       "        vertical-align: middle;\n",
       "    }\n",
       "\n",
       "    .dataframe tbody tr th {\n",
       "        vertical-align: top;\n",
       "    }\n",
       "\n",
       "    .dataframe thead th {\n",
       "        text-align: right;\n",
       "    }\n",
       "</style>\n",
       "<table border=\"1\" class=\"dataframe\">\n",
       "  <thead>\n",
       "    <tr style=\"text-align: right;\">\n",
       "      <th></th>\n",
       "      <th>gender</th>\n",
       "      <th>income</th>\n",
       "      <th>family_number</th>\n",
       "      <th>bought</th>\n",
       "    </tr>\n",
       "  </thead>\n",
       "  <tbody>\n",
       "    <tr>\n",
       "      <th>0</th>\n",
       "      <td>F</td>\n",
       "      <td>+10</td>\n",
       "      <td>1</td>\n",
       "      <td>1</td>\n",
       "    </tr>\n",
       "    <tr>\n",
       "      <th>3</th>\n",
       "      <td>F</td>\n",
       "      <td>+10</td>\n",
       "      <td>1</td>\n",
       "      <td>0</td>\n",
       "    </tr>\n",
       "  </tbody>\n",
       "</table>\n",
       "</div>"
      ],
      "text/plain": [
       "  gender income  family_number  bought\n",
       "0      F    +10              1       1\n",
       "3      F    +10              1       0"
      ]
     },
     "execution_count": 94,
     "metadata": {},
     "output_type": "execute_result"
    }
   ],
   "source": [
    "sub_dataset_3 = sub_dataset_2[sub_dataset_2['family_number']==1]\n",
    "sub_dataset_3"
   ]
  },
  {
   "cell_type": "code",
   "execution_count": 38,
   "metadata": {},
   "outputs": [
    {
     "name": "stderr",
     "output_type": "stream",
     "text": [
      "ic| f: 'gender'\n",
      "ic| values: {'F'}\n",
      "ic| v: 'F'\n",
      "ic| sub_spliter_1: [1, 0]\n",
      "ic| sub_spliter_2: []\n",
      "ic| entropy_v: 0.6931471805599453\n",
      "ic| f: 'family_number'\n",
      "ic| values: {1}\n",
      "ic| v: 1\n",
      "ic| sub_spliter_1: [1, 0]\n",
      "ic| sub_spliter_2: []\n",
      "ic| entropy_v: 0.6931471805599453\n",
      "ic| f: 'income'\n",
      "ic| values: {'+10'}\n",
      "ic| v: '+10'\n",
      "ic| sub_spliter_1: [1, 0]\n",
      "ic| sub_spliter_2: []\n",
      "ic| entropy_v: 0.6931471805599453\n"
     ]
    },
    {
     "name": "stdout",
     "output_type": "stream",
     "text": [
      "Spliter is: ('gender', 'F')\n",
      "The min entropy is: 0.6931471805599453\n"
     ]
    },
    {
     "data": {
      "text/plain": [
       "('gender', 'F')"
      ]
     },
     "execution_count": 38,
     "metadata": {},
     "output_type": "execute_result"
    }
   ],
   "source": [
    "find_the_min_spliter(sub_dataset_3,'bought')"
   ]
  },
  {
   "cell_type": "markdown",
   "metadata": {},
   "source": [
    "**第三个特征划分完毕后，就不用再进行划分了**\n",
    "[![KhS8SS.md.jpg](https://s2.ax1x.com/2019/10/30/KhS8SS.md.jpg)](https://imgchr.com/i/KhS8SS=100*50)"
   ]
  },
  {
   "cell_type": "markdown",
   "metadata": {},
   "source": [
    "#### 4. Finish the K-Means using 2-D matplotlib (8 points)"
   ]
  },
  {
   "cell_type": "markdown",
   "metadata": {},
   "source": [
    "<评阅点>\n",
    "> + 是否完成了KMeans模型，基于scikit-learning (3')\n",
    "+ 是否完成了可视化任务（5'）"
   ]
  },
  {
   "cell_type": "code",
   "execution_count": 39,
   "metadata": {},
   "outputs": [],
   "source": [
    "from sklearn.cluster import KMeans"
   ]
  },
  {
   "cell_type": "code",
   "execution_count": 40,
   "metadata": {},
   "outputs": [],
   "source": [
    "X = [random.randint(0,100) for _ in range(100)]\n",
    "Y = [random.randint(0,100) for _ in range(100)]"
   ]
  },
  {
   "cell_type": "code",
   "execution_count": 41,
   "metadata": {},
   "outputs": [
    {
     "data": {
      "text/plain": [
       "<matplotlib.collections.PathCollection at 0x7f155c99b940>"
      ]
     },
     "execution_count": 41,
     "metadata": {},
     "output_type": "execute_result"
    },
    {
     "data": {
      "image/png": "[encoded data removed]",
      "text/plain": [
       "<Figure size 432x288 with 1 Axes>"
      ]
     },
     "metadata": {
      "needs_background": "light"
     },
     "output_type": "display_data"
    }
   ],
   "source": [
    "plt.scatter(X,Y)"
   ]
  },
  {
   "cell_type": "code",
   "execution_count": 42,
   "metadata": {},
   "outputs": [],
   "source": [
    "trainning_date = [(x,y) for x,y in zip(X,Y)]"
   ]
  },
  {
   "cell_type": "code",
   "execution_count": 43,
   "metadata": {},
   "outputs": [
    {
     "data": {
      "text/plain": [
       "KMeans(algorithm='auto', copy_x=True, init='k-means++', max_iter=500,\n",
       "    n_clusters=6, n_init=10, n_jobs=1, precompute_distances='auto',\n",
       "    random_state=None, tol=0.0001, verbose=0)"
      ]
     },
     "execution_count": 43,
     "metadata": {},
     "output_type": "execute_result"
    }
   ],
   "source": [
    "cluster = KMeans(n_clusters=6,max_iter=500)\n",
    "cluster.fit(trainning_date)"
   ]
  },
  {
   "cell_type": "code",
   "execution_count": 44,
   "metadata": {},
   "outputs": [
    {
     "data": {
      "text/plain": [
       "array([[20.21052632, 10.78947368],\n",
       "       [70.47619048, 52.47619048],\n",
       "       [22.05882353, 84.52941176],\n",
       "       [77.        , 85.16666667],\n",
       "       [63.76190476, 18.23809524],\n",
       "       [18.1       , 44.5       ]])"
      ]
     },
     "execution_count": 44,
     "metadata": {},
     "output_type": "execute_result"
    }
   ],
   "source": [
    "cluster.cluster_centers_"
   ]
  },
  {
   "cell_type": "code",
   "execution_count": 45,
   "metadata": {},
   "outputs": [
    {
     "data": {
      "text/plain": [
       "array([0, 1, 2, 2, 2, 0, 0, 0, 0, 3, 2, 3, 5, 4, 1, 0, 2, 0, 1, 0, 5, 2,\n",
       "       3, 0, 4, 1, 2, 4, 2, 3, 0, 1, 2, 2, 4, 2, 2, 3, 1, 1, 4, 1, 3, 1,\n",
       "       0, 2, 4, 3, 0, 4, 4, 5, 1, 4, 1, 3, 1, 1, 0, 0, 4, 2, 4, 4, 0, 0,\n",
       "       3, 5, 1, 4, 1, 1, 3, 3, 5, 3, 1, 1, 2, 4, 4, 4, 4, 0, 4, 5, 4, 5,\n",
       "       2, 4, 1, 2, 5, 4, 5, 0, 0, 1, 1, 5], dtype=int32)"
      ]
     },
     "execution_count": 45,
     "metadata": {},
     "output_type": "execute_result"
    }
   ],
   "source": [
    "cluster.labels_"
   ]
  },
  {
   "cell_type": "code",
   "execution_count": 46,
   "metadata": {},
   "outputs": [],
   "source": [
    "from collections import defaultdict\n",
    "\n",
    "centers = defaultdict(list)"
   ]
  },
  {
   "cell_type": "code",
   "execution_count": 47,
   "metadata": {},
   "outputs": [],
   "source": [
    "for label,location in zip(cluster.labels_,trainning_date):\n",
    "    centers[label].append(location)"
   ]
  },
  {
   "cell_type": "code",
   "execution_count": 48,
   "metadata": {},
   "outputs": [
    {
     "data": {
      "image/png": "[encoded data removed]",
      "text/plain": [
       "<Figure size 432x288 with 1 Axes>"
      ]
     },
     "metadata": {
      "needs_background": "light"
     },
     "output_type": "display_data"
    }
   ],
   "source": [
    "color = ['red', 'green', 'grey', 'black', 'yellow', 'orange']\n",
    "\n",
    "for i,c in enumerate(centers):\n",
    "    for location in centers[c]:\n",
    "        plt.scatter(*location,c=color[i])\n",
    "        \n",
    "for center in cluster.cluster_centers_:\n",
    "    plt.scatter(*center,s=100)"
   ]
  },
  {
   "cell_type": "markdown",
   "metadata": {},
   "source": [
    "## Part-2 Question and Answer 问答"
   ]
  },
  {
   "cell_type": "markdown",
   "metadata": {},
   "source": [
    "#### 1. What's the *model*? why  all the models are wrong, but some are useful? (5 points) "
   ]
  },
  {
   "cell_type": "markdown",
   "metadata": {},
   "source": [
    "Ans:"
   ]
  },
  {
   "cell_type": "markdown",
   "metadata": {},
   "source": [
    "**Answer 1:**\n",
    "\n",
    "**Model can be regarded as a decision method to abstract,simplify and solve a problem.** In general, When we model a certain problem, we would observe the available data or other information, \n",
    "and choose some revelant factors (what we call 'features') as inputs,and then choose the target as output. Once we successfully build a model,we can make decisions quickly when we encounter a similar problem.\n",
    "\n",
    "**Answer 2:**\n",
    "\n",
    "**Because the mission of scientists is to prove that the previous works are wrong and to present their own theories.** There may be some problems in ML models which we have learned,but anyway the existing ML models can help us finish lots of difficult tastks."
   ]
  },
  {
   "cell_type": "markdown",
   "metadata": {},
   "source": [
    "<评阅点>\n",
    "> + 对模型的理解是否正确,对模型的抽象性是否正确(5')"
   ]
  },
  {
   "cell_type": "markdown",
   "metadata": {},
   "source": [
    "#### 2. What's the underfitting and overfitting? List the reasons that could make model overfitting or underfitting. (10 points)"
   ]
  },
  {
   "cell_type": "markdown",
   "metadata": {},
   "source": [
    "Ans:"
   ]
  },
  {
   "cell_type": "markdown",
   "metadata": {},
   "source": [
    "<评阅点>\n",
    "> + 对过拟合和欠拟合的理解是否正确 (3')\n",
    "+ 对欠拟合产生的原因是否理解正确(2')\n",
    "+ 对过拟合产生的原因是否理解正确(5')"
   ]
  },
  {
   "cell_type": "markdown",
   "metadata": {},
   "source": [
    "**1 Overfitting**\n",
    "\n",
    "Overfitting is the case where the overall cost is really samll,but the generalization of the model is unreliable. This is due to the model learning too much from the dataset.\n",
    "\n",
    "**The possible reasons：**\n",
    "\n",
    "* the model is too complicated.\n",
    "* the size of dataset is too small.\n",
    "* the parameters of the model is too large.\n",
    "* the distribution of the trainning date is not correct,which means the model only capture a small part of the information in the real dataset.\n",
    "\n",
    "**2 Underfitting**\n",
    "\n",
    "Underfitting is the case where the model has not learned enough from the trainning data,resulting in low generalization and unreliable predictious.\n",
    "\n",
    "**The possible reasons:**\n",
    "\n",
    "* the model is too simple to capture the underlying trend of the data.\n",
    "\n",
    "* there are too few features used in the model."
   ]
  },
  {
   "cell_type": "markdown",
   "metadata": {},
   "source": [
    "#### 3. What's the precision, recall, AUC, F1, F2score. What are they mainly target on? (12')"
   ]
  },
  {
   "cell_type": "markdown",
   "metadata": {},
   "source": [
    "Ans:"
   ]
  },
  {
   "cell_type": "markdown",
   "metadata": {},
   "source": [
    "<评阅点>\n",
    "> + 对precision, recall, AUC, F1, F2 理解是否正确(6‘)\n",
    "+ 对precision, recall, AUC, F1, F2的使用侧重点是否理解正确 (6’)"
   ]
  },
  {
   "cell_type": "markdown",
   "metadata": {},
   "source": [
    "**1 The definition**\n",
    "\n",
    "First of all,we need to know what is confusion matrix. Let's assume that we have fed the trainning data to a model and received a classification. The predicted vs actual classification can be charted in a table called confusion matrix.\n",
    "\n",
    "[![KgQwrV.md.png](https://s2.ax1x.com/2019/10/28/KgQwrV.md.png)](https://imgchr.com/i/KgQwrV=100*50)\n",
    "\n",
    "* TN / True Negative: case was negative and predicted negative.\n",
    "* TP / True Positive: case was positive and predicted positive.\n",
    "* FN / False Negative: case was positive but predicted negative.\n",
    "* FP / False Positive: case was negative but predicted positive.\n",
    "\n",
    "Then,precision is defined as the number of TP over the number of TP plus the number of FP.$$ Precision=\\frac {TP}{TP+FP}$$\n",
    "\n",
    "Recall is defined as the number of TP over the number of TP plus the number of FN.$$ Pecall=\\frac {TP}{TP+FN}$$\n",
    "\n",
    "Fscore is defined as the harmonic mean of precision and recall.$$ F=(1+\\beta^2)×\\frac{P×R}{\\beta^2P+R}$$ If we consider that precision and recall are equal important($\\beta=1$) ,then we can get $$ F1=2×\\frac{P×R}{P+R}$$ If we consider recall to be more important($\\beta>1$), then we can get F2 score.\n",
    "\n",
    "AUC-ROC curve is a performance measurement for classification problem. ROC is a probability curve and AUC represents degree of separability. Higher the AUC, better the model is capable of distingushing between classes. AUC stands for area under the ROC curve.\n",
    "\n",
    "**2 Matters needing attention in use**\n",
    "\n",
    "Precision helps when the costs of false positives are high.When false positives are too high, those who monitor the results will learn to ignore them after being bombarded with false alarms.\n",
    "\n",
    "Recall helps when the cost of false negatives is high. When false negatives are frequent, you may get heart by the thing you want to avoid.\n",
    "\n",
    "Fscore is an overall measure of a model’s accuracy that combines precision and recall, in that weird way that addition and multiplication just mix two ingredients to make a separate dish altogether. IF we consider precision and recall to be equal important,then we can choose F1 score,while if recall is more important, we can choose F2 score.\n",
    "\n",
    "If we want to measure how well the positive classes are separated from the negative classes,we can use AUC-ROC curve."
   ]
  },
  {
   "cell_type": "markdown",
   "metadata": {},
   "source": [
    "#### 4. Based on our course and yourself mind, what's the machine learning?  (8')"
   ]
  },
  {
   "cell_type": "markdown",
   "metadata": {},
   "source": [
    "Ans:"
   ]
  },
  {
   "cell_type": "markdown",
   "metadata": {},
   "source": [
    "<评阅点> 开放式问题，是否能说出来机器学习这种思维方式和传统的分析式编程的区别（8'）"
   ]
  },
  {
   "cell_type": "markdown",
   "metadata": {},
   "source": [
    "Machine learning is a method of data analysis that automates analytical model building. It is a branch of artificial intelligence based on the idea that systems can learn from data,identify patterns and make decisions with minimal human intervention.\n",
    "\n",
    "**There are also some cases that ML solutions are not good choices**. \n",
    "\n",
    "For example,you don't need ML if you can determine a target value by using simple rules,computations,or predetermined steps that can be programmed without needing any data-driven learning. \n",
    "\n",
    "**We can using machine learning for the following situations**:\n",
    "\n",
    "* you cannot code the rules: many human tasks(such as recognizing whether an email is spam or not spam) cannot be adequately solved using a simple(deterministic),rule-based solution. A large number of factors could influence the answer. When rules depend on too many factors and many of the rules overlap or need to be tuned very finely, it soon becomes difficult for a human to accurately code the rules.\n",
    "\n",
    "* you cannot scale: you might be able to manually recognize a few hundred emails and decide whether they are spam or not. However, this task becomes tedious for millions of emails.ML solutions are effective at handling large-scale problems."
   ]
  },
  {
   "cell_type": "markdown",
   "metadata": {},
   "source": [
    "#### 5. \"正确定义了机器学习模型的评价标准(evaluation)， 问题基本上就已经解决一半\". 这句话是否正确？你是怎么看待的？ (8‘)"
   ]
  },
  {
   "cell_type": "markdown",
   "metadata": {},
   "source": [
    "<评阅点> 开放式问题，主要看能理解评价指标对机器学习模型的重要性."
   ]
  },
  {
   "cell_type": "markdown",
   "metadata": {},
   "source": [
    "The sentence above means the evaluation criterion of ML model is very important and need to be choosed carefully.\n",
    "\n",
    "There are several evaluation methods，but which is appropriate depends on the specific task.\n",
    "\n",
    "For example，if we want to build a model to predict the probability of having cancer，we'd better pay more attention to recall and F2 score. Because  false negatives can make us ignore the risk and miss the opportunity of timely treatment."
   ]
  },
  {
   "cell_type": "markdown",
   "metadata": {},
   "source": [
    "## Part-03 Programming Practice 编程练习"
   ]
  },
  {
   "cell_type": "markdown",
   "metadata": {},
   "source": [
    "1. In our course and previous practice, we complete some importance components of Decision Tree. In this problem, you need to build a **completed** Decision Tree Model. You show finish a `predicate()` function, which accepts three parameters **<gender, income, family_number>**, and outputs the predicated 'bought': 1 or 0.  (20 points)"
   ]
  },
  {
   "cell_type": "code",
   "execution_count": 49,
   "metadata": {},
   "outputs": [],
   "source": [
    "# coding:utf-8\n",
    "from math import log\n",
    "import operator\n",
    "import numpy as np\n",
    "from collections import Counter"
   ]
  },
  {
   "cell_type": "code",
   "execution_count": 50,
   "metadata": {},
   "outputs": [],
   "source": [
    "\"\"\"\n",
    "用于处理字典类型的输入数据，\n",
    "得到纯数据（包括label)和特征标签\n",
    "\"\"\"\n",
    "\n",
    "def create_dataset(dataset:dict): \n",
    "    \"\"\"\n",
    "    :dataset: 字典类型的数据集，包含目标变量\n",
    "    \"\"\"\n",
    "    train_data = [v for v in dataset.values()]\n",
    "    train_data = list(map(list,zip(*train_data)))\n",
    "    labels = [k for i,k in enumerate(dataset.keys()) if i < len(dataset)-1]\n",
    "    return train_data, labels"
   ]
  },
  {
   "cell_type": "code",
   "execution_count": 51,
   "metadata": {},
   "outputs": [],
   "source": [
    "mock_data = {\n",
    "        'gender':['F', 'F', 'F', 'F', 'M', 'M', 'M'],\n",
    "        'income': ['+10', '-10', '+10', '+10', '+10', '+10', '-10'],\n",
    "        'family_number': [1, 1, 2, 1, 1, 1, 2],\n",
    "        'bought': [1, 1, 1, 0, 0, 0, 1],\n",
    "    }\n",
    "\n",
    "train_data,labels = create_dataset(mock_data)"
   ]
  },
  {
   "cell_type": "code",
   "execution_count": 52,
   "metadata": {},
   "outputs": [
    {
     "data": {
      "text/plain": [
       "[['F', '+10', 1, 1],\n",
       " ['F', '-10', 1, 1],\n",
       " ['F', '+10', 2, 1],\n",
       " ['F', '+10', 1, 0],\n",
       " ['M', '+10', 1, 0],\n",
       " ['M', '+10', 1, 0],\n",
       " ['M', '-10', 2, 1]]"
      ]
     },
     "execution_count": 52,
     "metadata": {},
     "output_type": "execute_result"
    }
   ],
   "source": [
    "train_data"
   ]
  },
  {
   "cell_type": "code",
   "execution_count": 53,
   "metadata": {},
   "outputs": [
    {
     "data": {
      "text/plain": [
       "['gender', 'income', 'family_number']"
      ]
     },
     "execution_count": 53,
     "metadata": {},
     "output_type": "execute_result"
    }
   ],
   "source": [
    "labels"
   ]
  },
  {
   "cell_type": "code",
   "execution_count": 54,
   "metadata": {},
   "outputs": [],
   "source": [
    "\"\"\"\n",
    "用于计算数据集的熵\n",
    "\"\"\"\n",
    "\n",
    "def calc_entropy(dataset):  \n",
    "    \"\"\"\n",
    "    :dataset: 字典类型的数据集，包含目标变量\n",
    "    \"\"\"\n",
    "    size_dataset =len(dataset)  \n",
    "    labels = [data[-1] for data in dataset]\n",
    "    label_counts = Counter(labels)\n",
    "    \n",
    "    probs = [label_counts[c] / size_dataset for c in set(labels)]\n",
    "    entropy = -sum(p * log(p,2) for p in probs)\n",
    "    return round(entropy,4)"
   ]
  },
  {
   "cell_type": "code",
   "execution_count": 55,
   "metadata": {},
   "outputs": [
    {
     "data": {
      "text/plain": [
       "0.9852"
      ]
     },
     "execution_count": 55,
     "metadata": {},
     "output_type": "execute_result"
    }
   ],
   "source": [
    "calc_entropy(train_data)"
   ]
  },
  {
   "cell_type": "code",
   "execution_count": 56,
   "metadata": {},
   "outputs": [],
   "source": [
    "\"\"\"\n",
    "根据某个特征和值对数据集进行分割\n",
    "得到样本子集合\n",
    "\"\"\"\n",
    "\n",
    "def split_dataset(dataset,index,value): \n",
    "    \"\"\"\n",
    "    :index: 特征对应的索引，用于取特征\n",
    "    :value: 特征的分割点\n",
    "    \"\"\"\n",
    "    sub_dataset=[]\n",
    "    for feat_vec in dataset:\n",
    "        if feat_vec[index] == value:\n",
    "            feat_vec_split =feat_vec[:index] + feat_vec[index+1:]\n",
    "            sub_dataset.append(feat_vec_split)\n",
    "    return sub_dataset"
   ]
  },
  {
   "cell_type": "code",
   "execution_count": 57,
   "metadata": {},
   "outputs": [
    {
     "data": {
      "text/plain": [
       "[['F', 1, 1], ['F', 2, 1], ['F', 1, 0], ['M', 1, 0], ['M', 1, 0]]"
      ]
     },
     "execution_count": 57,
     "metadata": {},
     "output_type": "execute_result"
    }
   ],
   "source": [
    "split_dataset(train_data,1,'+10')"
   ]
  },
  {
   "cell_type": "code",
   "execution_count": 58,
   "metadata": {},
   "outputs": [],
   "source": [
    "\"\"\"\n",
    "对所有的特征计算信息增益，信息增益最大的特征，\n",
    "作为最佳的特征，用于分裂\n",
    "\"\"\"\n",
    "\n",
    "def choose_best_feat(dataset): \n",
    "    \"\"\"\n",
    "    :best_feat: 返回值不是特征的名称，而是特征的索引\n",
    "    \"\"\"\n",
    "    num_feat = len(dataset[0])-1\n",
    "    base_entropy = calc_entropy(dataset)  \n",
    "    \n",
    "    best_info_gain = 0\n",
    "    best_feat = -1\n",
    "    for i in range(num_feat):\n",
    "        feat_list = [example[i] for example in dataset]\n",
    "        values = set(feat_list)\n",
    "        new_entropy = 0\n",
    "        for value in values:\n",
    "            sub_dataset = split_dataset(dataset,i,value)\n",
    "            prob = len(sub_dataset) / float(len(dataset))\n",
    "            new_entropy += prob * calc_entropy(sub_dataset)  \n",
    "        info_gain = base_entropy - new_entropy  \n",
    "        if (info_gain > best_info_gain):   \n",
    "            best_info_gain = info_gain\n",
    "            best_feat = i\n",
    "            \n",
    "    return best_feat"
   ]
  },
  {
   "cell_type": "code",
   "execution_count": 59,
   "metadata": {},
   "outputs": [
    {
     "data": {
      "text/plain": [
       "1"
      ]
     },
     "execution_count": 59,
     "metadata": {},
     "output_type": "execute_result"
    }
   ],
   "source": [
    "choose_best_feat(train_data)"
   ]
  },
  {
   "cell_type": "code",
   "execution_count": 60,
   "metadata": {},
   "outputs": [
    {
     "data": {
      "text/plain": [
       "'income'"
      ]
     },
     "execution_count": 60,
     "metadata": {},
     "output_type": "execute_result"
    }
   ],
   "source": [
    "labels[choose_best_feat(train_data)]"
   ]
  },
  {
   "cell_type": "code",
   "execution_count": 61,
   "metadata": {},
   "outputs": [],
   "source": [
    "\"\"\"\n",
    "当叶节点的样本类型大于等于2时，取样本数最多的类型，\n",
    "作为该叶节点的分类。\n",
    "如[1,1,1,0,0]为叶节点的样本集，\n",
    "那么类型为1\n",
    "\"\"\"\n",
    "\n",
    "def major_count(class_list): \n",
    "    \"\"\"\n",
    "    :class_list: 叶节点的目标变量集合\n",
    "    \"\"\"\n",
    "    class_count = Counter(class_list)\n",
    "    class_count_sorted = sorted(class_count.items(),key=operator.itemgetter(1),reverse=True)\n",
    "    return class_count_sorted[0][0]"
   ]
  },
  {
   "cell_type": "code",
   "execution_count": 62,
   "metadata": {},
   "outputs": [
    {
     "data": {
      "text/plain": [
       "1"
      ]
     },
     "execution_count": 62,
     "metadata": {},
     "output_type": "execute_result"
    }
   ],
   "source": [
    "major_count([1,1,1,0,0])"
   ]
  },
  {
   "cell_type": "code",
   "execution_count": 63,
   "metadata": {},
   "outputs": [],
   "source": [
    "\"\"\"\n",
    "综合利用上面的函数和数据集，训练决策树模型。\n",
    "决策树的决策规则存为字典嵌套的格式。\n",
    "运用递归来创建决策树，递归停止条件有两个：\n",
    "1是子集合都属于同一种类型，2是已经对所有的特征都进行了分割（此时取样本最多的类型）\n",
    "\"\"\"\n",
    "\n",
    "def create_tree(dataset,labels):\n",
    "\n",
    "    class_list = [example[-1] for example in dataset]  \n",
    "    if class_list.count(class_list[0]) == len(class_list):\n",
    "        return class_list[0]\n",
    "    if len(dataset[0]) == 1:\n",
    "        return major_count(class_list)\n",
    "    \n",
    "    best_feat = choose_best_feat(dataset) \n",
    "    best_feat_label = labels[best_feat]\n",
    "    myTree = {best_feat_label:{}} \n",
    "    del(labels[best_feat])\n",
    "    \n",
    "    feat_values = [example[best_feat] for example in dataset]\n",
    "    unique_vals = set(feat_values)\n",
    "    for value in unique_vals:\n",
    "        sub_labels = labels[:]\n",
    "        myTree[best_feat_label][value] = create_tree(split_dataset\\\n",
    "                            (dataset,best_feat,value),sub_labels)\n",
    "    return myTree"
   ]
  },
  {
   "cell_type": "code",
   "execution_count": 64,
   "metadata": {},
   "outputs": [
    {
     "data": {
      "text/plain": [
       "{'income': {'+10': {'gender': {'F': {'family_number': {1: 1, 2: 1}}, 'M': 0}},\n",
       "  '-10': 1}}"
      ]
     },
     "execution_count": 64,
     "metadata": {},
     "output_type": "execute_result"
    }
   ],
   "source": [
    "dataset,labels = create_dataset(mock_data)\n",
    "my_tree = create_tree(dataset, labels)\n",
    "\n",
    "my_tree"
   ]
  },
  {
   "cell_type": "code",
   "execution_count": 65,
   "metadata": {},
   "outputs": [],
   "source": [
    "\"\"\"\n",
    "对新样本进行预测\n",
    "\"\"\"\n",
    "\n",
    "def predict(X:dict,model):\n",
    "    \"\"\"\n",
    "    :X: 待预测的数据，字典格式\n",
    "    :model: 以字典嵌套形式保存的决策树\n",
    "    \"\"\"\n",
    "    split_feature = list(model.keys())[0]\n",
    "    value = X[split_feature]\n",
    "    result = model[split_feature][value]\n",
    "    if type(result).__name__ != 'dict':\n",
    "        return result\n",
    "    else:\n",
    "        return predict(X, result)"
   ]
  },
  {
   "cell_type": "code",
   "execution_count": 66,
   "metadata": {},
   "outputs": [
    {
     "data": {
      "text/plain": [
       "{'gender': 'F', 'income': '+10', 'family_number': 2}"
      ]
     },
     "execution_count": 66,
     "metadata": {},
     "output_type": "execute_result"
    }
   ],
   "source": [
    "example = ['F','+10',2]\n",
    "labels = ['gender','income','family_number']\n",
    "X_test = dict(zip(labels,example))  \n",
    "X_test"
   ]
  },
  {
   "cell_type": "code",
   "execution_count": 67,
   "metadata": {},
   "outputs": [
    {
     "data": {
      "text/plain": [
       "1"
      ]
     },
     "execution_count": 67,
     "metadata": {},
     "output_type": "execute_result"
    }
   ],
   "source": [
    "y_pred = predict(X_test,my_tree)\n",
    "y_pred"
   ]
  },
  {
   "cell_type": "markdown",
   "metadata": {},
   "source": [
    "<评阅点>\n",
    "> + 是否将之前的决策树模型的部分进行合并组装， predicate函数能够顺利运行(8')\n",
    "+ 是够能够输入未曾见过的X变量，例如gender, income, family_number 分别是： <M, -10, 1>, 模型能够预测出结果 (12')"
   ]
  },
  {
   "cell_type": "markdown",
   "metadata": {},
   "source": [
    "2. 将上一节课(第二节课)的线性回归问题中的Loss函数改成\"绝对值\"，并且改变其偏导的求值方式，观察其结果的变化。(19 point)"
   ]
  },
  {
   "cell_type": "code",
   "execution_count": 49,
   "metadata": {},
   "outputs": [],
   "source": [
    "from sklearn.datasets import load_boston"
   ]
  },
  {
   "cell_type": "code",
   "execution_count": 50,
   "metadata": {},
   "outputs": [],
   "source": [
    "dataset = load_boston()\n",
    "x,y=dataset['data'],dataset['target']"
   ]
  },
  {
   "cell_type": "code",
   "execution_count": 51,
   "metadata": {},
   "outputs": [
    {
     "data": {
      "text/plain": [
       "array(['CRIM', 'ZN', 'INDUS', 'CHAS', 'NOX', 'RM', 'AGE', 'DIS', 'RAD',\n",
       "       'TAX', 'PTRATIO', 'B', 'LSTAT'], dtype='<U7')"
      ]
     },
     "execution_count": 51,
     "metadata": {},
     "output_type": "execute_result"
    }
   ],
   "source": [
    "dataset.feature_names"
   ]
  },
  {
   "cell_type": "code",
   "execution_count": 52,
   "metadata": {},
   "outputs": [
    {
     "data": {
      "text/plain": [
       "<matplotlib.collections.PathCollection at 0x7f9c3d65ef98>"
      ]
     },
     "execution_count": 52,
     "metadata": {},
     "output_type": "execute_result"
    },
    {
     "data": {
      "image/png": "[encoded data removed]",
      "text/plain": [
       "<Figure size 432x288 with 1 Axes>"
      ]
     },
     "metadata": {
      "needs_background": "light"
     },
     "output_type": "display_data"
    }
   ],
   "source": [
    "X_rm = x[:,5]\n",
    "\n",
    "plt.scatter(X_rm,y)"
   ]
  },
  {
   "cell_type": "code",
   "execution_count": 53,
   "metadata": {},
   "outputs": [],
   "source": [
    "\"\"\"\n",
    "假设目标函数为一元线性回归函数，\n",
    "用梯度下降来求参数\n",
    "\"\"\"\n",
    "\n",
    "def price(rm,k,b):\n",
    "    return k * rm + b"
   ]
  },
  {
   "cell_type": "markdown",
   "metadata": {},
   "source": [
    "### 定义损失函数为绝对值损失函数\n",
    "\n",
    "$$ loss = \\frac{1}{n} \\sum{|y_i - \\hat{y_i}|}$$\n",
    "\n",
    "$$ loss = \\frac{1}{n} \\sum{|y_i - (kx_i + b_i)|}$$"
   ]
  },
  {
   "cell_type": "code",
   "execution_count": 54,
   "metadata": {},
   "outputs": [],
   "source": [
    "\"\"\"\n",
    "定义损失函数为绝对值损失函数\n",
    "\"\"\"\n",
    "\n",
    "def loss(y,y_hat):\n",
    "    return sum(abs(y_i - y_hat_i) for y_i, y_hat_i in zip(list(y),list(y_hat))) / len(list(y))"
   ]
  },
  {
   "cell_type": "markdown",
   "metadata": {},
   "source": [
    "### 计算k和b的偏导数，是分段函数\n",
    "\n",
    "$$ \\frac{\\partial{loss}}{\\partial{k}} = \\begin{cases}\n",
    "-\\frac{1}{n}\\sum(x_i) & y_i > \\hat{y_i} \\\\\n",
    "0 & y_i = \\hat{y_i} \\\\\n",
    "\\frac{1}{n}\\sum(x_i) & y_i < \\hat{y_i}\n",
    "\\end{cases}$$\n",
    "\n",
    "$$ \\frac{\\partial{loss}}{\\partial{b}} = \\begin{cases}\n",
    "-\\frac{1}{n} & y_i > \\hat{y_i} \\\\\n",
    "0 & y_i = \\hat{y_i} \\\\\n",
    "\\frac{1}{n} & y_i < \\hat{y_i}\n",
    "\\end{cases}$$"
   ]
  },
  {
   "cell_type": "code",
   "execution_count": 55,
   "metadata": {},
   "outputs": [],
   "source": [
    "\"\"\"\n",
    "计算损失关于k和b的偏导数\n",
    "\"\"\"\n",
    "def get_sign(y_i,y_hat_i):\n",
    "    if (y_i - y_hat_i) == 0:\n",
    "        sign = 0\n",
    "    else: \n",
    "        sign = (y_i - y_hat_i) / abs(y_i - y_hat_i)\n",
    "    return sign\n",
    "        \n",
    "def partial_derivative_k(x,y,y_hat):\n",
    "    n = len(y)\n",
    "    gradient = 0\n",
    "    for x_i,y_i,y_hat_i in zip(list(x),list(y),list(y_hat)):\n",
    "        sign = get_sign(y_i,y_hat_i)\n",
    "        gradient += sign * x_i\n",
    "    return -1/n * gradient\n",
    "\n",
    "def partial_derivative_b(y,y_hat):\n",
    "    n = len(y)\n",
    "    gradient = 0\n",
    "    for y_i,y_hat_i in zip(list(y),list(y_hat)):\n",
    "        sign = get_sign(y_i,y_hat_i)\n",
    "        gradient += sign\n",
    "    return -1/n * gradient"
   ]
  },
  {
   "cell_type": "code",
   "execution_count": 80,
   "metadata": {},
   "outputs": [
    {
     "name": "stdout",
     "output_type": "stream",
     "text": [
      "Iteration 0, the loss is 401.8549128692984, parameters k is 75.98898835470402 and b is -53.17529008063777\n",
      "k_gradient is 6.284634387351787\n",
      "b_gradient is 0.9999999999999999\n",
      "Iteration 1, the loss is 397.8052499310298, parameters k is 75.36052491596884 and b is -53.275290080637774\n",
      "k_gradient is 6.284634387351787\n",
      "b_gradient is 0.9999999999999999\n",
      "Iteration 2, the loss is 393.7555869927612, parameters k is 74.73206147723366 and b is -53.375290080637775\n",
      "k_gradient is 6.284634387351787\n",
      "b_gradient is 0.9999999999999999\n",
      "Iteration 3, the loss is 389.7059240544931, parameters k is 74.10359803849848 and b is -53.47529008063778\n",
      "k_gradient is 6.284634387351787\n",
      "b_gradient is 0.9999999999999999\n",
      "Iteration 4, the loss is 385.6562611162246, parameters k is 73.4751345997633 and b is -53.57529008063778\n",
      "k_gradient is 6.284634387351787\n",
      "b_gradient is 0.9999999999999999\n",
      "Iteration 5, the loss is 381.6065981779561, parameters k is 72.84667116102811 and b is -53.67529008063778\n",
      "k_gradient is 6.284634387351787\n",
      "b_gradient is 0.9999999999999999\n",
      "Iteration 6, the loss is 377.5569352396871, parameters k is 72.21820772229293 and b is -53.77529008063778\n",
      "k_gradient is 6.284634387351787\n",
      "b_gradient is 0.9999999999999999\n",
      "Iteration 7, the loss is 373.50727230141894, parameters k is 71.58974428355775 and b is -53.87529008063778\n",
      "k_gradient is 6.284634387351787\n",
      "b_gradient is 0.9999999999999999\n",
      "Iteration 8, the loss is 369.45760936315054, parameters k is 70.96128084482257 and b is -53.975290080637784\n",
      "k_gradient is 6.284634387351787\n",
      "b_gradient is 0.9999999999999999\n",
      "Iteration 9, the loss is 365.407946424882, parameters k is 70.33281740608739 and b is -54.075290080637785\n",
      "k_gradient is 6.284634387351787\n",
      "b_gradient is 0.9999999999999999\n",
      "Iteration 10, the loss is 361.3582834866134, parameters k is 69.7043539673522 and b is -54.17529008063779\n",
      "k_gradient is 6.284634387351787\n",
      "b_gradient is 0.9999999999999999\n",
      "Iteration 11, the loss is 357.3086205483453, parameters k is 69.07589052861702 and b is -54.27529008063779\n",
      "k_gradient is 6.284634387351787\n",
      "b_gradient is 0.9999999999999999\n",
      "Iteration 12, the loss is 353.2589576100766, parameters k is 68.44742708988184 and b is -54.37529008063779\n",
      "k_gradient is 6.284634387351787\n",
      "b_gradient is 0.9999999999999999\n",
      "Iteration 13, the loss is 349.2092946718075, parameters k is 67.81896365114666 and b is -54.47529008063779\n",
      "k_gradient is 6.284634387351787\n",
      "b_gradient is 0.9999999999999999\n",
      "Iteration 14, the loss is 345.15963173353975, parameters k is 67.19050021241148 and b is -54.57529008063779\n",
      "k_gradient is 6.284634387351787\n",
      "b_gradient is 0.9999999999999999\n",
      "Iteration 15, the loss is 341.1099687952714, parameters k is 66.5620367736763 and b is -54.675290080637794\n",
      "k_gradient is 6.284634387351787\n",
      "b_gradient is 0.9999999999999999\n",
      "Iteration 16, the loss is 337.0603058570026, parameters k is 65.93357333494112 and b is -54.775290080637795\n",
      "k_gradient is 6.284634387351787\n",
      "b_gradient is 0.9999999999999999\n",
      "Iteration 17, the loss is 333.0106429187344, parameters k is 65.30510989620593 and b is -54.8752900806378\n",
      "k_gradient is 6.284634387351787\n",
      "b_gradient is 0.9999999999999999\n",
      "Iteration 18, the loss is 328.96097998046565, parameters k is 64.67664645747075 and b is -54.9752900806378\n",
      "k_gradient is 6.284634387351787\n",
      "b_gradient is 0.9999999999999999\n",
      "Iteration 19, the loss is 324.9113170421976, parameters k is 64.04818301873557 and b is -55.0752900806378\n",
      "k_gradient is 6.284634387351787\n",
      "b_gradient is 0.9999999999999999\n",
      "Iteration 20, the loss is 320.86165410392863, parameters k is 63.41971958000039 and b is -55.1752900806378\n",
      "k_gradient is 6.284634387351787\n",
      "b_gradient is 0.9999999999999999\n",
      "Iteration 21, the loss is 316.81199116566023, parameters k is 62.79125614126521 and b is -55.2752900806378\n",
      "k_gradient is 6.284634387351787\n",
      "b_gradient is 0.9999999999999999\n",
      "Iteration 22, the loss is 312.7623282273919, parameters k is 62.16279270253003 and b is -55.375290080637804\n",
      "k_gradient is 6.284634387351787\n",
      "b_gradient is 0.9999999999999999\n",
      "Iteration 23, the loss is 308.71266528912327, parameters k is 61.534329263794845 and b is -55.475290080637805\n",
      "k_gradient is 6.284634387351787\n",
      "b_gradient is 0.9999999999999999\n",
      "Iteration 24, the loss is 304.66300235085544, parameters k is 60.905865825059664 and b is -55.57529008063781\n",
      "k_gradient is 6.284634387351787\n",
      "b_gradient is 0.9999999999999999\n",
      "Iteration 25, the loss is 300.6133394125862, parameters k is 60.27740238632448 and b is -55.67529008063781\n",
      "k_gradient is 6.284634387351787\n",
      "b_gradient is 0.9999999999999999\n",
      "Iteration 26, the loss is 296.5636764743181, parameters k is 59.6489389475893 and b is -55.77529008063781\n",
      "k_gradient is 6.284634387351787\n",
      "b_gradient is 0.9999999999999999\n",
      "Iteration 27, the loss is 292.51401353604956, parameters k is 59.02047550885412 and b is -55.87529008063781\n",
      "k_gradient is 6.284634387351787\n",
      "b_gradient is 0.9999999999999999\n",
      "Iteration 28, the loss is 288.4643505977809, parameters k is 58.39201207011894 and b is -55.97529008063781\n",
      "k_gradient is 6.284634387351787\n",
      "b_gradient is 0.9999999999999999\n",
      "Iteration 29, the loss is 284.41468765951277, parameters k is 57.763548631383756 and b is -56.075290080637814\n",
      "k_gradient is 6.284634387351787\n",
      "b_gradient is 0.9999999999999999\n",
      "Iteration 30, the loss is 280.36502472124437, parameters k is 57.135085192648575 and b is -56.175290080637815\n",
      "k_gradient is 6.284634387351787\n",
      "b_gradient is 0.9999999999999999\n",
      "Iteration 31, the loss is 276.31536178297586, parameters k is 56.50662175391339 and b is -56.27529008063782\n",
      "k_gradient is 6.284634387351787\n",
      "b_gradient is 0.9999999999999999\n",
      "Iteration 32, the loss is 272.26569884470706, parameters k is 55.87815831517821 and b is -56.37529008063782\n",
      "k_gradient is 6.284634387351787\n",
      "b_gradient is 0.9999999999999999\n",
      "Iteration 33, the loss is 268.2160359064388, parameters k is 55.24969487644303 and b is -56.47529008063782\n",
      "k_gradient is 6.284634387351787\n",
      "b_gradient is 0.9999999999999999\n",
      "Iteration 34, the loss is 264.16637296817044, parameters k is 54.62123143770785 and b is -56.57529008063782\n",
      "k_gradient is 6.284634387351787\n",
      "b_gradient is 0.9999999999999999\n",
      "Iteration 35, the loss is 260.1167100299019, parameters k is 53.99276799897267 and b is -56.67529008063782\n",
      "k_gradient is 6.284634387351787\n",
      "b_gradient is 0.9999999999999999\n",
      "Iteration 36, the loss is 256.06704709163347, parameters k is 53.364304560237485 and b is -56.775290080637824\n",
      "k_gradient is 6.284634387351787\n",
      "b_gradient is 0.9999999999999999\n",
      "Iteration 37, the loss is 252.0173841533649, parameters k is 52.735841121502304 and b is -56.875290080637825\n",
      "k_gradient is 6.284634387351787\n",
      "b_gradient is 0.9999999999999999\n",
      "Iteration 38, the loss is 247.96772121509645, parameters k is 52.10737768276712 and b is -56.975290080637826\n",
      "k_gradient is 6.284634387351787\n",
      "b_gradient is 0.9999999999999999\n",
      "Iteration 39, the loss is 243.91805827682788, parameters k is 51.47891424403194 and b is -57.07529008063783\n",
      "k_gradient is 6.284634387351787\n",
      "b_gradient is 0.9999999999999999\n",
      "Iteration 40, the loss is 239.86839533855957, parameters k is 50.85045080529676 and b is -57.17529008063783\n",
      "k_gradient is 6.284634387351787\n",
      "b_gradient is 0.9999999999999999\n",
      "Iteration 41, the loss is 235.81873240029128, parameters k is 50.22198736656158 and b is -57.27529008063783\n",
      "k_gradient is 6.284634387351787\n",
      "b_gradient is 0.9999999999999999\n",
      "Iteration 42, the loss is 231.76906946202263, parameters k is 49.593523927826396 and b is -57.37529008063783\n",
      "k_gradient is 6.284634387351787\n",
      "b_gradient is 0.9999999999999999\n",
      "Iteration 43, the loss is 227.71940652375412, parameters k is 48.965060489091215 and b is -57.47529008063783\n",
      "k_gradient is 6.284634387351787\n",
      "b_gradient is 0.9999999999999999\n",
      "Iteration 44, the loss is 223.66974358548558, parameters k is 48.33659705035603 and b is -57.575290080637835\n",
      "k_gradient is 6.284634387351787\n",
      "b_gradient is 0.9999999999999999\n",
      "Iteration 45, the loss is 219.6200806472172, parameters k is 47.70813361162085 and b is -57.675290080637836\n",
      "k_gradient is 6.284634387351787\n",
      "b_gradient is 0.9999999999999999\n",
      "Iteration 46, the loss is 215.57041770894858, parameters k is 47.07967017288567 and b is -57.77529008063784\n",
      "k_gradient is 6.284634387351787\n",
      "b_gradient is 0.9999999999999999\n",
      "Iteration 47, the loss is 211.52075477068018, parameters k is 46.45120673415049 and b is -57.87529008063784\n",
      "k_gradient is 6.284634387351787\n",
      "b_gradient is 0.9999999999999999\n",
      "Iteration 48, the loss is 207.47109183241164, parameters k is 45.82274329541531 and b is -57.97529008063784\n",
      "k_gradient is 6.284634387351787\n",
      "b_gradient is 0.9999999999999999\n",
      "Iteration 49, the loss is 203.42142889414313, parameters k is 45.194279856680126 and b is -58.07529008063784\n",
      "k_gradient is 6.284634387351787\n",
      "b_gradient is 0.9999999999999999\n",
      "Iteration 50, the loss is 199.3717659558748, parameters k is 44.565816417944944 and b is -58.17529008063784\n",
      "k_gradient is 6.284634387351787\n",
      "b_gradient is 0.9999999999999999\n",
      "Iteration 51, the loss is 195.32210301760617, parameters k is 43.93735297920976 and b is -58.275290080637845\n",
      "k_gradient is 6.284634387351787\n",
      "b_gradient is 0.9999999999999999\n",
      "Iteration 52, the loss is 191.2724400793378, parameters k is 43.30888954047458 and b is -58.375290080637846\n",
      "k_gradient is 6.284634387351787\n",
      "b_gradient is 0.9999999999999999\n",
      "Iteration 53, the loss is 187.2227771410694, parameters k is 42.6804261017394 and b is -58.47529008063785\n",
      "k_gradient is 6.284634387351787\n",
      "b_gradient is 0.9999999999999999\n",
      "Iteration 54, the loss is 183.17311420280086, parameters k is 42.05196266300422 and b is -58.57529008063785\n",
      "k_gradient is 6.284634387351787\n",
      "b_gradient is 0.9999999999999999\n",
      "Iteration 55, the loss is 179.1234512645324, parameters k is 41.42349922426904 and b is -58.67529008063785\n",
      "k_gradient is 6.284634387351787\n",
      "b_gradient is 0.9999999999999999\n",
      "Iteration 56, the loss is 175.07378832626387, parameters k is 40.795035785533855 and b is -58.77529008063785\n",
      "k_gradient is 6.284634387351787\n",
      "b_gradient is 0.9999999999999999\n",
      "Iteration 57, the loss is 171.02412538799547, parameters k is 40.166572346798674 and b is -58.87529008063785\n",
      "k_gradient is 6.284634387351787\n",
      "b_gradient is 0.9999999999999999\n",
      "Iteration 58, the loss is 166.97446244972676, parameters k is 39.53810890806349 and b is -58.975290080637855\n",
      "k_gradient is 6.284634387351787\n",
      "b_gradient is 0.9999999999999999\n",
      "Iteration 59, the loss is 162.92479951145867, parameters k is 38.90964546932831 and b is -59.075290080637856\n",
      "k_gradient is 6.284634387351787\n",
      "b_gradient is 0.9999999999999999\n",
      "Iteration 60, the loss is 158.87513657319016, parameters k is 38.28118203059313 and b is -59.17529008063786\n",
      "k_gradient is 6.284634387351787\n",
      "b_gradient is 0.9999999999999999\n",
      "Iteration 61, the loss is 154.82547363492168, parameters k is 37.65271859185795 and b is -59.27529008063786\n",
      "k_gradient is 6.284634387351787\n",
      "b_gradient is 0.9999999999999999\n",
      "Iteration 62, the loss is 150.77581069665308, parameters k is 37.024255153122766 and b is -59.37529008063786\n",
      "k_gradient is 6.284634387351787\n",
      "b_gradient is 0.9999999999999999\n",
      "Iteration 63, the loss is 146.72614775838449, parameters k is 36.395791714387585 and b is -59.47529008063786\n",
      "k_gradient is 6.284634387351787\n",
      "b_gradient is 0.9999999999999999\n",
      "Iteration 64, the loss is 142.67648482011614, parameters k is 35.7673282756524 and b is -59.57529008063786\n",
      "k_gradient is 6.284634387351787\n",
      "b_gradient is 0.9999999999999999\n",
      "Iteration 65, the loss is 138.62682188184766, parameters k is 35.13886483691722 and b is -59.675290080637865\n",
      "k_gradient is 6.284634387351787\n",
      "b_gradient is 0.9999999999999999\n",
      "Iteration 66, the loss is 134.5771589435793, parameters k is 34.51040139818204 and b is -59.775290080637866\n",
      "k_gradient is 6.284634387351787\n",
      "b_gradient is 0.9999999999999999\n",
      "Iteration 67, the loss is 130.5274960053108, parameters k is 33.88193795944686 and b is -59.87529008063787\n",
      "k_gradient is 6.284634387351787\n",
      "b_gradient is 0.9999999999999999\n",
      "Iteration 68, the loss is 126.4778330670422, parameters k is 33.25347452071168 and b is -59.97529008063787\n",
      "k_gradient is 6.284634387351787\n",
      "b_gradient is 0.9999999999999999\n",
      "Iteration 69, the loss is 122.42817012877373, parameters k is 32.625011081976496 and b is -60.07529008063787\n",
      "k_gradient is 6.284634387351787\n",
      "b_gradient is 0.9999999999999999\n",
      "Iteration 70, the loss is 118.37850719050533, parameters k is 31.996547643241318 and b is -60.17529008063787\n",
      "k_gradient is 6.284634387351787\n",
      "b_gradient is 0.9999999999999999\n",
      "Iteration 71, the loss is 114.328844252237, parameters k is 31.36808420450614 and b is -60.27529008063787\n",
      "k_gradient is 6.284634387351787\n",
      "b_gradient is 0.9999999999999999\n",
      "Iteration 72, the loss is 110.27918131396835, parameters k is 30.73962076577096 and b is -60.375290080637875\n",
      "k_gradient is 6.284634387351787\n",
      "b_gradient is 0.9999999999999999\n",
      "Iteration 73, the loss is 106.22951837569997, parameters k is 30.111157327035784 and b is -60.475290080637876\n",
      "k_gradient is 6.284634387351787\n",
      "b_gradient is 0.9999999999999999\n",
      "Iteration 74, the loss is 102.17985543743157, parameters k is 29.482693888300606 and b is -60.57529008063788\n",
      "k_gradient is 6.284634387351787\n",
      "b_gradient is 0.9999999999999999\n",
      "Iteration 75, the loss is 98.13019249916313, parameters k is 28.854230449565428 and b is -60.67529008063788\n",
      "k_gradient is 6.284634387351787\n",
      "b_gradient is 0.9999999999999999\n",
      "Iteration 76, the loss is 94.08052956089468, parameters k is 28.22576701083025 and b is -60.77529008063788\n",
      "k_gradient is 6.284634387351787\n",
      "b_gradient is 0.9999999999999999\n",
      "Iteration 77, the loss is 90.03086662262626, parameters k is 27.597303572095072 and b is -60.87529008063788\n",
      "k_gradient is 6.284634387351787\n",
      "b_gradient is 0.9999999999999999\n",
      "Iteration 78, the loss is 85.98120368435775, parameters k is 26.968840133359894 and b is -60.97529008063788\n",
      "k_gradient is 6.284634387351787\n",
      "b_gradient is 0.9999999999999999\n",
      "Iteration 79, the loss is 81.93154074608934, parameters k is 26.340376694624716 and b is -61.075290080637885\n",
      "k_gradient is 6.284634387351787\n",
      "b_gradient is 0.9999999999999999\n",
      "Iteration 80, the loss is 77.88187780782087, parameters k is 25.711913255889538 and b is -61.175290080637886\n",
      "k_gradient is 6.284634387351787\n",
      "b_gradient is 0.9999999999999999\n",
      "Iteration 81, the loss is 73.83221486955233, parameters k is 25.08344981715436 and b is -61.27529008063789\n",
      "k_gradient is 6.284634387351787\n",
      "b_gradient is 0.9999999999999999\n",
      "Iteration 82, the loss is 69.78963131305109, parameters k is 24.454986378419182 and b is -61.37529008063789\n",
      "k_gradient is 6.270559288537557\n",
      "b_gradient is 0.9960474308300394\n",
      "Iteration 83, the loss is 65.75842888549835, parameters k is 23.827930449565425 and b is -61.474894823720895\n",
      "k_gradient is 6.270559288537557\n",
      "b_gradient is 0.9960474308300394\n",
      "Iteration 84, the loss is 61.72722645794551, parameters k is 23.20087452071167 and b is -61.5744995668039\n",
      "k_gradient is 6.270559288537557\n",
      "b_gradient is 0.9960474308300394\n",
      "Iteration 85, the loss is 57.696024030392785, parameters k is 22.57381859185791 and b is -61.67410430988691\n",
      "k_gradient is 6.270559288537557\n",
      "b_gradient is 0.9960474308300394\n",
      "Iteration 86, the loss is 53.67585584593727, parameters k is 21.946762663004154 and b is -61.77370905296991\n",
      "k_gradient is 6.235646245059297\n",
      "b_gradient is 0.9881422924901185\n",
      "Iteration 87, the loss is 49.68988491756434, parameters k is 21.323198038498223 and b is -61.87252328221893\n",
      "k_gradient is 6.235646245059297\n",
      "b_gradient is 0.9881422924901185\n",
      "Iteration 88, the loss is 45.70391398919134, parameters k is 20.69963341399229 and b is -61.971337511467944\n",
      "k_gradient is 6.235646245059297\n",
      "b_gradient is 0.9881422924901185\n",
      "Iteration 89, the loss is 41.71794306081838, parameters k is 20.07606878948636 and b is -62.07015174071696\n",
      "k_gradient is 6.235646245059297\n",
      "b_gradient is 0.9881422924901185\n",
      "Iteration 90, the loss is 37.73197213244538, parameters k is 19.45250416498043 and b is -62.168965969965974\n",
      "k_gradient is 6.235646245059297\n",
      "b_gradient is 0.9881422924901185\n",
      "Iteration 91, the loss is 33.75251409102469, parameters k is 18.828939540474497 and b is -62.26778019921499\n",
      "k_gradient is 6.21242490118578\n",
      "b_gradient is 0.9841897233201581\n",
      "Iteration 92, the loss is 29.79948080603974, parameters k is 18.207697050355918 and b is -62.366199171547\n",
      "k_gradient is 6.1960691699604835\n",
      "b_gradient is 0.9802371541501975\n",
      "Iteration 93, the loss is 25.88292850639211, parameters k is 17.58809013335987 and b is -62.46422288696202\n",
      "k_gradient is 6.1551442687747135\n",
      "b_gradient is 0.9723320158102766\n",
      "Iteration 94, the loss is 22.008259757224877, parameters k is 16.9725757064824 and b is -62.561456088543046\n",
      "k_gradient is 6.117235177865621\n",
      "b_gradient is 0.9644268774703557\n",
      "Iteration 95, the loss is 18.186307118448813, parameters k is 16.360852188695837 and b is -62.65789877629008\n",
      "k_gradient is 6.090820158102775\n",
      "b_gradient is 0.9604743083003952\n",
      "Iteration 96, the loss is 14.432032050170983, parameters k is 15.751770172885559 and b is -62.75394620712012\n",
      "k_gradient is 5.936175889328071\n",
      "b_gradient is 0.9328063241106719\n",
      "Iteration 97, the loss is 10.919905632919196, parameters k is 15.158152583952752 and b is -62.84722683953119\n",
      "k_gradient is 5.566847826086964\n",
      "b_gradient is 0.8616600790513833\n",
      "Iteration 98, the loss is 7.822209363983813, parameters k is 14.601467801344056 and b is -62.93339284743633\n",
      "k_gradient is 5.213942687747042\n",
      "b_gradient is 0.8023715415019762\n",
      "Iteration 99, the loss is 5.558312277790548, parameters k is 14.080073532569351 and b is -63.01363000158653\n",
      "k_gradient is 2.774519762845848\n",
      "b_gradient is 0.40711462450592883\n",
      "Iteration 100, the loss is 4.97512839319019, parameters k is 13.802621556284766 and b is -63.05434146403712\n",
      "k_gradient is 1.0710731225296446\n",
      "b_gradient is 0.13438735177865613\n",
      "Iteration 101, the loss is 4.890804102486126, parameters k is 13.695514244031802 and b is -63.06778019921499\n",
      "k_gradient is 0.3797094861660079\n",
      "b_gradient is 0.023715415019762844\n",
      "Iteration 102, the loss is 4.881994278566619, parameters k is 13.657543295415202 and b is -63.070151740716966\n",
      "k_gradient is 0.03718379446640221\n",
      "b_gradient is -0.03162055335968379\n",
      "Iteration 103, the loss is 4.881756029170051, parameters k is 13.653824915968562 and b is -63.066989685380996\n",
      "k_gradient is 0.03718379446640221\n",
      "b_gradient is -0.03162055335968379\n",
      "Iteration 104, the loss is 4.88161195974665, parameters k is 13.650106536521921 and b is -63.063827630045026\n",
      "k_gradient is -0.008365612648221984\n",
      "b_gradient is -0.03952569169960474\n",
      "Iteration 105, the loss is 4.88145026419178, parameters k is 13.650943097786744 and b is -63.059875060875065\n",
      "k_gradient is 0.015365612648220516\n",
      "b_gradient is -0.035573122529644265\n",
      "Iteration 106, the loss is 4.881320982417672, parameters k is 13.649406536521921 and b is -63.0563177486221\n",
      "k_gradient is -0.008365612648221984\n",
      "b_gradient is -0.03952569169960474\n",
      "Iteration 107, the loss is 4.881172358330893, parameters k is 13.650243097786744 and b is -63.05236517945214\n",
      "k_gradient is 0.015365612648220516\n",
      "b_gradient is -0.035573122529644265\n",
      "Iteration 108, the loss is 4.881030005088707, parameters k is 13.648706536521921 and b is -63.04880786719917\n",
      "k_gradient is -0.008365612648221984\n",
      "b_gradient is -0.03952569169960474\n",
      "Iteration 109, the loss is 4.88089691334649, parameters k is 13.649543097786744 and b is -63.04485529802921\n",
      "k_gradient is 0.03718379446640221\n",
      "b_gradient is -0.03162055335968379\n",
      "Iteration 110, the loss is 4.88077290280856, parameters k is 13.645824718340103 and b is -63.04169324269324\n",
      "k_gradient is -0.008365612648221984\n",
      "b_gradient is -0.03952569169960474\n",
      "Iteration 111, the loss is 4.88060967643063, parameters k is 13.646661279604926 and b is -63.03774067352328\n",
      "k_gradient is -0.008365612648221984\n",
      "b_gradient is -0.03952569169960474\n",
      "Iteration 112, the loss is 4.880470912145492, parameters k is 13.647497840869748 and b is -63.03378810435332\n",
      "k_gradient is 0.03718379446640221\n",
      "b_gradient is -0.03162055335968379\n",
      "Iteration 113, the loss is 4.880352574150481, parameters k is 13.643779461423108 and b is -63.03062604901735\n",
      "k_gradient is -0.008365612648221984\n",
      "b_gradient is -0.03952569169960474\n",
      "Iteration 114, the loss is 4.880189347772552, parameters k is 13.64461602268793 and b is -63.02667347984739\n",
      "k_gradient is -0.008365612648221984\n",
      "b_gradient is -0.03952569169960474\n",
      "Iteration 115, the loss is 4.880044910944487, parameters k is 13.645452583952753 and b is -63.02272091067743\n",
      "k_gradient is 0.03718379446640221\n",
      "b_gradient is -0.03162055335968379\n",
      "Iteration 116, the loss is 4.8799322454924, parameters k is 13.641734204506113 and b is -63.01955885534146\n",
      "k_gradient is -0.008365612648221984\n",
      "b_gradient is -0.03952569169960474\n",
      "Iteration 117, the loss is 4.87976901911447, parameters k is 13.642570765770936 and b is -63.0156062861715\n",
      "k_gradient is -0.008365612648221984\n",
      "b_gradient is -0.03952569169960474\n",
      "Iteration 118, the loss is 4.879619088683267, parameters k is 13.643407327035758 and b is -63.011653717001536\n",
      "k_gradient is 0.015365612648220516\n",
      "b_gradient is -0.035573122529644265\n",
      "Iteration 119, the loss is 4.879478041785502, parameters k is 13.641870765770935 and b is -63.00809640474857\n",
      "k_gradient is -0.008365612648221984\n",
      "b_gradient is -0.03952569169960474\n",
      "Iteration 120, the loss is 4.879355414481097, parameters k is 13.642707327035758 and b is -63.00414383557861\n",
      "k_gradient is 0.03718379446640221\n",
      "b_gradient is -0.03162055335968379\n",
      "Iteration 121, the loss is 4.879220939505353, parameters k is 13.638988947589118 and b is -63.00098178024264\n",
      "k_gradient is -0.008365612648221984\n",
      "b_gradient is -0.03952569169960474\n",
      "Iteration 122, the loss is 4.879057713127419, parameters k is 13.63982550885394 and b is -62.99702921107268\n",
      "k_gradient is -0.008365612648221984\n",
      "b_gradient is -0.03952569169960474\n",
      "Iteration 123, the loss is 4.878929413280091, parameters k is 13.640662070118763 and b is -62.99307664190272\n",
      "k_gradient is 0.03718379446640221\n",
      "b_gradient is -0.03162055335968379\n",
      "Iteration 124, the loss is 4.878800610847275, parameters k is 13.636943690672123 and b is -62.98991458656675\n",
      "k_gradient is -0.008365612648221984\n",
      "b_gradient is -0.03952569169960474\n",
      "Iteration 125, the loss is 4.878637384469342, parameters k is 13.637780251936945 and b is -62.98596201739679\n",
      "k_gradient is -0.008365612648221984\n",
      "b_gradient is -0.03952569169960474\n",
      "Iteration 126, the loss is 4.878503412079084, parameters k is 13.638616813201768 and b is -62.982009448226826\n",
      "k_gradient is 0.03718379446640221\n",
      "b_gradient is -0.03162055335968379\n",
      "Iteration 127, the loss is 4.878380282189189, parameters k is 13.634898433755128 and b is -62.978847392890856\n",
      "k_gradient is -0.008365612648221984\n",
      "b_gradient is -0.03952569169960474\n",
      "Iteration 128, the loss is 4.878217055811264, parameters k is 13.63573499501995 and b is -62.974894823720895\n",
      "k_gradient is -0.008365612648221984\n",
      "b_gradient is -0.03952569169960474\n",
      "Iteration 129, the loss is 4.878077410878091, parameters k is 13.636571556284773 and b is -62.970942254550934\n",
      "k_gradient is 0.03718379446640221\n",
      "b_gradient is -0.03162055335968379\n",
      "Iteration 130, the loss is 4.8779599535311124, parameters k is 13.632853176838132 and b is -62.967780199214964\n",
      "k_gradient is -0.008365612648221984\n",
      "b_gradient is -0.03952569169960474\n",
      "Iteration 131, the loss is 4.877796727153183, parameters k is 13.633689738102955 and b is -62.963827630045\n",
      "k_gradient is -0.008365612648221984\n",
      "b_gradient is -0.03952569169960474\n",
      "Iteration 132, the loss is 4.877651409677084, parameters k is 13.634526299367778 and b is -62.95987506087504\n",
      "k_gradient is 0.03718379446640221\n",
      "b_gradient is -0.03162055335968379\n",
      "Iteration 133, the loss is 4.877545836798279, parameters k is 13.630807919921137 and b is -62.95671300553907\n",
      "k_gradient is -0.03381225296442746\n",
      "b_gradient is -0.043478260869565216\n",
      "Iteration 134, the loss is 4.8774014064002005, parameters k is 13.63418914521758 and b is -62.952365179452116\n",
      "k_gradient is 0.03718379446640221\n",
      "b_gradient is -0.03162055335968379\n",
      "Iteration 135, the loss is 4.877245612116235, parameters k is 13.630470765770939 and b is -62.949203124116146\n",
      "k_gradient is -0.008365612648221984\n",
      "b_gradient is -0.03952569169960474\n",
      "Iteration 136, the loss is 4.877082385738302, parameters k is 13.631307327035762 and b is -62.945250554946185\n",
      "k_gradient is -0.008365612648221984\n",
      "b_gradient is -0.03952569169960474\n",
      "Iteration 137, the loss is 4.876975405199199, parameters k is 13.632143888300584 and b is -62.941297985776224\n",
      "k_gradient is 0.03718379446640221\n",
      "b_gradient is -0.03162055335968379\n",
      "Iteration 138, the loss is 4.8768252834581585, parameters k is 13.628425508853944 and b is -62.938135930440254\n",
      "k_gradient is -0.008365612648221984\n",
      "b_gradient is -0.03952569169960474\n",
      "Iteration 139, the loss is 4.876662057080228, parameters k is 13.629262070118767 and b is -62.93418336127029\n",
      "k_gradient is -0.008365612648221984\n",
      "b_gradient is -0.03952569169960474\n",
      "Iteration 140, the loss is 4.876549403998195, parameters k is 13.63009863138359 and b is -62.93023079210033\n",
      "k_gradient is 0.03718379446640221\n",
      "b_gradient is -0.03162055335968379\n",
      "Iteration 141, the loss is 4.876406664977128, parameters k is 13.626380251936949 and b is -62.92706873676436\n",
      "k_gradient is -0.03381225296442746\n",
      "b_gradient is -0.043478260869565216\n",
      "Iteration 142, the loss is 4.876299400721313, parameters k is 13.62976147723339 and b is -62.922720910677405\n",
      "k_gradient is 0.03718379446640221\n",
      "b_gradient is -0.03162055335968379\n",
      "Iteration 143, the loss is 4.876110942043275, parameters k is 13.62604309778675 and b is -62.919558855341435\n",
      "k_gradient is -0.008365612648221984\n",
      "b_gradient is -0.03952569169960474\n",
      "Iteration 144, the loss is 4.87596727542253, parameters k is 13.626879659051573 and b is -62.915606286171474\n",
      "k_gradient is 0.03718379446640221\n",
      "b_gradient is -0.03162055335968379\n",
      "Iteration 145, the loss is 4.875879657600044, parameters k is 13.623161279604933 and b is -62.912444230835504\n",
      "k_gradient is -0.03381225296442746\n",
      "b_gradient is -0.043478260869565216\n",
      "Iteration 146, the loss is 4.875717272145646, parameters k is 13.626542504901375 and b is -62.90809640474855\n",
      "k_gradient is 0.03718379446640221\n",
      "b_gradient is -0.03162055335968379\n",
      "Iteration 147, the loss is 4.875564540957851, parameters k is 13.622824125454734 and b is -62.90493434941258\n",
      "k_gradient is -0.03381225296442746\n",
      "b_gradient is -0.043478260869565216\n",
      "Iteration 148, the loss is 4.8754672688687615, parameters k is 13.626205350751176 and b is -62.90058652332562\n",
      "k_gradient is 0.03718379446640221\n",
      "b_gradient is -0.03162055335968379\n",
      "Iteration 149, the loss is 4.875265814249531, parameters k is 13.622486971304536 and b is -62.89742446798965\n",
      "k_gradient is -0.008365612648221984\n",
      "b_gradient is -0.03952569169960474\n",
      "Iteration 150, the loss is 4.875135143569978, parameters k is 13.623323532569358 and b is -62.89347189881969\n",
      "k_gradient is 0.03718379446640221\n",
      "b_gradient is -0.03162055335968379\n",
      "Iteration 151, the loss is 4.875037533580762, parameters k is 13.619605153122718 and b is -62.89030984348372\n",
      "k_gradient is -0.03381225296442746\n",
      "b_gradient is -0.043478260869565216\n",
      "Iteration 152, the loss is 4.874885140293092, parameters k is 13.62298637841916 and b is -62.885962017396764\n",
      "k_gradient is 0.03718379446640221\n",
      "b_gradient is -0.03162055335968379\n",
      "Iteration 153, the loss is 4.874722416938572, parameters k is 13.61926799897252 and b is -62.882799962060794\n",
      "k_gradient is -0.03381225296442746\n",
      "b_gradient is -0.043478260869565216\n",
      "Iteration 154, the loss is 4.874635137016208, parameters k is 13.622649224268962 and b is -62.87845213597384\n",
      "k_gradient is 0.03718379446640221\n",
      "b_gradient is -0.03162055335968379\n",
      "Iteration 155, the loss is 4.874425461881792, parameters k is 13.618930844822321 and b is -62.87529008063787\n",
      "k_gradient is 0.013452569169959752\n",
      "b_gradient is -0.035573122529644265\n",
      "Iteration 156, the loss is 4.874298120713432, parameters k is 13.617585587905324 and b is -62.8717327683849\n",
      "k_gradient is -0.03381225296442746\n",
      "b_gradient is -0.043478260869565216\n",
      "Iteration 157, the loss is 4.874222627800709, parameters k is 13.620966813201766 and b is -62.867384942297946\n",
      "k_gradient is 0.03718379446640221\n",
      "b_gradient is -0.03162055335968379\n",
      "Iteration 158, the loss is 4.874009134493845, parameters k is 13.617248433755126 and b is -62.864222886961976\n",
      "k_gradient is 0.013452569169959752\n",
      "b_gradient is -0.035573122529644265\n",
      "Iteration 159, the loss is 4.8738738244882915, parameters k is 13.61590317683813 and b is -62.86066557470901\n",
      "k_gradient is -0.03381225296442746\n",
      "b_gradient is -0.043478260869565216\n",
      "Iteration 160, the loss is 4.873810118585205, parameters k is 13.619284402134571 and b is -62.856317748622054\n",
      "k_gradient is 0.03718379446640221\n",
      "b_gradient is -0.03162055335968379\n",
      "Iteration 161, the loss is 4.873592807105906, parameters k is 13.615566022687931 and b is -62.853155693286084\n",
      "k_gradient is 0.013452569169959752\n",
      "b_gradient is -0.035573122529644265\n",
      "Iteration 162, the loss is 4.873453086547825, parameters k is 13.614220765770934 and b is -62.84959838103312\n",
      "k_gradient is -0.011994071146245747\n",
      "b_gradient is -0.03952569169960474\n",
      "Iteration 163, the loss is 4.8733289793333086, parameters k is 13.615420172885559 and b is -62.84564581186316\n",
      "k_gradient is 0.03718379446640221\n",
      "b_gradient is -0.03162055335968379\n",
      "Iteration 164, the loss is 4.873225368892592, parameters k is 13.611701793438918 and b is -62.84248375652719\n",
      "k_gradient is -0.03381225296442746\n",
      "b_gradient is -0.043478260869565216\n",
      "Iteration 165, the loss is 4.873078976056424, parameters k is 13.61508301873536 and b is -62.83813593044023\n",
      "k_gradient is 0.03718379446640221\n",
      "b_gradient is -0.03162055335968379\n",
      "Iteration 166, the loss is 4.8729102522504, parameters k is 13.61136463928872 and b is -62.83497387510426\n",
      "k_gradient is -0.03381225296442746\n",
      "b_gradient is -0.043478260869565216\n",
      "Iteration 167, the loss is 4.8728289727795415, parameters k is 13.614745864585162 and b is -62.830626049017305\n",
      "k_gradient is 0.03718379446640221\n",
      "b_gradient is -0.03162055335968379\n",
      "Iteration 168, the loss is 4.872617818137552, parameters k is 13.611027485138521 and b is -62.827463993681334\n",
      "k_gradient is 0.013452569169959752\n",
      "b_gradient is -0.035573122529644265\n",
      "Iteration 169, the loss is 4.872492039892273, parameters k is 13.609682228221525 and b is -62.82390668142837\n",
      "k_gradient is -0.011994071146245747\n",
      "b_gradient is -0.03952569169960474\n",
      "Iteration 170, the loss is 4.872348706150957, parameters k is 13.610881635336149 and b is -62.81995411225841\n",
      "k_gradient is 0.013452569169959752\n",
      "b_gradient is -0.035573122529644265\n",
      "Iteration 171, the loss is 4.872204064284584, parameters k is 13.609536378419152 and b is -62.81639680000544\n",
      "k_gradient is 0.013452569169959752\n",
      "b_gradient is -0.035573122529644265\n",
      "Iteration 172, the loss is 4.87207248584714, parameters k is 13.608191121502156 and b is -62.81283948775248\n",
      "k_gradient is -0.011994071146245747\n",
      "b_gradient is -0.03952569169960474\n",
      "Iteration 173, the loss is 4.871942437733681, parameters k is 13.60939052861678 and b is -62.808886918582516\n",
      "k_gradient is 0.03718379446640221\n",
      "b_gradient is -0.03162055335968379\n",
      "Iteration 174, the loss is 4.8718310319985605, parameters k is 13.60567214917014 and b is -62.805724863246546\n",
      "k_gradient is -0.03381225296442746\n",
      "b_gradient is -0.043478260869565216\n",
      "Iteration 175, the loss is 4.871692434456806, parameters k is 13.609053374466582 and b is -62.80137703715959\n",
      "k_gradient is 0.03718379446640221\n",
      "b_gradient is -0.03162055335968379\n",
      "Iteration 176, the loss is 4.871528698718771, parameters k is 13.605334995019941 and b is -62.79821498182362\n",
      "k_gradient is -0.011994071146245747\n",
      "b_gradient is -0.03952569169960474\n",
      "Iteration 177, the loss is 4.871376290717578, parameters k is 13.606534402134566 and b is -62.79426241265366\n",
      "k_gradient is 0.013452569169959752\n",
      "b_gradient is -0.035573122529644265\n",
      "Iteration 178, the loss is 4.87123361479385, parameters k is 13.605189145217569 and b is -62.79070510040069\n",
      "k_gradient is -0.011994071146245747\n",
      "b_gradient is -0.03952569169960474\n",
      "Iteration 179, the loss is 4.87113091128818, parameters k is 13.606388552332193 and b is -62.78675253123073\n",
      "k_gradient is 0.03718379446640221\n",
      "b_gradient is -0.03162055335968379\n",
      "Iteration 180, the loss is 4.870982617072438, parameters k is 13.602670172885553 and b is -62.78359047589476\n",
      "k_gradient is -0.011994071146245747\n",
      "b_gradient is -0.03952569169960474\n",
      "Iteration 181, the loss is 4.870820202672147, parameters k is 13.603869580000177 and b is -62.7796379067248\n",
      "k_gradient is 0.013452569169959752\n",
      "b_gradient is -0.035573122529644265\n",
      "Iteration 182, the loss is 4.87068753314752, parameters k is 13.60252432308318 and b is -62.776080594471836\n",
      "k_gradient is -0.011994071146245747\n",
      "b_gradient is -0.03952569169960474\n",
      "Iteration 183, the loss is 4.870569388119573, parameters k is 13.603723730197805 and b is -62.772128025301875\n",
      "k_gradient is 0.03718379446640221\n",
      "b_gradient is -0.03162055335968379\n",
      "Iteration 184, the loss is 4.870436535426111, parameters k is 13.600005350751164 and b is -62.768965969965905\n",
      "k_gradient is -0.011994071146245747\n",
      "b_gradient is -0.03952569169960474\n",
      "Iteration 185, the loss is 4.870265921621405, parameters k is 13.601204757865789 and b is -62.765013400795944\n",
      "k_gradient is -0.011994071146245747\n",
      "b_gradient is -0.03952569169960474\n",
      "Iteration 186, the loss is 4.870170370889573, parameters k is 13.602404164980413 and b is -62.76106083162598\n",
      "k_gradient is 0.03718379446640221\n",
      "b_gradient is -0.03162055335968379\n",
      "Iteration 187, the loss is 4.870014923899989, parameters k is 13.598685785533773 and b is -62.75789877629001\n",
      "k_gradient is -0.011994071146245747\n",
      "b_gradient is -0.03952569169960474\n",
      "Iteration 188, the loss is 4.869852668447661, parameters k is 13.599885192648397 and b is -62.75394620712005\n",
      "k_gradient is 0.013452569169959752\n",
      "b_gradient is -0.035573122529644265\n",
      "Iteration 189, the loss is 4.869719839975079, parameters k is 13.5985399357314 and b is -62.750388894867086\n",
      "k_gradient is -0.011994071146245747\n",
      "b_gradient is -0.03952569169960474\n",
      "Iteration 190, the loss is 4.869608847720953, parameters k is 13.599739342846025 and b is -62.746436325697125\n",
      "k_gradient is 0.03718379446640221\n",
      "b_gradient is -0.03162055335968379\n",
      "Iteration 191, the loss is 4.869468842253659, parameters k is 13.596020963399384 and b is -62.743274270361155\n",
      "k_gradient is -0.011994071146245747\n",
      "b_gradient is -0.03952569169960474\n",
      "Iteration 192, the loss is 4.869298228448955, parameters k is 13.597220370514009 and b is -62.739321701191194\n",
      "k_gradient is -0.011994071146245747\n",
      "b_gradient is -0.03952569169960474\n",
      "Iteration 193, the loss is 4.869209830490956, parameters k is 13.598419777628633 and b is -62.73536913202123\n",
      "k_gradient is 0.03718379446640221\n",
      "b_gradient is -0.03162055335968379\n",
      "Iteration 194, the loss is 4.869047230727548, parameters k is 13.594701398181993 and b is -62.73220707668526\n"
     ]
    },
    {
     "name": "stdout",
     "output_type": "stream",
     "text": [
      "k_gradient is -0.011994071146245747\n",
      "b_gradient is -0.03952569169960474\n",
      "Iteration 195, the loss is 4.86889119717767, parameters k is 13.595900805296617 and b is -62.7282545075153\n",
      "k_gradient is 0.03718379446640221\n",
      "b_gradient is -0.03162055335968379\n",
      "Iteration 196, the loss is 4.868796233006136, parameters k is 13.592182425849977 and b is -62.72509245217933\n",
      "k_gradient is -0.011994071146245747\n",
      "b_gradient is -0.03952569169960474\n",
      "Iteration 197, the loss is 4.868625619201432, parameters k is 13.593381832964601 and b is -62.72113988300937\n",
      "k_gradient is -0.011994071146245747\n",
      "b_gradient is -0.03952569169960474\n",
      "Iteration 198, the loss is 4.868492179947673, parameters k is 13.594581240079226 and b is -62.71718731383941\n",
      "k_gradient is 0.03718379446640221\n",
      "b_gradient is -0.03162055335968379\n",
      "Iteration 199, the loss is 4.868374621480023, parameters k is 13.590862860632585 and b is -62.71402525850344\n",
      "k_gradient is -0.011994071146245747\n",
      "b_gradient is -0.03952569169960474\n",
      "Iteration 200, the loss is 4.868204007675323, parameters k is 13.59206226774721 and b is -62.71007268933348\n",
      "k_gradient is -0.011994071146245747\n",
      "b_gradient is -0.03952569169960474\n",
      "Iteration 201, the loss is 4.868093162717674, parameters k is 13.593261674861834 and b is -62.70612012016352\n",
      "k_gradient is 0.03718379446640221\n",
      "b_gradient is -0.03162055335968379\n",
      "Iteration 202, the loss is 4.867953009953902, parameters k is 13.589543295415194 and b is -62.70295806482755\n",
      "k_gradient is -0.011994071146245747\n",
      "b_gradient is -0.03952569169960474\n",
      "Iteration 203, the loss is 4.867782396149203, parameters k is 13.590742702529818 and b is -62.69900549565759\n",
      "k_gradient is -0.011994071146245747\n",
      "b_gradient is -0.03952569169960474\n",
      "Iteration 204, the loss is 4.867694145487671, parameters k is 13.591942109644442 and b is -62.69505292648763\n",
      "k_gradient is 0.03718379446640221\n",
      "b_gradient is -0.03162055335968379\n",
      "Iteration 205, the loss is 4.867531398427791, parameters k is 13.588223730197802 and b is -62.69189087115166\n",
      "k_gradient is -0.011994071146245747\n",
      "b_gradient is -0.03952569169960474\n",
      "Iteration 206, the loss is 4.867375512174389, parameters k is 13.589423137312426 and b is -62.687938301981696\n",
      "k_gradient is 0.03718379446640221\n",
      "b_gradient is -0.03162055335968379\n",
      "Iteration 207, the loss is 4.867280400706379, parameters k is 13.585704757865786 and b is -62.684776246645725\n",
      "k_gradient is -0.011994071146245747\n",
      "b_gradient is -0.03952569169960474\n",
      "Iteration 208, the loss is 4.8671097869016755, parameters k is 13.58690416498041 and b is -62.680823677475765\n",
      "k_gradient is -0.011994071146245747\n",
      "b_gradient is -0.03952569169960474\n",
      "Iteration 209, the loss is 4.866976494944388, parameters k is 13.588103572095035 and b is -62.676871108305804\n",
      "k_gradient is 0.03718379446640221\n",
      "b_gradient is -0.03162055335968379\n",
      "Iteration 210, the loss is 4.866858789180264, parameters k is 13.584385192648394 and b is -62.67370905296983\n",
      "k_gradient is -0.011994071146245747\n",
      "b_gradient is -0.03952569169960474\n",
      "Iteration 211, the loss is 4.866688175375565, parameters k is 13.585584599763019 and b is -62.66975648379987\n",
      "k_gradient is -0.011994071146245747\n",
      "b_gradient is -0.03952569169960474\n",
      "Iteration 212, the loss is 4.866577477714389, parameters k is 13.586784006877643 and b is -62.66580391462991\n",
      "k_gradient is 0.03718379446640221\n",
      "b_gradient is -0.03162055335968379\n",
      "Iteration 213, the loss is 4.866437177654155, parameters k is 13.583065627431003 and b is -62.66264185929394\n",
      "k_gradient is -0.011994071146245747\n",
      "b_gradient is -0.03952569169960474\n",
      "Iteration 214, the loss is 4.8662714570403125, parameters k is 13.584265034545627 and b is -62.65868929012398\n",
      "k_gradient is 0.011737154150197016\n",
      "b_gradient is -0.035573122529644265\n",
      "Iteration 215, the loss is 4.866140036248261, parameters k is 13.583091319130608 and b is -62.655131977871015\n",
      "k_gradient is -0.011994071146245747\n",
      "b_gradient is -0.03952569169960474\n",
      "Iteration 216, the loss is 4.866022333109727, parameters k is 13.584290726245232 and b is -62.651179408701054\n",
      "k_gradient is 0.03718379446640221\n",
      "b_gradient is -0.03162055335968379\n",
      "Iteration 217, the loss is 4.865889038526835, parameters k is 13.580572346798592 and b is -62.648017353365084\n",
      "k_gradient is -0.011994071146245747\n",
      "b_gradient is -0.03952569169960474\n",
      "Iteration 218, the loss is 4.865721953679845, parameters k is 13.581771753913216 and b is -62.64406478419512\n",
      "k_gradient is 0.011737154150197016\n",
      "b_gradient is -0.035573122529644265\n",
      "Iteration 219, the loss is 4.865591897120941, parameters k is 13.580598038498197 and b is -62.64050747194216\n",
      "k_gradient is -0.011994071146245747\n",
      "b_gradient is -0.03952569169960474\n",
      "Iteration 220, the loss is 4.865467188505055, parameters k is 13.581797445612821 and b is -62.6365549027722\n",
      "k_gradient is 0.03718379446640221\n",
      "b_gradient is -0.03162055335968379\n",
      "Iteration 221, the loss is 4.865340899399535, parameters k is 13.57807906616618 and b is -62.63339284743623\n",
      "k_gradient is -0.011994071146245747\n",
      "b_gradient is -0.03952569169960474\n",
      "Iteration 222, the loss is 4.865172450319384, parameters k is 13.579278473280805 and b is -62.629440278266266\n",
      "k_gradient is 0.011737154150197016\n",
      "b_gradient is -0.035573122529644265\n",
      "Iteration 223, the loss is 4.865043757993635, parameters k is 13.578104757865786 and b is -62.6258829660133\n",
      "k_gradient is -0.011994071146245747\n",
      "b_gradient is -0.03952569169960474\n",
      "Iteration 224, the loss is 4.864912043900398, parameters k is 13.57930416498041 and b is -62.62193039684334\n",
      "k_gradient is 0.03718379446640221\n",
      "b_gradient is -0.03162055335968379\n",
      "Iteration 225, the loss is 4.864792760272218, parameters k is 13.57558578553377 and b is -62.61876834150737\n",
      "k_gradient is -0.011994071146245747\n",
      "b_gradient is -0.03952569169960474\n",
      "Iteration 226, the loss is 4.864622946958916, parameters k is 13.576785192648394 and b is -62.61481577233741\n",
      "k_gradient is 0.011737154150197016\n",
      "b_gradient is -0.035573122529644265\n",
      "Iteration 227, the loss is 4.864495618866325, parameters k is 13.575611477233375 and b is -62.61125846008444\n",
      "k_gradient is -0.011994071146245747\n",
      "b_gradient is -0.03952569169960474\n",
      "Iteration 228, the loss is 4.8643568992957285, parameters k is 13.576810884348 and b is -62.60730589091448\n",
      "k_gradient is 0.03718379446640221\n",
      "b_gradient is -0.03162055335968379\n",
      "Iteration 229, the loss is 4.864244621144908, parameters k is 13.573092504901359 and b is -62.60414383557851\n",
      "k_gradient is -0.011994071146245747\n",
      "b_gradient is -0.03952569169960474\n",
      "Iteration 230, the loss is 4.864074007340207, parameters k is 13.574291912015983 and b is -62.60019126640855\n",
      "k_gradient is -0.011994071146245747\n",
      "b_gradient is -0.03952569169960474\n",
      "Iteration 231, the loss is 4.863957882065731, parameters k is 13.575491319130608 and b is -62.59623869723859\n",
      "k_gradient is 0.03718379446640221\n",
      "b_gradient is -0.03162055335968379\n",
      "Iteration 232, the loss is 4.863823009618799, parameters k is 13.571772939683967 and b is -62.59307664190262\n",
      "k_gradient is -0.011994071146245747\n",
      "b_gradient is -0.03952569169960474\n",
      "Iteration 233, the loss is 4.863664261021396, parameters k is 13.572972346798592 and b is -62.58912407273266\n",
      "k_gradient is 0.011737154150197016\n",
      "b_gradient is -0.035573122529644265\n",
      "Iteration 234, the loss is 4.863525868212896, parameters k is 13.571798631383572 and b is -62.58556676047969\n",
      "k_gradient is -0.011994071146245747\n",
      "b_gradient is -0.03952569169960474\n",
      "Iteration 235, the loss is 4.8634027374610636, parameters k is 13.572998038498197 and b is -62.58161419130973\n",
      "k_gradient is 0.03718379446640221\n",
      "b_gradient is -0.03162055335968379\n",
      "Iteration 236, the loss is 4.863274870491483, parameters k is 13.569279659051556 and b is -62.57845213597376\n",
      "k_gradient is -0.011994071146245747\n",
      "b_gradient is -0.03952569169960474\n",
      "Iteration 237, the loss is 4.863114757660927, parameters k is 13.57047906616618 and b is -62.5744995668038\n",
      "k_gradient is 0.011737154150197016\n",
      "b_gradient is -0.035573122529644265\n",
      "Iteration 238, the loss is 4.8629777290855865, parameters k is 13.569305350751161 and b is -62.570942254550836\n",
      "k_gradient is -0.011994071146245747\n",
      "b_gradient is -0.03952569169960474\n",
      "Iteration 239, the loss is 4.862847909276324, parameters k is 13.570504757865786 and b is -62.566989685380875\n",
      "k_gradient is 0.011737154150197016\n",
      "b_gradient is -0.035573122529644265\n",
      "Iteration 240, the loss is 4.86270758849292, parameters k is 13.569331042450766 and b is -62.56343237312791\n",
      "k_gradient is 0.011737154150197016\n",
      "b_gradient is -0.035573122529644265\n",
      "Iteration 241, the loss is 4.862567267709516, parameters k is 13.568157327035747 and b is -62.559875060874944\n",
      "k_gradient is 0.011737154150197016\n",
      "b_gradient is -0.035573122529644265\n",
      "Iteration 242, the loss is 4.862427532477302, parameters k is 13.566983611620728 and b is -62.55631774862198\n",
      "k_gradient is -0.011994071146245747\n",
      "b_gradient is -0.03952569169960474\n",
      "Iteration 243, the loss is 4.862300419324913, parameters k is 13.568183018735352 and b is -62.55236517945202\n",
      "k_gradient is 0.011737154150197016\n",
      "b_gradient is -0.035573122529644265\n",
      "Iteration 244, the loss is 4.862160098541507, parameters k is 13.567009303320333 and b is -62.54880786719905\n",
      "k_gradient is 0.011737154150197016\n",
      "b_gradient is -0.035573122529644265\n",
      "Iteration 245, the loss is 4.862019777758097, parameters k is 13.565835587905314 and b is -62.54525055494609\n",
      "k_gradient is 0.011737154150197016\n",
      "b_gradient is -0.035573122529644265\n",
      "Iteration 246, the loss is 4.8618794569746955, parameters k is 13.564661872490294 and b is -62.54169324269312\n",
      "k_gradient is 0.011737154150197016\n",
      "b_gradient is -0.035573122529644265\n",
      "Iteration 247, the loss is 4.861758218114394, parameters k is 13.563488157075275 and b is -62.538135930440156\n",
      "k_gradient is -0.04478853754940787\n",
      "b_gradient is -0.043478260869565216\n",
      "Iteration 248, the loss is 4.86170337742771, parameters k is 13.567967010830216 and b is -62.5337881043532\n",
      "k_gradient is 0.03718379446640221\n",
      "b_gradient is -0.03162055335968379\n",
      "Iteration 249, the loss is 4.861480912063435, parameters k is 13.564248631383576 and b is -62.53062604901723\n",
      "k_gradient is 0.011737154150197016\n",
      "b_gradient is -0.035573122529644265\n",
      "Iteration 250, the loss is 4.861340591280022, parameters k is 13.563074915968556 and b is -62.527068736764264\n",
      "k_gradient is 0.011737154150197016\n",
      "b_gradient is -0.035573122529644265\n",
      "Iteration 251, the loss is 4.8612019193642855, parameters k is 13.561901200553537 and b is -62.5235114245113\n",
      "k_gradient is -0.021057312252965137\n",
      "b_gradient is -0.03952569169960474\n",
      "Iteration 252, the loss is 4.861106189934548, parameters k is 13.564006931778833 and b is -62.51955885534134\n",
      "k_gradient is 0.03718379446640221\n",
      "b_gradient is -0.03162055335968379\n",
      "Iteration 253, the loss is 4.860956344147462, parameters k is 13.560288552332192 and b is -62.51639680000537\n",
      "k_gradient is -0.04478853754940787\n",
      "b_gradient is -0.043478260869565216\n",
      "Iteration 254, the loss is 4.86089700064866, parameters k is 13.564767406087133 and b is -62.51204897391841\n",
      "k_gradient is 0.03718379446640221\n",
      "b_gradient is -0.03162055335968379\n",
      "Iteration 255, the loss is 4.860670029058704, parameters k is 13.561049026640493 and b is -62.50888691858244\n",
      "k_gradient is 0.011737154150197016\n",
      "b_gradient is -0.035573122529644265\n",
      "Iteration 256, the loss is 4.860529708275291, parameters k is 13.559875311225474 and b is -62.505329606329475\n",
      "k_gradient is 0.011737154150197016\n",
      "b_gradient is -0.035573122529644265\n",
      "Iteration 257, the loss is 4.86041004027306, parameters k is 13.558701595810454 and b is -62.50177229407651\n",
      "k_gradient is -0.021057312252965137\n",
      "b_gradient is -0.03952569169960474\n",
      "Iteration 258, the loss is 4.860299813155498, parameters k is 13.56080732703575 and b is -62.49781972490655\n",
      "k_gradient is 0.03718379446640221\n",
      "b_gradient is -0.03162055335968379\n",
      "Iteration 259, the loss is 4.860162787855431, parameters k is 13.55708894758911 and b is -62.49465766957058\n",
      "k_gradient is -0.021057312252965137\n",
      "b_gradient is -0.03952569169960474\n",
      "Iteration 260, the loss is 4.86001488041166, parameters k is 13.559194678814405 and b is -62.49070510040062\n",
      "k_gradient is 0.03718379446640221\n",
      "b_gradient is -0.03162055335968379\n",
      "Iteration 261, the loss is 4.859917366835673, parameters k is 13.555476299367765 and b is -62.48754304506465\n",
      "k_gradient is -0.04478853754940787\n",
      "b_gradient is -0.043478260869565216\n",
      "Iteration 262, the loss is 4.859805691125781, parameters k is 13.559955153122706 and b is -62.48319521897769\n",
      "k_gradient is 0.03718379446640221\n",
      "b_gradient is -0.03162055335968379\n",
      "Iteration 263, the loss is 4.859602688635011, parameters k is 13.556236773676066 and b is -62.48003316364172\n",
      "k_gradient is -0.021057312252965137\n",
      "b_gradient is -0.03952569169960474\n",
      "Iteration 264, the loss is 4.85952075838195, parameters k is 13.558342504901361 and b is -62.47608059447176\n",
      "k_gradient is 0.03718379446640221\n",
      "b_gradient is -0.03162055335968379\n",
      "Iteration 265, the loss is 4.859355436217377, parameters k is 13.55462412545472 and b is -62.47291853913579\n",
      "k_gradient is -0.021057312252965137\n",
      "b_gradient is -0.03952569169960474\n",
      "Iteration 266, the loss is 4.8592358256381205, parameters k is 13.556729856680017 and b is -62.46896596996583\n",
      "k_gradient is 0.03718379446640221\n",
      "b_gradient is -0.03162055335968379\n",
      "Iteration 267, the loss is 4.859108183799758, parameters k is 13.553011477233376 and b is -62.46580391462986\n",
      "k_gradient is -0.021057312252965137\n",
      "b_gradient is -0.03952569169960474\n",
      "Iteration 268, the loss is 4.858950892894289, parameters k is 13.555117208458672 and b is -62.4618513454599\n",
      "k_gradient is 0.03718379446640221\n",
      "b_gradient is -0.03162055335968379\n",
      "Iteration 269, the loss is 4.8588609313821305, parameters k is 13.551398829012031 and b is -62.45868929012393\n",
      "k_gradient is -0.021057312252965137\n",
      "b_gradient is -0.03952569169960474\n",
      "Iteration 270, the loss is 4.858671135583913, parameters k is 13.553504560237327 and b is -62.45473672095397\n",
      "k_gradient is 0.004389328063240359\n",
      "b_gradient is -0.035573122529644265\n",
      "Iteration 271, the loss is 4.8585426642591765, parameters k is 13.553065627431003 and b is -62.451179408701\n",
      "k_gradient is 0.004389328063240359\n",
      "b_gradient is -0.035573122529644265\n",
      "Iteration 272, the loss is 4.858414192934434, parameters k is 13.55262669462468 and b is -62.447622096448036\n",
      "k_gradient is 0.004389328063240359\n",
      "b_gradient is -0.035573122529644265\n",
      "Iteration 273, the loss is 4.858285721609704, parameters k is 13.552187761818356 and b is -62.44406478419507\n",
      "k_gradient is 0.004389328063240359\n",
      "b_gradient is -0.035573122529644265\n",
      "Iteration 274, the loss is 4.858157250284968, parameters k is 13.551748829012032 and b is -62.440507471942105\n",
      "k_gradient is 0.004389328063240359\n",
      "b_gradient is -0.035573122529644265\n",
      "Iteration 275, the loss is 4.858028778960233, parameters k is 13.551309896205709 and b is -62.43695015968914\n",
      "k_gradient is 0.004389328063240359\n",
      "b_gradient is -0.035573122529644265\n",
      "Iteration 276, the loss is 4.857900307635501, parameters k is 13.550870963399385 and b is -62.433392847436174\n",
      "k_gradient is 0.004389328063240359\n",
      "b_gradient is -0.035573122529644265\n",
      "Iteration 277, the loss is 4.857771836310757, parameters k is 13.550432030593061 and b is -62.42983553518321\n",
      "k_gradient is 0.004389328063240359\n",
      "b_gradient is -0.035573122529644265\n",
      "Iteration 278, the loss is 4.857643364986025, parameters k is 13.549993097786738 and b is -62.42627822293024\n",
      "k_gradient is 0.004389328063240359\n",
      "b_gradient is -0.035573122529644265\n",
      "Iteration 279, the loss is 4.857514893661293, parameters k is 13.549554164980414 and b is -62.42272091067728\n",
      "k_gradient is 0.004389328063240359\n",
      "b_gradient is -0.035573122529644265\n",
      "Iteration 280, the loss is 4.857386422336554, parameters k is 13.54911523217409 and b is -62.41916359842431\n",
      "k_gradient is 0.004389328063240359\n",
      "b_gradient is -0.035573122529644265\n",
      "Iteration 281, the loss is 4.857257951011813, parameters k is 13.548676299367767 and b is -62.41560628617135\n",
      "k_gradient is 0.004389328063240359\n",
      "b_gradient is -0.035573122529644265\n",
      "Iteration 282, the loss is 4.857129479687081, parameters k is 13.548237366561443 and b is -62.41204897391838\n",
      "k_gradient is 0.004389328063240359\n",
      "b_gradient is -0.035573122529644265\n",
      "Iteration 283, the loss is 4.8570010083623485, parameters k is 13.54779843375512 and b is -62.408491661665416\n",
      "k_gradient is 0.004389328063240359\n",
      "b_gradient is -0.035573122529644265\n",
      "Iteration 284, the loss is 4.856872537037612, parameters k is 13.547359500948795 and b is -62.40493434941245\n",
      "k_gradient is 0.004389328063240359\n",
      "b_gradient is -0.035573122529644265\n",
      "Iteration 285, the loss is 4.856744065712876, parameters k is 13.546920568142472 and b is -62.401377037159484\n",
      "k_gradient is 0.004389328063240359\n",
      "b_gradient is -0.035573122529644265\n",
      "Iteration 286, the loss is 4.8566155943881375, parameters k is 13.546481635336148 and b is -62.39781972490652\n",
      "k_gradient is 0.004389328063240359\n",
      "b_gradient is -0.035573122529644265\n",
      "Iteration 287, the loss is 4.856487123063409, parameters k is 13.546042702529824 and b is -62.39426241265355\n",
      "k_gradient is 0.004389328063240359\n",
      "b_gradient is -0.035573122529644265\n",
      "Iteration 288, the loss is 4.856358651738669, parameters k is 13.5456037697235 and b is -62.39070510040059\n",
      "k_gradient is 0.004389328063240359\n",
      "b_gradient is -0.035573122529644265\n",
      "Iteration 289, the loss is 4.856230180413931, parameters k is 13.545164836917177 and b is -62.38714778814762\n",
      "k_gradient is 0.004389328063240359\n",
      "b_gradient is -0.035573122529644265\n",
      "Iteration 290, the loss is 4.856101709089201, parameters k is 13.544725904110853 and b is -62.38359047589466\n",
      "k_gradient is 0.004389328063240359\n",
      "b_gradient is -0.035573122529644265\n",
      "Iteration 291, the loss is 4.855973237764462, parameters k is 13.54428697130453 and b is -62.38003316364169\n",
      "k_gradient is 0.004389328063240359\n",
      "b_gradient is -0.035573122529644265\n",
      "Iteration 292, the loss is 4.8558447664397315, parameters k is 13.543848038498206 and b is -62.376475851388726\n",
      "k_gradient is 0.004389328063240359\n",
      "b_gradient is -0.035573122529644265\n",
      "Iteration 293, the loss is 4.855716295114988, parameters k is 13.543409105691882 and b is -62.37291853913576\n",
      "k_gradient is 0.004389328063240359\n",
      "b_gradient is -0.035573122529644265\n",
      "Iteration 294, the loss is 4.855587823790255, parameters k is 13.542970172885559 and b is -62.369361226882795\n",
      "k_gradient is 0.004389328063240359\n",
      "b_gradient is -0.035573122529644265\n",
      "Iteration 295, the loss is 4.855459352465515, parameters k is 13.542531240079235 and b is -62.36580391462983\n",
      "k_gradient is 0.004389328063240359\n",
      "b_gradient is -0.035573122529644265\n",
      "Iteration 296, the loss is 4.855330881140781, parameters k is 13.542092307272911 and b is -62.362246602376864\n",
      "k_gradient is 0.004389328063240359\n",
      "b_gradient is -0.035573122529644265\n",
      "Iteration 297, the loss is 4.855204817668533, parameters k is 13.541653374466588 and b is -62.3586892901239\n",
      "k_gradient is 0.02714426877470293\n",
      "b_gradient is -0.03162055335968379\n",
      "Iteration 298, the loss is 4.855078011124068, parameters k is 13.538938947589118 and b is -62.35552723478793\n",
      "k_gradient is 0.004389328063240359\n",
      "b_gradient is -0.035573122529644265\n",
      "Iteration 299, the loss is 4.854949539799334, parameters k is 13.538500014782795 and b is -62.35196992253496\n",
      "k_gradient is 0.004389328063240359\n",
      "b_gradient is -0.035573122529644265\n"
     ]
    }
   ],
   "source": [
    "\"\"\"\n",
    "初始化参数\n",
    "\"\"\"\n",
    "\n",
    "k = random.random() * 200 - 100   # -100到100\n",
    "b = random.random() * 200 - 100\n",
    "\n",
    "learning_rate = 1e-1\n",
    "iteration_num = 300\n",
    "losses = []\n",
    "\n",
    "for i in range(iteration_num):\n",
    "    \n",
    "    price_pred = [price(r,k,b) for r in X_rm]\n",
    "    current_loss = loss(y, price_pred)\n",
    "    \n",
    "    losses.append(current_loss)\n",
    "    print(\"Iteration {}, the loss is {}, parameters k is {} and b is {}\".format(i,current_loss,k,b))\n",
    "    \n",
    "    k_gradient = partial_derivative_k(X_rm, y, price_pred)\n",
    "    b_gradient = partial_derivative_b(y, price_pred)\n",
    "    print('k_gradient is {}'.format(k_gradient))\n",
    "    print('b_gradient is {}'.format(b_gradient))\n",
    "    \n",
    "    k = k + (-1 * k_gradient) * learning_rate\n",
    "    b = b + (-1 * b_gradient) * learning_rate\n",
    "    \n",
    "    \n",
    "best_k = k\n",
    "best_b = b"
   ]
  },
  {
   "cell_type": "code",
   "execution_count": 81,
   "metadata": {},
   "outputs": [
    {
     "data": {
      "text/plain": [
       "[<matplotlib.lines.Line2D at 0x7f9c3d2f1cf8>]"
      ]
     },
     "execution_count": 81,
     "metadata": {},
     "output_type": "execute_result"
    },
    {
     "data": {
      "image/png": "[encoded data removed]",
      "text/plain": [
       "<Figure size 432x288 with 1 Axes>"
      ]
     },
     "metadata": {
      "needs_background": "light"
     },
     "output_type": "display_data"
    }
   ],
   "source": [
    "plt.plot(list(range(iteration_num)),losses)"
   ]
  },
  {
   "cell_type": "code",
   "execution_count": 82,
   "metadata": {},
   "outputs": [
    {
     "data": {
      "text/plain": [
       "<matplotlib.collections.PathCollection at 0x7f9c3d2d4cc0>"
      ]
     },
     "execution_count": 82,
     "metadata": {},
     "output_type": "execute_result"
    },
    {
     "data": {
      "image/png": "[encoded data removed]",
      "text/plain": [
       "<Figure size 432x288 with 1 Axes>"
      ]
     },
     "metadata": {
      "needs_background": "light"
     },
     "output_type": "display_data"
    }
   ],
   "source": [
    "price_use_best_parameters = [price(r, best_k, best_b) for r in X_rm]\n",
    "\n",
    "plt.scatter(X_rm,y)\n",
    "plt.scatter(X_rm,price_use_best_parameters)"
   ]
  },
  {
   "cell_type": "markdown",
   "metadata": {},
   "source": [
    "<评阅点>\n",
    "+ 是否将Loss改成了“绝对值”(3')\n",
    "+ 是否完成了偏导的重新定义(5')\n",
    "+ 新的模型Loss是否能够收敛 (11’)"
   ]
  },
  {
   "cell_type": "markdown",
   "metadata": {},
   "source": []
  }
 ],
 "metadata": {
  "kernelspec": {
   "display_name": "Python 3",
   "language": "python",
   "name": "python3"
  },
  "language_info": {
   "codemirror_mode": {
    "name": "ipython",
    "version": 3
   },
   "file_extension": ".py",
   "mimetype": "text/x-python",
   "name": "python",
   "nbconvert_exporter": "python",
   "pygments_lexer": "ipython3",
   "version": "3.6.2"
  }
 },
 "nbformat": 4,
 "nbformat_minor": 2
}
