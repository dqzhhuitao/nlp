{
 "cells": [
  {
   "cell_type": "markdown",
   "metadata": {},
   "source": [
    "# Assignment 4"
   ]
  },
  {
   "cell_type": "markdown",
   "metadata": {},
   "source": [
    "### 1. 复习上课内容以及复现课程代码"
   ]
  },
  {
   "cell_type": "markdown",
   "metadata": {},
   "source": [
    "在本部分，你需要复习上课内容和课程代码后，自己复现课程代码。"
   ]
  },
  {
   "cell_type": "code",
   "execution_count": 1,
   "metadata": {},
   "outputs": [],
   "source": [
    "import numpy as np\n",
    "\n",
    "class Node:\n",
    "    def __init__(self, inputs=[]):\n",
    "        self.inputs = inputs\n",
    "        self.outputs = []\n",
    "        \n",
    "        for n in self.inputs:\n",
    "            n.outputs.append(self)\n",
    "        \n",
    "        self.value = None\n",
    "        self.gradients = {}\n",
    "        \n",
    "    def forward(self):\n",
    "\n",
    "        raise NotImplemented\n",
    "\n",
    "    def backward(self):\n",
    "\n",
    "        raise NotImplemented\n",
    "        \n",
    "class Input(Node):\n",
    "    def __init__(self):\n",
    "        Node.__init__(self)\n",
    "\n",
    "    def forward(self, value=None):\n",
    "        if value is not None:\n",
    "            self.value = value\n",
    "   \n",
    "    def backward(self):\n",
    "        self.gradients = {self:0}\n",
    "        for n in self.outputs:\n",
    "            grad_cost = n.gradients[self]\n",
    "            self.gradients[self] = grad_cost * 1\n",
    "\n",
    "class Add(Node):\n",
    "    def __init__(self, *nodes):\n",
    "        Node.__init__(self, nodes)\n",
    "\n",
    "    def forward(self):\n",
    "        self.value = sum(map(lambda n: n.value, self.inputs))\n",
    "\n",
    "class Linear(Node):\n",
    "    def __init__(self, nodes, weights, bias):\n",
    "        Node.__init__(self, [nodes, weights, bias])\n",
    "\n",
    "    def forward(self):\n",
    "        inputs = self.inputs[0].value\n",
    "        weights = self.inputs[1].value\n",
    "        bias = self.inputs[2].value\n",
    "\n",
    "        self.value = np.dot(inputs, weights) + bias\n",
    "        \n",
    "    def backward(self):\n",
    "        self.gradients = {n: np.zeros_like(n.value) for n in self.inputs}\n",
    "\n",
    "        for n in self.outputs:\n",
    "            grad_cost = n.gradients[self]\n",
    "\n",
    "            self.gradients[self.inputs[0]] = np.dot(grad_cost, self.inputs[1].value.T)\n",
    "            self.gradients[self.inputs[1]] = np.dot(self.inputs[0].value.T, grad_cost)\n",
    "            self.gradients[self.inputs[2]] = np.sum(grad_cost, axis=0, keepdims=False)\n",
    "\n",
    "class Sigmoid(Node):\n",
    "    def __init__(self, node):\n",
    "        Node.__init__(self, [node])\n",
    "\n",
    "    def _sigmoid(self, x):\n",
    "        return 1./(1 + np.exp(-1 * x))\n",
    "\n",
    "    def forward(self):\n",
    "        self.x = self.inputs[0].value\n",
    "        self.value = self._sigmoid(self.x)\n",
    "\n",
    "    def backward(self):\n",
    "        self.partial = self._sigmoid(self.x) * (1 - self._sigmoid(self.x))\n",
    "        \n",
    "        self.gradients = {n: np.zeros_like(n.value) for n in self.inputs}\n",
    "\n",
    "        for n in self.outputs:\n",
    "            grad_cost = n.gradients[self]  \n",
    "\n",
    "            self.gradients[self.inputs[0]] = grad_cost * self.partial\n",
    "\n",
    "class MSE(Node):\n",
    "    def __init__(self, y, a):\n",
    "        Node.__init__(self, [y, a])\n",
    "\n",
    "    def forward(self):\n",
    "        y = self.inputs[0].value.reshape(-1, 1)\n",
    "        a = self.inputs[1].value.reshape(-1, 1)\n",
    "        assert(y.shape == a.shape)\n",
    "\n",
    "        self.m = self.inputs[0].value.shape[0]\n",
    "        self.diff = y - a\n",
    "\n",
    "        self.value = np.mean(self.diff**2)\n",
    "\n",
    "    def backward(self):\n",
    "        self.gradients[self.inputs[0]] = (2 / self.m) * self.diff\n",
    "        self.gradients[self.inputs[1]] = (-2 / self.m) * self.diff\n",
    "\n",
    "def forward_and_backward(outputnode, graph):\n",
    "\n",
    "    for n in graph:\n",
    "        n.forward()\n",
    "\n",
    "    for n in  graph[::-1]:\n",
    "        n.backward()\n",
    "\n",
    "def topological_sort(feed_dict):\n",
    "    input_nodes = [n for n in feed_dict.keys()]\n",
    "\n",
    "    G = {}\n",
    "    nodes = [n for n in input_nodes]\n",
    "    while len(nodes) > 0:\n",
    "        n = nodes.pop(0)\n",
    "        if n not in G:\n",
    "            G[n] = {'in': set(), 'out': set()}\n",
    "        for m in n.outputs:\n",
    "            if m not in G:\n",
    "                G[m] = {'in': set(), 'out': set()}\n",
    "            G[n]['out'].add(m)\n",
    "            G[m]['in'].add(n)\n",
    "            nodes.append(m)\n",
    "\n",
    "    L = []\n",
    "    S = set(input_nodes)\n",
    "    while len(S) > 0:\n",
    "        n = S.pop()\n",
    "\n",
    "        if isinstance(n, Input):\n",
    "            n.value = feed_dict[n]\n",
    "            \n",
    "        L.append(n)\n",
    "        for m in n.outputs:\n",
    "            G[n]['out'].remove(m)\n",
    "            G[m]['in'].remove(n)\n",
    "\n",
    "            if len(G[m]['in']) == 0:\n",
    "                S.add(m)\n",
    "    return L\n",
    "\n",
    "def sgd_update(trainables, learning_rate=1e-2):\n",
    "    for t in trainables:\n",
    "        t.value += -1 * learning_rate * t.gradients[t]"
   ]
  },
  {
   "cell_type": "code",
   "execution_count": 5,
   "metadata": {},
   "outputs": [
    {
     "name": "stdout",
     "output_type": "stream",
     "text": [
      "Total number of examples = 506\n",
      "Epoch: 1, Loss: 219.698\n",
      "Epoch: 101, Loss: 6.160\n",
      "Epoch: 201, Loss: 5.121\n",
      "Epoch: 301, Loss: 3.600\n",
      "Epoch: 401, Loss: 3.964\n",
      "Epoch: 501, Loss: 3.558\n",
      "Epoch: 601, Loss: 3.471\n",
      "Epoch: 701, Loss: 3.336\n",
      "Epoch: 801, Loss: 3.414\n",
      "Epoch: 901, Loss: 2.990\n",
      "Epoch: 1001, Loss: 3.370\n",
      "Epoch: 1101, Loss: 3.108\n",
      "Epoch: 1201, Loss: 3.204\n",
      "Epoch: 1301, Loss: 2.851\n",
      "Epoch: 1401, Loss: 2.749\n",
      "Epoch: 1501, Loss: 3.119\n",
      "Epoch: 1601, Loss: 3.552\n",
      "Epoch: 1701, Loss: 3.484\n",
      "Epoch: 1801, Loss: 2.702\n",
      "Epoch: 1901, Loss: 3.370\n",
      "Epoch: 2001, Loss: 3.061\n",
      "Epoch: 2101, Loss: 3.096\n",
      "Epoch: 2201, Loss: 2.531\n",
      "Epoch: 2301, Loss: 3.327\n",
      "Epoch: 2401, Loss: 3.206\n",
      "Epoch: 2501, Loss: 2.884\n",
      "Epoch: 2601, Loss: 3.059\n",
      "Epoch: 2701, Loss: 2.885\n",
      "Epoch: 2801, Loss: 3.031\n",
      "Epoch: 2901, Loss: 3.032\n",
      "Epoch: 3001, Loss: 3.255\n",
      "Epoch: 3101, Loss: 3.172\n",
      "Epoch: 3201, Loss: 2.769\n",
      "Epoch: 3301, Loss: 2.993\n",
      "Epoch: 3401, Loss: 2.965\n",
      "Epoch: 3501, Loss: 2.999\n",
      "Epoch: 3601, Loss: 2.949\n",
      "Epoch: 3701, Loss: 3.136\n",
      "Epoch: 3801, Loss: 2.892\n",
      "Epoch: 3901, Loss: 2.948\n",
      "Epoch: 4001, Loss: 2.564\n",
      "Epoch: 4101, Loss: 2.695\n",
      "Epoch: 4201, Loss: 3.185\n",
      "Epoch: 4301, Loss: 2.680\n",
      "Epoch: 4401, Loss: 3.240\n",
      "Epoch: 4501, Loss: 3.157\n",
      "Epoch: 4601, Loss: 3.172\n",
      "Epoch: 4701, Loss: 3.227\n",
      "Epoch: 4801, Loss: 2.595\n",
      "Epoch: 4901, Loss: 2.610\n"
     ]
    }
   ],
   "source": [
    "import numpy as np\n",
    "from sklearn.datasets import load_boston\n",
    "from sklearn.utils import shuffle, resample\n",
    "\n",
    "# Load data\n",
    "data = load_boston()\n",
    "X_ = data['data']\n",
    "y_ = data['target']\n",
    "\n",
    "# Normalize data\n",
    "X_ = (X_ - np.mean(X_, axis=0)) / np.std(X_, axis=0)\n",
    "\n",
    "n_features = X_.shape[1]\n",
    "n_hidden = 10\n",
    "W1_ = np.random.randn(n_features, n_hidden)\n",
    "b1_ = np.zeros(n_hidden)\n",
    "W2_ = np.random.randn(n_hidden, 1)\n",
    "b2_ = np.zeros(1)\n",
    "\n",
    "# Neural network\n",
    "X, y = Input(), Input()\n",
    "W1, b1 = Input(), Input()\n",
    "W2, b2 = Input(), Input()\n",
    "\n",
    "l1 = Linear(X, W1, b1)\n",
    "s1 = Sigmoid(l1)\n",
    "l2 = Linear(s1, W2, b2)\n",
    "cost = MSE(y, l2)\n",
    "\n",
    "feed_dict = {\n",
    "    X: X_,\n",
    "    y: y_,\n",
    "    W1: W1_,\n",
    "    b1: b1_,\n",
    "    W2: W2_,\n",
    "    b2: b2_\n",
    "}\n",
    "\n",
    "epochs = 5000\n",
    "m = X_.shape[0]\n",
    "batch_size = 16\n",
    "steps_per_epoch = m // batch_size\n",
    "\n",
    "graph = topological_sort(feed_dict)\n",
    "trainables = [W1, b1, W2, b2]\n",
    "\n",
    "print(\"Total number of examples = {}\".format(m))\n",
    "losses = []\n",
    "\n",
    "for i in range(epochs):\n",
    "    loss = 0\n",
    "    for j in range(steps_per_epoch):\n",
    "\n",
    "        X_batch, y_batch = resample(X_, y_, n_samples=batch_size)\n",
    "\n",
    "        X.value = X_batch\n",
    "        y.value = y_batch\n",
    "\n",
    "        _ = None\n",
    "        forward_and_backward(_, graph)\n",
    "\n",
    "        rate = 1e-2\n",
    "    \n",
    "        sgd_update(trainables, rate)\n",
    "\n",
    "        loss += graph[-1].value\n",
    "    \n",
    "    if i % 100 == 0: \n",
    "        print(\"Epoch: {}, Loss: {:.3f}\".format(i+1, loss/steps_per_epoch))\n",
    "        losses.append(loss)"
   ]
  },
  {
   "cell_type": "code",
   "execution_count": 6,
   "metadata": {},
   "outputs": [],
   "source": [
    "import matplotlib.pyplot as plt"
   ]
  },
  {
   "cell_type": "code",
   "execution_count": 7,
   "metadata": {},
   "outputs": [
    {
     "data": {
      "text/plain": [
       "[<matplotlib.lines.Line2D at 0x7f3eff4c3a58>]"
      ]
     },
     "execution_count": 7,
     "metadata": {},
     "output_type": "execute_result"
    },
    {
     "data": {
      "image/png": "[encoded data removed]",
      "text/plain": [
       "<Figure size 432x288 with 1 Axes>"
      ]
     },
     "metadata": {
      "needs_background": "light"
     },
     "output_type": "display_data"
    }
   ],
   "source": [
    "plt.plot(range(len(losses)), losses)"
   ]
  },
  {
   "cell_type": "code",
   "execution_count": 9,
   "metadata": {},
   "outputs": [
    {
     "data": {
      "text/plain": [
       "array([[ 8.70992839],\n",
       "       [ 7.48242354],\n",
       "       [ 6.91915777],\n",
       "       [-7.34729459],\n",
       "       [ 9.12147477],\n",
       "       [ 7.66648724],\n",
       "       [ 8.72676133],\n",
       "       [ 9.08555971],\n",
       "       [ 7.32385634],\n",
       "       [ 5.52420302]])"
      ]
     },
     "execution_count": 9,
     "metadata": {},
     "output_type": "execute_result"
    }
   ],
   "source": [
    "W2.value"
   ]
  },
  {
   "cell_type": "markdown",
   "metadata": {},
   "source": [
    "### 2. 回答一下理论题目"
   ]
  },
  {
   "cell_type": "markdown",
   "metadata": {},
   "source": [
    "#### 1. What does a neuron compute?"
   ]
  },
  {
   "cell_type": "markdown",
   "metadata": {},
   "source": [
    "A neuron reseive inputs, make linear transformation and nonlinear transformation with the inputs, and at last last,output a converted digital。\n",
    "\n",
    "A neuron computes with the inputs by two steps as what the following picture shows.\n",
    "\n",
    "We assume that x is the inputs vector,such as $(x_1,x_2,x_3)$ , and there is a linear model: $w^Tx+b$ with parameters of w and b, and there is a nonlinear model named sigmoid function: $\\sigma(z)=\\frac{1}{1+e^{-z}}$.\n",
    "\n",
    "**The first step:** a neuron make a matrix calculation: $w^Tx$ and add a bias value: b. Then we can get $z=w^Tx+b$.\n",
    "\n",
    "**The second step:** input z into the sigmoid activation function: $\\sigma(z)=\\frac{1}{1+e^{-z}}$, and then output the value."
   ]
  },
  {
   "cell_type": "markdown",
   "metadata": {},
   "source": [
    "<img src=\"https://ftp.bmp.ovh/imgs/2019/11/586a796fc2a72c32.png\"  height=\"150\" width=\"200\">"
   ]
  },
  {
   "cell_type": "markdown",
   "metadata": {},
   "source": [
    "####  2. Why we use non-linear activation funcitons in neural networks?"
   ]
  },
  {
   "cell_type": "markdown",
   "metadata": {},
   "source": [
    "If we choose a linear function such as $y=cx$ as activation function, we would find there are two main problems with this choice:\n",
    "\n",
    "(1) the derivative of the function is a constant.For example, in $y=cx$,derivative with respect to x is c, which means the gradient has no relationship with x and is a constant. If there is an error in prediction, the changes made by back propagation are not depending on the change in input $\\Delta(x)$.\n",
    "\n",
    "(2) if each layer is activated by a linear function, no matter how many layers we have, the final activation function of last layer is nothing but just a linear function of the input of first layer. That means these N layers can be replaced by a single layer and stacking layers doesn't have any meaning.\n",
    "\n",
    "However,if we choose a nonlinear activation function such as sigmoid function,  there are three main advantages :\n",
    "\n",
    "(1) stacking layers is meaningful,because combinations of nonlinear function are also nonlinear.\n",
    "\n",
    "(2) look at the image below, between X values -2 to 2,Y values is very steep, which means any changes in the value of X in that region will cause values of Y to change significantly. Therefore, it tends to bring the activations to either side of the curve, making clear distinctions on prediction.\n",
    "\n",
    "(3) unlike linear function, the output of the sigmoid function is always going to be in range(0,1) compared to (-inf,inf). \n",
    "\n",
    "<img src =\"https://s2.ax1x.com/2019/11/02/KqTWm4.png\" height=\"150\" width=\"200\">\n"
   ]
  },
  {
   "cell_type": "markdown",
   "metadata": {},
   "source": [
    "#### 3. What is the 'Logistic Loss' ?"
   ]
  },
  {
   "cell_type": "markdown",
   "metadata": {},
   "source": [
    "### <center>The formula of Logistic Loss</center>\n",
    "\n",
    "The loss function of logistic regression is called Logistic Loss. We use the formula below to calculate the logistic loss of one sample: \n",
    "\n",
    "<img src=\"https://s2.ax1x.com/2019/11/02/KLPxsJ.png\" height=\"150\" width=\"200\">\n",
    "\n",
    "<img src=\"https://s2.ax1x.com/2019/11/02/KqXJED.png\" height=\"200\" width=\"300\">\n",
    "\n",
    "If y=1, when prediction=1,the cost=0, when prediction=0, the learning algorithm is punished by a very large cost. Similarly, if y=0, predicting 0 has no punishment but predicting 1 has a large value of cost.\n",
    "\n",
    "<img src=\"https://s2.ax1x.com/2019/11/02/KqxJET.png\" height=\"200\" width=\"300\">\n",
    "\n",
    "And although we are looking at the loss function by y=1 and y=0 seperately, it can be written as one single formula:\n",
    "\n",
    "<img src=\"https://s2.ax1x.com/2019/11/02/KLC07q.png\" height=\"250\" width=\"350\">\n",
    "\n",
    "So the cost function of the model is the summation from all training samples:\n",
    "\n",
    "<img src=\"https://s2.ax1x.com/2019/11/02/KLCo4K.png\" height=\"250\" width=\"350\">\n",
    "\n",
    "### <center> Why is Logistic Loss</center>\n",
    "\n",
    "(1) Linear regression uses Least Squared Error as loss function, but Least Squared Error is not an option for logistic regression since this loss function will result in a non-convex graph with local minimums by calcalating with sigmoid function.\n",
    "\n",
    "<img src=\"https://s2.ax1x.com/2019/11/02/KLC3AP.md.png\" height=\"250\" width=\"350\">\n",
    "\n",
    "(2) Logistic loss can assign more punishment when predicting 1 while the actual is 0 and when predict 0 while the actual is 1."
   ]
  },
  {
   "cell_type": "markdown",
   "metadata": {},
   "source": [
    "#### 4. Assume that you are building a binary classifier for detecting if an image containing cats, which activation functions would you recommen using for the output layer ?\n",
    "\n",
    "A. ReLU    \n",
    "B. Leaky ReLU    \n",
    "C. sigmoid    \n",
    "D. tanh  "
   ]
  },
  {
   "cell_type": "markdown",
   "metadata": {},
   "source": [
    "I choose C: sigmoid.\n",
    "\n",
    "I recommend using sigmoid function for the output layer,because the output of it is in range(0,1) which can be regarded as the probability of the category we want to predict.\n",
    "\n",
    "The sigmoid functions works well for a classifier.Let's look at the curve of sigmoid function, the value of $h_\\theta(x)$ is 0.5 when x=0. Therefore we can set rules for our classifier,such as: if the output is larger than or equal to 0.5, predict 1; if the output is smaller than 0.5, predict 0. \n",
    "\n",
    "The tanh function is bound to range(-1,1) and relu function gives an output x if x is possitive and 0 otherwise. Their outputs are not so convenient for classifying directly."
   ]
  },
  {
   "cell_type": "markdown",
   "metadata": {},
   "source": [
    "#### 5. Why we don't use zero initialization for all parameters ?"
   ]
  },
  {
   "cell_type": "markdown",
   "metadata": {},
   "source": [
    "If we use zero initialization for all parameters then every hidden unit will get zero independent of the input. So, when all the hidden neurons start with the zero weights, then all of them will follow the same gradient and it affects only the scale of the weight vector, not the direction.\n",
    "\n",
    "Also, having zero weights to start with will prevent the network from learning. The errors backpropagated through the network is proportional to the value of the weights. If all the weights are the same, then the backpropagated errors will be the same, and consequently, all of the weights will be updated by the same amount.\n",
    "\n",
    "So all of the neurons will end up with the same value and it will be no different that having just one neuron in the hidden layer. Because of this, our network will end up learning just one function while the goal of a neural network is to have different neurons compute different functions. This is called the \"Symmetry Problem.\"\n",
    "\n",
    "In order to avoid the \"Symmetry Problem\", we initialize the weights randomly."
   ]
  },
  {
   "cell_type": "markdown",
   "metadata": {},
   "source": [
    "#### 6. Can you implement the softmax function using python ? "
   ]
  },
  {
   "cell_type": "markdown",
   "metadata": {},
   "source": [
    "Softmax function is generally used for output layer for multi-classifier in neural networks. \n",
    "\n",
    "Assuming that in a multi-classification problem, we need to classifier the dataset into C categories. One training sample is $x=(x_1,x_2,...,x_n)$ which has n features. \n",
    "\n",
    "If the weight vector of the class c (c=1,2,...C) is $w_c$, then the probability of x be predicted as class c is: \n",
    "\n",
    "<img src=\"https://s2.ax1x.com/2019/11/02/KLenc6.png\" height=\"200\" width=\"300\">\n",
    "\n",
    "Therefore, we can get C probabilities: $p_1,p_2,...,p_C$ corresponding to C catetories, and if $p_3$ is the maximum, then we predict x is in the third class.\n",
    "\n",
    "Python code:"
   ]
  },
  {
   "cell_type": "code",
   "execution_count": 3,
   "metadata": {},
   "outputs": [
    {
     "data": {
      "text/plain": [
       "array([0.00213159, 0.11638064, 0.01575041, 0.00579425, 0.85994311])"
      ]
     },
     "execution_count": 3,
     "metadata": {},
     "output_type": "execute_result"
    }
   ],
   "source": [
    "import numpy as np\n",
    "\n",
    "def softmax(x):\n",
    "    \"\"\"\n",
    "    :x: x is not the sample,but the product of \n",
    "        sample and weight value.\n",
    "    \"\"\"\n",
    "    exp_x = np.exp(x)\n",
    "    return exp_x / np.sum(exp_x)\n",
    "\n",
    "softmax([1,5,3,2,7])"
   ]
  },
  {
   "cell_type": "code",
   "execution_count": 4,
   "metadata": {},
   "outputs": [
    {
     "data": {
      "text/plain": [
       "array([0.00213159, 0.11638064, 0.01575041, 0.00579425, 0.85994311])"
      ]
     },
     "execution_count": 4,
     "metadata": {},
     "output_type": "execute_result"
    }
   ],
   "source": [
    "def softmax_max(x):\n",
    "    \"\"\"\n",
    "    according to another formula\n",
    "    \"\"\"\n",
    "    x = x - np.max(x)\n",
    "    exp_x = np.exp(x)\n",
    "    return exp_x / np.sum(exp_x)\n",
    "\n",
    "softmax_max([1,5,3,2,7])"
   ]
  },
  {
   "cell_type": "markdown",
   "metadata": {},
   "source": [
    "### 3.实践题"
   ]
  },
  {
   "cell_type": "markdown",
   "metadata": {},
   "source": [
    "#### In this practical part, you will build a simple digits recognizer to check if the digit in the image is larger than 5. This assignmnet will guide you step by step to finish your first small project in this course ."
   ]
  },
  {
   "cell_type": "markdown",
   "metadata": {},
   "source": [
    "#### 1 - Packages  \n",
    "sklearn is a famous package for machine learning.   \n",
    "matplotlib is a common package for vasualization."
   ]
  },
  {
   "cell_type": "code",
   "execution_count": 4,
   "metadata": {},
   "outputs": [],
   "source": [
    "import numpy as np\n",
    "from sklearn import datasets\n",
    "import matplotlib.pyplot as plt\n",
    "from sklearn.model_selection import train_test_split"
   ]
  },
  {
   "cell_type": "markdown",
   "metadata": {},
   "source": [
    "#### 2 - Overvie of the dataset  \n",
    "    - a training set has m_train images labeled as 0 if the digit < 5 or 1 if the digit >= 5\n",
    "    - a test set contains m_test images labels as if the digit < 5 or 1 if the digit >= 5\n",
    "    - eah image if of shape (num_px, num_px ). Thus, each image is square(height=num_px and  width = num_px)"
   ]
  },
  {
   "cell_type": "code",
   "execution_count": 5,
   "metadata": {},
   "outputs": [],
   "source": [
    "# Loading the data \n",
    "digits = datasets.load_digits()"
   ]
  },
  {
   "cell_type": "code",
   "execution_count": 6,
   "metadata": {},
   "outputs": [
    {
     "data": {
      "image/png": "[encoded data removed]",
      "text/plain": [
       "<Figure size 432x288 with 10 Axes>"
      ]
     },
     "metadata": {},
     "output_type": "display_data"
    }
   ],
   "source": [
    "# Vilizating the data\n",
    "for i in range(1,11):\n",
    "    plt.subplot(2,5,i)\n",
    "    plt.imshow(digits.data[i-1].reshape([8,8]),cmap=plt.cm.gray_r)\n",
    "    plt.text(3,10,str(digits.target[i-1]))\n",
    "    plt.xticks([])\n",
    "    plt.yticks([])\n",
    "plt.show()"
   ]
  },
  {
   "cell_type": "code",
   "execution_count": 7,
   "metadata": {},
   "outputs": [],
   "source": [
    "# Split the data into training set and test set \n",
    "X_train, X_test, y_train, y_test = train_test_split(digits.data, digits.target, test_size=0.25)"
   ]
  },
  {
   "cell_type": "code",
   "execution_count": 8,
   "metadata": {},
   "outputs": [],
   "source": [
    "# reformulate the label. \n",
    "# If the digit is smaller than 5, the label is 0.\n",
    "# If the digit is larger than 5, the label is 1.\n",
    "\n",
    "y_train[y_train < 5 ] = 0\n",
    "y_train[y_train >= 5] = 1\n",
    "y_test[y_test < 5] = 0\n",
    "y_test[y_test >= 5] = 1"
   ]
  },
  {
   "cell_type": "code",
   "execution_count": 9,
   "metadata": {},
   "outputs": [
    {
     "name": "stdout",
     "output_type": "stream",
     "text": [
      "(1347, 64)\n",
      "(450, 64)\n",
      "(1347,)\n",
      "(450,)\n"
     ]
    }
   ],
   "source": [
    "print(X_train.shape)\n",
    "print(X_test.shape)\n",
    "print(y_train.shape)\n",
    "print(y_test.shape)"
   ]
  },
  {
   "cell_type": "markdown",
   "metadata": {},
   "source": [
    "#### 3- Architecture of the neural network"
   ]
  },
  {
   "cell_type": "markdown",
   "metadata": {},
   "source": [
    "![title](network.png)"
   ]
  },
  {
   "cell_type": "code",
   "execution_count": 10,
   "metadata": {},
   "outputs": [
    {
     "name": "stdout",
     "output_type": "stream",
     "text": [
      "/home/msg/nlp第五期课程/2019-autumn/nlp_course_assignment/第4次课作业\r\n"
     ]
    }
   ],
   "source": [
    "!pwd"
   ]
  },
  {
   "cell_type": "markdown",
   "metadata": {},
   "source": [
    "##### Mathematical expression of the algorithm:"
   ]
  },
  {
   "cell_type": "markdown",
   "metadata": {},
   "source": [
    "For one example $x^{(i)}$:   \n",
    " $$ z^{(i)} = w^T * x^{(i)} +b $$   \n",
    " $$ a^{(i)} = sigmoid(z^{(i)})$$   \n",
    " $$L(a^{(i)},y^{(i)}) = -y^{(i)} log(a^{(i)})-(1-y^{(i)})log(1-a^{(i)})$$"
   ]
  },
  {
   "cell_type": "markdown",
   "metadata": {},
   "source": [
    "The total cost over all training examples:\n",
    "$$ J = \\frac{1}{m}\\sum_{i=1}^{m}L(a^{(i)},y^{(i)}) $$"
   ]
  },
  {
   "cell_type": "markdown",
   "metadata": {},
   "source": [
    "#### 4 - Building the algorithm"
   ]
  },
  {
   "cell_type": "markdown",
   "metadata": {},
   "source": [
    "##### 4.1- Activation function    \n",
    "###### Exercise:\n",
    "Finish the sigmoid funciton "
   ]
  },
  {
   "cell_type": "code",
   "execution_count": 11,
   "metadata": {},
   "outputs": [],
   "source": [
    "\"\"\"\n",
    "输入为标量或者任意维度的numpy数组，要得到所有数字的sigmoid；\n",
    "就分为标量和数组两种情况考虑，判断输入为标量时直接返回sigmoid；\n",
    "判断输入为数组时，用递归来做，递归的终止条件设定为z是一维数组。\n",
    "\"\"\"\n",
    "\n",
    "def sigmoid(z):\n",
    "    '''\n",
    "    Compute the sigmoid of z.\n",
    "    ------------------------\n",
    "    z: input, a scalar or numpy array of any size.\n",
    "    s: return, sigmoid(z)\n",
    "    -----------------------\n",
    "    '''\n",
    "    \n",
    "    def sigmoid_one(z_i):\n",
    "        sigmoid = 1./ (1 + np.exp(-z_i))\n",
    "        return round(sigmoid,8)\n",
    "    \n",
    "    if isinstance(z,(int,float)):\n",
    "        s = sigmoid_one(z)\n",
    "      \n",
    "    elif isinstance(z,np.ndarray):   \n",
    "        if z.ndim == 1:\n",
    "            s = list(map(sigmoid_one,z))\n",
    "        else:\n",
    "            s = []\n",
    "            for i in range(z.shape[:-1][0]):\n",
    "                s.append(sigmoid(z[i]))\n",
    "    \n",
    "    return s"
   ]
  },
  {
   "cell_type": "code",
   "execution_count": 12,
   "metadata": {
    "scrolled": true
   },
   "outputs": [
    {
     "name": "stdout",
     "output_type": "stream",
     "text": [
      "sigmoid([0,2]) = [0.5, 0.88079708]\n"
     ]
    }
   ],
   "source": [
    "\"\"\"\n",
    "Test your code \n",
    "The result should be [0.5 0.88079708]\n",
    "\"\"\"\n",
    "print(\"sigmoid([0,2]) = \" + str(sigmoid(np.array([0,2]))))"
   ]
  },
  {
   "cell_type": "code",
   "execution_count": 13,
   "metadata": {},
   "outputs": [
    {
     "data": {
      "text/plain": [
       "array([[[7, 2, 5, 2],\n",
       "        [5, 2, 3, 0],\n",
       "        [8, 6, 0, 5]],\n",
       "\n",
       "       [[5, 8, 3, 5],\n",
       "        [9, 3, 2, 7],\n",
       "        [6, 2, 2, 0]]])"
      ]
     },
     "execution_count": 13,
     "metadata": {},
     "output_type": "execute_result"
    }
   ],
   "source": [
    "test_sigmoid = np.random.randint(10,size=(2,3,4))\n",
    "test_sigmoid"
   ]
  },
  {
   "cell_type": "code",
   "execution_count": 14,
   "metadata": {},
   "outputs": [
    {
     "name": "stdout",
     "output_type": "stream",
     "text": [
      "[[[0.99908895, 0.88079708, 0.99330715, 0.88079708],\n",
      "  [0.99330715, 0.88079708, 0.95257413, 0.5],\n",
      "  [0.99966465, 0.99752738, 0.5, 0.99330715]],\n",
      " [[0.99330715, 0.99966465, 0.95257413, 0.99330715],\n",
      "  [0.99987661, 0.95257413, 0.88079708, 0.99908895],\n",
      "  [0.99752738, 0.88079708, 0.88079708, 0.5]]]\n"
     ]
    }
   ],
   "source": [
    "from pprint import pprint\n",
    "pprint(sigmoid(test_sigmoid))"
   ]
  },
  {
   "cell_type": "markdown",
   "metadata": {},
   "source": [
    "##### 4.1-Initializaing parameters\n",
    "###### Exercise:\n",
    "Finishe the initialize_parameters function below"
   ]
  },
  {
   "cell_type": "code",
   "execution_count": 15,
   "metadata": {},
   "outputs": [],
   "source": [
    "\"\"\"\n",
    "Random innitialize the parameters\n",
    "这里的w和b都是指一个神经元上的参数，而不是整个隐藏层的参数\n",
    "所以w的维度是(dim,1),dim是上一层的神经元个数。\n",
    "\"\"\"\n",
    "import random\n",
    "\n",
    "def initialize_parameters(dim):\n",
    "    '''\n",
    "    Argument: \n",
    "    dim -- size of the w vector\n",
    "    \n",
    "    Returns:\n",
    "    w -- initialized vector of shape (dim,1)\n",
    "    b -- initializaed scalar\n",
    "    '''\n",
    "    \n",
    "    w = np.random.randn(dim,1)\n",
    "    b = random.random()\n",
    "    \n",
    "    assert(w.shape == (dim,1))\n",
    "    assert(isinstance(b,(int,float)))\n",
    "    \n",
    "    return w,b"
   ]
  },
  {
   "cell_type": "code",
   "execution_count": 16,
   "metadata": {},
   "outputs": [
    {
     "name": "stdout",
     "output_type": "stream",
     "text": [
      "[[ 0.0216597 ]\n",
      " [ 0.34063383]\n",
      " [ 0.06671504]\n",
      " [-0.23358625]\n",
      " [ 1.34047174]\n",
      " [-0.54998018]\n",
      " [-0.68933264]\n",
      " [-0.62369588]\n",
      " [-0.01751757]\n",
      " [ 2.16023216]]\n",
      "\n",
      "0.7221905177789257\n"
     ]
    }
   ],
   "source": [
    "w,b = initialize_parameters(10)\n",
    "print(w)\n",
    "print()\n",
    "print(b)"
   ]
  },
  {
   "cell_type": "markdown",
   "metadata": {},
   "source": [
    "#### 4.3-Forward and backward propagation"
   ]
  },
  {
   "cell_type": "markdown",
   "metadata": {},
   "source": [
    "###### Some mathematical expressions\n",
    "Forward Propagation:   \n",
    ". X    \n",
    ". A = $\\sigma(w^T*X+b) = (a^{(1)},a^{(2)},...,a^{(m)}$   \n",
    ". J = $-\\frac{1}{m} \\sum_{i=1}^{m}y^{(i)}log(a^{(i)}+(1-y^{(i)})log(1-a^{(i)})$       "
   ]
  },
  {
   "cell_type": "markdown",
   "metadata": {},
   "source": [
    "Some derivative: \n",
    "$$\\frac{\\partial{J}}{\\partial{w}} = \\frac{1}{m}X*(A-Y)^T$$   \n",
    "$$\\frac{\\partial{J}}{\\partial{b}} = \\frac{1}{m}\\sum_{i=1}^m(a^{(i)}-y^{(i)}) $$"
   ]
  },
  {
   "cell_type": "markdown",
   "metadata": {},
   "source": [
    "###### Exercise:\n",
    "Finish the function below:"
   ]
  },
  {
   "cell_type": "code",
   "execution_count": 17,
   "metadata": {},
   "outputs": [],
   "source": [
    "\"\"\"\n",
    "X是batch-size个样本，所以维度为(batch-size,d),d是特征维度\n",
    "w，b是一个神经元上的参数;\n",
    "计算cost时，由于a等于0或者1时，log(a)或log(1-a)是 -inf，导致cost为nan\n",
    "所以把A中的0和1去掉，再计算cost。\n",
    "在原作业代码里，m=X.shape[1]，可是对比上面的X_train的维度(1647,64),\n",
    "样本的个数m应该是X.shape[0],所以做了修改。\n",
    "\"\"\"\n",
    "\n",
    "def propagate(w,b,X,Y):\n",
    "    '''\n",
    "    Implement the cost function and its gradient for the propagation\n",
    "    \n",
    "    Arguments:\n",
    "    w - weights\n",
    "    b - bias\n",
    "    X - data\n",
    "    Y - ground truth\n",
    "    '''\n",
    "    m = X.shape[0]\n",
    "    A = np.squeeze(sigmoid(np.dot(X,w)-b))\n",
    "    \n",
    "    '''把A中的0和1去掉，再计算cost'''\n",
    "    cost = - np.mean([y*np.log(a) + (1-y)*np.log(1-a) for y,a in zip(Y,A) if a*(1-a) != 0])\n",
    "    cost = round(cost,8)\n",
    "    \n",
    "    dw = (1/m * np.dot(X.T,(A-Y))).reshape(-1,1)\n",
    "    db = np.mean(A - Y)\n",
    "    \n",
    "    assert(dw.shape == w.shape)\n",
    "    assert(db.dtype == float)\n",
    "    cost = np.squeeze(cost)\n",
    "    assert(cost.shape == ())\n",
    "    \n",
    "    grads = {'dw':dw,\n",
    "             'db':db}\n",
    "    return grads, cost"
   ]
  },
  {
   "cell_type": "code",
   "execution_count": 18,
   "metadata": {},
   "outputs": [
    {
     "name": "stdout",
     "output_type": "stream",
     "text": [
      "Gradient: \n",
      "{'dw': array([[ 0.00000000e+00],\n",
      "       [-2.75696547e-02],\n",
      "       [-1.15806168e+00],\n",
      "       [-3.54435047e+00],\n",
      "       [-4.14531741e+00],\n",
      "       [-2.76850372e+00],\n",
      "       [-9.29425074e-01],\n",
      "       [-8.54489389e-02],\n",
      "       [-1.47900855e-03],\n",
      "       [-2.01558673e-01],\n",
      "       [-3.10227969e+00],\n",
      "       [-3.68809090e+00],\n",
      "       [-2.38033716e+00],\n",
      "       [-2.93869507e+00],\n",
      "       [-1.00186706e+00],\n",
      "       [-5.55979429e-02],\n",
      "       [ 2.22702131e-03],\n",
      "       [-5.31274918e-01],\n",
      "       [-3.50613302e+00],\n",
      "       [-1.66502640e+00],\n",
      "       [-7.13186223e-01],\n",
      "       [-2.81136145e+00],\n",
      "       [-6.73019803e-01],\n",
      "       [-1.00652362e-02],\n",
      "       [ 1.48478091e-03],\n",
      "       [-6.91813780e-01],\n",
      "       [-3.80739644e+00],\n",
      "       [-3.34343604e+00],\n",
      "       [-2.79057605e+00],\n",
      "       [-3.20539771e+00],\n",
      "       [-8.66157988e-01],\n",
      "       [ 5.71863400e-08],\n",
      "       [ 0.00000000e+00],\n",
      "       [-6.07101819e-01],\n",
      "       [-3.36514022e+00],\n",
      "       [-3.69403845e+00],\n",
      "       [-3.20805669e+00],\n",
      "       [-3.57048886e+00],\n",
      "       [-1.35024529e+00],\n",
      "       [ 0.00000000e+00],\n",
      "       [ 0.00000000e+00],\n",
      "       [-3.68676767e-01],\n",
      "       [-2.51546898e+00],\n",
      "       [-2.35784879e+00],\n",
      "       [-2.27395489e+00],\n",
      "       [-2.55308019e+00],\n",
      "       [-1.61390555e+00],\n",
      "       [-2.74693941e-02],\n",
      "       [ 0.00000000e+00],\n",
      "       [-1.15935257e-01],\n",
      "       [-2.04719159e+00],\n",
      "       [-2.91896668e+00],\n",
      "       [-1.86812503e+00],\n",
      "       [-1.99318856e+00],\n",
      "       [-1.18013392e+00],\n",
      "       [-6.54705122e-05],\n",
      "       [ 0.00000000e+00],\n",
      "       [-2.71775905e-02],\n",
      "       [-1.34979752e+00],\n",
      "       [-3.56928271e+00],\n",
      "       [-2.96080672e+00],\n",
      "       [-1.71306295e+00],\n",
      "       [-1.40902434e-01],\n",
      "       [ 1.64484845e-01]]), 'db': -0.31070370463994057}\n"
     ]
    }
   ],
   "source": [
    "\"\"\"\n",
    "用训练数据测试一下计算损失和梯度的函数\n",
    "\"\"\"\n",
    "w,b = initialize_parameters(64)\n",
    "grads, cost = propagate(w, b, X_train, y_train)\n",
    "print(\"Gradient: \\n{}\".format(grads))"
   ]
  },
  {
   "cell_type": "code",
   "execution_count": 19,
   "metadata": {},
   "outputs": [
    {
     "name": "stdout",
     "output_type": "stream",
     "text": [
      "Cost: \n",
      "5.25657615\n"
     ]
    }
   ],
   "source": [
    "print(\"Cost: \\n{}\".format(cost))"
   ]
  },
  {
   "cell_type": "markdown",
   "metadata": {},
   "source": [
    "##### 4.4 -Optimization"
   ]
  },
  {
   "cell_type": "markdown",
   "metadata": {},
   "source": [
    "###### Exercise:\n",
    "Minimizing the cost function using gradient descent.   \n",
    "$$\\theta = \\theta - \\alpha*d\\theta$$ where $\\alpha$ is the learning rate."
   ]
  },
  {
   "cell_type": "code",
   "execution_count": 20,
   "metadata": {},
   "outputs": [],
   "source": [
    "def optimize(w, b, X, Y, num_iterations, learning_rate, print_cost=False):\n",
    "    '''\n",
    "    This function optimize w and b by running a gradient descen algorithm\n",
    "    \n",
    "    Arguments:\n",
    "    w - weights\n",
    "    b - bias\n",
    "    X - data\n",
    "    Y - ground truth\n",
    "    num_iterations -- number of iterations of the optimization loop\n",
    "    learning_rate -- learning rate of the gradient descent update rule\n",
    "    print_cost -- True to print the loss every 100 steps\n",
    "    \n",
    "    Returns:\n",
    "    params - dictionary containing the weights w and bias b\n",
    "    grads -- dictionary containing the gradients of the weights and bias with respect to the cost function\n",
    "    costs -- list of all the costs computed during the optimization, this will be used to plot the learning curve.\n",
    "    \n",
    "    '''\n",
    "    \n",
    "    costs = []\n",
    "    \n",
    "    for i in range(1,num_iterations+1):\n",
    "        \n",
    "        grads, cost = propagate(w,b,X,Y)\n",
    "        \n",
    "        dw = grads['dw']\n",
    "        db = grads['db']\n",
    "        \n",
    "        w = w - learning_rate * dw\n",
    "        b = b - learning_rate * db\n",
    "        \n",
    "        if i % 100 == 0:\n",
    "            costs.append(cost)\n",
    "        if print_cost and i % 100 == 0:\n",
    "            print (\"Cost after iteration %i: %f\" %(i, cost))\n",
    "    \n",
    "    params = {\"w\":w,\n",
    "              \"b\":b}\n",
    "    \n",
    "    grads = {\"dw\":dw,\n",
    "             \"db\":db}\n",
    "    \n",
    "    return params, grads, costs"
   ]
  },
  {
   "cell_type": "code",
   "execution_count": 21,
   "metadata": {},
   "outputs": [
    {
     "name": "stdout",
     "output_type": "stream",
     "text": [
      "Cost after iteration 100: 2.878378\n",
      "Cost after iteration 200: 2.036022\n",
      "Cost after iteration 300: 1.571014\n",
      "Cost after iteration 400: 1.281823\n",
      "Cost after iteration 500: 1.026358\n"
     ]
    }
   ],
   "source": [
    "w,b = initialize_parameters(64)\n",
    "params,grads,costs = optimize(w,b,X_train,y_train,500,1e-2,True)"
   ]
  },
  {
   "cell_type": "markdown",
   "metadata": {},
   "source": [
    "###### Exercise\n",
    "The previous function will output the learned w and b. We are able to use w and b to predict the labels for a dataset X. Implement the predict() function.    \n",
    "Two steps to finish this task:   \n",
    "1. Calculate $\\hat{Y} = A = \\sigma(w^T*X+b)$   \n",
    "2. Convert the entries of a into 0 (if activation <= 0.5) or 1 (if activation > 0.5), stores the predictions in a vector Y_prediction. If you wish, you can use an if/else statement in a for loop (though there is also a way to vectorize this)."
   ]
  },
  {
   "cell_type": "code",
   "execution_count": 22,
   "metadata": {},
   "outputs": [],
   "source": [
    "\"\"\"\n",
    "还是根据我们用到的数据集，对原来的代码进行了修改。\n",
    "\"\"\"\n",
    "\n",
    "def predict(w, b, X):\n",
    "    '''\n",
    "    Predict whether the label is 0 or 1 using learned logistic regression parameters (w, b)\n",
    "    \n",
    "    Arguments:\n",
    "    w -- weights\n",
    "    b -- bias \n",
    "    X -- data \n",
    "    \n",
    "    Returns:\n",
    "    Y_prediction -- a numpy array (vector) containing all predictions (0/1) for the examples in X\n",
    "    '''\n",
    "    m = X.shape[0]\n",
    "    Y_prediction = np.zeros((1,m))\n",
    "    \n",
    "    A = np.squeeze(sigmoid(np.dot(X,w)+b))\n",
    "    \n",
    "    '''逻辑回归得到的概率大于0.5，就判定label为1，否则为0'''\n",
    "    A_map = list(map(lambda x:1 if x>0.5 else 0,A)) \n",
    "    \n",
    "    Y_prediction = np.array(A_map).reshape(1,-1)\n",
    "    \n",
    "    assert(Y_prediction.shape == (1,m))\n",
    "    \n",
    "    return Y_prediction"
   ]
  },
  {
   "cell_type": "code",
   "execution_count": 23,
   "metadata": {},
   "outputs": [],
   "source": [
    "w,b = params[\"w\"],params[\"b\"]"
   ]
  },
  {
   "cell_type": "code",
   "execution_count": 24,
   "metadata": {},
   "outputs": [
    {
     "name": "stdout",
     "output_type": "stream",
     "text": [
      " Y predicted is [[1 1 1 ... 1 0 0]]\n"
     ]
    }
   ],
   "source": [
    "Y_prediction = predict(w,b,X_train)\n",
    "print(\" Y predicted is {}\".format(Y_prediction))"
   ]
  },
  {
   "cell_type": "markdown",
   "metadata": {},
   "source": [
    "##### 5- Merge all functions into a model"
   ]
  },
  {
   "cell_type": "markdown",
   "metadata": {},
   "source": [
    "Congratulations !! You have finished all the necessary components for constructing a model. Now, Let's take the challenge to merge all the implemented function into one model."
   ]
  },
  {
   "cell_type": "code",
   "execution_count": 25,
   "metadata": {},
   "outputs": [],
   "source": [
    "\"\"\"\n",
    "训练模型并进行预测\n",
    "\"\"\"\n",
    "\n",
    "def model(X_train, Y_train, X_test, Y_test, num_iterations, learning_rate,print_cost):\n",
    "    \"\"\"\n",
    "    Build the logistic regression model by calling all the functions you have implemented.\n",
    "    Arguments:\n",
    "    X_train - training set\n",
    "    Y_train - training label\n",
    "    X_test - test set\n",
    "    Y_test - test label\n",
    "    num_iteration - hyperparameter representing the number of iterations to optimize the parameters\n",
    "    learning_rate -- hyperparameter representing the learning rate used in the update rule of optimize()\n",
    "    print_cost -- Set to true to print the cost every 100 iterations\n",
    "    \n",
    "    Returns:\n",
    "    d - dictionary should contain following information w,b,training_accuracy, test_accuracy,cost\n",
    "    eg: d = {\"w\":w,\n",
    "             \"b\":b,\n",
    "             \"training_accuracy\": traing_accuracy,\n",
    "             \"test_accuracy\":test_accuracy,\n",
    "             \"cost\":cost}\n",
    "    \"\"\"\n",
    "    w,b = initialize_parameters(X_train.shape[1])\n",
    "    params,grads,costs = optimize(w,b,X_train,Y_train,num_iterations,learning_rate,print_cost)\n",
    "    w_best,b_best = params[\"w\"],params[\"b\"]\n",
    "    \n",
    "    def calc_acc(Y,Y_pred):\n",
    "        accuracy = np.mean([int(y==y_pred) for y,y_pred in zip(Y,Y_pred)])\n",
    "        return round(accuracy,8)\n",
    "    \n",
    "    Y_train_pred = np.squeeze(predict(w_best,b_best,X_train))\n",
    "    Y_test_pred = np.squeeze(predict(w_best,b_best,X_test))\n",
    "    \n",
    "    traing_accuracy = calc_acc(Y_train,Y_train_pred)\n",
    "    test_accuracy = calc_acc(Y_test,Y_test_pred)\n",
    "    \n",
    "    d = {\"w\":w_best,\n",
    "         \"b\":b_best,\n",
    "         \"training_accuracy\": traing_accuracy,\n",
    "         \"test_accuracy\":test_accuracy,\n",
    "         \"cost\":costs}\n",
    "    return d"
   ]
  },
  {
   "cell_type": "code",
   "execution_count": 26,
   "metadata": {},
   "outputs": [
    {
     "name": "stdout",
     "output_type": "stream",
     "text": [
      "Cost after iteration 100: 3.658237\n",
      "Cost after iteration 200: 2.943609\n",
      "Cost after iteration 300: 2.510286\n",
      "Cost after iteration 400: 2.029937\n",
      "Cost after iteration 500: 1.543466\n",
      "Cost after iteration 600: 1.246572\n",
      "Cost after iteration 700: 1.056997\n",
      "Cost after iteration 800: 0.947011\n",
      "Cost after iteration 900: 0.871605\n",
      "Cost after iteration 1000: 0.772370\n",
      "Cost after iteration 1100: 0.700878\n",
      "Cost after iteration 1200: 0.642563\n",
      "Cost after iteration 1300: 0.595416\n",
      "Cost after iteration 1400: 0.554114\n",
      "Cost after iteration 1500: 0.520330\n"
     ]
    }
   ],
   "source": [
    "result = model(X_train, y_train, X_test, y_test, 1500, 1e-2,True)"
   ]
  },
  {
   "cell_type": "code",
   "execution_count": 27,
   "metadata": {},
   "outputs": [
    {
     "name": "stdout",
     "output_type": "stream",
     "text": [
      "Training accuracy is :0.87899035\n",
      "Test accuracy is :0.87777778\n",
      "Cost of last iteration is :0.5203297\n"
     ]
    }
   ],
   "source": [
    "print(\"Training accuracy is :{}\".format(result['training_accuracy']))\n",
    "print(\"Test accuracy is :{}\".format(result['test_accuracy']))\n",
    "print(\"Cost of last iteration is :{}\".format(result['cost'][-1]))"
   ]
  },
  {
   "cell_type": "markdown",
   "metadata": {},
   "source": [
    "### 4.选做题"
   ]
  },
  {
   "cell_type": "markdown",
   "metadata": {},
   "source": [
    "Congratulations on building your first logistic regression model. It is your time to analyze it further."
   ]
  },
  {
   "cell_type": "markdown",
   "metadata": {},
   "source": [
    "##### 4.1 Observe the effect of learning rate on the leraning process.   \n",
    "Hits: plot the learning curve with different learning rate"
   ]
  },
  {
   "cell_type": "code",
   "execution_count": 35,
   "metadata": {},
   "outputs": [
    {
     "data": {
      "text/plain": [
       "array([0.01, 0.02, 0.03, 0.04, 0.05, 0.06, 0.07, 0.08, 0.09, 0.1 ])"
      ]
     },
     "execution_count": 35,
     "metadata": {},
     "output_type": "execute_result"
    }
   ],
   "source": [
    "learning_rates = np.linspace(1e-2,1e-1,10,endpoint=True)\n",
    "learning_rates"
   ]
  },
  {
   "cell_type": "code",
   "execution_count": 63,
   "metadata": {},
   "outputs": [
    {
     "data": {
      "image/png": "[encoded data removed]",
      "text/plain": [
       "<Figure size 432x288 with 10 Axes>"
      ]
     },
     "metadata": {
      "needs_background": "light"
     },
     "output_type": "display_data"
    }
   ],
   "source": [
    "\"\"\"\n",
    "从下图可以看到，当learning rate = 0.01或0.02时，\n",
    "cost的curve比较平滑，稳定地下降；\n",
    "而learning rate 增大时，cost的变化变得不稳定，\n",
    "所以learning rate 不能取太大。\n",
    "\"\"\"\n",
    "for i,rate in enumerate(learning_rates):\n",
    "    plt.subplot(5,2,i+1)\n",
    "    result = model(X_train, y_train, X_test, y_test,1500,rate,False)\n",
    "    costs = result['cost']\n",
    "    iterations = list(range(1,1500//100+1))\n",
    "    \n",
    "    plt.plot(iterations,costs,color='red')\n",
    "    \n",
    "    plt.ylabel(\"cost\")\n",
    "    plt.xticks(iterations)\n",
    "plt.show()"
   ]
  },
  {
   "cell_type": "markdown",
   "metadata": {},
   "source": [
    "##### 4.2 Observe the effect of iteration_num on the test accuracy."
   ]
  },
  {
   "cell_type": "code",
   "execution_count": 30,
   "metadata": {},
   "outputs": [
    {
     "name": "stdout",
     "output_type": "stream",
     "text": [
      "When iteration is 200 \n",
      "Test accuracy is 0.75777778.\n",
      "\n",
      "When iteration is 300 \n",
      "Test accuracy is 0.84444444.\n",
      "\n",
      "When iteration is 400 \n",
      "Test accuracy is 0.81333333.\n",
      "\n",
      "When iteration is 500 \n",
      "Test accuracy is 0.77333333.\n",
      "\n",
      "When iteration is 600 \n",
      "Test accuracy is 0.81777778.\n",
      "\n",
      "When iteration is 700 \n",
      "Test accuracy is 0.84444444.\n",
      "\n",
      "When iteration is 800 \n",
      "Test accuracy is 0.83111111.\n",
      "\n",
      "When iteration is 900 \n",
      "Test accuracy is 0.85333333.\n",
      "\n",
      "When iteration is 1000 \n",
      "Test accuracy is 0.85777778.\n",
      "\n",
      "When iteration is 1100 \n",
      "Test accuracy is 0.83333333.\n",
      "\n",
      "When iteration is 1200 \n",
      "Test accuracy is 0.86222222.\n",
      "\n",
      "When iteration is 1300 \n",
      "Test accuracy is 0.83555556.\n",
      "\n",
      "When iteration is 1400 \n",
      "Test accuracy is 0.84444444.\n",
      "\n",
      "When iteration is 1500 \n",
      "Test accuracy is 0.85111111.\n",
      "\n",
      "When iteration is 1600 \n",
      "Test accuracy is 0.86888889.\n",
      "\n",
      "When iteration is 1700 \n",
      "Test accuracy is 0.85333333.\n",
      "\n",
      "When iteration is 1800 \n",
      "Test accuracy is 0.85111111.\n",
      "\n",
      "When iteration is 1900 \n",
      "Test accuracy is 0.83777778.\n",
      "\n",
      "When iteration is 2000 \n",
      "Test accuracy is 0.86666667.\n",
      "\n"
     ]
    }
   ],
   "source": [
    "iteration_list = list(range(200,2100,100))\n",
    "\n",
    "test_acc_list = []\n",
    "for iteration in iteration_list:\n",
    "    result = model(X_train, y_train, X_test, y_test, iteration, 1e-2,False)\n",
    "    test_acc = result['test_accuracy']\n",
    "    print(\"When iteration is {} \\nTest accuracy is {}.\\n\".format(iteration,test_acc))\n",
    "    test_acc_list.append(test_acc)"
   ]
  },
  {
   "cell_type": "code",
   "execution_count": 38,
   "metadata": {},
   "outputs": [
    {
     "data": {
      "image/png": "[encoded data removed]",
      "text/plain": [
       "<Figure size 432x288 with 1 Axes>"
      ]
     },
     "metadata": {
      "needs_background": "light"
     },
     "output_type": "display_data"
    }
   ],
   "source": [
    "plt.plot(iteration_list,test_acc_list,color='blue')\n",
    "plt.xlabel(\"iteration\")\n",
    "plt.ylabel(\"test_accuracy\")\n",
    "\n",
    "plt.xticks(iteration_list)\n",
    "plt.show()"
   ]
  },
  {
   "cell_type": "markdown",
   "metadata": {},
   "source": [
    "# Challenge ! ! !\n",
    "\n",
    "The original data have images labeled 0,1,2,3,4,5,6,7,8,9. In our logistic model, we only detect if the digit in the image is larger or smaller than 5. Now, Let's go for a more challenging problem. Try to use softmax function to build a model to recognize which digits (0,1,2,3,4,5,6,7,8,9) is in the image."
   ]
  },
  {
   "cell_type": "markdown",
   "metadata": {},
   "source": [
    "# Congratulations ! You have completed assigment 4. "
   ]
  }
 ],
 "metadata": {
  "kernelspec": {
   "display_name": "Python 3",
   "language": "python",
   "name": "python3"
  },
  "language_info": {
   "codemirror_mode": {
    "name": "ipython",
    "version": 3
   },
   "file_extension": ".py",
   "mimetype": "text/x-python",
   "name": "python",
   "nbconvert_exporter": "python",
   "pygments_lexer": "ipython3",
   "version": "3.6.2"
  }
 },
 "nbformat": 4,
 "nbformat_minor": 2
}
