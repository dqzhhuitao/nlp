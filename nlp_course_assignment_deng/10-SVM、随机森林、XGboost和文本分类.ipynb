{
 "cells": [
  {
   "cell_type": "markdown",
   "metadata": {},
   "source": [
    "# Assignment 10"
   ]
  },
  {
   "cell_type": "markdown",
   "metadata": {},
   "source": [
    "### 1.复习上课内容"
   ]
  },
  {
   "cell_type": "markdown",
   "metadata": {},
   "source": [
    "### 2. 回答一下理论题目"
   ]
  },
  {
   "cell_type": "markdown",
   "metadata": {},
   "source": [
    "#### 1. What is independent assumption in Naive bayes ?"
   ]
  },
  {
   "cell_type": "markdown",
   "metadata": {},
   "source": [
    "Naive bayes provides a way of calculating the posterior probability, $P(c|x)$, from $P(c)$, $P(x)$, and $P(x|c)$. Naive Bayes classifier assume that the effect of the value of a feature($x_1$) on a given class (c) is independent of the values of other features$(x_2,x_3,..x_n)$. This assumption is called class conditional independence.\n",
    "\n",
    "In other words,naive bayes (NB) is ‘naive’ because it makes the assumption that features of a measurement are independent of each other. This is naive because it is (almost) never true."
   ]
  },
  {
   "cell_type": "markdown",
   "metadata": {},
   "source": [
    "#### 2. What is MAP(maximum a posterior) and ML(maximum likelihood) ?"
   ]
  },
  {
   "cell_type": "markdown",
   "metadata": {},
   "source": [
    "MLE(Maximum Likelihood Estimation ) and MAP(Maximum A Posteriori), are both a method for estimating some variable in the setting of probability distributions.\n",
    "\n",
    "**What is MLE?**\n",
    "\n",
    "Assume we have a likelihood function P(X|θ). Then, the MLE for θ, the parameter we want to infer, is:\n",
    "<img src='https://i.loli.net/2019/12/09/YNJzCxpiWLESMIj.png' width=200 height=200>\n",
    "\n",
    "we just need to derive the log likelihood of our model, then maximizing it with regard of θ using our favorite optimization algorithm like Gradient Descent.\n",
    "\n",
    "**What is MAP**\n",
    "\n",
    "MAP usually comes up in Bayesian framework as it works on a posterior distribution, not only the likelihood.\n",
    "\n",
    "If we replace the likelihood in the MLE formula above with the posterior P(θ), we get:\n",
    "<img src=https://i.loli.net/2019/12/09/cqIrnHMJbYpLsVo.png width=200 height=200>\n",
    "\n",
    "the only thing differs is the inclusion of prior P(θ) in MAP, otherwise they are identical."
   ]
  },
  {
   "cell_type": "markdown",
   "metadata": {},
   "source": [
    "#### 3. What is support vector in SVM?"
   ]
  },
  {
   "cell_type": "markdown",
   "metadata": {},
   "source": [
    "Support vectors are data points that are closer to the hyperplane and influence the position and orientation of the hyperplane. \n",
    "\n",
    "Using these support vectors, we maximize the margin of the classifier. "
   ]
  },
  {
   "cell_type": "markdown",
   "metadata": {},
   "source": [
    "#### 4. What is the intuition behind SVM ?"
   ]
  },
  {
   "cell_type": "markdown",
   "metadata": {},
   "source": [
    "The objective of the support vector machine algorithm is to find a hyperplane in an N-dimensional space(N — the number of features) that distinctly classifies the data points.\n",
    "\n",
    "To separate the two classes of data points, there are many possible hyperplanes that could be chosen. Our objective is to find a plane that has the maximum margin, i.e the maximum distance between data points of both classes. Maximizing the margin distance provides some reinforcement so that future data points can be classified with more confidence."
   ]
  },
  {
   "cell_type": "markdown",
   "metadata": {},
   "source": [
    "#### 5. Shortly describ what 'random' means in random forest ?"
   ]
  },
  {
   "cell_type": "markdown",
   "metadata": {},
   "source": [
    "1、Random samples(Bootstrapping): sampling random sets of observations with replacement.\n",
    "\n",
    "2、Random subsets of features: selecting a random set of the features when considering splits for each node in a decision tree."
   ]
  },
  {
   "cell_type": "markdown",
   "metadata": {},
   "source": [
    "#### 6. What cariterion does XGBoost use to find the best split point in a tree ?"
   ]
  },
  {
   "cell_type": "markdown",
   "metadata": {},
   "source": [
    "The cariterion in Chen T's PPT is call 'Gain': the loss reduction after the split.\n",
    "\n",
    "<img src=\"https://s2.ax1x.com/2019/12/12/QcSI6H.png\" width=400 height=400 >\n",
    "\n",
    "\n",
    "For each feature, sorted the instances by feature value; for each value ,calculate the gain; then we choose the value with the max gain as the split point of this feature——that is what the ppt said: \"Use a linear scan to decide the best split along that feature\".\n",
    "\n",
    "Finally, take the best split solution along all the features."
   ]
  },
  {
   "cell_type": "markdown",
   "metadata": {},
   "source": [
    "### 3. Practial part"
   ]
  },
  {
   "cell_type": "markdown",
   "metadata": {},
   "source": [
    "##### Problem description: In this part you are going to build a classifier to detect if a piece of news is published by the Xinhua news agency (新华社）."
   ]
  },
  {
   "cell_type": "markdown",
   "metadata": {},
   "source": [
    "#### Hints:"
   ]
  },
  {
   "cell_type": "markdown",
   "metadata": {},
   "source": [
    "###### 1. Firstly, you have to come up with a way to represent the news. (Vectorize the sentence, you can find different ways to do so online)  "
   ]
  },
  {
   "cell_type": "markdown",
   "metadata": {},
   "source": [
    "## 基于词袋模型（词频矩阵、TFIDF、LSA和Bigram）"
   ]
  },
  {
   "cell_type": "code",
   "execution_count": 1,
   "metadata": {},
   "outputs": [],
   "source": [
    "import re,jieba\n",
    "import numpy as np\n",
    "import pandas as pd\n",
    "\n",
    "from sklearn.feature_extraction.text import CountVectorizer\n",
    "from sklearn.feature_extraction.text import TfidfVectorizer\n",
    "from sklearn.ensemble import RandomForestClassifier\n",
    "from sklearn import metrics \n",
    "from sklearn.model_selection import train_test_split"
   ]
  },
  {
   "cell_type": "markdown",
   "metadata": {},
   "source": [
    "## 第一步：准备训练数据"
   ]
  },
  {
   "cell_type": "code",
   "execution_count": 2,
   "metadata": {},
   "outputs": [
    {
     "name": "stdout",
     "output_type": "stream",
     "text": [
      "Number of news: 87052\n"
     ]
    },
    {
     "data": {
      "text/html": [
       "<div>\n",
       "<style scoped>\n",
       "    .dataframe tbody tr th:only-of-type {\n",
       "        vertical-align: middle;\n",
       "    }\n",
       "\n",
       "    .dataframe tbody tr th {\n",
       "        vertical-align: top;\n",
       "    }\n",
       "\n",
       "    .dataframe thead th {\n",
       "        text-align: right;\n",
       "    }\n",
       "</style>\n",
       "<table border=\"1\" class=\"dataframe\">\n",
       "  <thead>\n",
       "    <tr style=\"text-align: right;\">\n",
       "      <th></th>\n",
       "      <th>source</th>\n",
       "      <th>content</th>\n",
       "    </tr>\n",
       "  </thead>\n",
       "  <tbody>\n",
       "    <tr>\n",
       "      <th>0</th>\n",
       "      <td>快科技@http://www.kkj.cn/</td>\n",
       "      <td>此外，自本周（6月12日）起，除小米手机6等15款机型外，其余机型已暂停更新发布（含开发版/...</td>\n",
       "    </tr>\n",
       "    <tr>\n",
       "      <th>1</th>\n",
       "      <td>快科技@http://www.kkj.cn/</td>\n",
       "      <td>骁龙835作为唯一通过Windows 10桌面平台认证的ARM处理器，高通强调，不会因为只考...</td>\n",
       "    </tr>\n",
       "    <tr>\n",
       "      <th>2</th>\n",
       "      <td>快科技@http://www.kkj.cn/</td>\n",
       "      <td>此前的一加3T搭载的是3400mAh电池，DashCharge快充规格为5V/4A。\\r\\n...</td>\n",
       "    </tr>\n",
       "    <tr>\n",
       "      <th>3</th>\n",
       "      <td>新华社</td>\n",
       "      <td>这是6月18日在葡萄牙中部大佩德罗冈地区拍摄的被森林大火烧毁的汽车。新华社记者张立云摄\\r\\n</td>\n",
       "    </tr>\n",
       "    <tr>\n",
       "      <th>4</th>\n",
       "      <td>深圳大件事</td>\n",
       "      <td>（原标题：44岁女子跑深圳约会网友被拒，暴雨中裸身奔走……）\\r\\n@深圳交警微博称：昨日清...</td>\n",
       "    </tr>\n",
       "  </tbody>\n",
       "</table>\n",
       "</div>"
      ],
      "text/plain": [
       "                   source                                            content\n",
       "0  快科技@http://www.kkj.cn/  此外，自本周（6月12日）起，除小米手机6等15款机型外，其余机型已暂停更新发布（含开发版/...\n",
       "1  快科技@http://www.kkj.cn/  骁龙835作为唯一通过Windows 10桌面平台认证的ARM处理器，高通强调，不会因为只考...\n",
       "2  快科技@http://www.kkj.cn/  此前的一加3T搭载的是3400mAh电池，DashCharge快充规格为5V/4A。\\r\\n...\n",
       "3                     新华社    这是6月18日在葡萄牙中部大佩德罗冈地区拍摄的被森林大火烧毁的汽车。新华社记者张立云摄\\r\\n\n",
       "4                   深圳大件事  （原标题：44岁女子跑深圳约会网友被拒，暴雨中裸身奔走……）\\r\\n@深圳交警微博称：昨日清..."
      ]
     },
     "execution_count": 2,
     "metadata": {},
     "output_type": "execute_result"
    }
   ],
   "source": [
    "'''\n",
    "根据来源和内容去掉缺失值\n",
    "'''\n",
    "df_data = pd.read_csv('./zh_news.csv',encoding='gb18030')\n",
    "df_data.dropna(subset=['source','content'],inplace=True)\n",
    "df_data = df_data[['source','content']]\n",
    "print('Number of news: {}'.format(len(df_data)))\n",
    "df_data.head()"
   ]
  },
  {
   "cell_type": "code",
   "execution_count": 3,
   "metadata": {},
   "outputs": [
    {
     "name": "stdout",
     "output_type": "stream",
     "text": [
      "新华社新闻有 78661 条，其他来源的新闻有 8391 条\n"
     ]
    },
    {
     "data": {
      "text/html": [
       "<div>\n",
       "<style scoped>\n",
       "    .dataframe tbody tr th:only-of-type {\n",
       "        vertical-align: middle;\n",
       "    }\n",
       "\n",
       "    .dataframe tbody tr th {\n",
       "        vertical-align: top;\n",
       "    }\n",
       "\n",
       "    .dataframe thead th {\n",
       "        text-align: right;\n",
       "    }\n",
       "</style>\n",
       "<table border=\"1\" class=\"dataframe\">\n",
       "  <thead>\n",
       "    <tr style=\"text-align: right;\">\n",
       "      <th></th>\n",
       "      <th>source</th>\n",
       "      <th>content</th>\n",
       "      <th>flag</th>\n",
       "    </tr>\n",
       "  </thead>\n",
       "  <tbody>\n",
       "    <tr>\n",
       "      <th>0</th>\n",
       "      <td>快科技@http://www.kkj.cn/</td>\n",
       "      <td>此外，自本周（6月12日）起，除小米手机6等15款机型外，其余机型已暂停更新发布（含开发版/...</td>\n",
       "      <td>0</td>\n",
       "    </tr>\n",
       "    <tr>\n",
       "      <th>1</th>\n",
       "      <td>快科技@http://www.kkj.cn/</td>\n",
       "      <td>骁龙835作为唯一通过Windows 10桌面平台认证的ARM处理器，高通强调，不会因为只考...</td>\n",
       "      <td>0</td>\n",
       "    </tr>\n",
       "    <tr>\n",
       "      <th>2</th>\n",
       "      <td>快科技@http://www.kkj.cn/</td>\n",
       "      <td>此前的一加3T搭载的是3400mAh电池，DashCharge快充规格为5V/4A。\\r\\n...</td>\n",
       "      <td>0</td>\n",
       "    </tr>\n",
       "    <tr>\n",
       "      <th>3</th>\n",
       "      <td>新华社</td>\n",
       "      <td>这是6月18日在葡萄牙中部大佩德罗冈地区拍摄的被森林大火烧毁的汽车。新华社记者张立云摄\\r\\n</td>\n",
       "      <td>1</td>\n",
       "    </tr>\n",
       "    <tr>\n",
       "      <th>4</th>\n",
       "      <td>深圳大件事</td>\n",
       "      <td>（原标题：44岁女子跑深圳约会网友被拒，暴雨中裸身奔走……）\\r\\n@深圳交警微博称：昨日清...</td>\n",
       "      <td>0</td>\n",
       "    </tr>\n",
       "  </tbody>\n",
       "</table>\n",
       "</div>"
      ],
      "text/plain": [
       "                   source                                            content  \\\n",
       "0  快科技@http://www.kkj.cn/  此外，自本周（6月12日）起，除小米手机6等15款机型外，其余机型已暂停更新发布（含开发版/...   \n",
       "1  快科技@http://www.kkj.cn/  骁龙835作为唯一通过Windows 10桌面平台认证的ARM处理器，高通强调，不会因为只考...   \n",
       "2  快科技@http://www.kkj.cn/  此前的一加3T搭载的是3400mAh电池，DashCharge快充规格为5V/4A。\\r\\n...   \n",
       "3                     新华社    这是6月18日在葡萄牙中部大佩德罗冈地区拍摄的被森林大火烧毁的汽车。新华社记者张立云摄\\r\\n   \n",
       "4                   深圳大件事  （原标题：44岁女子跑深圳约会网友被拒，暴雨中裸身奔走……）\\r\\n@深圳交警微博称：昨日清...   \n",
       "\n",
       "   flag  \n",
       "0     0  \n",
       "1     0  \n",
       "2     0  \n",
       "3     1  \n",
       "4     0  "
      ]
     },
     "execution_count": 3,
     "metadata": {},
     "output_type": "execute_result"
    }
   ],
   "source": [
    "'''\n",
    "source为新闻的来源，把来自新华社的视为正样本，用1表示，其他的视为负样本，用0表示\n",
    "'''\n",
    "def create_flag(x):\n",
    "    if x == '新华社':\n",
    "        return 1\n",
    "    else:\n",
    "        return 0\n",
    "    \n",
    "df_data['flag'] = df_data['source'].apply(create_flag)\n",
    "df_pos = df_data[df_data['flag']==1]\n",
    "df_neg = df_data[df_data['flag']==0]\n",
    "print('新华社新闻有 {} 条，其他来源的新闻有 {} 条'.format(len(df_pos),len(df_neg)))\n",
    "df_data.head()"
   ]
  },
  {
   "cell_type": "code",
   "execution_count": 4,
   "metadata": {},
   "outputs": [
    {
     "name": "stdout",
     "output_type": "stream",
     "text": [
      "(28391, 3)\n"
     ]
    }
   ],
   "source": [
    "'''\n",
    "存在严重的类别不平衡问题，对新华社的样本进行简单的下采样\n",
    "从新华社样本中取20000条\n",
    "然后再把正负样本拼接\n",
    "'''\n",
    "df_pos_down = df_pos[:20000]\n",
    "df_merge = pd.concat([df_pos_down,df_neg],ignore_index=True)\n",
    "print(df_merge.shape)"
   ]
  },
  {
   "cell_type": "markdown",
   "metadata": {},
   "source": [
    "## 第二步：对影评数据做预处理\n",
    "\n",
    "* 切分成词/token\n",
    "* 去掉停用词\n",
    "* 重组为新的句子"
   ]
  },
  {
   "cell_type": "code",
   "execution_count": 5,
   "metadata": {},
   "outputs": [],
   "source": [
    "def clean_sent(sentence):\n",
    "    '''\n",
    "    函数没有return时会返回None，为了避免这种情况，空值返回''\n",
    "    '''\n",
    "    if isinstance(sentence, str):\n",
    "        return re.sub(\n",
    "            r'[\\s+\\-\\|\\!\\/\\[\\]\\{\\}_,.$%^*(+\\\"\\')]+|[:：+——()?【】“”~@#￥%……&*（）]+',\n",
    "            '', sentence)\n",
    "    else:\n",
    "        return ''\n",
    "\n",
    "def filter_stopwords(words):\n",
    "    return [word for word in words if word not in stop_words]\n",
    "\n",
    "def sentence_seg(sentence):\n",
    "    sentence = clean_sent(sentence.strip())\n",
    "    words = jieba.lcut(sentence)\n",
    "    words = filter_stopwords(words)\n",
    "    return ' '.join(words)   "
   ]
  },
  {
   "cell_type": "code",
   "execution_count": 6,
   "metadata": {},
   "outputs": [],
   "source": [
    "stop_words = [word.strip() for word in open('哈工大停用词表.txt',encoding='utf-8')]"
   ]
  },
  {
   "cell_type": "code",
   "execution_count": 7,
   "metadata": {},
   "outputs": [
    {
     "name": "stderr",
     "output_type": "stream",
     "text": [
      "Building prefix dict from the default dictionary ...\n",
      "Loading model from cache /tmp/jieba.cache\n",
      "Loading model cost 0.577 seconds.\n",
      "Prefix dict has been built succesfully.\n"
     ]
    },
    {
     "data": {
      "text/html": [
       "<div>\n",
       "<style scoped>\n",
       "    .dataframe tbody tr th:only-of-type {\n",
       "        vertical-align: middle;\n",
       "    }\n",
       "\n",
       "    .dataframe tbody tr th {\n",
       "        vertical-align: top;\n",
       "    }\n",
       "\n",
       "    .dataframe thead th {\n",
       "        text-align: right;\n",
       "    }\n",
       "</style>\n",
       "<table border=\"1\" class=\"dataframe\">\n",
       "  <thead>\n",
       "    <tr style=\"text-align: right;\">\n",
       "      <th></th>\n",
       "      <th>source</th>\n",
       "      <th>content</th>\n",
       "      <th>flag</th>\n",
       "      <th>content_seg</th>\n",
       "    </tr>\n",
       "  </thead>\n",
       "  <tbody>\n",
       "    <tr>\n",
       "      <th>0</th>\n",
       "      <td>新华社</td>\n",
       "      <td>这是6月18日在葡萄牙中部大佩德罗冈地区拍摄的被森林大火烧毁的汽车。新华社记者张立云摄\\r\\n</td>\n",
       "      <td>1</td>\n",
       "      <td>这是 6 月 18 日 葡萄牙 中部 大 佩德罗 冈 地区 拍摄 森林 大火 烧毁 汽车 新...</td>\n",
       "    </tr>\n",
       "    <tr>\n",
       "      <th>1</th>\n",
       "      <td>新华社</td>\n",
       "      <td>这是6月18日在葡萄牙中部大佩德罗冈地区拍摄的被森林大火烧毁的汽车。新华社记者张立云摄\\r\\n</td>\n",
       "      <td>1</td>\n",
       "      <td>这是 6 月 18 日 葡萄牙 中部 大 佩德罗 冈 地区 拍摄 森林 大火 烧毁 汽车 新...</td>\n",
       "    </tr>\n",
       "    <tr>\n",
       "      <th>2</th>\n",
       "      <td>新华社</td>\n",
       "      <td>新华社韩国济州6月18日电综述：亚投行第二届年会三大亮点\\r\\n新华社记者 耿学鹏 严蕾\\r...</td>\n",
       "      <td>1</td>\n",
       "      <td>新华社 韩国 济州 6 月 18 日电 综述 亚 投行 第二届 年会 三大 亮点 新华社 记...</td>\n",
       "    </tr>\n",
       "    <tr>\n",
       "      <th>3</th>\n",
       "      <td>新华社</td>\n",
       "      <td>新华社北京6月18日电 经军委领导批准，《军营理论热点怎么看·2017》日前印发全军。\\r\\...</td>\n",
       "      <td>1</td>\n",
       "      <td>新华社 北京 6 月 18 日电 军委 领导 批准 军营 理论 热点 看 2017 日前 印...</td>\n",
       "    </tr>\n",
       "    <tr>\n",
       "      <th>4</th>\n",
       "      <td>新华社</td>\n",
       "      <td>新华社兰州6月19日电（记者张钦）记者19日了解到，刚刚出台的《甘肃省网络扶贫行动的实施方案...</td>\n",
       "      <td>1</td>\n",
       "      <td>新华社 兰州 6 月 19 日电 记者 张钦 记者 19 日 了解 刚刚 出台 甘肃省 网络...</td>\n",
       "    </tr>\n",
       "  </tbody>\n",
       "</table>\n",
       "</div>"
      ],
      "text/plain": [
       "  source                                            content  flag  \\\n",
       "0    新华社    这是6月18日在葡萄牙中部大佩德罗冈地区拍摄的被森林大火烧毁的汽车。新华社记者张立云摄\\r\\n     1   \n",
       "1    新华社    这是6月18日在葡萄牙中部大佩德罗冈地区拍摄的被森林大火烧毁的汽车。新华社记者张立云摄\\r\\n     1   \n",
       "2    新华社  新华社韩国济州6月18日电综述：亚投行第二届年会三大亮点\\r\\n新华社记者 耿学鹏 严蕾\\r...     1   \n",
       "3    新华社  新华社北京6月18日电 经军委领导批准，《军营理论热点怎么看·2017》日前印发全军。\\r\\...     1   \n",
       "4    新华社  新华社兰州6月19日电（记者张钦）记者19日了解到，刚刚出台的《甘肃省网络扶贫行动的实施方案...     1   \n",
       "\n",
       "                                         content_seg  \n",
       "0  这是 6 月 18 日 葡萄牙 中部 大 佩德罗 冈 地区 拍摄 森林 大火 烧毁 汽车 新...  \n",
       "1  这是 6 月 18 日 葡萄牙 中部 大 佩德罗 冈 地区 拍摄 森林 大火 烧毁 汽车 新...  \n",
       "2  新华社 韩国 济州 6 月 18 日电 综述 亚 投行 第二届 年会 三大 亮点 新华社 记...  \n",
       "3  新华社 北京 6 月 18 日电 军委 领导 批准 军营 理论 热点 看 2017 日前 印...  \n",
       "4  新华社 兰州 6 月 19 日电 记者 张钦 记者 19 日 了解 刚刚 出台 甘肃省 网络...  "
      ]
     },
     "execution_count": 7,
     "metadata": {},
     "output_type": "execute_result"
    }
   ],
   "source": [
    "df_merge['content_seg'] = df_merge['content'].apply(sentence_seg)\n",
    "df_merge.head()"
   ]
  },
  {
   "cell_type": "markdown",
   "metadata": {},
   "source": [
    "## 第三步：抽取文本特征\n",
    "\n",
    "* VSM(词频矩阵）\n",
    "* TFIDF\n",
    "* LSA\n",
    "* ngram"
   ]
  },
  {
   "cell_type": "code",
   "execution_count": 8,
   "metadata": {},
   "outputs": [
    {
     "data": {
      "text/html": [
       "<div>\n",
       "<style scoped>\n",
       "    .dataframe tbody tr th:only-of-type {\n",
       "        vertical-align: middle;\n",
       "    }\n",
       "\n",
       "    .dataframe tbody tr th {\n",
       "        vertical-align: top;\n",
       "    }\n",
       "\n",
       "    .dataframe thead th {\n",
       "        text-align: right;\n",
       "    }\n",
       "</style>\n",
       "<table border=\"1\" class=\"dataframe\">\n",
       "  <thead>\n",
       "    <tr style=\"text-align: right;\">\n",
       "      <th></th>\n",
       "      <th>source</th>\n",
       "      <th>content</th>\n",
       "      <th>flag</th>\n",
       "      <th>content_seg</th>\n",
       "    </tr>\n",
       "  </thead>\n",
       "  <tbody>\n",
       "    <tr>\n",
       "      <th>4875</th>\n",
       "      <td>新华社</td>\n",
       "      <td>新华社照片，开封（河南），2017年4月1日\\n清明踏春大巡游\\n4月1日，来自开封铁塔公园...</td>\n",
       "      <td>1</td>\n",
       "      <td>新华社 照片 开封 河南 2017 年 4 月 1 日 \\ n 清明 踏春 大 巡游 \\ n...</td>\n",
       "    </tr>\n",
       "    <tr>\n",
       "      <th>9780</th>\n",
       "      <td>新华社</td>\n",
       "      <td>\\n新华社莫斯科4月7日新媒体专电（记者安晓萌）俄罗斯国防部发言人科纳申科夫7日说，俄方将从...</td>\n",
       "      <td>1</td>\n",
       "      <td>\\ n 新华社 莫斯科 4 月 7 日新 媒体 专电 记者 安晓萌 俄罗斯国防部 发言人 科...</td>\n",
       "    </tr>\n",
       "    <tr>\n",
       "      <th>23702</th>\n",
       "      <td>中国日报网</td>\n",
       "      <td>点击图片进入下一页\\r\\n</td>\n",
       "      <td>0</td>\n",
       "      <td>点击 图片 进入 下 一页</td>\n",
       "    </tr>\n",
       "    <tr>\n",
       "      <th>4936</th>\n",
       "      <td>新华社</td>\n",
       "      <td>新华社照片，杭州，2017年4月1日\\n“捣青草为汁”和粉作青团\\n4月1日，浙江临安山核桃...</td>\n",
       "      <td>1</td>\n",
       "      <td>新华社 照片 杭州 2017 年 4 月 1 日 \\ n 捣 青草 汁 粉作 青团 \\ n4...</td>\n",
       "    </tr>\n",
       "    <tr>\n",
       "      <th>20029</th>\n",
       "      <td>人民日报</td>\n",
       "      <td>“我刚刚启动发动机，就听见清脆的玻璃破裂声，然后一匹骏马出现在副驾驶座位上，含情脉脉地看着我...</td>\n",
       "      <td>0</td>\n",
       "      <td>刚刚 启动 发动机 听见 清脆 玻璃 破裂声 一匹 骏马 出现 副驾驶 座位 上 含情脉脉 ...</td>\n",
       "    </tr>\n",
       "  </tbody>\n",
       "</table>\n",
       "</div>"
      ],
      "text/plain": [
       "      source                                            content  flag  \\\n",
       "4875     新华社  新华社照片，开封（河南），2017年4月1日\\n清明踏春大巡游\\n4月1日，来自开封铁塔公园...     1   \n",
       "9780     新华社  \\n新华社莫斯科4月7日新媒体专电（记者安晓萌）俄罗斯国防部发言人科纳申科夫7日说，俄方将从...     1   \n",
       "23702  中国日报网                                      点击图片进入下一页\\r\\n     0   \n",
       "4936     新华社  新华社照片，杭州，2017年4月1日\\n“捣青草为汁”和粉作青团\\n4月1日，浙江临安山核桃...     1   \n",
       "20029   人民日报  “我刚刚启动发动机，就听见清脆的玻璃破裂声，然后一匹骏马出现在副驾驶座位上，含情脉脉地看着我...     0   \n",
       "\n",
       "                                             content_seg  \n",
       "4875   新华社 照片 开封 河南 2017 年 4 月 1 日 \\ n 清明 踏春 大 巡游 \\ n...  \n",
       "9780   \\ n 新华社 莫斯科 4 月 7 日新 媒体 专电 记者 安晓萌 俄罗斯国防部 发言人 科...  \n",
       "23702                                      点击 图片 进入 下 一页  \n",
       "4936   新华社 照片 杭州 2017 年 4 月 1 日 \\ n 捣 青草 汁 粉作 青团 \\ n4...  \n",
       "20029  刚刚 启动 发动机 听见 清脆 玻璃 破裂声 一匹 骏马 出现 副驾驶 座位 上 含情脉脉 ...  "
      ]
     },
     "execution_count": 8,
     "metadata": {},
     "output_type": "execute_result"
    }
   ],
   "source": [
    "'''\n",
    "将数据随机打乱，并划分训练集和验证集\n",
    "'''\n",
    "df_merge.sample(frac=1).head()"
   ]
  },
  {
   "cell_type": "code",
   "execution_count": 9,
   "metadata": {},
   "outputs": [
    {
     "name": "stdout",
     "output_type": "stream",
     "text": [
      "以词频为元素的文本-单词矩阵的维度是：\n",
      "\n",
      " (28391, 5000)\n"
     ]
    }
   ],
   "source": [
    "'''\n",
    "词频矩阵作为文本特征\n",
    "'''\n",
    "vec_freq = CountVectorizer(max_features=5000)\n",
    "vsm_freq = vec_freq.fit_transform(df_merge['content_seg']).toarray()\n",
    "print(\"以词频为元素的文本-单词矩阵的维度是：\\n\\n\",vsm_freq.shape)\n",
    "\n",
    "# 可选以TFIDF作为文本特征\n",
    "# vec_tfidf = TfidfVectorizer(max_features=5000)\n",
    "# vsm_tfidf = vec_tfidf.fit_transform(df_data['content_seg']).toarray()"
   ]
  },
  {
   "cell_type": "code",
   "execution_count": 10,
   "metadata": {},
   "outputs": [],
   "source": [
    "X_train, X_test, y_train, y_test = train_test_split(vsm_freq,\n",
    "                                                    df_merge['flag'],\n",
    "                                                    test_size=0.2, \n",
    "                                                    random_state=10)"
   ]
  },
  {
   "cell_type": "markdown",
   "metadata": {},
   "source": [
    "###### 2. Secondly,  pick a machine learning algorithm that you think is suitable for this task"
   ]
  },
  {
   "cell_type": "markdown",
   "metadata": {},
   "source": [
    "## 第四步：训练随机森林分类器"
   ]
  },
  {
   "cell_type": "code",
   "execution_count": 11,
   "metadata": {},
   "outputs": [
    {
     "name": "stdout",
     "output_type": "stream",
     "text": [
      "\n",
      "包外估计为：0.9204385346953152\n",
      "\n"
     ]
    }
   ],
   "source": [
    "'''\n",
    "使用包外估计作为模型泛化误差的估计，即oob_score=True\n",
    "设定为200棵数，最大深度为10，叶子节点最小的样本数为10\n",
    "'''\n",
    "forest1 = RandomForestClassifier(oob_score=True,\n",
    "                                n_estimators = 200,\n",
    "                                max_depth=10,\n",
    "                                min_samples_leaf=10)\n",
    "forest1.fit(X_train, y_train)\n",
    "\n",
    "print(\"\\n包外估计为：{}\\n\".format(forest1.oob_score_))"
   ]
  },
  {
   "cell_type": "markdown",
   "metadata": {},
   "source": [
    "## 第五步：评估分类器的性能"
   ]
  },
  {
   "cell_type": "code",
   "execution_count": 12,
   "metadata": {},
   "outputs": [],
   "source": [
    "\"\"\"第五步：评估模型\"\"\"\n",
    "\n",
    "def model_eval(x_test,y_test,forest):\n",
    "\n",
    "    print(\"1、混淆矩阵为：\\n\")\n",
    "    print(metrics.confusion_matrix(y_test, forest.predict(x_test)))\n",
    "\n",
    "    print(\"\\n2、准确率、召回率和F1值为：\\n\")\n",
    "    print(metrics.classification_report(y_test,forest.predict(x_test)))\n",
    "\n",
    "    print(\"\\n3、AUC Score为：\\n\")\n",
    "    y_predprob = forest.predict_proba(x_test)[:,1]\n",
    "    print(metrics.roc_auc_score(y_test, y_predprob))"
   ]
  },
  {
   "cell_type": "code",
   "execution_count": 13,
   "metadata": {},
   "outputs": [
    {
     "name": "stdout",
     "output_type": "stream",
     "text": [
      "\n",
      "====================评估以词频为特征训练的模型==================\n",
      "\n",
      "1、混淆矩阵为：\n",
      "\n",
      "[[1283  424]\n",
      " [  43 3929]]\n",
      "\n",
      "2、准确率、召回率和F1值为：\n",
      "\n",
      "              precision    recall  f1-score   support\n",
      "\n",
      "           0       0.97      0.75      0.85      1707\n",
      "           1       0.90      0.99      0.94      3972\n",
      "\n",
      "   micro avg       0.92      0.92      0.92      5679\n",
      "   macro avg       0.94      0.87      0.89      5679\n",
      "weighted avg       0.92      0.92      0.91      5679\n",
      "\n",
      "\n",
      "3、AUC Score为：\n",
      "\n",
      "0.9869705247806703\n"
     ]
    }
   ],
   "source": [
    "print(\"\\n====================评估以词频为特征训练的模型==================\\n\")\n",
    "model_eval(X_test,y_test,forest1)"
   ]
  },
  {
   "cell_type": "markdown",
   "metadata": {},
   "source": [
    "## 第六步：用LSA和Bigram作为文本特征"
   ]
  },
  {
   "cell_type": "code",
   "execution_count": 14,
   "metadata": {},
   "outputs": [
    {
     "name": "stdout",
     "output_type": "stream",
     "text": [
      "(28391, 200)\n"
     ]
    }
   ],
   "source": [
    "\"\"\"\n",
    "用NMF计算LSA的话题-文本矩阵\n",
    "对以词频为特征的单词-文本矩阵进行NMF分解,得到话题-文本矩阵，\n",
    "注意如果输入进行了转置，那么得到的是单词-话题矩阵\n",
    "\"\"\"\n",
    "  \n",
    "from sklearn.decomposition import NMF\n",
    "nmf = NMF(n_components=200)\n",
    "lsa_freq = nmf.fit_transform(vsm_freq)\n",
    "print(lsa_freq.shape)"
   ]
  },
  {
   "cell_type": "code",
   "execution_count": 15,
   "metadata": {},
   "outputs": [],
   "source": [
    "X_train, X_test, y_train, y_test = train_test_split(lsa_freq,\n",
    "                                                    df_merge['flag'],\n",
    "                                                    test_size=0.2, \n",
    "                                                    random_state=10)"
   ]
  },
  {
   "cell_type": "code",
   "execution_count": 16,
   "metadata": {},
   "outputs": [
    {
     "name": "stdout",
     "output_type": "stream",
     "text": [
      "\n",
      "包外估计为：0.9658770693906304\n",
      "\n"
     ]
    }
   ],
   "source": [
    "forest2 = RandomForestClassifier(oob_score=True,\n",
    "                                n_estimators = 200,\n",
    "                                max_depth=10,\n",
    "                                min_samples_leaf=10)\n",
    "forest2.fit(X_train, y_train)\n",
    "\n",
    "print(\"\\n包外估计为：{}\\n\".format(forest2.oob_score_))"
   ]
  },
  {
   "cell_type": "code",
   "execution_count": 17,
   "metadata": {},
   "outputs": [
    {
     "name": "stdout",
     "output_type": "stream",
     "text": [
      "1、混淆矩阵为：\n",
      "\n",
      "[[1607  100]\n",
      " [  86 3886]]\n",
      "\n",
      "2、准确率、召回率和F1值为：\n",
      "\n",
      "              precision    recall  f1-score   support\n",
      "\n",
      "           0       0.95      0.94      0.95      1707\n",
      "           1       0.97      0.98      0.98      3972\n",
      "\n",
      "   micro avg       0.97      0.97      0.97      5679\n",
      "   macro avg       0.96      0.96      0.96      5679\n",
      "weighted avg       0.97      0.97      0.97      5679\n",
      "\n",
      "\n",
      "3、AUC Score为：\n",
      "\n",
      "0.9929813321251101\n"
     ]
    }
   ],
   "source": [
    "model_eval(X_test,y_test,forest2)"
   ]
  },
  {
   "cell_type": "code",
   "execution_count": null,
   "metadata": {},
   "outputs": [],
   "source": []
  },
  {
   "cell_type": "code",
   "execution_count": 18,
   "metadata": {},
   "outputs": [],
   "source": [
    "\"\"\"\n",
    "在用Bigram作为特征\n",
    "使用sklearn计算Bigram，得到bigram词语-文本矩阵\n",
    "token_pattern的作用是，出现\"bi-gram\"、\"two:three\"这种时，可以切成\"bi gram\"、\"two three\"的形式\n",
    "(2,2)的意思是不保留unigram。\n",
    "\"\"\"\n",
    "vec_bigram = CountVectorizer(ngram_range=(2,2),\n",
    "                             token_pattern=r'\\b\\w+\\b',\n",
    "                             max_features=5000) \n",
    "vsm_bigram = vec_bigram.fit_transform(df_merge['content_seg']).toarray()"
   ]
  },
  {
   "cell_type": "code",
   "execution_count": 20,
   "metadata": {},
   "outputs": [
    {
     "name": "stdout",
     "output_type": "stream",
     "text": [
      "bigram构成的语料库中前10个元素为：\n",
      "\n",
      "['0 0', '0 3', '0 击败', '0 总比分', '0 战胜', '0 胜', '04 月', '04 队', '1 0', '1 1']\n"
     ]
    }
   ],
   "source": [
    "print(\"bigram构成的语料库中前10个元素为：\\n\")\n",
    "print(vec_bigram.get_feature_names()[:10])"
   ]
  },
  {
   "cell_type": "code",
   "execution_count": 21,
   "metadata": {},
   "outputs": [],
   "source": [
    "X_train, X_test, y_train, y_test = train_test_split(vsm_bigram,\n",
    "                                                    df_merge['flag'],\n",
    "                                                    test_size=0.2, \n",
    "                                                    random_state=10)"
   ]
  },
  {
   "cell_type": "code",
   "execution_count": 22,
   "metadata": {},
   "outputs": [
    {
     "name": "stdout",
     "output_type": "stream",
     "text": [
      "\n",
      "包外估计为：0.9819038393800634\n",
      "\n"
     ]
    }
   ],
   "source": [
    "forest3 = RandomForestClassifier(oob_score=True,\n",
    "                                n_estimators = 200,\n",
    "                                max_depth=10,\n",
    "                                min_samples_leaf=10)\n",
    "forest3.fit(X_train, y_train)\n",
    "\n",
    "print(\"\\n包外估计为：{}\\n\".format(forest3.oob_score_))"
   ]
  },
  {
   "cell_type": "code",
   "execution_count": 23,
   "metadata": {},
   "outputs": [
    {
     "name": "stdout",
     "output_type": "stream",
     "text": [
      "1、混淆矩阵为：\n",
      "\n",
      "[[1671   36]\n",
      " [  36 3936]]\n",
      "\n",
      "2、准确率、召回率和F1值为：\n",
      "\n",
      "              precision    recall  f1-score   support\n",
      "\n",
      "           0       0.98      0.98      0.98      1707\n",
      "           1       0.99      0.99      0.99      3972\n",
      "\n",
      "   micro avg       0.99      0.99      0.99      5679\n",
      "   macro avg       0.98      0.98      0.98      5679\n",
      "weighted avg       0.99      0.99      0.99      5679\n",
      "\n",
      "\n",
      "3、AUC Score为：\n",
      "\n",
      "0.995799315182847\n"
     ]
    }
   ],
   "source": [
    "model_eval(X_test,y_test,forest3)"
   ]
  },
  {
   "cell_type": "markdown",
   "metadata": {},
   "source": [
    "## 可以看到bigram的效果是最好的！"
   ]
  },
  {
   "cell_type": "markdown",
   "metadata": {},
   "source": [
    "### Congratulations! You have completed all assignments in this week. The question below is optional. If you still have time, why don't try it out."
   ]
  },
  {
   "cell_type": "markdown",
   "metadata": {},
   "source": [
    "## Option:"
   ]
  },
  {
   "cell_type": "markdown",
   "metadata": {},
   "source": [
    "#### Try differnt machine learning algorithms with different combinations of parameters in the practical part, and compare their performances (Better use some visualization techiniques)."
   ]
  },
  {
   "cell_type": "markdown",
   "metadata": {},
   "source": [
    "## 第七步：以bigram为特征，用xgboost分类"
   ]
  },
  {
   "cell_type": "code",
   "execution_count": 24,
   "metadata": {},
   "outputs": [],
   "source": [
    "# 记录训练花费的时间\n",
    "import time\n",
    "from datetime import timedelta\n",
    "\n",
    "def get_time_dif(start_time):\n",
    "    '''\n",
    "    :param start_time: 开始时间\n",
    "    :return:  耗费的时间 00:00:00\n",
    "    '''\n",
    "    end_time = time.time()\n",
    "    time_dif = end_time - start_time \n",
    "    return timedelta(seconds=int(round(time_dif)))"
   ]
  },
  {
   "cell_type": "code",
   "execution_count": 25,
   "metadata": {},
   "outputs": [
    {
     "name": "stdout",
     "output_type": "stream",
     "text": [
      "----------> 开始训练模型：\n",
      "[0]\tvalidation_0-auc:0.989816\n",
      "Will train until validation_0-auc hasn't improved in 20 rounds.\n",
      "[1]\tvalidation_0-auc:0.996341\n",
      "[2]\tvalidation_0-auc:0.996486\n",
      "[3]\tvalidation_0-auc:0.997774\n",
      "[4]\tvalidation_0-auc:0.998188\n",
      "[5]\tvalidation_0-auc:0.998077\n",
      "[6]\tvalidation_0-auc:0.99819\n",
      "[7]\tvalidation_0-auc:0.998151\n",
      "[8]\tvalidation_0-auc:0.998101\n",
      "[9]\tvalidation_0-auc:0.998217\n",
      "[10]\tvalidation_0-auc:0.998341\n",
      "[11]\tvalidation_0-auc:0.998262\n",
      "[12]\tvalidation_0-auc:0.998313\n",
      "[13]\tvalidation_0-auc:0.998323\n",
      "[14]\tvalidation_0-auc:0.998494\n",
      "[15]\tvalidation_0-auc:0.998443\n",
      "[16]\tvalidation_0-auc:0.998455\n",
      "[17]\tvalidation_0-auc:0.998567\n",
      "[18]\tvalidation_0-auc:0.998592\n",
      "[19]\tvalidation_0-auc:0.998652\n",
      "[20]\tvalidation_0-auc:0.998669\n",
      "[21]\tvalidation_0-auc:0.998675\n",
      "[22]\tvalidation_0-auc:0.998687\n",
      "[23]\tvalidation_0-auc:0.998726\n",
      "[24]\tvalidation_0-auc:0.998883\n",
      "[25]\tvalidation_0-auc:0.998775\n",
      "[26]\tvalidation_0-auc:0.998883\n",
      "[27]\tvalidation_0-auc:0.998884\n",
      "[28]\tvalidation_0-auc:0.99889\n",
      "[29]\tvalidation_0-auc:0.998902\n",
      "[30]\tvalidation_0-auc:0.999002\n",
      "[31]\tvalidation_0-auc:0.999002\n",
      "[32]\tvalidation_0-auc:0.999107\n",
      "[33]\tvalidation_0-auc:0.999112\n",
      "[34]\tvalidation_0-auc:0.999106\n",
      "[35]\tvalidation_0-auc:0.999109\n",
      "[36]\tvalidation_0-auc:0.999114\n",
      "[37]\tvalidation_0-auc:0.999104\n",
      "[38]\tvalidation_0-auc:0.998998\n",
      "[39]\tvalidation_0-auc:0.999099\n",
      "[40]\tvalidation_0-auc:0.999152\n",
      "[41]\tvalidation_0-auc:0.999174\n",
      "[42]\tvalidation_0-auc:0.999218\n",
      "[43]\tvalidation_0-auc:0.999272\n",
      "[44]\tvalidation_0-auc:0.999276\n",
      "[45]\tvalidation_0-auc:0.999306\n",
      "[46]\tvalidation_0-auc:0.999313\n",
      "[47]\tvalidation_0-auc:0.999317\n",
      "[48]\tvalidation_0-auc:0.99932\n",
      "[49]\tvalidation_0-auc:0.999358\n",
      "[50]\tvalidation_0-auc:0.99936\n",
      "[51]\tvalidation_0-auc:0.99936\n",
      "[52]\tvalidation_0-auc:0.999361\n",
      "[53]\tvalidation_0-auc:0.999357\n",
      "[54]\tvalidation_0-auc:0.999355\n",
      "[55]\tvalidation_0-auc:0.999306\n",
      "[56]\tvalidation_0-auc:0.999301\n",
      "[57]\tvalidation_0-auc:0.999317\n",
      "[58]\tvalidation_0-auc:0.999306\n",
      "[59]\tvalidation_0-auc:0.999308\n",
      "[60]\tvalidation_0-auc:0.999305\n",
      "[61]\tvalidation_0-auc:0.999307\n",
      "[62]\tvalidation_0-auc:0.99933\n",
      "[63]\tvalidation_0-auc:0.99933\n",
      "[64]\tvalidation_0-auc:0.999344\n",
      "[65]\tvalidation_0-auc:0.999349\n",
      "[66]\tvalidation_0-auc:0.999351\n",
      "[67]\tvalidation_0-auc:0.99935\n",
      "[68]\tvalidation_0-auc:0.99934\n",
      "[69]\tvalidation_0-auc:0.999343\n",
      "[70]\tvalidation_0-auc:0.999342\n",
      "[71]\tvalidation_0-auc:0.999332\n",
      "[72]\tvalidation_0-auc:0.999332\n",
      "Stopping. Best iteration:\n",
      "[52]\tvalidation_0-auc:0.999361\n",
      "\n",
      "0:06:01\n"
     ]
    }
   ],
   "source": [
    "'''\n",
    "参数设置：树的最大深度100,100棵树\n",
    "样本随机采样率0.8，特征随机采样（列采样）率为0.8\n",
    "同时在训练中把测试集传入，以auc为监控指标，做早停\n",
    "如果迭代20轮auc都没有提升，就终止训练，保存auc最高的结果。\n",
    "'''\n",
    "\n",
    "from xgboost.sklearn import XGBClassifier\n",
    "\n",
    "xgb = XGBClassifier(max_depth=10,\n",
    "                    n_estimators=200,\n",
    "                    random_state=20,\n",
    "                    subsample=0.8,\n",
    "                    colsample_bytree=0.8)\n",
    "        \n",
    "eval_set = [(X_test,y_test)]\n",
    "print('----------> 开始训练模型：')\n",
    "start_time = time.time()\n",
    "xgb.fit(X_train,y_train,\n",
    "        early_stopping_rounds=20,\n",
    "        eval_set=eval_set,\n",
    "        eval_metric='auc',\n",
    "        verbose=True)  \n",
    "print(get_time_dif(start_time))"
   ]
  },
  {
   "cell_type": "code",
   "execution_count": 26,
   "metadata": {},
   "outputs": [
    {
     "name": "stdout",
     "output_type": "stream",
     "text": [
      "1、混淆矩阵为：\n",
      "\n",
      "[[1704    3]\n",
      " [  43 3929]]\n",
      "\n",
      "2、准确率、召回率和F1值为：\n",
      "\n",
      "              precision    recall  f1-score   support\n",
      "\n",
      "           0       0.98      1.00      0.99      1707\n",
      "           1       1.00      0.99      0.99      3972\n",
      "\n",
      "   micro avg       0.99      0.99      0.99      5679\n",
      "   macro avg       0.99      0.99      0.99      5679\n",
      "weighted avg       0.99      0.99      0.99      5679\n",
      "\n",
      "\n",
      "3、AUC Score为：\n",
      "\n",
      "0.9993605649623521\n"
     ]
    }
   ],
   "source": [
    "model_eval(X_test,y_test,xgb)"
   ]
  },
  {
   "cell_type": "markdown",
   "metadata": {},
   "source": [
    "## xgboost真是神器！"
   ]
  },
  {
   "cell_type": "code",
   "execution_count": null,
   "metadata": {},
   "outputs": [],
   "source": []
  }
 ],
 "metadata": {
  "kernelspec": {
   "display_name": "Python 3",
   "language": "python",
   "name": "python3"
  },
  "language_info": {
   "codemirror_mode": {
    "name": "ipython",
    "version": 3
   },
   "file_extension": ".py",
   "mimetype": "text/x-python",
   "name": "python",
   "nbconvert_exporter": "python",
   "pygments_lexer": "ipython3",
   "version": "3.6.2"
  }
 },
 "nbformat": 4,
 "nbformat_minor": 2
}
