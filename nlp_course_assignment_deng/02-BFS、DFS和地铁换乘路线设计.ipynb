{
 "cells": [
  {
   "cell_type": "markdown",
   "metadata": {},
   "source": [
    "# Assignment 2\n"
   ]
  },
  {
   "cell_type": "markdown",
   "metadata": {},
   "source": [
    "#### 1. 复习上课内容以及复现课程代码"
   ]
  },
  {
   "cell_type": "markdown",
   "metadata": {},
   "source": [
    "在本部分，你需要在复习上课内容和课程代码后，复现课程代码。 "
   ]
  },
  {
   "cell_type": "markdown",
   "metadata": {},
   "source": [
    "### 1-1 寻找最短路径：BFS和DFS"
   ]
  },
  {
   "cell_type": "code",
   "execution_count": 1,
   "metadata": {},
   "outputs": [],
   "source": [
    "\"\"\"\n",
    "我国城市的坐标信息\n",
    "\"\"\"\n",
    "\n",
    "coordination_source = \"\"\"\n",
    "{name:'兰州', geoCoord:[103.73, 36.03]},\n",
    "{name:'嘉峪关', geoCoord:[98.17, 39.47]},\n",
    "{name:'西宁', geoCoord:[101.74, 36.56]},\n",
    "{name:'成都', geoCoord:[104.06, 30.67]},\n",
    "{name:'石家庄', geoCoord:[114.48, 38.03]},\n",
    "{name:'拉萨', geoCoord:[102.73, 25.04]},\n",
    "{name:'贵阳', geoCoord:[106.71, 26.57]},\n",
    "{name:'武汉', geoCoord:[114.31, 30.52]},\n",
    "{name:'郑州', geoCoord:[113.65, 34.76]},\n",
    "{name:'济南', geoCoord:[117, 36.65]},\n",
    "{name:'南京', geoCoord:[118.78, 32.04]},\n",
    "{name:'合肥', geoCoord:[117.27, 31.86]},\n",
    "{name:'杭州', geoCoord:[120.19, 30.26]},\n",
    "{name:'南昌', geoCoord:[115.89, 28.68]},\n",
    "{name:'福州', geoCoord:[119.3, 26.08]},\n",
    "{name:'广州', geoCoord:[113.23, 23.16]},\n",
    "{name:'长沙', geoCoord:[113, 28.21]},\n",
    "//{name:'海口', geoCoord:[110.35, 20.02]},\n",
    "{name:'沈阳', geoCoord:[123.38, 41.8]},\n",
    "{name:'长春', geoCoord:[125.35, 43.88]},\n",
    "{name:'哈尔滨', geoCoord:[126.63, 45.75]},\n",
    "{name:'太原', geoCoord:[112.53, 37.87]},\n",
    "{name:'西安', geoCoord:[108.95, 34.27]},\n",
    "//{name:'台湾', geoCohttp://map.amap.com/service/subway?_1469083453978&srhdata=1100_drw_beijing.jsonord:[121.30, 25.03]},\n",
    "{name:'北京', geoCoord:[116.46, 39.92]},\n",
    "{name:'上海', geoCoord:[121.48, 31.22]},\n",
    "{name:'重庆', geoCoord:[106.54, 29.59]},\n",
    "{name:'天津', geoCoord:[117.2, 39.13]},\n",
    "{name:'呼和浩特', geoCoord:[111.65, 40.82]},\n",
    "{name:'南宁', geoCoord:[108.33, 22.84]},\n",
    "//{name:'西藏', geoCoord:[91.11, 29.97]},\n",
    "{name:'银川', geoCoord:[106.27, 38.47]},\n",
    "{name:'乌鲁木齐', geoCoord:[87.68, 43.77]},\n",
    "{name:'香港', geoCoord:[114.17, 22.28]},\n",
    "{name:'澳门', geoCoord:[113.54, 22.19]}\n",
    "\"\"\""
   ]
  },
  {
   "cell_type": "code",
   "execution_count": 2,
   "metadata": {},
   "outputs": [],
   "source": [
    "\"\"\"\n",
    "用正则表达式解析出城市的坐标\n",
    "\"\"\"\n",
    "import re\n",
    "\n",
    "def get_city_info(city_coordination):\n",
    "    city_location = {}\n",
    "    for line in city_coordination.split(\"\\n\"):\n",
    "        if line.startswith(\"//\"): continue\n",
    "        if line.strip() == \"\": continue\n",
    "            \n",
    "        city = re.findall(\"name:'(\\w+)'\",line)[0]\n",
    "        x_y = re.findall(\"Coord:\\[(\\d+.\\d+),\\s(\\d+.\\d+)\\]\",line)[0]\n",
    "        x_y = tuple(map(float,x_y))\n",
    "        city_location[city] = x_y\n",
    "    return city_location   "
   ]
  },
  {
   "cell_type": "code",
   "execution_count": 3,
   "metadata": {},
   "outputs": [],
   "source": [
    "city_info = get_city_info(coordination_source)"
   ]
  },
  {
   "cell_type": "code",
   "execution_count": 4,
   "metadata": {},
   "outputs": [
    {
     "data": {
      "text/plain": [
       "{'兰州': (103.73, 36.03),\n",
       " '嘉峪关': (98.17, 39.47),\n",
       " '西宁': (101.74, 36.56),\n",
       " '成都': (104.06, 30.67),\n",
       " '石家庄': (114.48, 38.03),\n",
       " '拉萨': (102.73, 25.04),\n",
       " '贵阳': (106.71, 26.57),\n",
       " '武汉': (114.31, 30.52),\n",
       " '郑州': (113.65, 34.76),\n",
       " '济南': (117.0, 36.65),\n",
       " '南京': (118.78, 32.04),\n",
       " '合肥': (117.27, 31.86),\n",
       " '杭州': (120.19, 30.26),\n",
       " '南昌': (115.89, 28.68),\n",
       " '福州': (119.3, 26.08),\n",
       " '广州': (113.23, 23.16),\n",
       " '长沙': (113.0, 28.21),\n",
       " '沈阳': (123.38, 41.8),\n",
       " '长春': (125.35, 43.88),\n",
       " '哈尔滨': (126.63, 45.75),\n",
       " '太原': (112.53, 37.87),\n",
       " '西安': (108.95, 34.27),\n",
       " '北京': (116.46, 39.92),\n",
       " '上海': (121.48, 31.22),\n",
       " '重庆': (106.54, 29.59),\n",
       " '天津': (117.2, 39.13),\n",
       " '呼和浩特': (111.65, 40.82),\n",
       " '南宁': (108.33, 22.84),\n",
       " '银川': (106.27, 38.47),\n",
       " '乌鲁木齐': (87.68, 43.77),\n",
       " '香港': (114.17, 22.28),\n",
       " '澳门': (113.54, 22.19)}"
      ]
     },
     "execution_count": 4,
     "metadata": {},
     "output_type": "execute_result"
    }
   ],
   "source": [
    "city_info"
   ]
  },
  {
   "cell_type": "code",
   "execution_count": 5,
   "metadata": {},
   "outputs": [],
   "source": [
    "\"\"\"\n",
    "计算两地距离\n",
    "\"\"\"\n",
    "\n",
    "import math\n",
    "\n",
    "def geo_distance(origin, destination):\n",
    "    \"\"\"\n",
    "    Calculate the Haversine distance.\n",
    "\n",
    "    Parameters\n",
    "    ----------\n",
    "    origin : tuple of float\n",
    "        (lat, long)\n",
    "    destination : tuple of float\n",
    "        (lat, long)\n",
    "\n",
    "    Returns\n",
    "    -------\n",
    "    distance_in_km : float\n",
    "\n",
    "    Examples\n",
    "    --------\n",
    "    >>> origin = (48.1372, 11.5756)  # Munich\n",
    "    >>> destination = (52.5186, 13.4083)  # Berlin\n",
    "    >>> round(distance(origin, destination), 1)\n",
    "    504.2\n",
    "    \"\"\"\n",
    "    lon1, lat1 = origin\n",
    "    lon2, lat2 = destination\n",
    "    radius = 6371  # km\n",
    "\n",
    "    dlat = math.radians(lat2 - lat1)\n",
    "    dlon = math.radians(lon2 - lon1)\n",
    "    a = (math.sin(dlat / 2) * math.sin(dlat / 2) +\n",
    "         math.cos(math.radians(lat1)) * math.cos(math.radians(lat2)) *\n",
    "         math.sin(dlon / 2) * math.sin(dlon / 2))\n",
    "    c = 2 * math.atan2(math.sqrt(a), math.sqrt(1 - a))\n",
    "    d = radius * c\n",
    "\n",
    "    return d"
   ]
  },
  {
   "cell_type": "code",
   "execution_count": 6,
   "metadata": {},
   "outputs": [
    {
     "data": {
      "text/plain": [
       "163.0760821403945"
      ]
     },
     "execution_count": 6,
     "metadata": {},
     "output_type": "execute_result"
    }
   ],
   "source": [
    "def get_city_distance(city1,city2):\n",
    "    return geo_distance(city_info[city1],city_info[city2])\n",
    "\n",
    "get_city_distance(\"杭州\",\"上海\")   "
   ]
  },
  {
   "cell_type": "code",
   "execution_count": 7,
   "metadata": {},
   "outputs": [
    {
     "data": {
      "text/plain": [
       "163.07630739067204"
      ]
     },
     "execution_count": 7,
     "metadata": {},
     "output_type": "execute_result"
    }
   ],
   "source": [
    "\"\"\"\n",
    "用现成的包计算两地距离\n",
    "\"\"\"\n",
    "from haversine import haversine\n",
    "\n",
    "def get_city_distance2(city1,city2):\n",
    "    lon1,lat1 = city_info[city1]\n",
    "    lon2,lat2 = city_info[city2]\n",
    "    return haversine([lat1,lon1],[lat2,lon2])\n",
    "\n",
    "get_city_distance2(\"杭州\",\"上海\")"
   ]
  },
  {
   "cell_type": "code",
   "execution_count": 8,
   "metadata": {},
   "outputs": [],
   "source": [
    "\"\"\"\n",
    "用networkx可视化\n",
    "\"\"\"\n",
    "\n",
    "import networkx as nx\n",
    "import matplotlib.pyplot as plt"
   ]
  },
  {
   "cell_type": "code",
   "execution_count": 9,
   "metadata": {},
   "outputs": [
    {
     "data": {
      "text/plain": [
       "dict_keys(['兰州', '嘉峪关', '西宁', '成都', '石家庄', '拉萨', '贵阳', '武汉', '郑州', '济南', '南京', '合肥', '杭州', '南昌', '福州', '广州', '长沙', '沈阳', '长春', '哈尔滨', '太原', '西安', '北京', '上海', '重庆', '天津', '呼和浩特', '南宁', '银川', '乌鲁木齐', '香港', '澳门'])"
      ]
     },
     "execution_count": 9,
     "metadata": {},
     "output_type": "execute_result"
    }
   ],
   "source": [
    "city_info.keys()"
   ]
  },
  {
   "cell_type": "code",
   "execution_count": 10,
   "metadata": {},
   "outputs": [
    {
     "data": {
      "image/png": "[encoded data removed]",
      "text/plain": [
       "<Figure size 432x288 with 1 Axes>"
      ]
     },
     "metadata": {},
     "output_type": "display_data"
    }
   ],
   "source": [
    "city_graph = nx.Graph()\n",
    "city_graph.add_nodes_from(list(city_info.keys()))\n",
    "nx.draw(city_graph,city_info,with_labels=True,node_size=30)"
   ]
  },
  {
   "cell_type": "code",
   "execution_count": 11,
   "metadata": {},
   "outputs": [],
   "source": [
    "\"\"\"\n",
    "假设两个城市之间的距离为700公里以内就是相邻的，\n",
    "建立城市之间的联系\n",
    "\"\"\" \n",
    "\n",
    "from collections import defaultdict\n",
    "\n",
    "threshold = 700\n",
    "def build_connection(city_info):\n",
    "    cities_connection = defaultdict(list)\n",
    "    cities = list(city_info.keys())\n",
    "    for c1 in cities:\n",
    "        for c2 in cities:\n",
    "            if c1 == c2: continue\n",
    "            \n",
    "            if get_city_distance(c1,c2) < threshold:\n",
    "                cities_connection[c1].append(c2)\n",
    "    return cities_connection\n",
    "\n",
    "cities_connection = build_connection(city_info)"
   ]
  },
  {
   "cell_type": "code",
   "execution_count": 12,
   "metadata": {},
   "outputs": [
    {
     "data": {
      "text/plain": [
       "defaultdict(list,\n",
       "            {'兰州': ['嘉峪关', '西宁', '成都', '西安', '银川'],\n",
       "             '嘉峪关': ['兰州', '西宁'],\n",
       "             '西宁': ['兰州', '嘉峪关', '成都', '银川'],\n",
       "             '成都': ['兰州', '西宁', '拉萨', '贵阳', '西安', '重庆'],\n",
       "             '石家庄': ['郑州', '济南', '太原', '西安', '北京', '天津', '呼和浩特'],\n",
       "             '拉萨': ['成都', '贵阳', '重庆', '南宁'],\n",
       "             '贵阳': ['成都', '拉萨', '长沙', '重庆', '南宁'],\n",
       "             '武汉': ['郑州', '南京', '合肥', '杭州', '南昌', '福州', '长沙', '西安', '上海'],\n",
       "             '郑州': ['石家庄',\n",
       "              '武汉',\n",
       "              '济南',\n",
       "              '南京',\n",
       "              '合肥',\n",
       "              '太原',\n",
       "              '西安',\n",
       "              '北京',\n",
       "              '天津',\n",
       "              '呼和浩特'],\n",
       "             '济南': ['石家庄', '郑州', '南京', '合肥', '太原', '北京', '天津', '呼和浩特'],\n",
       "             '南京': ['武汉', '郑州', '济南', '合肥', '杭州', '南昌', '福州', '上海'],\n",
       "             '合肥': ['武汉', '郑州', '济南', '南京', '杭州', '南昌', '福州', '长沙', '上海'],\n",
       "             '杭州': ['武汉', '南京', '合肥', '南昌', '福州', '上海'],\n",
       "             '南昌': ['武汉', '南京', '合肥', '杭州', '福州', '广州', '长沙', '上海'],\n",
       "             '福州': ['武汉', '南京', '合肥', '杭州', '南昌', '广州', '长沙', '上海', '香港'],\n",
       "             '广州': ['南昌', '福州', '长沙', '南宁', '香港', '澳门'],\n",
       "             '长沙': ['贵阳', '武汉', '合肥', '南昌', '福州', '广州', '重庆', '香港', '澳门'],\n",
       "             '沈阳': ['长春', '哈尔滨', '北京', '天津'],\n",
       "             '长春': ['沈阳', '哈尔滨'],\n",
       "             '哈尔滨': ['沈阳', '长春'],\n",
       "             '太原': ['石家庄', '郑州', '济南', '西安', '北京', '天津', '呼和浩特', '银川'],\n",
       "             '西安': ['兰州', '成都', '石家庄', '武汉', '郑州', '太原', '重庆', '银川'],\n",
       "             '北京': ['石家庄', '郑州', '济南', '沈阳', '太原', '天津', '呼和浩特'],\n",
       "             '上海': ['武汉', '南京', '合肥', '杭州', '南昌', '福州'],\n",
       "             '重庆': ['成都', '拉萨', '贵阳', '长沙', '西安'],\n",
       "             '天津': ['石家庄', '郑州', '济南', '沈阳', '太原', '北京', '呼和浩特'],\n",
       "             '呼和浩特': ['石家庄', '郑州', '济南', '太原', '北京', '天津', '银川'],\n",
       "             '南宁': ['拉萨', '贵阳', '广州', '香港', '澳门'],\n",
       "             '银川': ['兰州', '西宁', '太原', '西安', '呼和浩特'],\n",
       "             '香港': ['福州', '广州', '长沙', '南宁', '澳门'],\n",
       "             '澳门': ['广州', '长沙', '南宁', '香港']})"
      ]
     },
     "execution_count": 12,
     "metadata": {},
     "output_type": "execute_result"
    }
   ],
   "source": [
    "cities_connection"
   ]
  },
  {
   "cell_type": "code",
   "execution_count": 13,
   "metadata": {},
   "outputs": [
    {
     "data": {
      "image/png": "[encoded data removed]",
      "text/plain": [
       "<Figure size 432x288 with 1 Axes>"
      ]
     },
     "metadata": {},
     "output_type": "display_data"
    }
   ],
   "source": [
    "\"\"\"\n",
    "用networkx画图\n",
    "\"\"\"\n",
    "cities_connection_graph = nx.Graph(cities_connection)\n",
    "nx.draw(cities_connection_graph, city_info, with_labels=True,node_size=30)"
   ]
  },
  {
   "cell_type": "code",
   "execution_count": 14,
   "metadata": {},
   "outputs": [],
   "source": [
    "\"\"\"\n",
    "用BFS或DFS进行搜索，\n",
    "代码上只有一处差别\n",
    "\"\"\"\n",
    "def search(graph, start, destination,strategy):\n",
    "    pathes = [[start]]\n",
    "    visited = set()\n",
    "    \n",
    "    while pathes:\n",
    "        path = pathes.pop(0)\n",
    "        frontier = path[-1]\n",
    "        \n",
    "        if frontier in visited: continue\n",
    "        successors = graph[frontier]\n",
    "        \n",
    "        for city in successors:\n",
    "            if city in path: continue\n",
    "            \n",
    "            new_path = path + [city]\n",
    "            \n",
    "            if strategy == 'bfs':\n",
    "                pathes.append(new_path)  \n",
    "            elif strategy == 'dfs':\n",
    "                pathes = [new_path] + pathes  \n",
    "            \n",
    "            if city == destination:\n",
    "                return new_path\n",
    "            \n",
    "        visited.add(frontier)"
   ]
  },
  {
   "cell_type": "code",
   "execution_count": 15,
   "metadata": {},
   "outputs": [
    {
     "data": {
      "text/plain": [
       "['上海', '福州', '香港']"
      ]
     },
     "execution_count": 15,
     "metadata": {},
     "output_type": "execute_result"
    }
   ],
   "source": [
    "search(cities_connection,\"上海\",\"香港\",\"bfs\")"
   ]
  },
  {
   "cell_type": "code",
   "execution_count": 16,
   "metadata": {},
   "outputs": [
    {
     "data": {
      "text/plain": [
       "['上海', '福州', '香港']"
      ]
     },
     "execution_count": 16,
     "metadata": {},
     "output_type": "execute_result"
    }
   ],
   "source": [
    "search(cities_connection,\"上海\",\"香港\",\"dfs\")"
   ]
  },
  {
   "cell_type": "code",
   "execution_count": 17,
   "metadata": {},
   "outputs": [],
   "source": [
    "\"\"\"\n",
    "上面的代码，只要找到了路径，就返回，没有考虑最短路径；\n",
    "下面修改代码，用bfs找到最短路径\n",
    "\"\"\"\n",
    "def get_distance_of_path(path):\n",
    "    distance = 0\n",
    "    for i,_ in enumerate(path[:-1]):\n",
    "        distance += get_city_distance(path[i],path[i+1])\n",
    "    return distance\n",
    "    \n",
    "def sort_by_distance(pathes):\n",
    "    return sorted(pathes,key=get_distance_of_path)\n",
    "\n",
    "def search_shortest(graph,start,destination,search_strategy):\n",
    "    pathes = [[start]]\n",
    "    \n",
    "    while pathes:\n",
    "        path = pathes.pop(0)\n",
    "        frontier = path[-1]\n",
    "        successors = graph[frontier]\n",
    "        \n",
    "        for city in successors:\n",
    "            if city in path: continue\n",
    "                \n",
    "            new_path = path + [city]\n",
    "            pathes.append(new_path)\n",
    "            \n",
    "        pathes = search_strategy(pathes)\n",
    "        if pathes and (destination == pathes[0][-1]):\n",
    "            return pathes[0]"
   ]
  },
  {
   "cell_type": "code",
   "execution_count": 18,
   "metadata": {},
   "outputs": [
    {
     "data": {
      "text/plain": [
       "1098.11914332829"
      ]
     },
     "execution_count": 18,
     "metadata": {},
     "output_type": "execute_result"
    }
   ],
   "source": [
    "get_distance_of_path([\"北京\",\"济南\",\"上海\"])"
   ]
  },
  {
   "cell_type": "code",
   "execution_count": 19,
   "metadata": {},
   "outputs": [
    {
     "data": {
      "text/plain": [
       "1069.7878955717392"
      ]
     },
     "execution_count": 19,
     "metadata": {},
     "output_type": "execute_result"
    }
   ],
   "source": [
    "get_distance_of_path([\"北京\",\"天津\",\"上海\"])"
   ]
  },
  {
   "cell_type": "code",
   "execution_count": 20,
   "metadata": {},
   "outputs": [
    {
     "data": {
      "text/plain": [
       "['北京', '济南', '南京', '上海']"
      ]
     },
     "execution_count": 20,
     "metadata": {},
     "output_type": "execute_result"
    }
   ],
   "source": [
    "search_shortest(cities_connection,\"北京\",\"上海\",search_strategy=sort_by_distance)"
   ]
  },
  {
   "cell_type": "markdown",
   "metadata": {},
   "source": [
    "### 1-2 机器学习初步：波斯顿房价预测与梯度下降"
   ]
  },
  {
   "cell_type": "code",
   "execution_count": 21,
   "metadata": {},
   "outputs": [],
   "source": [
    "import random\n",
    "from sklearn.datasets import load_boston"
   ]
  },
  {
   "cell_type": "code",
   "execution_count": 22,
   "metadata": {},
   "outputs": [],
   "source": [
    "dataset = load_boston()"
   ]
  },
  {
   "cell_type": "code",
   "execution_count": 23,
   "metadata": {},
   "outputs": [],
   "source": [
    "x,y = dataset[\"data\"], dataset[\"target\"]"
   ]
  },
  {
   "cell_type": "code",
   "execution_count": 24,
   "metadata": {},
   "outputs": [
    {
     "data": {
      "text/plain": [
       "(506, 13)"
      ]
     },
     "execution_count": 24,
     "metadata": {},
     "output_type": "execute_result"
    }
   ],
   "source": [
    "x.shape"
   ]
  },
  {
   "cell_type": "code",
   "execution_count": 25,
   "metadata": {},
   "outputs": [
    {
     "data": {
      "text/plain": [
       "(506,)"
      ]
     },
     "execution_count": 25,
     "metadata": {},
     "output_type": "execute_result"
    }
   ],
   "source": [
    "y.shape"
   ]
  },
  {
   "cell_type": "code",
   "execution_count": 26,
   "metadata": {},
   "outputs": [
    {
     "data": {
      "text/plain": [
       "array(['CRIM', 'ZN', 'INDUS', 'CHAS', 'NOX', 'RM', 'AGE', 'DIS', 'RAD',\n",
       "       'TAX', 'PTRATIO', 'B', 'LSTAT'], dtype='<U7')"
      ]
     },
     "execution_count": 26,
     "metadata": {},
     "output_type": "execute_result"
    }
   ],
   "source": [
    "dataset.feature_names"
   ]
  },
  {
   "cell_type": "code",
   "execution_count": 27,
   "metadata": {},
   "outputs": [
    {
     "name": "stdout",
     "output_type": "stream",
     "text": [
      "('Boston House Prices dataset\\n'\n",
      " '===========================\\n'\n",
      " '\\n'\n",
      " 'Notes\\n'\n",
      " '------\\n'\n",
      " 'Data Set Characteristics:  \\n'\n",
      " '\\n'\n",
      " '    :Number of Instances: 506 \\n'\n",
      " '\\n'\n",
      " '    :Number of Attributes: 13 numeric/categorical predictive\\n'\n",
      " '    \\n'\n",
      " '    :Median Value (attribute 14) is usually the target\\n'\n",
      " '\\n'\n",
      " '    :Attribute Information (in order):\\n'\n",
      " '        - CRIM     per capita crime rate by town\\n'\n",
      " '        - ZN       proportion of residential land zoned for lots over 25,000 '\n",
      " 'sq.ft.\\n'\n",
      " '        - INDUS    proportion of non-retail business acres per town\\n'\n",
      " '        - CHAS     Charles River dummy variable (= 1 if tract bounds river; '\n",
      " '0 otherwise)\\n'\n",
      " '        - NOX      nitric oxides concentration (parts per 10 million)\\n'\n",
      " '        - RM       average number of rooms per dwelling\\n'\n",
      " '        - AGE      proportion of owner-occupied units built prior to 1940\\n'\n",
      " '        - DIS      weighted distances to five Boston employment centres\\n'\n",
      " '        - RAD      index of accessibility to radial highways\\n'\n",
      " '        - TAX      full-value property-tax rate per $10,000\\n'\n",
      " '        - PTRATIO  pupil-teacher ratio by town\\n'\n",
      " '        - B        1000(Bk - 0.63)^2 where Bk is the proportion of blacks by '\n",
      " 'town\\n'\n",
      " '        - LSTAT    % lower status of the population\\n'\n",
      " \"        - MEDV     Median value of owner-occupied homes in $1000's\\n\"\n",
      " '\\n'\n",
      " '    :Missing Attribute Values: None\\n'\n",
      " '\\n'\n",
      " '    :Creator: Harrison, D. and Rubinfeld, D.L.\\n'\n",
      " '\\n'\n",
      " 'This is a copy of UCI ML housing dataset.\\n'\n",
      " 'http://archive.ics.uci.edu/ml/datasets/Housing\\n'\n",
      " '\\n'\n",
      " '\\n'\n",
      " 'This dataset was taken from the StatLib library which is maintained at '\n",
      " 'Carnegie Mellon University.\\n'\n",
      " '\\n'\n",
      " \"The Boston house-price data of Harrison, D. and Rubinfeld, D.L. 'Hedonic\\n\"\n",
      " \"prices and the demand for clean air', J. Environ. Economics & Management,\\n\"\n",
      " \"vol.5, 81-102, 1978.   Used in Belsley, Kuh & Welsch, 'Regression \"\n",
      " 'diagnostics\\n'\n",
      " \"...', Wiley, 1980.   N.B. Various transformations are used in the table on\\n\"\n",
      " 'pages 244-261 of the latter.\\n'\n",
      " '\\n'\n",
      " 'The Boston house-price data has been used in many machine learning papers '\n",
      " 'that address regression\\n'\n",
      " 'problems.   \\n'\n",
      " '     \\n'\n",
      " '**References**\\n'\n",
      " '\\n'\n",
      " \"   - Belsley, Kuh & Welsch, 'Regression diagnostics: Identifying Influential \"\n",
      " \"Data and Sources of Collinearity', Wiley, 1980. 244-261.\\n\"\n",
      " '   - Quinlan,R. (1993). Combining Instance-Based and Model-Based Learning. '\n",
      " 'In Proceedings on the Tenth International Conference of Machine Learning, '\n",
      " '236-243, University of Massachusetts, Amherst. Morgan Kaufmann.\\n'\n",
      " '   - many more! (see http://archive.ics.uci.edu/ml/datasets/Housing)\\n')\n"
     ]
    }
   ],
   "source": [
    "from pprint import pprint\n",
    "\n",
    "pprint(dataset[\"DESCR\"])"
   ]
  },
  {
   "cell_type": "code",
   "execution_count": 28,
   "metadata": {},
   "outputs": [
    {
     "data": {
      "text/plain": [
       "<matplotlib.collections.PathCollection at 0x7ff5ba9deb00>"
      ]
     },
     "execution_count": 28,
     "metadata": {},
     "output_type": "execute_result"
    },
    {
     "data": {
      "image/png": "[encoded data removed]",
      "text/plain": [
       "<Figure size 432x288 with 1 Axes>"
      ]
     },
     "metadata": {
      "needs_background": "light"
     },
     "output_type": "display_data"
    }
   ],
   "source": [
    "X_rm = x[:,5]\n",
    "\n",
    "plt.scatter(X_rm,y)"
   ]
  },
  {
   "cell_type": "code",
   "execution_count": 29,
   "metadata": {},
   "outputs": [],
   "source": [
    "\"\"\"\n",
    "假设目标函数为一元线性回归函数，\n",
    "用梯度下降来求参数\n",
    "\"\"\"\n",
    "\n",
    "def price(rm,k,b):\n",
    "    return k * rm + b"
   ]
  },
  {
   "cell_type": "code",
   "execution_count": 30,
   "metadata": {},
   "outputs": [],
   "source": [
    "\"\"\"\n",
    "定义损失函数为平方误差损失函数\n",
    "\"\"\"\n",
    "\n",
    "def loss(y,y_hat):\n",
    "    return sum((y_i - y_hat_i)**2 for y_i, y_hat_i in zip(list(y),list(y_hat))) / len(list(y))"
   ]
  },
  {
   "cell_type": "code",
   "execution_count": 31,
   "metadata": {},
   "outputs": [],
   "source": [
    "\"\"\"\n",
    "计算损失关于k和b的偏导数\n",
    "\"\"\"\n",
    "\n",
    "def partial_derivative_k(x,y,y_hat):\n",
    "    n = len(y)\n",
    "    gradient = 0\n",
    "    for x_i,y_i,y_hat_i in zip(list(x),list(y),list(y_hat)):\n",
    "        gradient += (y_i - y_hat_i) * x_i\n",
    "    return -2/n * gradient\n",
    "\n",
    "def partial_derivative_b(y,y_hat):\n",
    "    n = len(y)\n",
    "    gradient = 0\n",
    "    for y_i,y_hat_i in zip(list(y),list(y_hat)):\n",
    "        gradient += (y_i - y_hat_i)\n",
    "    return -2/n * gradient"
   ]
  },
  {
   "cell_type": "code",
   "execution_count": 107,
   "metadata": {},
   "outputs": [
    {
     "name": "stdout",
     "output_type": "stream",
     "text": [
      "Iteration 0, the loss is 33149.22244449642, parameters k is -12.709483552795106 and b is -78.89696770362373\n",
      "Iteration 1, the loss is 1140.5245578596275, parameters k is 10.294061938879953 and b is -75.27088307544149\n",
      "Iteration 2, the loss is 98.19579367236632, parameters k is 14.443910155836914 and b is -74.60869760038273\n",
      "Iteration 3, the loss is 64.24469914345993, parameters k is 15.191533952972643 and b is -74.48136141095671\n",
      "Iteration 4, the loss is 63.130055391478, parameters k is 15.325213108182776 and b is -74.45054278980484\n",
      "Iteration 5, the loss is 63.084690331563436, parameters k is 15.348103805471808 and b is -74.43714303339013\n",
      "Iteration 6, the loss is 63.074149237747626, parameters k is 15.351002580878234 and b is -74.42688846537037\n",
      "Iteration 7, the loss is 63.0647464976737, parameters k is 15.350294030655238 and b is -74.41720334358301\n",
      "Iteration 8, the loss is 63.05538518312525, parameters k is 15.34893482034087 and b is -74.40762286464947\n",
      "Iteration 9, the loss is 63.04602957203301, parameters k is 15.347458491928629 and b is -74.39806315249697\n",
      "Iteration 10, the loss is 63.03667849906207, parameters k is 15.345961325123683 and b is -74.38850907090139\n",
      "Iteration 11, the loss is 63.02733192417218, parameters k is 15.344460693910866 and b is -74.37895788801801\n",
      "Iteration 12, the loss is 63.017989843967264, parameters k is 15.342959733423722 and b is -74.36940911042183\n",
      "Iteration 13, the loss is 63.00865225624589, parameters k is 15.341459009338424 and b is -74.35986264861974\n",
      "Iteration 14, the loss is 62.99931915884625, parameters k is 15.339958623662351 and b is -74.35031848600985\n",
      "Iteration 15, the loss is 62.989990549609054, parameters k is 15.338458594732025 and b is -74.34077661914388\n",
      "Iteration 16, the loss is 62.98066642637594, parameters k is 15.336958925785238 and b is -74.33123704694728\n",
      "Iteration 17, the loss is 62.97134678698969, parameters k is 15.33545961733518 and b is -74.32169976877395\n",
      "Iteration 18, the loss is 62.96203162929409, parameters k is 15.333960669403389 and b is -74.31216478405524\n",
      "Iteration 19, the loss is 62.952720951133884, parameters k is 15.332462081922698 and b is -74.30263209223656\n",
      "Iteration 20, the loss is 62.943414750355025, parameters k is 15.330963854809955 and b is -74.29310169276599\n",
      "Iteration 21, the loss is 62.93411302480438, parameters k is 15.329465987979136 and b is -74.28357358509217\n",
      "Iteration 22, the loss is 62.92481577232978, parameters k is 15.32796848134372 and b is -74.27404776866398\n",
      "Iteration 23, the loss is 62.91552299078031, parameters k is 15.32647133481711 and b is -74.26452424293042\n",
      "Iteration 24, the loss is 62.90623467800586, parameters k is 15.324974548312714 and b is -74.25500300734066\n",
      "Iteration 25, the loss is 62.89695083185736, parameters k is 15.323478121743957 and b is -74.24548406134397\n",
      "Iteration 26, the loss is 62.88767145018721, parameters k is 15.321982055024282 and b is -74.23596740438977\n",
      "Iteration 27, the loss is 62.8783965308482, parameters k is 15.320486348067158 and b is -74.2264530359276\n",
      "Iteration 28, the loss is 62.869126071694566, parameters k is 15.318991000786072 and b is -74.21694095540717\n",
      "Iteration 29, the loss is 62.85986007058146, parameters k is 15.317496013094532 and b is -74.20743116227827\n",
      "Iteration 30, the loss is 62.85059852536497, parameters k is 15.316001384906068 and b is -74.19792365599085\n",
      "Iteration 31, the loss is 62.84134143390246, parameters k is 15.314507116134227 and b is -74.18841843599498\n",
      "Iteration 32, the loss is 62.83208879405207, parameters k is 15.313013206692577 and b is -74.17891550174087\n",
      "Iteration 33, the loss is 62.82284060367316, parameters k is 15.311519656494713 and b is -74.16941485267888\n",
      "Iteration 34, the loss is 62.81359686062601, parameters k is 15.310026465454246 and b is -74.15991648825948\n",
      "Iteration 35, the loss is 62.80435756277194, parameters k is 15.30853363348481 and b is -74.15042040793327\n",
      "Iteration 36, the loss is 62.79512270797334, parameters k is 15.307041160500056 and b is -74.14092661115099\n",
      "Iteration 37, the loss is 62.78589229409361, parameters k is 15.305549046413658 and b is -74.13143509736351\n",
      "Iteration 38, the loss is 62.776666318997144, parameters k is 15.304057291139312 and b is -74.12194586602183\n",
      "Iteration 39, the loss is 62.76744478054935, parameters k is 15.302565894590733 and b is -74.1124589165771\n",
      "Iteration 40, the loss is 62.75822767661674, parameters k is 15.30107485668166 and b is -74.10297424848056\n",
      "Iteration 41, the loss is 62.74901500506695, parameters k is 15.299584177325846 and b is -74.09349186118365\n",
      "Iteration 42, the loss is 62.739806763768236, parameters k is 15.298093856437072 and b is -74.08401175413786\n",
      "Iteration 43, the loss is 62.73060295059038, parameters k is 15.296603893929136 and b is -74.07453392679489\n",
      "Iteration 44, the loss is 62.72140356340389, parameters k is 15.295114289715857 and b is -74.0650583786065\n",
      "Iteration 45, the loss is 62.71220860008026, parameters k is 15.293625043711074 and b is -74.05558510902463\n",
      "Iteration 46, the loss is 62.70301805849228, parameters k is 15.29213615582865 and b is -74.04611411750135\n",
      "Iteration 47, the loss is 62.69383193651353, parameters k is 15.290647625982464 and b is -74.03664540348883\n",
      "Iteration 48, the loss is 62.684650232018555, parameters k is 15.28915945408642 and b is -74.02717896643941\n",
      "Iteration 49, the loss is 62.675472942883246, parameters k is 15.287671640054441 and b is -74.01771480580553\n",
      "Iteration 50, the loss is 62.66630006698418, parameters k is 15.286184183800469 and b is -74.00825292103977\n",
      "Iteration 51, the loss is 62.65713160219919, parameters k is 15.284697085238468 and b is -73.99879331159487\n",
      "Iteration 52, the loss is 62.64796754640697, parameters k is 15.283210344282427 and b is -73.98933597692366\n",
      "Iteration 53, the loss is 62.63880789748721, parameters k is 15.281723960846348 and b is -73.97988091647912\n",
      "Iteration 54, the loss is 62.62965265332088, parameters k is 15.280237934844257 and b is -73.97042812971438\n",
      "Iteration 55, the loss is 62.62050181178968, parameters k is 15.278752266190205 and b is -73.96097761608266\n",
      "Iteration 56, the loss is 62.611355370776465, parameters k is 15.277266954798256 and b is -73.95152937503735\n",
      "Iteration 57, the loss is 62.60221332816517, parameters k is 15.275782000582499 and b is -73.94208340603195\n",
      "Iteration 58, the loss is 62.593075681840475, parameters k is 15.274297403457044 and b is -73.9326397085201\n",
      "Iteration 59, the loss is 62.58394242968838, parameters k is 15.27281316333602 and b is -73.92319828195556\n",
      "Iteration 60, the loss is 62.57481356959582, parameters k is 15.271329280133576 and b is -73.91375912579225\n",
      "Iteration 61, the loss is 62.56568909945062, parameters k is 15.269845753763887 and b is -73.90432223948419\n",
      "Iteration 62, the loss is 62.55656901714179, parameters k is 15.268362584141142 and b is -73.89488762248553\n",
      "Iteration 63, the loss is 62.54745332055921, parameters k is 15.266879771179553 and b is -73.88545527425057\n",
      "Iteration 64, the loss is 62.53834200759391, parameters k is 15.265397314793352 and b is -73.87602519423376\n",
      "Iteration 65, the loss is 62.52923507613791, parameters k is 15.263915214896796 and b is -73.86659738188963\n",
      "Iteration 66, the loss is 62.52013252408399, parameters k is 15.262433471404158 and b is -73.85717183667288\n",
      "Iteration 67, the loss is 62.51103434932643, parameters k is 15.26095208422973 and b is -73.84774855803832\n",
      "Iteration 68, the loss is 62.50194054976006, parameters k is 15.259471053287829 and b is -73.8383275454409\n",
      "Iteration 69, the loss is 62.492851123280886, parameters k is 15.257990378492792 and b is -73.8289087983357\n",
      "Iteration 70, the loss is 62.48376606778603, parameters k is 15.256510059758973 and b is -73.81949231617794\n",
      "Iteration 71, the loss is 62.474685381173614, parameters k is 15.25503009700075 and b is -73.81007809842296\n",
      "Iteration 72, the loss is 62.465609061342526, parameters k is 15.253550490132524 and b is -73.80066614452623\n",
      "Iteration 73, the loss is 62.456537106193025, parameters k is 15.252071239068709 and b is -73.79125645394336\n",
      "Iteration 74, the loss is 62.447469513626025, parameters k is 15.250592343723746 and b is -73.78184902613009\n",
      "Iteration 75, the loss is 62.43840628154374, parameters k is 15.249113804012094 and b is -73.77244386054227\n",
      "Iteration 76, the loss is 62.42934740784912, parameters k is 15.247635619848232 and b is -73.7630409566359\n",
      "Iteration 77, the loss is 62.42029289044655, parameters k is 15.246157791146663 and b is -73.75364031386714\n",
      "Iteration 78, the loss is 62.41124272724087, parameters k is 15.244680317821908 and b is -73.74424193169222\n",
      "Iteration 79, the loss is 62.402196916138294, parameters k is 15.243203199788507 and b is -73.73484580956753\n",
      "Iteration 80, the loss is 62.39315545504598, parameters k is 15.241726436961024 and b is -73.72545194694959\n",
      "Iteration 81, the loss is 62.38411834187212, parameters k is 15.240250029254039 and b is -73.71606034329507\n",
      "Iteration 82, the loss is 62.375085574525706, parameters k is 15.23877397658216 and b is -73.70667099806073\n",
      "Iteration 83, the loss is 62.366057150917, parameters k is 15.237298278860004 and b is -73.69728391070349\n",
      "Iteration 84, the loss is 62.357033068957215, parameters k is 15.235822936002222 and b is -73.6878990806804\n",
      "Iteration 85, the loss is 62.348013326558345, parameters k is 15.234347947923476 and b is -73.67851650744862\n",
      "Iteration 86, the loss is 62.338997921633634, parameters k is 15.232873314538452 and b is -73.66913619046547\n",
      "Iteration 87, the loss is 62.32998685209726, parameters k is 15.231399035761855 and b is -73.65975812918838\n",
      "Iteration 88, the loss is 62.32098011586439, parameters k is 15.229925111508415 and b is -73.65038232307491\n",
      "Iteration 89, the loss is 62.311977710851174, parameters k is 15.228451541692875 and b is -73.64100877158276\n",
      "Iteration 90, the loss is 62.30297963497482, parameters k is 15.226978326230004 and b is -73.63163747416976\n",
      "Iteration 91, the loss is 62.293985886153465, parameters k is 15.225505465034592 and b is -73.62226843029386\n",
      "Iteration 92, the loss is 62.2849964623063, parameters k is 15.224032958021445 and b is -73.61290163941314\n",
      "Iteration 93, the loss is 62.27601136135358, parameters k is 15.22256080510539 and b is -73.60353710098583\n",
      "Iteration 94, the loss is 62.2670305812163, parameters k is 15.22108900620128 and b is -73.59417481447028\n",
      "Iteration 95, the loss is 62.25805411981682, parameters k is 15.219617561223986 and b is -73.58481477932496\n",
      "Iteration 96, the loss is 62.24908197507818, parameters k is 15.218146470088396 and b is -73.57545699500847\n",
      "Iteration 97, the loss is 62.24011414492464, parameters k is 15.216675732709419 and b is -73.56610146097955\n",
      "Iteration 98, the loss is 62.231150627281345, parameters k is 15.215205349001991 and b is -73.55674817669708\n",
      "Iteration 99, the loss is 62.222191420074545, parameters k is 15.21373531888106 and b is -73.54739714162007\n",
      "Iteration 100, the loss is 62.21323652123121, parameters k is 15.2122656422616 and b is -73.53804835520762\n",
      "Iteration 101, the loss is 62.20428592867973, parameters k is 15.210796319058606 and b is -73.528701816919\n",
      "Iteration 102, the loss is 62.19533964034916, parameters k is 15.209327349187085 and b is -73.5193575262136\n",
      "Iteration 103, the loss is 62.1863976541696, parameters k is 15.207858732562075 and b is -73.51001548255093\n",
      "Iteration 104, the loss is 62.17745996807227, parameters k is 15.20639046909863 and b is -73.50067568539065\n",
      "Iteration 105, the loss is 62.16852657998937, parameters k is 15.204922558711822 and b is -73.49133813419253\n",
      "Iteration 106, the loss is 62.15959748785397, parameters k is 15.203455001316748 and b is -73.48200282841648\n",
      "Iteration 107, the loss is 62.15067268960014, parameters k is 15.201987796828522 and b is -73.47266976752255\n",
      "Iteration 108, the loss is 62.14175218316322, parameters k is 15.20052094516228 and b is -73.4633389509709\n",
      "Iteration 109, the loss is 62.1328359664792, parameters k is 15.19905444623318 and b is -73.45401037822182\n",
      "Iteration 110, the loss is 62.12392403748516, parameters k is 15.197588299956397 and b is -73.44468404873575\n",
      "Iteration 111, the loss is 62.11501639411921, parameters k is 15.196122506247129 and b is -73.43535996197325\n",
      "Iteration 112, the loss is 62.10611303432055, parameters k is 15.194657065020591 and b is -73.426038117395\n",
      "Iteration 113, the loss is 62.09721395602913, parameters k is 15.193191976192022 and b is -73.4167185144618\n",
      "Iteration 114, the loss is 62.08831915718617, parameters k is 15.19172723967668 and b is -73.40740115263462\n",
      "Iteration 115, the loss is 62.079428635733606, parameters k is 15.190262855389843 and b is -73.39808603137453\n",
      "Iteration 116, the loss is 62.070542389614666, parameters k is 15.18879882324681 and b is -73.38877315014274\n",
      "Iteration 117, the loss is 62.06166041677325, parameters k is 15.187335143162901 and b is -73.37946250840058\n",
      "Iteration 118, the loss is 62.05278271515442, parameters k is 15.185871815053455 and b is -73.3701541056095\n",
      "Iteration 119, the loss is 62.04390928270421, parameters k is 15.18440883883383 and b is -73.36084794123111\n",
      "Iteration 120, the loss is 62.03504011736974, parameters k is 15.18294621441941 and b is -73.35154401472714\n",
      "Iteration 121, the loss is 62.02617521709888, parameters k is 15.181483941725592 and b is -73.34224232555944\n",
      "Iteration 122, the loss is 62.017314579840594, parameters k is 15.1800220206678 and b is -73.33294287318999\n",
      "Iteration 123, the loss is 62.00845820354499, parameters k is 15.178560451161474 and b is -73.3236456570809\n",
      "Iteration 124, the loss is 61.99960608616292, parameters k is 15.177099233122075 and b is -73.31435067669442\n",
      "Iteration 125, the loss is 61.99075822564645, parameters k is 15.175638366465087 and b is -73.3050579314929\n",
      "Iteration 126, the loss is 61.98191461994831, parameters k is 15.174177851106009 and b is -73.29576742093886\n",
      "Iteration 127, the loss is 61.97307526702262, parameters k is 15.172717686960366 and b is -73.28647914449492\n",
      "Iteration 128, the loss is 61.9642401648242, parameters k is 15.1712578739437 and b is -73.27719310162384\n",
      "Iteration 129, the loss is 61.955409311308834, parameters k is 15.169798411971573 and b is -73.26790929178851\n",
      "Iteration 130, the loss is 61.9465827044336, parameters k is 15.168339300959573 and b is -73.25862771445195\n",
      "Iteration 131, the loss is 61.937760342156054, parameters k is 15.1668805408233 and b is -73.2493483690773\n",
      "Iteration 132, the loss is 61.92894222243531, parameters k is 15.165422131478378 and b is -73.24007125512783\n",
      "Iteration 133, the loss is 61.92012834323103, parameters k is 15.163964072840452 and b is -73.23079637206695\n",
      "Iteration 134, the loss is 61.91131870250401, parameters k is 15.162506364825187 and b is -73.2215237193582\n",
      "Iteration 135, the loss is 61.902513298216114, parameters k is 15.16104900734827 and b is -73.21225329646524\n",
      "Iteration 136, the loss is 61.893712128329966, parameters k is 15.159592000325404 and b is -73.20298510285184\n",
      "Iteration 137, the loss is 61.88491519080936, parameters k is 15.158135343672312 and b is -73.19371913798194\n",
      "Iteration 138, the loss is 61.87612248361907, parameters k is 15.156679037304745 and b is -73.1844554013196\n",
      "Iteration 139, the loss is 61.86733400472468, parameters k is 15.155223081138464 and b is -73.17519389232898\n",
      "Iteration 140, the loss is 61.85854975209296, parameters k is 15.15376747508926 and b is -73.16593461047438\n",
      "Iteration 141, the loss is 61.84976972369147, parameters k is 15.152312219072938 and b is -73.15667755522026\n",
      "Iteration 142, the loss is 61.840993917488795, parameters k is 15.150857313005323 and b is -73.14742272603117\n",
      "Iteration 143, the loss is 61.8322223314547, parameters k is 15.149402756802264 and b is -73.1381701223718\n",
      "Iteration 144, the loss is 61.823454963559655, parameters k is 15.14794855037963 and b is -73.12891974370699\n",
      "Iteration 145, the loss is 61.81469181177523, parameters k is 15.146494693653304 and b is -73.11967158950166\n",
      "Iteration 146, the loss is 61.805932874073854, parameters k is 15.145041186539197 and b is -73.11042565922091\n",
      "Iteration 147, the loss is 61.797178148429246, parameters k is 15.143588028953234 and b is -73.10118195232994\n",
      "Iteration 148, the loss is 61.78842763281572, parameters k is 15.142135220811365 and b is -73.09194046829408\n",
      "Iteration 149, the loss is 61.779681325208756, parameters k is 15.140682762029558 and b is -73.08270120657882\n",
      "Iteration 150, the loss is 61.770939223584854, parameters k is 15.139230652523803 and b is -73.07346416664973\n",
      "Iteration 151, the loss is 61.76220132592131, parameters k is 15.137778892210108 and b is -73.06422934797254\n",
      "Iteration 152, the loss is 61.75346763019654, parameters k is 15.1363274810045 and b is -73.0549967500131\n",
      "Iteration 153, the loss is 61.744738134389934, parameters k is 15.134876418823032 and b is -73.0457663722374\n",
      "Iteration 154, the loss is 61.73601283648169, parameters k is 15.13342570558177 and b is -73.03653821411153\n",
      "Iteration 155, the loss is 61.72729173445318, parameters k is 15.131975341196805 and b is -73.02731227510174\n",
      "Iteration 156, the loss is 61.71857482628661, parameters k is 15.130525325584248 and b is -73.01808855467438\n",
      "Iteration 157, the loss is 61.70986210996535, parameters k is 15.129075658660227 and b is -73.00886705229595\n",
      "Iteration 158, the loss is 61.701153583473435, parameters k is 15.127626340340893 and b is -72.99964776743307\n",
      "Iteration 159, the loss is 61.6924492447961, parameters k is 15.126177370542415 and b is -72.9904306995525\n",
      "Iteration 160, the loss is 61.68374909191949, parameters k is 15.124728749180985 and b is -72.98121584812111\n",
      "Iteration 161, the loss is 61.67505312283063, parameters k is 15.123280476172814 and b is -72.9720032126059\n",
      "Iteration 162, the loss is 61.66636133551771, parameters k is 15.121832551434132 and b is -72.96279279247399\n",
      "Iteration 163, the loss is 61.65767372796965, parameters k is 15.120384974881187 and b is -72.95358458719267\n",
      "Iteration 164, the loss is 61.648990298176564, parameters k is 15.118937746430252 and b is -72.94437859622931\n",
      "Iteration 165, the loss is 61.64031104412932, parameters k is 15.11749086599762 and b is -72.93517481905144\n",
      "Iteration 166, the loss is 61.63163596381999, parameters k is 15.1160443334996 and b is -72.92597325512669\n",
      "Iteration 167, the loss is 61.62296505524137, parameters k is 15.114598148852524 and b is -72.91677390392286\n",
      "Iteration 168, the loss is 61.6142983163873, parameters k is 15.113152311972744 and b is -72.90757676490783\n",
      "Iteration 169, the loss is 61.60563574525278, parameters k is 15.11170682277663 and b is -72.89838183754964\n",
      "Iteration 170, the loss is 61.59697733983346, parameters k is 15.110261681180576 and b is -72.88918912131643\n",
      "Iteration 171, the loss is 61.58832309812623, parameters k is 15.108816887100993 and b is -72.87999861567651\n",
      "Iteration 172, the loss is 61.57967301812866, parameters k is 15.107372440454311 and b is -72.87081032009829\n",
      "Iteration 173, the loss is 61.57102709783949, parameters k is 15.105928341156984 and b is -72.8616242340503\n",
      "Iteration 174, the loss is 61.56238533525843, parameters k is 15.104484589125486 and b is -72.85244035700121\n",
      "Iteration 175, the loss is 61.553747728386035, parameters k is 15.103041184276304 and b is -72.84325868841984\n",
      "Iteration 176, the loss is 61.54511427522396, parameters k is 15.101598126525955 and b is -72.83407922777509\n",
      "Iteration 177, the loss is 61.536484973774705, parameters k is 15.10015541579097 and b is -72.82490197453602\n",
      "Iteration 178, the loss is 61.52785982204167, parameters k is 15.098713051987902 and b is -72.81572692817181\n",
      "Iteration 179, the loss is 61.51923881802946, parameters k is 15.097271035033323 and b is -72.80655408815177\n",
      "Iteration 180, the loss is 61.51062195974338, parameters k is 15.095829364843825 and b is -72.79738345394533\n",
      "Iteration 181, the loss is 61.502009245189846, parameters k is 15.09438804133602 and b is -72.78821502502205\n",
      "Iteration 182, the loss is 61.49340067237619, parameters k is 15.092947064426541 and b is -72.77904880085164\n",
      "Iteration 183, the loss is 61.48479623931073, parameters k is 15.091506434032041 and b is -72.7698847809039\n",
      "Iteration 184, the loss is 61.476195944002725, parameters k is 15.090066150069193 and b is -72.76072296464876\n",
      "Iteration 185, the loss is 61.4675997844623, parameters k is 15.08862621245469 and b is -72.75156335155633\n",
      "Iteration 186, the loss is 61.459007758700636, parameters k is 15.087186621105243 and b is -72.74240594109679\n",
      "Iteration 187, the loss is 61.45041986472996, parameters k is 15.085747375937588 and b is -72.73325073274047\n",
      "Iteration 188, the loss is 61.4418361005633, parameters k is 15.084308476868475 and b is -72.72409772595783\n",
      "Iteration 189, the loss is 61.4332564642146, parameters k is 15.08286992381468 and b is -72.71494692021946\n",
      "Iteration 190, the loss is 61.42468095369891, parameters k is 15.081431716692995 and b is -72.70579831499604\n",
      "Iteration 191, the loss is 61.41610956703218, parameters k is 15.079993855420229 and b is -72.69665190975844\n",
      "Iteration 192, the loss is 61.40754230223134, parameters k is 15.07855633991322 and b is -72.68750770397762\n",
      "Iteration 193, the loss is 61.39897915731422, parameters k is 15.07711917008882 and b is -72.67836569712465\n",
      "Iteration 194, the loss is 61.3904201302995, parameters k is 15.075682345863898 and b is -72.66922588867075\n",
      "Iteration 195, the loss is 61.38186521920714, parameters k is 15.07424586715535 and b is -72.66008827808729\n",
      "Iteration 196, the loss is 61.3733144220577, parameters k is 15.072809733880089 and b is -72.65095286484572\n",
      "Iteration 197, the loss is 61.36476773687288, parameters k is 15.071373945955047 and b is -72.64181964841767\n",
      "Iteration 198, the loss is 61.356225161675304, parameters k is 15.069938503297179 and b is -72.63268862827483\n",
      "Iteration 199, the loss is 61.34768669448852, parameters k is 15.068503405823455 and b is -72.62355980388908\n",
      "Iteration 200, the loss is 61.33915233333707, parameters k is 15.067068653450868 and b is -72.6144331747324\n",
      "Iteration 201, the loss is 61.33062207624636, parameters k is 15.065634246096433 and b is -72.60530874027688\n",
      "Iteration 202, the loss is 61.322095921242884, parameters k is 15.064200183677181 and b is -72.59618649999477\n",
      "Iteration 203, the loss is 61.313573866353934, parameters k is 15.062766466110165 and b is -72.58706645335843\n",
      "Iteration 204, the loss is 61.30505590960775, parameters k is 15.061333093312458 and b is -72.57794859984035\n",
      "Iteration 205, the loss is 61.29654204903378, parameters k is 15.059900065201152 and b is -72.56883293891315\n",
      "Iteration 206, the loss is 61.28803228266214, parameters k is 15.05846738169336 and b is -72.55971947004956\n",
      "Iteration 207, the loss is 61.27952660852387, parameters k is 15.057035042706215 and b is -72.55060819272245\n",
      "Iteration 208, the loss is 61.27102502465123, parameters k is 15.055603048156865 and b is -72.54149910640483\n",
      "Iteration 209, the loss is 61.262527529077225, parameters k is 15.054171397962488 and b is -72.53239221056981\n",
      "Iteration 210, the loss is 61.25403411983581, parameters k is 15.052740092040272 and b is -72.52328750469066\n",
      "Iteration 211, the loss is 61.24554479496196, parameters k is 15.051309130307434 and b is -72.51418498824073\n",
      "Iteration 212, the loss is 61.237059552491495, parameters k is 15.049878512681202 and b is -72.50508466069354\n",
      "Iteration 213, the loss is 61.22857839046134, parameters k is 15.048448239078828 and b is -72.49598652152271\n",
      "Iteration 214, the loss is 61.22010130690913, parameters k is 15.047018309417586 and b is -72.48689057020201\n",
      "Iteration 215, the loss is 61.21162829987366, parameters k is 15.045588723614767 and b is -72.4777968062053\n",
      "Iteration 216, the loss is 61.20315936739463, parameters k is 15.04415948158768 and b is -72.46870522900662\n",
      "Iteration 217, the loss is 61.19469450751261, parameters k is 15.04273058325366 and b is -72.45961583808007\n",
      "Iteration 218, the loss is 61.1862337182691, parameters k is 15.041302028530055 and b is -72.45052863289993\n",
      "Iteration 219, the loss is 61.177776997706594, parameters k is 15.039873817334238 and b is -72.4414436129406\n",
      "Iteration 220, the loss is 61.16932434386852, parameters k is 15.0384459495836 and b is -72.43236077767659\n",
      "Iteration 221, the loss is 61.16087575479929, parameters k is 15.037018425195555 and b is -72.42328012658253\n",
      "Iteration 222, the loss is 61.15243122854413, parameters k is 15.035591244087527 and b is -72.41420165913318\n",
      "Iteration 223, the loss is 61.143990763149446, parameters k is 15.034164406176973 and b is -72.40512537480346\n",
      "Iteration 224, the loss is 61.135554356662254, parameters k is 15.03273791138136 and b is -72.39605127306838\n",
      "Iteration 225, the loss is 61.12712200713071, parameters k is 15.03131175961818 and b is -72.38697935340308\n",
      "Iteration 226, the loss is 61.118693712603914, parameters k is 15.029885950804944 and b is -72.37790961528283\n",
      "Iteration 227, the loss is 61.11026947113193, parameters k is 15.02846048485918 and b is -72.36884205818305\n",
      "Iteration 228, the loss is 61.10184928076556, parameters k is 15.027035361698438 and b is -72.35977668157925\n",
      "Iteration 229, the loss is 61.09343313955681, parameters k is 15.025610581240288 and b is -72.35071348494708\n",
      "Iteration 230, the loss is 61.08502104555837, parameters k is 15.024186143402321 and b is -72.34165246776232\n",
      "Iteration 231, the loss is 61.07661299682408, parameters k is 15.022762048102146 and b is -72.33259362950086\n",
      "Iteration 232, the loss is 61.068208991408575, parameters k is 15.02133829525739 and b is -72.32353696963875\n",
      "Iteration 233, the loss is 61.059809027367486, parameters k is 15.019914884785702 and b is -72.31448248765214\n",
      "Iteration 234, the loss is 61.05141310275753, parameters k is 15.018491816604755 and b is -72.30543018301731\n",
      "Iteration 235, the loss is 61.04302121563595, parameters k is 15.017069090632233 and b is -72.29638005521066\n",
      "Iteration 236, the loss is 61.03463336406126, parameters k is 15.015646706785846 and b is -72.28733210370874\n",
      "Iteration 237, the loss is 61.02624954609282, parameters k is 15.014224664983322 and b is -72.27828632798818\n",
      "Iteration 238, the loss is 61.017869759791, parameters k is 15.012802965142411 and b is -72.26924272752579\n",
      "Iteration 239, the loss is 61.009494003216915, parameters k is 15.011381607180876 and b is -72.26020130179847\n",
      "Iteration 240, the loss is 61.00112227443281, parameters k is 15.009960591016508 and b is -72.25116205028327\n",
      "Iteration 241, the loss is 60.99275457150169, parameters k is 15.008539916567115 and b is -72.24212497245733\n",
      "Iteration 242, the loss is 60.98439089248764, parameters k is 15.007119583750521 and b is -72.23309006779796\n",
      "Iteration 243, the loss is 60.97603123545564, parameters k is 15.005699592484575 and b is -72.22405733578256\n",
      "Iteration 244, the loss is 60.967675598471416, parameters k is 15.004279942687141 and b is -72.21502677588867\n",
      "Iteration 245, the loss is 60.95932397960198, parameters k is 15.002860634276109 and b is -72.20599838759397\n",
      "Iteration 246, the loss is 60.95097637691498, parameters k is 15.001441667169383 and b is -72.19697217037623\n",
      "Iteration 247, the loss is 60.942632788479024, parameters k is 15.000023041284889 and b is -72.18794812371338\n",
      "Iteration 248, the loss is 60.934293212363926, parameters k is 14.998604756540574 and b is -72.17892624708347\n",
      "Iteration 249, the loss is 60.92595764663987, parameters k is 14.997186812854402 and b is -72.16990653996464\n",
      "Iteration 250, the loss is 60.91762608937863, parameters k is 14.995769210144356 and b is -72.1608890018352\n",
      "Iteration 251, the loss is 60.90929853865245, parameters k is 14.994351948328443 and b is -72.15187363217358\n",
      "Iteration 252, the loss is 60.90097499253471, parameters k is 14.99293502732469 and b is -72.1428604304583\n",
      "Iteration 253, the loss is 60.892655449099486, parameters k is 14.991518447051137 and b is -72.13384939616803\n",
      "Iteration 254, the loss is 60.8843399064221, parameters k is 14.990102207425846 and b is -72.12484052878158\n",
      "Iteration 255, the loss is 60.87602836257866, parameters k is 14.988686308366905 and b is -72.11583382777786\n",
      "Iteration 256, the loss is 60.86772081564607, parameters k is 14.987270749792415 and b is -72.10682929263592\n",
      "Iteration 257, the loss is 60.859417263702255, parameters k is 14.985855531620501 and b is -72.09782692283493\n",
      "Iteration 258, the loss is 60.851117704826194, parameters k is 14.984440653769303 and b is -72.08882671785418\n",
      "Iteration 259, the loss is 60.842822137097556, parameters k is 14.983026116156985 and b is -72.07982867717308\n",
      "Iteration 260, the loss is 60.8345305585972, parameters k is 14.981611918701727 and b is -72.0708328002712\n",
      "Iteration 261, the loss is 60.82624296740654, parameters k is 14.980198061321733 and b is -72.06183908662821\n",
      "Iteration 262, the loss is 60.8179593616084, parameters k is 14.978784543935225 and b is -72.0528475357239\n",
      "Iteration 263, the loss is 60.80967973928601, parameters k is 14.977371366460442 and b is -72.04385814703818\n",
      "Iteration 264, the loss is 60.80140409852398, parameters k is 14.975958528815644 and b is -72.0348709200511\n",
      "Iteration 265, the loss is 60.79313243740744, parameters k is 14.974546030919115 and b is -72.02588585424284\n",
      "Iteration 266, the loss is 60.78486475402278, parameters k is 14.97313387268915 and b is -72.0169029490937\n",
      "Iteration 267, the loss is 60.77660104645703, parameters k is 14.971722054044072 and b is -72.0079222040841\n",
      "Iteration 268, the loss is 60.76834131279842, parameters k is 14.970310574902218 and b is -71.99894361869457\n",
      "Iteration 269, the loss is 60.760085551135816, parameters k is 14.96889943518195 and b is -71.98996719240579\n",
      "Iteration 270, the loss is 60.75183375955922, parameters k is 14.967488634801644 and b is -71.98099292469855\n",
      "Iteration 271, the loss is 60.74358593615944, parameters k is 14.966078173679698 and b is -71.9720208150538\n",
      "Iteration 272, the loss is 60.73534207902821, parameters k is 14.964668051734531 and b is -71.96305086295256\n",
      "Iteration 273, the loss is 60.727102186258335, parameters k is 14.96325826888458 and b is -71.954083067876\n",
      "Iteration 274, the loss is 60.7188662559432, parameters k is 14.961848825048303 and b is -71.94511742930543\n",
      "Iteration 275, the loss is 60.710634286177424, parameters k is 14.960439720144176 and b is -71.93615394672226\n",
      "Iteration 276, the loss is 60.702406275056425, parameters k is 14.959030954090695 and b is -71.92719261960804\n",
      "Iteration 277, the loss is 60.69418222067664, parameters k is 14.957622526806375 and b is -71.91823344744442\n",
      "Iteration 278, the loss is 60.68596212113518, parameters k is 14.956214438209754 and b is -71.90927642971322\n",
      "Iteration 279, the loss is 60.677745974530175, parameters k is 14.954806688219382 and b is -71.90032156589635\n",
      "Iteration 280, the loss is 60.66953377896089, parameters k is 14.953399276753839 and b is -71.89136885547585\n",
      "Iteration 281, the loss is 60.66132553252726, parameters k is 14.951992203731715 and b is -71.88241829793388\n",
      "Iteration 282, the loss is 60.65312123333012, parameters k is 14.950585469071626 and b is -71.87346989275275\n",
      "Iteration 283, the loss is 60.64492087947136, parameters k is 14.949179072692207 and b is -71.86452363941487\n",
      "Iteration 284, the loss is 60.63672446905371, parameters k is 14.947773014512107 and b is -71.85557953740278\n",
      "Iteration 285, the loss is 60.628532000180776, parameters k is 14.946367294449999 and b is -71.84663758619914\n",
      "Iteration 286, the loss is 60.62034347095722, parameters k is 14.944961912424578 and b is -71.83769778528675\n",
      "Iteration 287, the loss is 60.612158879488426, parameters k is 14.943556868354554 and b is -71.82876013414852\n",
      "Iteration 288, the loss is 60.60397822388083, parameters k is 14.942152162158656 and b is -71.8198246322675\n",
      "Iteration 289, the loss is 60.59580150224171, parameters k is 14.940747793755639 and b is -71.81089127912684\n",
      "Iteration 290, the loss is 60.587628712679276, parameters k is 14.939343763064269 and b is -71.80196007420982\n",
      "Iteration 291, the loss is 60.57945985330262, parameters k is 14.937940070003338 and b is -71.79303101699986\n",
      "Iteration 292, the loss is 60.57129492222183, parameters k is 14.936536714491654 and b is -71.78410410698051\n",
      "Iteration 293, the loss is 60.56313391754779, parameters k is 14.935133696448046 and b is -71.77517934363541\n",
      "Iteration 294, the loss is 60.55497683739242, parameters k is 14.933731015791365 and b is -71.76625672644836\n",
      "Iteration 295, the loss is 60.546823679868375, parameters k is 14.932328672440475 and b is -71.75733625490327\n",
      "Iteration 296, the loss is 60.53867444308926, parameters k is 14.930926666314265 and b is -71.74841792848416\n",
      "Iteration 297, the loss is 60.530529125169814, parameters k is 14.929524997331642 and b is -71.73950174667519\n",
      "Iteration 298, the loss is 60.52238772422545, parameters k is 14.928123665411533 and b is -71.73058770896064\n",
      "Iteration 299, the loss is 60.51425023837245, parameters k is 14.926722670472882 and b is -71.72167581482492\n",
      "Iteration 300, the loss is 60.50611666572824, parameters k is 14.925322012434656 and b is -71.71276606375255\n",
      "Iteration 301, the loss is 60.497987004410874, parameters k is 14.923921691215838 and b is -71.7038584552282\n",
      "Iteration 302, the loss is 60.489861252539534, parameters k is 14.922521706735434 and b is -71.69495298873663\n",
      "Iteration 303, the loss is 60.48173940823429, parameters k is 14.921122058912468 and b is -71.68604966376274\n",
      "Iteration 304, the loss is 60.473621469615786, parameters k is 14.91972274766598 and b is -71.67714847979157\n",
      "Iteration 305, the loss is 60.46550743480613, parameters k is 14.918323772915036 and b is -71.66824943630824\n",
      "Iteration 306, the loss is 60.45739730192785, parameters k is 14.916925134578717 and b is -71.65935253279805\n",
      "Iteration 307, the loss is 60.44929106910454, parameters k is 14.915526832576123 and b is -71.65045776874639\n",
      "Iteration 308, the loss is 60.441188734460894, parameters k is 14.91412886682638 and b is -71.64156514363877\n",
      "Iteration 309, the loss is 60.43309029612217, parameters k is 14.912731237248622 and b is -71.63267465696084\n",
      "Iteration 310, the loss is 60.42499575221473, parameters k is 14.911333943762013 and b is -71.62378630819836\n",
      "Iteration 311, the loss is 60.41690510086582, parameters k is 14.90993698628573 and b is -71.61490009683723\n",
      "Iteration 312, the loss is 60.40881834020353, parameters k is 14.908540364738975 and b is -71.60601602236346\n",
      "Iteration 313, the loss is 60.400735468356885, parameters k is 14.907144079040966 and b is -71.59713408426319\n",
      "Iteration 314, the loss is 60.39265648345576, parameters k is 14.905748129110938 and b is -71.58825428202267\n",
      "Iteration 315, the loss is 60.38458138363118, parameters k is 14.90435251486815 and b is -71.57937661512831\n",
      "Iteration 316, the loss is 60.37651016701453, parameters k is 14.902957236231877 and b is -71.5705010830666\n",
      "Iteration 317, the loss is 60.36844283173868, parameters k is 14.901562293121417 and b is -71.56162768532417\n",
      "Iteration 318, the loss is 60.36037937593712, parameters k is 14.900167685456084 and b is -71.55275642138778\n",
      "Iteration 319, the loss is 60.35231979774416, parameters k is 14.898773413155213 and b is -71.54388729074432\n",
      "Iteration 320, the loss is 60.344264095295145, parameters k is 14.897379476138159 and b is -71.53502029288077\n",
      "Iteration 321, the loss is 60.336212266726356, parameters k is 14.895985874324294 and b is -71.52615542728428\n",
      "Iteration 322, the loss is 60.32816431017478, parameters k is 14.894592607633012 and b is -71.51729269344207\n",
      "Iteration 323, the loss is 60.32012022377848, parameters k is 14.893199675983725 and b is -71.50843209084154\n",
      "Iteration 324, the loss is 60.312080005676414, parameters k is 14.891807079295864 and b is -71.49957361897016\n",
      "Iteration 325, the loss is 60.30404365400817, parameters k is 14.89041481748888 and b is -71.49071727731557\n",
      "Iteration 326, the loss is 60.296011166914695, parameters k is 14.889022890482245 and b is -71.4818630653655\n",
      "Iteration 327, the loss is 60.28798254253738, parameters k is 14.887631298195448 and b is -71.47301098260783\n",
      "Iteration 328, the loss is 60.27995777901879, parameters k is 14.886240040547998 and b is -71.46416102853054\n",
      "Iteration 329, the loss is 60.271936874502174, parameters k is 14.884849117459424 and b is -71.45531320262174\n",
      "Iteration 330, the loss is 60.26391982713184, parameters k is 14.883458528849275 and b is -71.44646750436965\n",
      "Iteration 331, the loss is 60.25590663505303, parameters k is 14.882068274637115 and b is -71.43762393326264\n",
      "Iteration 332, the loss is 60.24789729641173, parameters k is 14.880678354742532 and b is -71.42878248878921\n",
      "Iteration 333, the loss is 60.23989180935482, parameters k is 14.879288769085134 and b is -71.41994317043793\n",
      "Iteration 334, the loss is 60.23189017203018, parameters k is 14.877899517584543 and b is -71.41110597769755\n",
      "Iteration 335, the loss is 60.223892382586534, parameters k is 14.876510600160405 and b is -71.40227091005691\n",
      "Iteration 336, the loss is 60.2158984391734, parameters k is 14.875122016732385 and b is -71.39343796700499\n",
      "Iteration 337, the loss is 60.20790833994138, parameters k is 14.873733767220164 and b is -71.38460714803087\n",
      "Iteration 338, the loss is 60.19992208304178, parameters k is 14.872345851543445 and b is -71.37577845262378\n",
      "Iteration 339, the loss is 60.19193966662699, parameters k is 14.870958269621951 and b is -71.36695188027306\n",
      "Iteration 340, the loss is 60.18396108885001, parameters k is 14.869571021375425 and b is -71.35812743046817\n",
      "Iteration 341, the loss is 60.17598634786493, parameters k is 14.868184106723621 and b is -71.34930510269871\n",
      "Iteration 342, the loss is 60.16801544182686, parameters k is 14.866797525586325 and b is -71.34048489645437\n",
      "Iteration 343, the loss is 60.16004836889138, parameters k is 14.865411277883334 and b is -71.33166681122499\n",
      "Iteration 344, the loss is 60.15208512721538, parameters k is 14.864025363534465 and b is -71.32285084650053\n",
      "Iteration 345, the loss is 60.144125714956374, parameters k is 14.862639782459556 and b is -71.31403700177106\n",
      "Iteration 346, the loss is 60.13617013027285, parameters k is 14.861254534578466 and b is -71.30522527652678\n",
      "Iteration 347, the loss is 60.128218371324195, parameters k is 14.859869619811068 and b is -71.29641567025803\n",
      "Iteration 348, the loss is 60.12027043627067, parameters k is 14.858485038077262 and b is -71.28760818245523\n",
      "Iteration 349, the loss is 60.112326323273436, parameters k is 14.857100789296958 and b is -71.27880281260896\n",
      "Iteration 350, the loss is 60.10438603049441, parameters k is 14.85571687339009 and b is -71.26999956020991\n",
      "Iteration 351, the loss is 60.09644955609663, parameters k is 14.854333290276616 and b is -71.26119842474888\n",
      "Iteration 352, the loss is 60.088516898243846, parameters k is 14.852950039876502 and b is -71.25239940571683\n",
      "Iteration 353, the loss is 60.08058805510072, parameters k is 14.851567122109744 and b is -71.2436025026048\n",
      "Iteration 354, the loss is 60.07266302483271, parameters k is 14.850184536896352 and b is -71.23480771490397\n",
      "Iteration 355, the loss is 60.0647418056065, parameters k is 14.848802284156355 and b is -71.22601504210564\n",
      "Iteration 356, the loss is 60.05682439558923, parameters k is 14.847420363809803 and b is -71.21722448370124\n",
      "Iteration 357, the loss is 60.04891079294907, parameters k is 14.846038775776764 and b is -71.20843603918233\n",
      "Iteration 358, the loss is 60.041000995855235, parameters k is 14.844657519977327 and b is -71.19964970804057\n",
      "Iteration 359, the loss is 60.03309500247757, parameters k is 14.8432765963316 and b is -71.19086548976773\n",
      "Iteration 360, the loss is 60.025192810987036, parameters k is 14.841896004759707 and b is -71.18208338385575\n",
      "Iteration 361, the loss is 60.017294419555235, parameters k is 14.840515745181795 and b is -71.17330338979666\n",
      "Iteration 362, the loss is 60.00939982635481, parameters k is 14.839135817518027 and b is -71.16452550708262\n",
      "Iteration 363, the loss is 60.001509029559365, parameters k is 14.837756221688588 and b is -71.15574973520589\n",
      "Iteration 364, the loss is 59.99362202734304, parameters k is 14.83637695761368 and b is -71.14697607365889\n",
      "Iteration 365, the loss is 59.985738817881256, parameters k is 14.834998025213528 and b is -71.13820452193416\n",
      "Iteration 366, the loss is 59.97785939934998, parameters k is 14.833619424408372 and b is -71.12943507952431\n",
      "Iteration 367, the loss is 59.96998376992637, parameters k is 14.83224115511847 and b is -71.12066774592213\n",
      "Iteration 368, the loss is 59.96211192778821, parameters k is 14.830863217264106 and b is -71.11190252062052\n",
      "Iteration 369, the loss is 59.95424387111413, parameters k is 14.829485610765577 and b is -71.10313940311246\n",
      "Iteration 370, the loss is 59.94637959808398, parameters k is 14.828108335543199 and b is -71.09437839289112\n",
      "Iteration 371, the loss is 59.93851910687803, parameters k is 14.826731391517312 and b is -71.08561948944973\n",
      "Iteration 372, the loss is 59.93066239567783, parameters k is 14.825354778608272 and b is -71.07686269228168\n",
      "Iteration 373, the loss is 59.922809462665555, parameters k is 14.823978496736455 and b is -71.06810800088046\n",
      "Iteration 374, the loss is 59.9149603060243, parameters k is 14.822602545822253 and b is -71.0593554147397\n",
      "Iteration 375, the loss is 59.907114923938096, parameters k is 14.821226925786084 and b is -71.05060493335314\n",
      "Iteration 376, the loss is 59.89927331459183, parameters k is 14.819851636548378 and b is -71.04185655621465\n",
      "Iteration 377, the loss is 59.89143547617113, parameters k is 14.818476678029588 and b is -71.03311028281821\n",
      "Iteration 378, the loss is 59.88360140686267, parameters k is 14.817102050150185 and b is -71.02436611265794\n",
      "Iteration 379, the loss is 59.87577110485408, parameters k is 14.81572775283066 and b is -71.01562404522807\n"
     ]
    },
    {
     "name": "stdout",
     "output_type": "stream",
     "text": [
      "Iteration 380, the loss is 59.867944568333456, parameters k is 14.814353785991525 and b is -71.00688408002293\n",
      "Iteration 381, the loss is 59.86012179549023, parameters k is 14.812980149553303 and b is -70.99814621653701\n",
      "Iteration 382, the loss is 59.85230278451442, parameters k is 14.811606843436545 and b is -70.9894104542649\n",
      "Iteration 383, the loss is 59.84448753359695, parameters k is 14.810233867561818 and b is -70.98067679270132\n",
      "Iteration 384, the loss is 59.83667604092975, parameters k is 14.808861221849709 and b is -70.9719452313411\n",
      "Iteration 385, the loss is 59.82886830470541, parameters k is 14.807488906220819 and b is -70.9632157696792\n",
      "Iteration 386, the loss is 59.82106432311764, parameters k is 14.806116920595773 and b is -70.9544884072107\n",
      "Iteration 387, the loss is 59.81326409436084, parameters k is 14.804745264895217 and b is -70.94576314343082\n",
      "Iteration 388, the loss is 59.80546761663025, parameters k is 14.803373939039814 and b is -70.93703997783487\n",
      "Iteration 389, the loss is 59.79767488812212, parameters k is 14.802002942950242 and b is -70.92831890991829\n",
      "Iteration 390, the loss is 59.7898859070335, parameters k is 14.800632276547203 and b is -70.91959993917666\n",
      "Iteration 391, the loss is 59.78210067156234, parameters k is 14.799261939751418 and b is -70.91088306510566\n",
      "Iteration 392, the loss is 59.774319179907344, parameters k is 14.797891932483623 and b is -70.9021682872011\n",
      "Iteration 393, the loss is 59.766541430268184, parameters k is 14.796522254664577 and b is -70.89345560495892\n",
      "Iteration 394, the loss is 59.75876742084543, parameters k is 14.795152906215057 and b is -70.88474501787515\n",
      "Iteration 395, the loss is 59.75099714984036, parameters k is 14.793783887055858 and b is -70.87603652544597\n",
      "Iteration 396, the loss is 59.743230615455246, parameters k is 14.792415197107795 and b is -70.86733012716768\n",
      "Iteration 397, the loss is 59.73546781589325, parameters k is 14.791046836291702 and b is -70.85862582253668\n",
      "Iteration 398, the loss is 59.72770874935835, parameters k is 14.78967880452843 and b is -70.84992361104952\n",
      "Iteration 399, the loss is 59.71995341405532, parameters k is 14.788311101738854 and b is -70.84122349220286\n",
      "Iteration 400, the loss is 59.7122018081899, parameters k is 14.786943727843864 and b is -70.83252546549348\n",
      "Iteration 401, the loss is 59.704453929968686, parameters k is 14.78557668276437 and b is -70.82382953041825\n",
      "Iteration 402, the loss is 59.696709777599004, parameters k is 14.7842099664213 and b is -70.81513568647422\n",
      "Iteration 403, the loss is 59.688969349289195, parameters k is 14.782843578735601 and b is -70.80644393315853\n",
      "Iteration 404, the loss is 59.681232643248485, parameters k is 14.781477519628243 and b is -70.79775426996844\n",
      "Iteration 405, the loss is 59.673499657686705, parameters k is 14.780111789020212 and b is -70.7890666964013\n",
      "Iteration 406, the loss is 59.66577039081499, parameters k is 14.77874638683251 and b is -70.78038121195466\n",
      "Iteration 407, the loss is 59.65804484084477, parameters k is 14.777381312986163 and b is -70.77169781612612\n",
      "Iteration 408, the loss is 59.650323005988895, parameters k is 14.776016567402214 and b is -70.76301650841343\n",
      "Iteration 409, the loss is 59.64260488446062, parameters k is 14.774652150001724 and b is -70.75433728831446\n",
      "Iteration 410, the loss is 59.63489047447434, parameters k is 14.773288060705777 and b is -70.74566015532719\n",
      "Iteration 411, the loss is 59.62717977424528, parameters k is 14.771924299435469 and b is -70.73698510894972\n",
      "Iteration 412, the loss is 59.619472781989366, parameters k is 14.77056086611192 and b is -70.7283121486803\n",
      "Iteration 413, the loss is 59.61176949592355, parameters k is 14.769197760656269 and b is -70.71964127401728\n",
      "Iteration 414, the loss is 59.60406991426556, parameters k is 14.767834982989672 and b is -70.7109724844591\n",
      "Iteration 415, the loss is 59.59637403523395, parameters k is 14.766472533033308 and b is -70.70230577950439\n",
      "Iteration 416, the loss is 59.588681857048186, parameters k is 14.765110410708369 and b is -70.69364115865181\n",
      "Iteration 417, the loss is 59.58099337792871, parameters k is 14.763748615936066 and b is -70.68497862140023\n",
      "Iteration 418, the loss is 59.573308596096574, parameters k is 14.762387148637634 and b is -70.6763181672486\n",
      "Iteration 419, the loss is 59.56562750977372, parameters k is 14.761026008734326 and b is -70.66765979569597\n",
      "Iteration 420, the loss is 59.55795011718318, parameters k is 14.759665196147411 and b is -70.65900350624155\n",
      "Iteration 421, the loss is 59.55027641654863, parameters k is 14.75830471079818 and b is -70.65034929838465\n",
      "Iteration 422, the loss is 59.54260640609463, parameters k is 14.756944552607942 and b is -70.64169717162471\n",
      "Iteration 423, the loss is 59.53494008404664, parameters k is 14.755584721498021 and b is -70.63304712546127\n",
      "Iteration 424, the loss is 59.52727744863096, parameters k is 14.754225217389767 and b is -70.62439915939402\n",
      "Iteration 425, the loss is 59.51961849807479, parameters k is 14.752866040204541 and b is -70.61575327292273\n",
      "Iteration 426, the loss is 59.51196323060611, parameters k is 14.75150718986373 and b is -70.60710946554734\n",
      "Iteration 427, the loss is 59.50431164445367, parameters k is 14.750148666288736 and b is -70.59846773676787\n",
      "Iteration 428, the loss is 59.49666373784727, parameters k is 14.748790469400982 and b is -70.58982808608448\n",
      "Iteration 429, the loss is 59.48901950901746, parameters k is 14.747432599121906 and b is -70.58119051299745\n",
      "Iteration 430, the loss is 59.48137895619556, parameters k is 14.746075055372971 and b is -70.57255501700718\n",
      "Iteration 431, the loss is 59.47374207761395, parameters k is 14.744717838075655 and b is -70.56392159761417\n",
      "Iteration 432, the loss is 59.466108871505725, parameters k is 14.743360947151453 and b is -70.55529025431906\n",
      "Iteration 433, the loss is 59.4584793361047, parameters k is 14.742004382521884 and b is -70.54666098662261\n",
      "Iteration 434, the loss is 59.45085346964581, parameters k is 14.740648144108482 and b is -70.5380337940257\n",
      "Iteration 435, the loss is 59.44323127036474, parameters k is 14.7392922318328 and b is -70.52940867602932\n",
      "Iteration 436, the loss is 59.435612736497866, parameters k is 14.737936645616415 and b is -70.52078563213459\n",
      "Iteration 437, the loss is 59.42799786628259, parameters k is 14.736581385380914 and b is -70.51216466184275\n",
      "Iteration 438, the loss is 59.42038665795718, parameters k is 14.735226451047911 and b is -70.50354576465514\n",
      "Iteration 439, the loss is 59.41277910976061, parameters k is 14.733871842539033 and b is -70.49492894007325\n",
      "Iteration 440, the loss is 59.40517521993279, parameters k is 14.732517559775928 and b is -70.48631418759867\n",
      "Iteration 441, the loss is 59.39757498671441, parameters k is 14.731163602680265 and b is -70.47770150673311\n",
      "Iteration 442, the loss is 59.38997840834716, parameters k is 14.729809971173731 and b is -70.46909089697843\n",
      "Iteration 443, the loss is 59.38238548307339, parameters k is 14.72845666517803 and b is -70.46048235783655\n",
      "Iteration 444, the loss is 59.374796209136406, parameters k is 14.727103684614882 and b is -70.45187588880958\n",
      "Iteration 445, the loss is 59.367210584780345, parameters k is 14.725751029406034 and b is -70.44327148939969\n",
      "Iteration 446, the loss is 59.35962860825013, parameters k is 14.724398699473246 and b is -70.4346691591092\n",
      "Iteration 447, the loss is 59.35205027779151, parameters k is 14.723046694738299 and b is -70.42606889744056\n",
      "Iteration 448, the loss is 59.34447559165132, parameters k is 14.72169501512299 and b is -70.4174707038963\n",
      "Iteration 449, the loss is 59.33690454807693, parameters k is 14.720343660549137 and b is -70.4088745779791\n",
      "Iteration 450, the loss is 59.32933714531675, parameters k is 14.718992630938578 and b is -70.40028051919177\n",
      "Iteration 451, the loss is 59.32177338161981, parameters k is 14.717641926213169 and b is -70.3916885270372\n",
      "Iteration 452, the loss is 59.31421325523625, parameters k is 14.716291546294782 and b is -70.38309860101843\n",
      "Iteration 453, the loss is 59.306656764416935, parameters k is 14.714941491105309 and b is -70.37451074063861\n",
      "Iteration 454, the loss is 59.299103907413595, parameters k is 14.713591760566663 and b is -70.36592494540102\n",
      "Iteration 455, the loss is 59.291554682478726, parameters k is 14.712242354600775 and b is -70.35734121480904\n",
      "Iteration 456, the loss is 59.28400908786572, parameters k is 14.710893273129594 and b is -70.34875954836619\n",
      "Iteration 457, the loss is 59.276467121828794, parameters k is 14.70954451607509 and b is -70.3401799455761\n",
      "Iteration 458, the loss is 59.26892878262302, parameters k is 14.708196083359246 and b is -70.3316024059425\n",
      "Iteration 459, the loss is 59.26139406850432, parameters k is 14.70684797490407 and b is -70.32302692896928\n",
      "Iteration 460, the loss is 59.25386297772944, parameters k is 14.705500190631586 and b is -70.31445351416042\n",
      "Iteration 461, the loss is 59.246335508555994, parameters k is 14.704152730463836 and b is -70.30588216102002\n",
      "Iteration 462, the loss is 59.23881165924225, parameters k is 14.702805594322884 and b is -70.29731286905232\n",
      "Iteration 463, the loss is 59.23129142804768, parameters k is 14.701458782130809 and b is -70.28874563776165\n",
      "Iteration 464, the loss is 59.22377481323223, parameters k is 14.70011229380971 and b is -70.28018046665248\n",
      "Iteration 465, the loss is 59.21626181305684, parameters k is 14.698766129281704 and b is -70.2716173552294\n",
      "Iteration 466, the loss is 59.20875242578341, parameters k is 14.69742028846893 and b is -70.2630563029971\n",
      "Iteration 467, the loss is 59.20124664967438, parameters k is 14.696074771293542 and b is -70.25449730946042\n",
      "Iteration 468, the loss is 59.193744482993296, parameters k is 14.694729577677718 and b is -70.24594037412429\n",
      "Iteration 469, the loss is 59.186245924004375, parameters k is 14.693384707543647 and b is -70.23738549649376\n",
      "Iteration 470, the loss is 59.178750970972644, parameters k is 14.692040160813539 and b is -70.22883267607402\n",
      "Iteration 471, the loss is 59.17125962216428, parameters k is 14.690695937409629 and b is -70.22028191237037\n",
      "Iteration 472, the loss is 59.16377187584591, parameters k is 14.689352037254162 and b is -70.21173320488822\n",
      "Iteration 473, the loss is 59.1562877302851, parameters k is 14.688008460269408 and b is -70.20318655313311\n",
      "Iteration 474, the loss is 59.148807183750364, parameters k is 14.686665206377652 and b is -70.1946419566107\n",
      "Iteration 475, the loss is 59.141330234510924, parameters k is 14.685322275501202 and b is -70.18609941482674\n",
      "Iteration 476, the loss is 59.133856880837, parameters k is 14.683979667562378 and b is -70.17755892728715\n",
      "Iteration 477, the loss is 59.12638712099948, parameters k is 14.682637382483524 and b is -70.16902049349794\n",
      "Iteration 478, the loss is 59.11892095327004, parameters k is 14.681295420187002 and b is -70.16048411296522\n",
      "Iteration 479, the loss is 59.11145837592145, parameters k is 14.679953780595191 and b is -70.15194978519526\n",
      "Iteration 480, the loss is 59.10399938722705, parameters k is 14.67861246363049 and b is -70.1434175096944\n",
      "Iteration 481, the loss is 59.09654398546107, parameters k is 14.677271469215315 and b is -70.13488728596916\n",
      "Iteration 482, the loss is 59.08909216889861, parameters k is 14.675930797272104 and b is -70.12635911352612\n",
      "Iteration 483, the loss is 59.08164393581571, parameters k is 14.67459044772331 and b is -70.117832991872\n",
      "Iteration 484, the loss is 59.074199284489, parameters k is 14.673250420491403 and b is -70.10930892051367\n",
      "Iteration 485, the loss is 59.06675821319607, parameters k is 14.671910715498878 and b is -70.10078689895806\n",
      "Iteration 486, the loss is 59.059320720215375, parameters k is 14.670571332668246 and b is -70.09226692671227\n",
      "Iteration 487, the loss is 59.051886803826136, parameters k is 14.669232271922034 and b is -70.08374900328349\n",
      "Iteration 488, the loss is 59.04445646230849, parameters k is 14.667893533182792 and b is -70.07523312817904\n",
      "Iteration 489, the loss is 59.037029693943175, parameters k is 14.666555116373084 and b is -70.06671930090634\n",
      "Iteration 490, the loss is 59.02960649701205, parameters k is 14.665217021415495 and b is -70.05820752097297\n",
      "Iteration 491, the loss is 59.022186869797636, parameters k is 14.66387924823263 and b is -70.04969778788659\n",
      "Iteration 492, the loss is 59.0147708105831, parameters k is 14.662541796747112 and b is -70.04119010115498\n",
      "Iteration 493, the loss is 59.00735831765293, parameters k is 14.661204666881579 and b is -70.03268446028606\n",
      "Iteration 494, the loss is 58.999949389292, parameters k is 14.659867858558693 and b is -70.02418086478785\n",
      "Iteration 495, the loss is 58.992544023786216, parameters k is 14.658531371701129 and b is -70.01567931416851\n",
      "Iteration 496, the loss is 58.9851422194222, parameters k is 14.657195206231584 and b is -70.00717980793628\n",
      "Iteration 497, the loss is 58.97774397448746, parameters k is 14.655859362072777 and b is -69.99868234559956\n",
      "Iteration 498, the loss is 58.97034928727029, parameters k is 14.654523839147437 and b is -69.99018692666684\n",
      "Iteration 499, the loss is 58.96295815605987, parameters k is 14.653188637378317 and b is -69.98169355064674\n"
     ]
    }
   ],
   "source": [
    "\"\"\"\n",
    "初始化参数\n",
    "\"\"\"\n",
    "\n",
    "k = random.random() * 200 - 100   # -100到100\n",
    "b = random.random() * 200 - 100\n",
    "\n",
    "learning_rate = 1e-3\n",
    "iteration_num = 500\n",
    "losses = []\n",
    "\n",
    "for i in range(iteration_num):\n",
    "    price_pred = [price(r,k,b) for r in X_rm]\n",
    "    current_loss = loss(y, price_pred)\n",
    "    \n",
    "    losses.append(current_loss)\n",
    "    print(\"Iteration {}, the loss is {}, parameters k is {} and b is {}\".format(i,current_loss,k,b))\n",
    "    \n",
    "    k_gradient = partial_derivative_k(X_rm, y, price_pred)\n",
    "    b_gradient = partial_derivative_b(y, price_pred)\n",
    "    \n",
    "    k = k + (-1 * k_gradient) * learning_rate\n",
    "    b = b + (-1 * b_gradient) * learning_rate\n",
    "    \n",
    "best_k = k\n",
    "best_b = b"
   ]
  },
  {
   "cell_type": "code",
   "execution_count": 109,
   "metadata": {},
   "outputs": [
    {
     "data": {
      "text/plain": [
       "[<matplotlib.lines.Line2D at 0x7ff5b7cd33c8>]"
      ]
     },
     "execution_count": 109,
     "metadata": {},
     "output_type": "execute_result"
    },
    {
     "data": {
      "image/png": "[encoded data removed]",
      "text/plain": [
       "<Figure size 432x288 with 1 Axes>"
      ]
     },
     "metadata": {
      "needs_background": "light"
     },
     "output_type": "display_data"
    }
   ],
   "source": [
    "plt.plot(list(range(iteration_num)),losses)"
   ]
  },
  {
   "cell_type": "code",
   "execution_count": 108,
   "metadata": {},
   "outputs": [
    {
     "data": {
      "text/plain": [
       "<matplotlib.collections.PathCollection at 0x7ff5b95f0b38>"
      ]
     },
     "execution_count": 108,
     "metadata": {},
     "output_type": "execute_result"
    },
    {
     "data": {
      "image/png": "[encoded data removed]",
      "text/plain": [
       "<Figure size 432x288 with 1 Axes>"
      ]
     },
     "metadata": {
      "needs_background": "light"
     },
     "output_type": "display_data"
    }
   ],
   "source": [
    "price_use_best_parameters = [price(r, best_k, best_b) for r in X_rm]\n",
    "\n",
    "plt.scatter(X_rm,y)\n",
    "plt.scatter(X_rm,price_use_best_parameters)"
   ]
  },
  {
   "cell_type": "code",
   "execution_count": null,
   "metadata": {},
   "outputs": [],
   "source": []
  },
  {
   "cell_type": "markdown",
   "metadata": {},
   "source": [
    "#### 2. 回答以下理论题目"
   ]
  },
  {
   "cell_type": "markdown",
   "metadata": {},
   "source": [
    "###### 2.1 What conditions are required to make the BFS return the optimal solution ?"
   ]
  },
  {
   "cell_type": "markdown",
   "metadata": {},
   "source": [
    "The required optimal conditions of BFS:\n",
    "    \n",
    "(1) All costs between two nodes are positive or zero.\n",
    "\n",
    "(2) Sort the list used to maintain the searching history in every iteration."
   ]
  },
  {
   "cell_type": "markdown",
   "metadata": {},
   "source": [
    "##### 2.2 Is there a way to make DFS find the optimal solution ? (You may need to read some material about iterative DFS)"
   ]
  },
  {
   "cell_type": "markdown",
   "metadata": {},
   "source": [
    "Yes,iterative deepening depth-first search(IDDFS),which is a depth-limited version of \n",
    "depth-firset search, can find the optimal solution.\n",
    "\n",
    "IDDFS can run DFS strategy repeatedly with increasing depth limits until the goal is found,\n",
    "thus it is optimal like BFS,but uses much less memory.\n",
    "\n",
    "At each iteration,it visits the nodes in the search tree in the same order as depth-first search,but the cumulative order in which nodes are first visited is effectively breadth-first.\n",
    "\n",
    "The memory required of IDDFS is the same as DFS, because the maximum depth iteration is just the full depth-first search."
   ]
  },
  {
   "cell_type": "markdown",
   "metadata": {},
   "source": [
    "##### 2.3 In what conditions BFS is a better choice than DFS and vice versa ?"
   ]
  },
  {
   "cell_type": "markdown",
   "metadata": {},
   "source": [
    "(1)  BFS is optimal under certain constraints while DFS is never optimal. For example,under two required conditions mentioned above, we can find a shortest path between two nodes using BFS.\n",
    "\n",
    "(2)  DFS has sapce complexity O($b*d$),which is smaller than BFS whose space complexity is O($b^d$),although both BFS and DFS have the same time complexity: O($b^d$)(b=branch factor,d=depth). Therefore, if the memory and disk space of our computer are insufficient and we don't care much abou finding a shortest path, we can choose DFS."
   ]
  },
  {
   "cell_type": "markdown",
   "metadata": {},
   "source": [
    "##### 2.4 When can we use machine learning ?"
   ]
  },
  {
   "cell_type": "markdown",
   "metadata": {},
   "source": [
    "**We can using machine learning for the following situations**:\n",
    "\n",
    "* you cannot code the rules: many human tasks(such as recognizing whether an email is spam or not spam) cannot be adequately solved using a simple(deterministic),rule-based solution. A large number of factors could influence the answer. When rules depend on too many factors and many of the rules overlap or need to be tuned very finely, it soon becomes difficult for a human to accurately code the rules.\n",
    "\n",
    "* you cannot scale: you might be able to manually recognize a few hundred emails and decide whether they are spam or not. However, this task becomes tedious for millions of emails.ML solutions are effective at handling large-scale problems.\n",
    "\n",
    "**There are also some cases that ML solutions are not good choices**. \n",
    "\n",
    "For example,you don't need ML if you can determine a target value by using simple rules,computations,or predetermined steps that can be programmed without needing any data-driven learning. "
   ]
  },
  {
   "cell_type": "markdown",
   "metadata": {},
   "source": [
    "##### 2.5 What is the gradient of a function ?"
   ]
  },
  {
   "cell_type": "markdown",
   "metadata": {},
   "source": [
    "**The gradient is a fancy word for derivative,or the rate of change of a function**. \n",
    "\n",
    "It is a vector(a direction of increase) that:\n",
    "    \n",
    "* points in the direction of greatest increase of a function.\n",
    "\n",
    "* Is zero at a local maximum or local minimum(because there is might no single direction of increase)\n",
    "\n",
    "**The term \"gradient\" is typically used for functions with several inputs and a single ouput.** That is to say,the gradient is the derivative of a multi_variables function  $f(x,y,...)$ which packages all its partial derivative information into a vector:\n",
    "\n",
    "![](https://ftp.bmp.ovh/imgs/2019/10/4a7b7592f0a78d0a.png)"
   ]
  },
  {
   "cell_type": "markdown",
   "metadata": {},
   "source": [
    "##### 2.6 How can we find the maximum value of a function using the information of gradient ?"
   ]
  },
  {
   "cell_type": "markdown",
   "metadata": {},
   "source": [
    "We can use Gradient Descent Algorithm to find the maximum or minimum value of a function.\n",
    "Gradient descent is an iterative optimimal algorithm. The general steps are as follows:\n",
    "    \n",
    "* to initialize the parameters to random values at first;\n",
    "* to assign a very small learing rate such as 1e-3;\n",
    "* to culculate the derivatives of every variables in each iteration;\n",
    "* to multiply the learing rate by each derivative;\n",
    "* to updatethe value of each variable by subtracting the corresponding prodcut if we want to find the minmum value of the function;\n",
    "* to repeat above steps until the function converges.\n",
    "\n",
    "If we want to find the maximum value of a function,we only need to add a minus to the function and use gradient descent to find the optimial paremeters."
   ]
  },
  {
   "cell_type": "markdown",
   "metadata": {},
   "source": [
    "#### 3. 实践部分  寻找地铁路线"
   ]
  },
  {
   "cell_type": "markdown",
   "metadata": {},
   "source": [
    "In this part, although we recommend you to use Beijing subway, you still can use the subway map of any cities that you are interested in. "
   ]
  },
  {
   "cell_type": "markdown",
   "metadata": {},
   "source": [
    "![](https://timgsa.baidu.com/timg?image&quality=80&size=b9999_10000&sec=1562414356407&di=b57814aafd215bb8b8d9d8cd37c573d6&imgtype=0&src=http%3A%2F%2Fcli.clewm.net%2Ffile%2F2015%2F03%2F24%2F174ed60082b8422ac0636cfd3efb9e7f.jpg)"
   ]
  },
  {
   "cell_type": "markdown",
   "metadata": {},
   "source": [
    "Please using the search policy to implement an agent. This agent receives two input, one is @param start station and the other is @param destination. Your agent should give the optimal route based on Beijing Subway system."
   ]
  },
  {
   "cell_type": "markdown",
   "metadata": {},
   "source": [
    "Deadline: 2019-October-27"
   ]
  },
  {
   "cell_type": "markdown",
   "metadata": {},
   "source": [
    "#### Procedures"
   ]
  },
  {
   "cell_type": "markdown",
   "metadata": {},
   "source": [
    "#### 1. Get data from web.  "
   ]
  },
  {
   "cell_type": "markdown",
   "metadata": {},
   "source": [
    "Some tips: "
   ]
  },
  {
   "cell_type": "markdown",
   "metadata": {},
   "source": [
    "a. You might need this package: requests[https://2.python-requests.org/en/master/] to get webpages"
   ]
  },
  {
   "cell_type": "markdown",
   "metadata": {},
   "source": [
    "b.You might need to use Regular Expression and Beautiful Soap package to parse the webpages"
   ]
  },
  {
   "cell_type": "code",
   "execution_count": 38,
   "metadata": {},
   "outputs": [],
   "source": [
    "import requests"
   ]
  },
  {
   "cell_type": "code",
   "execution_count": 39,
   "metadata": {},
   "outputs": [],
   "source": [
    "url = 'http://map.amap.com/service/subway?_1469083453978&srhdata=1100_drw_beijing.json'\n",
    "response = requests.get(url,verify=False)"
   ]
  },
  {
   "cell_type": "code",
   "execution_count": 40,
   "metadata": {},
   "outputs": [],
   "source": [
    "\"\"\"\n",
    "从高德地图上直接找到了北京市地铁信息的json文件，\n",
    "包含北京市地铁站点的经纬度、是否换乘、线路是否环线等关键信息。\n",
    "\"\"\"\n",
    "import json\n",
    "from pprint import pprint\n",
    "\n",
    "subway_text = json.loads(response.text)\n",
    "with open('subway_text.json','w',encoding='utf-8') as json_file:\n",
    "    json.dump(subway_text,json_file,ensure_ascii=False,indent=4)"
   ]
  },
  {
   "cell_type": "markdown",
   "metadata": {},
   "source": [
    "##### 2. Preprocessing data"
   ]
  },
  {
   "cell_type": "markdown",
   "metadata": {},
   "source": [
    "Some tips:"
   ]
  },
  {
   "cell_type": "markdown",
   "metadata": {},
   "source": [
    "a. Find a suitable way to save the data you get from the web. (Note: The way you use to save the data should be able to be used to create the graph that your agent is going to explore)"
   ]
  },
  {
   "cell_type": "code",
   "execution_count": 41,
   "metadata": {},
   "outputs": [
    {
     "name": "stdout",
     "output_type": "stream",
     "text": [
      "{'10号线': {'三元桥': (116.456997, 39.961508),\n",
      "          '丰台站': (116.30454, 39.849639),\n",
      "          '亮马桥': (116.461794, 39.949415),\n",
      "          '健德门': (116.381353, 39.976723),\n",
      "          '公主坟': (116.309919, 39.907469),\n",
      "          '六里桥': (116.302808, 39.880239),\n",
      "          '农业展览馆': (116.461724, 39.941344),\n",
      "          '分钟寺': (116.453976, 39.852227),\n",
      "          '劲松': (116.461325, 39.884387),\n",
      "          '北土城': (116.394193, 39.976953),\n",
      "          '十里河': (116.457983, 39.866417),\n",
      "          '双井': (116.460627, 39.893479),\n",
      "          '呼家楼': (116.461618, 39.923337),\n",
      "          '团结湖': (116.461806, 39.933747),\n",
      "          '国贸': (116.461841, 39.909104),\n",
      "          '大红门': (116.399154, 39.845383),\n",
      "          '太阳宫': (116.447469, 39.972678),\n",
      "          '安贞门': (116.405954, 39.977005),\n",
      "          '宋家庄': (116.428368, 39.845849),\n",
      "          '巴沟': (116.293727, 39.974179),\n",
      "          '惠新西街南口': (116.417537, 39.977121),\n",
      "          '慈寿寺': (116.295467, 39.933268),\n",
      "          '成寿寺': (116.447531, 39.845874),\n",
      "          '泥洼': (116.304173, 39.858609),\n",
      "          '海淀黄庄': (116.317564, 39.975996),\n",
      "          '潘家园': (116.460926, 39.875387),\n",
      "          '火器营': (116.289058, 39.965938),\n",
      "          '牡丹园': (116.369844, 39.976603),\n",
      "          '知春路': (116.33996, 39.976476),\n",
      "          '知春里': (116.328709, 39.976334),\n",
      "          '石榴庄': (116.414103, 39.845905),\n",
      "          '纪家庙': (116.333381, 39.844433),\n",
      "          '芍药居': (116.435914, 39.977636),\n",
      "          '苏州街': (116.306332, 39.975642),\n",
      "          '草桥': (116.351387, 39.845869),\n",
      "          '莲花桥': (116.310347, 39.897867),\n",
      "          '西土城': (116.354098, 39.976549),\n",
      "          '西局': (116.303819, 39.86677),\n",
      "          '西钓鱼台': (116.298064, 39.923481),\n",
      "          '角门东': (116.385649, 39.845135),\n",
      "          '角门西': (116.371154, 39.84585),\n",
      "          '车道沟': (116.293818, 39.947923),\n",
      "          '金台夕照': (116.461743, 39.916838),\n",
      "          '长春桥': (116.294255, 39.958527),\n",
      "          '首经贸': (116.320202, 39.844463)},\n",
      " '13号线': {'上地': (116.320193, 40.033007),\n",
      "          '东直门': (116.435842, 39.941626),\n",
      "          '五道口': (116.337742, 39.992894),\n",
      "          '光熙门': (116.431761, 39.968337),\n",
      "          '北苑': (116.434518, 40.042997),\n",
      "          '回龙观': (116.336116, 40.0708),\n",
      "          '大钟寺': (116.345139, 39.966612),\n",
      "          '望京西': (116.449884, 39.995724),\n",
      "          '柳芳': (116.432728, 39.958157),\n",
      "          '知春路': (116.33996, 39.976476),\n",
      "          '立水桥': (116.41235, 40.053032),\n",
      "          '芍药居': (116.435914, 39.977636),\n",
      "          '西二旗': (116.306295, 40.053034),\n",
      "          '西直门': (116.355426, 39.940474),\n",
      "          '霍营': (116.360286, 40.071857),\n",
      "          '龙泽': (116.319429, 40.070882)},\n",
      " '14号线东段': {'东湖渠': (116.467412, 40.01067),\n",
      "            '东风北桥': (116.485919, 39.958375),\n",
      "            '九龙山': (116.478695, 39.893222),\n",
      "            '北京南站': (116.378963, 39.865029),\n",
      "            '北工大西门': (116.477319, 39.875445),\n",
      "            '十里河': (116.457983, 39.866417),\n",
      "            '善各庄': (116.478195, 40.02716),\n",
      "            '大望路': (116.475783, 39.908287),\n",
      "            '将台': (116.489496, 39.971109),\n",
      "            '平乐园': (116.477307, 39.885275),\n",
      "            '方庄': (116.440244, 39.865868),\n",
      "            '景泰': (116.411027, 39.865255),\n",
      "            '望京': (116.469409, 39.998521),\n",
      "            '望京南': (116.481634, 39.984634),\n",
      "            '朝阳公园': (116.478291, 39.933492),\n",
      "            '来广营': (116.466994, 40.020588),\n",
      "            '枣营': (116.474947, 39.944132),\n",
      "            '永定门外': (116.399369, 39.867435),\n",
      "            '蒲黄榆': (116.42372, 39.865621),\n",
      "            '金台路': (116.478115, 39.923556),\n",
      "            '阜通': (116.47174, 39.991699)},\n",
      " '14号线西段': {'七里庄': (116.294292, 39.866773),\n",
      "            '园博园': (116.201643, 39.861328),\n",
      "            '大井': (116.276061, 39.865226),\n",
      "            '大瓦窑': (116.24048, 39.85947),\n",
      "            '张郭庄': (116.187193, 39.8581),\n",
      "            '西局': (116.303819, 39.86677),\n",
      "            '郭庄子': (116.253068, 39.864841)},\n",
      " '15号线': {'俸伯': (116.684732, 40.132573),\n",
      "          '六道口': (116.35267, 40.000958),\n",
      "          '关庄': (116.430947, 40.001134),\n",
      "          '北沙滩': (116.368143, 40.001492),\n",
      "          '南法信': (116.609535, 40.128478),\n",
      "          '后沙峪': (116.564211, 40.114127),\n",
      "          '国展': (116.555127, 40.07003),\n",
      "          '大屯路东': (116.417377, 40.003841),\n",
      "          '奥林匹克公园': (116.391758, 40.002207),\n",
      "          '孙河': (116.5347, 40.045113),\n",
      "          '安立路': (116.407845, 40.002619),\n",
      "          '崔各庄': (116.492968, 40.022201),\n",
      "          '望京': (116.469409, 39.998521),\n",
      "          '望京东': (116.487105, 40.0032),\n",
      "          '望京西': (116.449884, 39.995724),\n",
      "          '清华东路西口': (116.33953, 40.000673),\n",
      "          '石门': (116.641117, 40.129802),\n",
      "          '花梨坎': (116.557593, 40.084436),\n",
      "          '顺义': (116.657023, 40.129994),\n",
      "          '马泉营': (116.50348, 40.033721)},\n",
      " '16号线': {'农大南路': (116.282272, 40.021398),\n",
      "          '北安河': (116.130428, 40.068128),\n",
      "          '屯佃': (116.21585, 40.068454),\n",
      "          '永丰': (116.238481, 40.071868),\n",
      "          '永丰南': (116.248154, 40.065575),\n",
      "          '温阳路': (116.161361, 40.068516),\n",
      "          '稻香湖路': (116.188145, 40.068936),\n",
      "          '西北旺': (116.257923, 40.048703),\n",
      "          '西苑': (116.290908, 39.998258),\n",
      "          '马连洼': (116.27252, 40.032637)},\n",
      " '1号线': {'万寿路': (116.294765, 39.907474),\n",
      "         '东单': (116.41848, 39.908325),\n",
      "         '五棵松': (116.273987, 39.907456),\n",
      "         '八宝山': (116.235948, 39.90744),\n",
      "         '八角游乐园': (116.212684, 39.907442),\n",
      "         '公主坟': (116.309919, 39.907469),\n",
      "         '军事博物馆': (116.321459, 39.907422),\n",
      "         '南礼士路': (116.352583, 39.907234),\n",
      "         '古城': (116.190337, 39.90745),\n",
      "         '四惠': (116.495456, 39.908749),\n",
      "         '四惠东': (116.515664, 39.908495),\n",
      "         '国贸': (116.461841, 39.909104),\n",
      "         '复兴门': (116.356866, 39.907242),\n",
      "         '大望路': (116.475783, 39.908287),\n",
      "         '天安门东': (116.401216, 39.90778),\n",
      "         '天安门西': (116.391278, 39.907472),\n",
      "         '建国门': (116.435806, 39.908501),\n",
      "         '木樨地': (116.337583, 39.907379),\n",
      "         '永安里': (116.450497, 39.908454),\n",
      "         '玉泉路': (116.252888, 39.907433),\n",
      "         '王府井': (116.411571, 39.908069),\n",
      "         '苹果园': (116.177388, 39.926727),\n",
      "         '西单': (116.374072, 39.907383)},\n",
      " '2号线': {'东四十条': (116.434133, 39.933801),\n",
      "         '东直门': (116.435842, 39.941626),\n",
      "         '前门': (116.397937, 39.900192),\n",
      "         '北京站': (116.427287, 39.904983),\n",
      "         '和平门': (116.384209, 39.900098),\n",
      "         '复兴门': (116.356866, 39.907242),\n",
      "         '安定门': (116.40824, 39.94918),\n",
      "         '宣武门': (116.374314, 39.899765),\n",
      "         '崇文门': (116.417093, 39.901063),\n",
      "         '建国门': (116.435806, 39.908501),\n",
      "         '朝阳门': (116.434584, 39.924499),\n",
      "         '积水潭': (116.373126, 39.948653),\n",
      "         '西直门': (116.355426, 39.940474),\n",
      "         '车公庄': (116.354357, 39.932397),\n",
      "         '长椿街': (116.363355, 39.899433),\n",
      "         '阜成门': (116.356009, 39.923686),\n",
      "         '雍和宫': (116.417069, 39.949336),\n",
      "         '鼓楼大街': (116.393776, 39.948972)},\n",
      " '4号线大兴线': {'中关村': (116.316467, 39.983991),\n",
      "            '义和庄': (116.319079, 39.712387),\n",
      "            '人民大学': (116.321367, 39.966956),\n",
      "            '公益西桥': (116.370796, 39.836135),\n",
      "            '动物园': (116.339031, 39.93825),\n",
      "            '北京南站': (116.378963, 39.865029),\n",
      "            '北京大学东门': (116.315842, 39.992212),\n",
      "            '北宫门': (116.277647, 40.002373),\n",
      "            '国家图书馆': (116.32519, 39.943114),\n",
      "            '圆明园': (116.310186, 39.999662),\n",
      "            '天宫院': (116.319932, 39.670342),\n",
      "            '安河桥北': (116.269956, 40.012195),\n",
      "            '宣武门': (116.374314, 39.899765),\n",
      "            '平安里': (116.372883, 39.933949),\n",
      "            '新宫': (116.365549, 39.812592),\n",
      "            '新街口': (116.367742, 39.940667),\n",
      "            '枣园': (116.332204, 39.753458),\n",
      "            '海淀黄庄': (116.317564, 39.975996),\n",
      "            '清源路': (116.332513, 39.742724),\n",
      "            '灵境胡同': (116.373746, 39.915912),\n",
      "            '生物医药基地': (116.321662, 39.68651),\n",
      "            '菜市口': (116.374425, 39.889296),\n",
      "            '西单': (116.374072, 39.907383),\n",
      "            '西四': (116.373332, 39.924206),\n",
      "            '西直门': (116.355426, 39.940474),\n",
      "            '西红门': (116.328689, 39.7898),\n",
      "            '西苑': (116.290908, 39.998258),\n",
      "            '角门西': (116.371154, 39.84585),\n",
      "            '陶然亭': (116.374383, 39.87847),\n",
      "            '马家堡': (116.371361, 39.853109),\n",
      "            '高米店北': (116.330787, 39.773547),\n",
      "            '高米店南': (116.331605, 39.763489),\n",
      "            '魏公村': (116.32322, 39.957904),\n",
      "            '黄村火车站': (116.332611, 39.722966),\n",
      "            '黄村西大街': (116.332631, 39.731769)},\n",
      " '5号线': {'东单': (116.41848, 39.908325),\n",
      "         '东四': (116.417493, 39.92437),\n",
      "         '刘家窑': (116.422119, 39.857521),\n",
      "         '北新桥': (116.416884, 39.940782),\n",
      "         '北苑路北': (116.418089, 40.030436),\n",
      "         '和平西桥': (116.417975, 39.968386),\n",
      "         '和平里北街': (116.418504, 39.958734),\n",
      "         '大屯路东': (116.417377, 40.003841),\n",
      "         '天坛东门': (116.420833, 39.882558),\n",
      "         '天通苑': (116.412759, 40.075222),\n",
      "         '天通苑北': (116.412888, 40.083668),\n",
      "         '天通苑南': (116.412661, 40.066458),\n",
      "         '宋家庄': (116.428368, 39.845849),\n",
      "         '崇文门': (116.417093, 39.901063),\n",
      "         '张自忠路': (116.417156, 39.933592),\n",
      "         '惠新西街北口': (116.417028, 39.987836),\n",
      "         '惠新西街南口': (116.417537, 39.977121),\n",
      "         '灯市口': (116.417783, 39.917113),\n",
      "         '磁器口': (116.41994, 39.893172),\n",
      "         '立水桥': (116.41235, 40.053032),\n",
      "         '立水桥南': (116.414496, 40.041956),\n",
      "         '蒲黄榆': (116.42372, 39.865621),\n",
      "         '雍和宫': (116.417069, 39.949336)},\n",
      " '6号线': {'东四': (116.417493, 39.92437),\n",
      "         '东夏园': (116.73385, 39.903147),\n",
      "         '东大桥': (116.451657, 39.923054),\n",
      "         '北海北': (116.386829, 39.933247),\n",
      "         '北运河东': (116.707056, 39.903268),\n",
      "         '北运河西': (116.688358, 39.903024),\n",
      "         '十里堡': (116.502045, 39.923076),\n",
      "         '南锣鼓巷': (116.404192, 39.933848),\n",
      "         '呼家楼': (116.461618, 39.923337),\n",
      "         '常营': (116.599722, 39.925696),\n",
      "         '平安里': (116.372883, 39.933949),\n",
      "         '廖公庄': (116.227292, 39.932422),\n",
      "         '慈寿寺': (116.295467, 39.933268),\n",
      "         '朝阳门': (116.434584, 39.924499),\n",
      "         '杨庄': (116.187004, 39.92785),\n",
      "         '海淀五路居': (116.276531, 39.932584),\n",
      "         '潞城': (116.747434, 39.902652),\n",
      "         '物资学院路': (116.639316, 39.926801),\n",
      "         '田村': (116.252914, 39.929503),\n",
      "         '白石桥南': (116.32568, 39.933022),\n",
      "         '花园桥': (116.310683, 39.93234),\n",
      "         '草房': (116.615574, 39.924477),\n",
      "         '褡裢坡': (116.563961, 39.924021),\n",
      "         '西黄村': (116.206932, 39.933605),\n",
      "         '车公庄': (116.354357, 39.932397),\n",
      "         '车公庄西': (116.344082, 39.932466),\n",
      "         '通州北关': (116.661131, 39.917962),\n",
      "         '郝家府': (116.717826, 39.903195),\n",
      "         '金台路': (116.478115, 39.923556),\n",
      "         '金安桥': (116.163167, 39.92362),\n",
      "         '青年路': (116.517429, 39.923168),\n",
      "         '黄渠': (116.578266, 39.924201)},\n",
      " '7号线': {'九龙山': (116.478695, 39.893222),\n",
      "         '化工': (116.503439, 39.887369),\n",
      "         '北京西站': (116.321218, 39.894706),\n",
      "         '南楼梓庄': (116.501084, 39.874578),\n",
      "         '双合': (116.526836, 39.859691),\n",
      "         '垡头': (116.511821, 39.860728),\n",
      "         '大郊亭': (116.487935, 39.893183),\n",
      "         '广安门内': (116.358239, 39.889418),\n",
      "         '广渠门内': (116.433877, 39.893673),\n",
      "         '广渠门外': (116.448998, 39.893648),\n",
      "         '桥湾': (116.408464, 39.892725),\n",
      "         '欢乐谷景区': (116.500067, 39.866505),\n",
      "         '湾子': (116.327753, 39.889954),\n",
      "         '焦化厂': (116.537247, 39.855488),\n",
      "         '珠市口': (116.398104, 39.891267),\n",
      "         '百子湾': (116.497768, 39.89253),\n",
      "         '磁器口': (116.41994, 39.893172),\n",
      "         '菜市口': (116.374425, 39.889296),\n",
      "         '虎坊桥': (116.384596, 39.889486),\n",
      "         '达官营': (116.336455, 39.889884)},\n",
      " '8号线北段': {'中国美术馆': (116.410803, 39.923705),\n",
      "           '什刹海': (116.396219, 39.937583),\n",
      "           '北土城': (116.394193, 39.976953),\n",
      "           '南锣鼓巷': (116.404192, 39.933848),\n",
      "           '回龙观东大街': (116.363025, 40.081175),\n",
      "           '奥体中心': (116.393759, 39.985837),\n",
      "           '奥林匹克公园': (116.391758, 40.002207),\n",
      "           '安华桥': (116.394655, 39.968507),\n",
      "           '安德里北街': (116.395145, 39.957227),\n",
      "           '平西府': (116.350425, 40.090607),\n",
      "           '朱辛庄': (116.313698, 40.104297),\n",
      "           '林萃桥': (116.372998, 40.021906),\n",
      "           '森林公园南门': (116.3926, 40.010122),\n",
      "           '永泰庄': (116.35458, 40.037728),\n",
      "           '育新': (116.347328, 40.060039),\n",
      "           '育知路': (116.326992, 40.087863),\n",
      "           '西小口': (116.351644, 40.046873),\n",
      "           '霍营': (116.360286, 40.071857),\n",
      "           '鼓楼大街': (116.393776, 39.948972)},\n",
      " '8号线南段': {'东高地': (116.409427, 39.805074),\n",
      "           '五福堂': (116.423903, 39.785046),\n",
      "           '和义': (116.402073, 39.814838),\n",
      "           '大红门南': (116.401045, 39.836715),\n",
      "           '天桥': (116.398712, 39.88192),\n",
      "           '德茂': (116.441617, 39.772709),\n",
      "           '木樨园': (116.399839, 39.859262),\n",
      "           '永定门外': (116.399369, 39.867435),\n",
      "           '海户屯': (116.400301, 39.851805),\n",
      "           '瀛海': (116.448958, 39.760694),\n",
      "           '火箭万源': (116.418627, 39.799287),\n",
      "           '珠市口': (116.398104, 39.891267)},\n",
      " '9号线': {'七里庄': (116.294292, 39.866773),\n",
      "         '丰台东大街': (116.293857, 39.855111),\n",
      "         '丰台南路': (116.296748, 39.840444),\n",
      "         '丰台科技园': (116.297176, 39.825233),\n",
      "         '六里桥': (116.302808, 39.880239),\n",
      "         '六里桥东': (116.315142, 39.886886),\n",
      "         '军事博物馆': (116.321459, 39.907422),\n",
      "         '北京西站': (116.321218, 39.894706),\n",
      "         '国家图书馆': (116.32519, 39.943114),\n",
      "         '白堆子': (116.325762, 39.923818),\n",
      "         '白石桥南': (116.32568, 39.933022),\n",
      "         '科怡路': (116.297432, 39.83248),\n",
      "         '郭公庄': (116.301889, 39.814322)},\n",
      " 'S1线': {'上岸': (116.122225, 39.905138),\n",
      "         '四道桥': (116.13401, 39.91603),\n",
      "         '小园': (116.114443, 39.890465),\n",
      "         '栗园庄': (116.123254, 39.89578),\n",
      "         '桥户营': (116.125809, 39.912383),\n",
      "         '石厂': (116.100334, 39.889378),\n",
      "         '金安桥': (116.163167, 39.92362)},\n",
      " '亦庄线': {'万源街': (116.505403, 39.802971),\n",
      "         '亦庄文化园': (116.490632, 39.80689),\n",
      "         '亦庄桥': (116.480307, 39.803011),\n",
      "         '亦庄火车站': (116.601913, 39.812607),\n",
      "         '同济南路': (116.539901, 39.772962),\n",
      "         '宋家庄': (116.428368, 39.845849),\n",
      "         '小红门': (116.459226, 39.827951),\n",
      "         '旧宫': (116.460789, 39.80691),\n",
      "         '次渠': (116.591502, 39.8035),\n",
      "         '次渠南': (116.581357, 39.795118),\n",
      "         '经海路': (116.562321, 39.783673),\n",
      "         '肖村': (116.448364, 39.834217),\n",
      "         '荣京东街': (116.513321, 39.793189),\n",
      "         '荣昌东街': (116.521688, 39.782832)},\n",
      " '八通线': {'临河里': (116.678811, 39.875496),\n",
      "         '九棵树': (116.657533, 39.890278),\n",
      "         '传媒大学': (116.554639, 39.909215),\n",
      "         '八里桥': (116.618658, 39.906121),\n",
      "         '双桥': (116.576709, 39.910139),\n",
      "         '四惠': (116.495456, 39.908749),\n",
      "         '四惠东': (116.515664, 39.908495),\n",
      "         '土桥': (116.686349, 39.871926),\n",
      "         '果园': (116.646606, 39.893393),\n",
      "         '梨园': (116.66872, 39.883677),\n",
      "         '管庄': (116.599002, 39.90909),\n",
      "         '通州北苑': (116.637252, 39.903864),\n",
      "         '高碑店': (116.531421, 39.909448)},\n",
      " '大兴国际机场线': {'大兴新城': (116.365522, 39.735583),\n",
      "             '大兴机场': (116.416725, 39.511375),\n",
      "             '草桥': (116.351387, 39.845869)},\n",
      " '房山线': {'大葆台': (116.291681, 39.80781),\n",
      "         '广阳城': (116.184985, 39.74793),\n",
      "         '稻田': (116.21884, 39.794885),\n",
      "         '篱笆房': (116.189486, 39.760636),\n",
      "         '良乡南关': (116.140804, 39.723202),\n",
      "         '良乡大学城': (116.176541, 39.723159),\n",
      "         '良乡大学城北': (116.18348, 39.729906),\n",
      "         '良乡大学城西': (116.156282, 39.723157),\n",
      "         '苏庄': (116.125306, 39.723188),\n",
      "         '郭公庄': (116.301889, 39.814322),\n",
      "         '长阳': (116.212692, 39.763871),\n",
      "         '阎村东': (116.100817, 39.729028)},\n",
      " '昌平线': {'北邵洼': (116.281949, 40.222001),\n",
      "         '十三陵景区': (116.207729, 40.240255),\n",
      "         '南邵': (116.287534, 40.207492),\n",
      "         '巩华城': (116.293979, 40.1309),\n",
      "         '昌平': (116.23359, 40.22055),\n",
      "         '昌平东关': (116.262059, 40.221726),\n",
      "         '昌平西山口': (116.195371, 40.244624),\n",
      "         '朱辛庄': (116.313698, 40.104297),\n",
      "         '沙河': (116.288865, 40.148278),\n",
      "         '沙河高教园': (116.280465, 40.164666),\n",
      "         '生命科学园': (116.29423, 40.09479),\n",
      "         '西二旗': (116.306295, 40.053034)},\n",
      " '燕房线': {'大石河东': (116.039906, 39.709893),\n",
      "         '房山城关': (115.989599, 39.706061),\n",
      "         '星城': (116.06137, 39.713681),\n",
      "         '燕山': (115.973395, 39.719615),\n",
      "         '紫草坞': (116.08672, 39.724606),\n",
      "         '阎村': (116.080165, 39.716731),\n",
      "         '阎村东': (116.100817, 39.729028),\n",
      "         '饶乐府': (116.006103, 39.701471),\n",
      "         '马各庄': (116.016606, 39.705103)},\n",
      " '西郊线': {'万安': (116.231977, 39.984001),\n",
      "         '巴沟': (116.293727, 39.974179),\n",
      "         '植物园': (116.214853, 39.993582),\n",
      "         '茶棚': (116.2481, 39.982113),\n",
      "         '颐和园西门': (116.263248, 39.985697),\n",
      "         '香山': (116.204491, 39.994056)},\n",
      " '首都机场线': {'T2航站楼': (116.592808, 40.079311),\n",
      "           'T3航站楼': (116.615583, 40.052657),\n",
      "           '三元桥': (116.456997, 39.961508),\n",
      "           '东直门': (116.435842, 39.941626)}}\n"
     ]
    }
   ],
   "source": [
    "subway_line = {}\n",
    "for l in subway_text['l']:\n",
    "    line = l['ln']\n",
    "    subway_station = {}\n",
    "    for st in l['st']:\n",
    "        subway_station[st['n']] = tuple(map(float,st['sl'].split(',')))\n",
    "    subway_line[line] = subway_station\n",
    "\n",
    "pprint(subway_line)"
   ]
  },
  {
   "cell_type": "code",
   "execution_count": 42,
   "metadata": {},
   "outputs": [
    {
     "name": "stdout",
     "output_type": "stream",
     "text": [
      "{'T2航站楼': (116.592808, 40.079311),\n",
      " 'T3航站楼': (116.615583, 40.052657),\n",
      " '七里庄': (116.294292, 39.866773),\n",
      " '万安': (116.231977, 39.984001),\n",
      " '万寿路': (116.294765, 39.907474),\n",
      " '万源街': (116.505403, 39.802971),\n",
      " '三元桥': (116.456997, 39.961508),\n",
      " '上地': (116.320193, 40.033007),\n",
      " '上岸': (116.122225, 39.905138),\n",
      " '东单': (116.41848, 39.908325),\n",
      " '东四': (116.417493, 39.92437),\n",
      " '东四十条': (116.434133, 39.933801),\n",
      " '东夏园': (116.73385, 39.903147),\n",
      " '东大桥': (116.451657, 39.923054),\n",
      " '东湖渠': (116.467412, 40.01067),\n",
      " '东直门': (116.435842, 39.941626),\n",
      " '东风北桥': (116.485919, 39.958375),\n",
      " '东高地': (116.409427, 39.805074),\n",
      " '中关村': (116.316467, 39.983991),\n",
      " '中国美术馆': (116.410803, 39.923705),\n",
      " '丰台东大街': (116.293857, 39.855111),\n",
      " '丰台南路': (116.296748, 39.840444),\n",
      " '丰台科技园': (116.297176, 39.825233),\n",
      " '丰台站': (116.30454, 39.849639),\n",
      " '临河里': (116.678811, 39.875496),\n",
      " '义和庄': (116.319079, 39.712387),\n",
      " '九棵树': (116.657533, 39.890278),\n",
      " '九龙山': (116.478695, 39.893222),\n",
      " '五棵松': (116.273987, 39.907456),\n",
      " '五福堂': (116.423903, 39.785046),\n",
      " '五道口': (116.337742, 39.992894),\n",
      " '亦庄文化园': (116.490632, 39.80689),\n",
      " '亦庄桥': (116.480307, 39.803011),\n",
      " '亦庄火车站': (116.601913, 39.812607),\n",
      " '亮马桥': (116.461794, 39.949415),\n",
      " '人民大学': (116.321367, 39.966956),\n",
      " '什刹海': (116.396219, 39.937583),\n",
      " '传媒大学': (116.554639, 39.909215),\n",
      " '俸伯': (116.684732, 40.132573),\n",
      " '健德门': (116.381353, 39.976723),\n",
      " '光熙门': (116.431761, 39.968337),\n",
      " '八宝山': (116.235948, 39.90744),\n",
      " '八角游乐园': (116.212684, 39.907442),\n",
      " '八里桥': (116.618658, 39.906121),\n",
      " '公主坟': (116.309919, 39.907469),\n",
      " '公益西桥': (116.370796, 39.836135),\n",
      " '六道口': (116.35267, 40.000958),\n",
      " '六里桥': (116.302808, 39.880239),\n",
      " '六里桥东': (116.315142, 39.886886),\n",
      " '关庄': (116.430947, 40.001134),\n",
      " '军事博物馆': (116.321459, 39.907422),\n",
      " '农业展览馆': (116.461724, 39.941344),\n",
      " '农大南路': (116.282272, 40.021398),\n",
      " '分钟寺': (116.453976, 39.852227),\n",
      " '刘家窑': (116.422119, 39.857521),\n",
      " '前门': (116.397937, 39.900192),\n",
      " '动物园': (116.339031, 39.93825),\n",
      " '劲松': (116.461325, 39.884387),\n",
      " '化工': (116.503439, 39.887369),\n",
      " '北京南站': (116.378963, 39.865029),\n",
      " '北京大学东门': (116.315842, 39.992212),\n",
      " '北京站': (116.427287, 39.904983),\n",
      " '北京西站': (116.321218, 39.894706),\n",
      " '北土城': (116.394193, 39.976953),\n",
      " '北安河': (116.130428, 40.068128),\n",
      " '北宫门': (116.277647, 40.002373),\n",
      " '北工大西门': (116.477319, 39.875445),\n",
      " '北新桥': (116.416884, 39.940782),\n",
      " '北沙滩': (116.368143, 40.001492),\n",
      " '北海北': (116.386829, 39.933247),\n",
      " '北苑': (116.434518, 40.042997),\n",
      " '北苑路北': (116.418089, 40.030436),\n",
      " '北运河东': (116.707056, 39.903268),\n",
      " '北运河西': (116.688358, 39.903024),\n",
      " '北邵洼': (116.281949, 40.222001),\n",
      " '十三陵景区': (116.207729, 40.240255),\n",
      " '十里堡': (116.502045, 39.923076),\n",
      " '十里河': (116.457983, 39.866417),\n",
      " '南楼梓庄': (116.501084, 39.874578),\n",
      " '南法信': (116.609535, 40.128478),\n",
      " '南礼士路': (116.352583, 39.907234),\n",
      " '南邵': (116.287534, 40.207492),\n",
      " '南锣鼓巷': (116.404192, 39.933848),\n",
      " '双井': (116.460627, 39.893479),\n",
      " '双合': (116.526836, 39.859691),\n",
      " '双桥': (116.576709, 39.910139),\n",
      " '古城': (116.190337, 39.90745),\n",
      " '同济南路': (116.539901, 39.772962),\n",
      " '后沙峪': (116.564211, 40.114127),\n",
      " '呼家楼': (116.461618, 39.923337),\n",
      " '和义': (116.402073, 39.814838),\n",
      " '和平西桥': (116.417975, 39.968386),\n",
      " '和平里北街': (116.418504, 39.958734),\n",
      " '和平门': (116.384209, 39.900098),\n",
      " '善各庄': (116.478195, 40.02716),\n",
      " '四惠': (116.495456, 39.908749),\n",
      " '四惠东': (116.515664, 39.908495),\n",
      " '四道桥': (116.13401, 39.91603),\n",
      " '回龙观': (116.336116, 40.0708),\n",
      " '回龙观东大街': (116.363025, 40.081175),\n",
      " '团结湖': (116.461806, 39.933747),\n",
      " '园博园': (116.201643, 39.861328),\n",
      " '国家图书馆': (116.32519, 39.943114),\n",
      " '国展': (116.555127, 40.07003),\n",
      " '国贸': (116.461841, 39.909104),\n",
      " '圆明园': (116.310186, 39.999662),\n",
      " '土桥': (116.686349, 39.871926),\n",
      " '垡头': (116.511821, 39.860728),\n",
      " '复兴门': (116.356866, 39.907242),\n",
      " '大井': (116.276061, 39.865226),\n",
      " '大兴新城': (116.365522, 39.735583),\n",
      " '大兴机场': (116.416725, 39.511375),\n",
      " '大屯路东': (116.417377, 40.003841),\n",
      " '大望路': (116.475783, 39.908287),\n",
      " '大瓦窑': (116.24048, 39.85947),\n",
      " '大石河东': (116.039906, 39.709893),\n",
      " '大红门': (116.399154, 39.845383),\n",
      " '大红门南': (116.401045, 39.836715),\n",
      " '大葆台': (116.291681, 39.80781),\n",
      " '大郊亭': (116.487935, 39.893183),\n",
      " '大钟寺': (116.345139, 39.966612),\n",
      " '天坛东门': (116.420833, 39.882558),\n",
      " '天安门东': (116.401216, 39.90778),\n",
      " '天安门西': (116.391278, 39.907472),\n",
      " '天宫院': (116.319932, 39.670342),\n",
      " '天桥': (116.398712, 39.88192),\n",
      " '天通苑': (116.412759, 40.075222),\n",
      " '天通苑北': (116.412888, 40.083668),\n",
      " '天通苑南': (116.412661, 40.066458),\n",
      " '太阳宫': (116.447469, 39.972678),\n",
      " '奥体中心': (116.393759, 39.985837),\n",
      " '奥林匹克公园': (116.391758, 40.002207),\n",
      " '孙河': (116.5347, 40.045113),\n",
      " '安华桥': (116.394655, 39.968507),\n",
      " '安定门': (116.40824, 39.94918),\n",
      " '安德里北街': (116.395145, 39.957227),\n",
      " '安河桥北': (116.269956, 40.012195),\n",
      " '安立路': (116.407845, 40.002619),\n",
      " '安贞门': (116.405954, 39.977005),\n",
      " '宋家庄': (116.428368, 39.845849),\n",
      " '宣武门': (116.374314, 39.899765),\n",
      " '将台': (116.489496, 39.971109),\n",
      " '小园': (116.114443, 39.890465),\n",
      " '小红门': (116.459226, 39.827951),\n",
      " '屯佃': (116.21585, 40.068454),\n",
      " '崇文门': (116.417093, 39.901063),\n",
      " '崔各庄': (116.492968, 40.022201),\n",
      " '巩华城': (116.293979, 40.1309),\n",
      " '巴沟': (116.293727, 39.974179),\n",
      " '常营': (116.599722, 39.925696),\n",
      " '平乐园': (116.477307, 39.885275),\n",
      " '平安里': (116.372883, 39.933949),\n",
      " '平西府': (116.350425, 40.090607),\n",
      " '广安门内': (116.358239, 39.889418),\n",
      " '广渠门内': (116.433877, 39.893673),\n",
      " '广渠门外': (116.448998, 39.893648),\n",
      " '广阳城': (116.184985, 39.74793),\n",
      " '廖公庄': (116.227292, 39.932422),\n",
      " '建国门': (116.435806, 39.908501),\n",
      " '张自忠路': (116.417156, 39.933592),\n",
      " '张郭庄': (116.187193, 39.8581),\n",
      " '德茂': (116.441617, 39.772709),\n",
      " '惠新西街北口': (116.417028, 39.987836),\n",
      " '惠新西街南口': (116.417537, 39.977121),\n",
      " '慈寿寺': (116.295467, 39.933268),\n",
      " '成寿寺': (116.447531, 39.845874),\n",
      " '房山城关': (115.989599, 39.706061),\n",
      " '新宫': (116.365549, 39.812592),\n",
      " '新街口': (116.367742, 39.940667),\n",
      " '方庄': (116.440244, 39.865868),\n",
      " '旧宫': (116.460789, 39.80691),\n",
      " '昌平': (116.23359, 40.22055),\n",
      " '昌平东关': (116.262059, 40.221726),\n",
      " '昌平西山口': (116.195371, 40.244624),\n",
      " '星城': (116.06137, 39.713681),\n",
      " '景泰': (116.411027, 39.865255),\n",
      " '望京': (116.469409, 39.998521),\n",
      " '望京东': (116.487105, 40.0032),\n",
      " '望京南': (116.481634, 39.984634),\n",
      " '望京西': (116.449884, 39.995724),\n",
      " '朝阳公园': (116.478291, 39.933492),\n",
      " '朝阳门': (116.434584, 39.924499),\n",
      " '木樨园': (116.399839, 39.859262),\n",
      " '木樨地': (116.337583, 39.907379),\n",
      " '朱辛庄': (116.313698, 40.104297),\n",
      " '来广营': (116.466994, 40.020588),\n",
      " '杨庄': (116.187004, 39.92785),\n",
      " '林萃桥': (116.372998, 40.021906),\n",
      " '果园': (116.646606, 39.893393),\n",
      " '枣园': (116.332204, 39.753458),\n",
      " '枣营': (116.474947, 39.944132),\n",
      " '柳芳': (116.432728, 39.958157),\n",
      " '栗园庄': (116.123254, 39.89578),\n",
      " '桥户营': (116.125809, 39.912383),\n",
      " '桥湾': (116.408464, 39.892725),\n",
      " '梨园': (116.66872, 39.883677),\n",
      " '森林公园南门': (116.3926, 40.010122),\n",
      " '植物园': (116.214853, 39.993582),\n",
      " '次渠': (116.591502, 39.8035),\n",
      " '次渠南': (116.581357, 39.795118),\n",
      " '欢乐谷景区': (116.500067, 39.866505),\n",
      " '永丰': (116.238481, 40.071868),\n",
      " '永丰南': (116.248154, 40.065575),\n",
      " '永安里': (116.450497, 39.908454),\n",
      " '永定门外': (116.399369, 39.867435),\n",
      " '永泰庄': (116.35458, 40.037728),\n",
      " '沙河': (116.288865, 40.148278),\n",
      " '沙河高教园': (116.280465, 40.164666),\n",
      " '泥洼': (116.304173, 39.858609),\n",
      " '海户屯': (116.400301, 39.851805),\n",
      " '海淀五路居': (116.276531, 39.932584),\n",
      " '海淀黄庄': (116.317564, 39.975996),\n",
      " '清华东路西口': (116.33953, 40.000673),\n",
      " '清源路': (116.332513, 39.742724),\n",
      " '温阳路': (116.161361, 40.068516),\n",
      " '湾子': (116.327753, 39.889954),\n",
      " '潘家园': (116.460926, 39.875387),\n",
      " '潞城': (116.747434, 39.902652),\n",
      " '瀛海': (116.448958, 39.760694),\n",
      " '火器营': (116.289058, 39.965938),\n",
      " '火箭万源': (116.418627, 39.799287),\n",
      " '灯市口': (116.417783, 39.917113),\n",
      " '灵境胡同': (116.373746, 39.915912),\n",
      " '焦化厂': (116.537247, 39.855488),\n",
      " '燕山': (115.973395, 39.719615),\n",
      " '牡丹园': (116.369844, 39.976603),\n",
      " '物资学院路': (116.639316, 39.926801),\n",
      " '玉泉路': (116.252888, 39.907433),\n",
      " '王府井': (116.411571, 39.908069),\n",
      " '珠市口': (116.398104, 39.891267),\n",
      " '生命科学园': (116.29423, 40.09479),\n",
      " '生物医药基地': (116.321662, 39.68651),\n",
      " '田村': (116.252914, 39.929503),\n",
      " '白堆子': (116.325762, 39.923818),\n",
      " '白石桥南': (116.32568, 39.933022),\n",
      " '百子湾': (116.497768, 39.89253),\n",
      " '知春路': (116.33996, 39.976476),\n",
      " '知春里': (116.328709, 39.976334),\n",
      " '石厂': (116.100334, 39.889378),\n",
      " '石榴庄': (116.414103, 39.845905),\n",
      " '石门': (116.641117, 40.129802),\n",
      " '磁器口': (116.41994, 39.893172),\n",
      " '科怡路': (116.297432, 39.83248),\n",
      " '积水潭': (116.373126, 39.948653),\n",
      " '稻田': (116.21884, 39.794885),\n",
      " '稻香湖路': (116.188145, 40.068936),\n",
      " '立水桥': (116.41235, 40.053032),\n",
      " '立水桥南': (116.414496, 40.041956),\n",
      " '管庄': (116.599002, 39.90909),\n",
      " '篱笆房': (116.189486, 39.760636),\n",
      " '紫草坞': (116.08672, 39.724606),\n",
      " '纪家庙': (116.333381, 39.844433),\n",
      " '经海路': (116.562321, 39.783673),\n",
      " '肖村': (116.448364, 39.834217),\n",
      " '育新': (116.347328, 40.060039),\n",
      " '育知路': (116.326992, 40.087863),\n",
      " '良乡南关': (116.140804, 39.723202),\n",
      " '良乡大学城': (116.176541, 39.723159),\n",
      " '良乡大学城北': (116.18348, 39.729906),\n",
      " '良乡大学城西': (116.156282, 39.723157),\n",
      " '芍药居': (116.435914, 39.977636),\n",
      " '花园桥': (116.310683, 39.93234),\n",
      " '花梨坎': (116.557593, 40.084436),\n",
      " '苏州街': (116.306332, 39.975642),\n",
      " '苏庄': (116.125306, 39.723188),\n",
      " '苹果园': (116.177388, 39.926727),\n",
      " '茶棚': (116.2481, 39.982113),\n",
      " '草房': (116.615574, 39.924477),\n",
      " '草桥': (116.351387, 39.845869),\n",
      " '荣京东街': (116.513321, 39.793189),\n",
      " '荣昌东街': (116.521688, 39.782832),\n",
      " '莲花桥': (116.310347, 39.897867),\n",
      " '菜市口': (116.374425, 39.889296),\n",
      " '蒲黄榆': (116.42372, 39.865621),\n",
      " '虎坊桥': (116.384596, 39.889486),\n",
      " '褡裢坡': (116.563961, 39.924021),\n",
      " '西二旗': (116.306295, 40.053034),\n",
      " '西北旺': (116.257923, 40.048703),\n",
      " '西单': (116.374072, 39.907383),\n",
      " '西四': (116.373332, 39.924206),\n",
      " '西土城': (116.354098, 39.976549),\n",
      " '西小口': (116.351644, 40.046873),\n",
      " '西局': (116.303819, 39.86677),\n",
      " '西直门': (116.355426, 39.940474),\n",
      " '西红门': (116.328689, 39.7898),\n",
      " '西苑': (116.290908, 39.998258),\n",
      " '西钓鱼台': (116.298064, 39.923481),\n",
      " '西黄村': (116.206932, 39.933605),\n",
      " '角门东': (116.385649, 39.845135),\n",
      " '角门西': (116.371154, 39.84585),\n",
      " '车公庄': (116.354357, 39.932397),\n",
      " '车公庄西': (116.344082, 39.932466),\n",
      " '车道沟': (116.293818, 39.947923),\n",
      " '达官营': (116.336455, 39.889884),\n",
      " '通州北关': (116.661131, 39.917962),\n",
      " '通州北苑': (116.637252, 39.903864),\n",
      " '郝家府': (116.717826, 39.903195),\n",
      " '郭公庄': (116.301889, 39.814322),\n",
      " '郭庄子': (116.253068, 39.864841),\n",
      " '金台夕照': (116.461743, 39.916838),\n",
      " '金台路': (116.478115, 39.923556),\n",
      " '金安桥': (116.163167, 39.92362),\n",
      " '长春桥': (116.294255, 39.958527),\n",
      " '长椿街': (116.363355, 39.899433),\n",
      " '长阳': (116.212692, 39.763871),\n",
      " '阎村': (116.080165, 39.716731),\n",
      " '阎村东': (116.100817, 39.729028),\n",
      " '阜成门': (116.356009, 39.923686),\n",
      " '阜通': (116.47174, 39.991699),\n",
      " '陶然亭': (116.374383, 39.87847),\n",
      " '雍和宫': (116.417069, 39.949336),\n",
      " '霍营': (116.360286, 40.071857),\n",
      " '青年路': (116.517429, 39.923168),\n",
      " '顺义': (116.657023, 40.129994),\n",
      " '颐和园西门': (116.263248, 39.985697),\n",
      " '饶乐府': (116.006103, 39.701471),\n",
      " '首经贸': (116.320202, 39.844463),\n",
      " '香山': (116.204491, 39.994056),\n",
      " '马各庄': (116.016606, 39.705103),\n",
      " '马家堡': (116.371361, 39.853109),\n",
      " '马泉营': (116.50348, 40.033721),\n",
      " '马连洼': (116.27252, 40.032637),\n",
      " '高碑店': (116.531421, 39.909448),\n",
      " '高米店北': (116.330787, 39.773547),\n",
      " '高米店南': (116.331605, 39.763489),\n",
      " '魏公村': (116.32322, 39.957904),\n",
      " '黄村火车站': (116.332611, 39.722966),\n",
      " '黄村西大街': (116.332631, 39.731769),\n",
      " '黄渠': (116.578266, 39.924201),\n",
      " '鼓楼大街': (116.393776, 39.948972),\n",
      " '龙泽': (116.319429, 40.070882)}\n"
     ]
    }
   ],
   "source": [
    "\"\"\"\n",
    "得到所有站点的经纬度坐标，\n",
    "用于计算站点之间的距离。\n",
    "\"\"\"\n",
    "\n",
    "station_info = {}\n",
    "for line in subway_line.values():\n",
    "    station_info.update(line)\n",
    "pprint(station_info)"
   ]
  },
  {
   "cell_type": "code",
   "execution_count": 43,
   "metadata": {},
   "outputs": [
    {
     "data": {
      "image/png": "[encoded data removed]",
      "text/plain": [
       "<Figure size 432x288 with 1 Axes>"
      ]
     },
     "metadata": {},
     "output_type": "display_data"
    }
   ],
   "source": [
    "\"\"\"\n",
    "用networkx进行可视化，\n",
    "由于上面的北京市地铁图是用调整后的数据绘制的，\n",
    "而下面的图用实际坐标绘制，所以有点不一样。\n",
    "\"\"\"\n",
    "\n",
    "import networkx as nx\n",
    "import matplotlib.pyplot as plt\n",
    "\n",
    "station_graph = nx.Graph()\n",
    "station_graph.add_nodes_from(list(station_info.keys()))\n",
    "nx.draw(station_graph,station_info,with_labels=False,node_size=10)"
   ]
  },
  {
   "cell_type": "code",
   "execution_count": 44,
   "metadata": {},
   "outputs": [],
   "source": [
    "\"\"\"\n",
    "1 根据地铁换乘信息，把图以邻接列表的形式，构建出来。\n",
    "2 北京市地铁分为环线和非环线，邻接列表的构建方式不同。\n",
    "3 10号线和2号线是环线，而且分为内环和外环，环线的特点表现为首站和尾站相同，而内环和外环的首站又不同。\n",
    "4 非环线非换乘站的首站和尾站只有一个相邻节点，中间站点则有两个相邻节点。\n",
    "\"\"\"\n",
    "from collections import defaultdict\n",
    "\n",
    "station_connect = defaultdict(dict)\n",
    "for l in subway_text['l']:\n",
    "    line = l['ln']\n",
    "    for i,st in enumerate(l['st']):\n",
    "        if i == 0:\n",
    "            station = l['st'][i+1]['n']\n",
    "            station_connect[st['n']][station] = line\n",
    "        elif i == len(l['st'])-1:\n",
    "            station = l['st'][i-1]['n']\n",
    "            station_connect[st['n']][station] = line\n",
    "        else:\n",
    "            station_up,station_down = (l['st'][i-1]['n'],l['st'][i+1]['n'])\n",
    "            stations = dict(zip([station_up,station_down],[line,line]))\n",
    "            station_connect[st['n']].update(stations)\n",
    "            \n",
    "\n",
    "station_connect['西直门']['积水潭'] = '2号线'\n",
    "station_connect['积水潭']['西直门'] = '2号线'\n",
    "station_connect['劲松']['潘家园'] = '10号线'\n",
    "station_connect['潘家园']['劲松'] = '10号线'"
   ]
  },
  {
   "cell_type": "code",
   "execution_count": 45,
   "metadata": {},
   "outputs": [
    {
     "name": "stdout",
     "output_type": "stream",
     "text": [
      "{'万寿路': '1号线', '军事博物馆': '1号线', '莲花桥': '10号线', '西钓鱼台': '10号线'}\n",
      "{'车公庄': '2号线', '新街口': '4号线大兴线', '动物园': '4号线大兴线', '大钟寺': '13号线', '积水潭': '2号线'}\n",
      "{'四道桥': 'S1线', '杨庄': '6号线'}\n",
      "{'小园': 'S1线'}\n"
     ]
    }
   ],
   "source": [
    "print(station_connect['公主坟'])\n",
    "print(station_connect['西直门'])\n",
    "print(station_connect['金安桥'])\n",
    "print(station_connect['石厂'])"
   ]
  },
  {
   "cell_type": "code",
   "execution_count": 46,
   "metadata": {},
   "outputs": [
    {
     "name": "stdout",
     "output_type": "stream",
     "text": [
      "{'北土城': '8号线北段', '奥林匹克公园': '8号线北段'}\n",
      "{'安华桥': '8号线北段', '奥体中心': '8号线北段', '健德门': '10号线', '安贞门': '10号线'}\n"
     ]
    }
   ],
   "source": [
    "print(station_connect['奥体中心'])\n",
    "print(station_connect['北土城'])"
   ]
  },
  {
   "cell_type": "code",
   "execution_count": 47,
   "metadata": {},
   "outputs": [
    {
     "data": {
      "image/png": "[encoded data removed]",
      "text/plain": [
       "<Figure size 432x288 with 1 Axes>"
      ]
     },
     "metadata": {},
     "output_type": "display_data"
    }
   ],
   "source": [
    "station_connect_graph = nx.Graph(station_connect)\n",
    "nx.draw(station_connect_graph,station_info,with_labels=False,node_size=5)"
   ]
  },
  {
   "cell_type": "markdown",
   "metadata": {},
   "source": [
    "#### 3. Build the search agent"
   ]
  },
  {
   "cell_type": "markdown",
   "metadata": {},
   "source": [
    "Build the search agent based ont he graph you built."
   ]
  },
  {
   "cell_type": "markdown",
   "metadata": {},
   "source": [
    "for example, if you use Beijing subway graoh, and you run:"
   ]
  },
  {
   "cell_type": "markdown",
   "metadata": {},
   "source": [
    "\\>>> search(\"奥体中心“，”天安门“）"
   ]
  },
  {
   "cell_type": "markdown",
   "metadata": {},
   "source": [
    "You should get the result as follows: 奥体中心 -> A ->B ->C ... -> 天安门"
   ]
  },
  {
   "cell_type": "code",
   "execution_count": 58,
   "metadata": {},
   "outputs": [],
   "source": [
    "\"\"\"\n",
    "使用BFS或DFS来搜索路径\n",
    "\"\"\"\n",
    "\n",
    "def search(graph, start, destination,strategy):\n",
    "    pathes = [[start]]\n",
    "    visited = set()\n",
    "    \n",
    "    while pathes:\n",
    "        path = pathes.pop(0)\n",
    "        frontier = path[-1]\n",
    "        \n",
    "        if frontier in visited: continue\n",
    "        successors = graph[frontier]\n",
    "        \n",
    "        for city in list(successors.keys()):\n",
    "            if city in path: continue\n",
    "            new_path = path + [city]\n",
    "            \n",
    "            if strategy == 'bfs':\n",
    "                pathes.append(new_path)  \n",
    "            elif strategy == 'dfs':\n",
    "                pathes = [new_path] + pathes  \n",
    "            \n",
    "            if city == destination:\n",
    "                print('->'.join(new_path))\n",
    "                return   \n",
    "        visited.add(frontier)"
   ]
  },
  {
   "cell_type": "code",
   "execution_count": 59,
   "metadata": {},
   "outputs": [
    {
     "name": "stdout",
     "output_type": "stream",
     "text": [
      "奥体中心->北土城->安华桥->安德里北街->鼓楼大街->积水潭->西直门->车公庄->阜成门->复兴门->西单->天安门西\n"
     ]
    }
   ],
   "source": [
    "search(station_connect,\"奥体中心\",\"天安门西\",\"bfs\")"
   ]
  },
  {
   "cell_type": "code",
   "execution_count": 50,
   "metadata": {},
   "outputs": [
    {
     "name": "stdout",
     "output_type": "stream",
     "text": [
      "奥体中心->奥林匹克公园->安立路->大屯路东->关庄->望京西->望京->阜通->望京南->将台->东风北桥->枣营->朝阳公园->金台路->大望路->九龙山->平乐园->北工大西门->十里河->方庄->蒲黄榆->景泰->永定门外->北京南站->陶然亭->菜市口->广安门内->达官营->湾子->北京西站->军事博物馆->白堆子->白石桥南->国家图书馆->魏公村->人民大学->海淀黄庄->知春里->知春路->大钟寺->西直门->积水潭->鼓楼大街->安德里北街->安华桥->北土城->安贞门->惠新西街南口->芍药居->光熙门->柳芳->东直门->三元桥->亮马桥->农业展览馆->团结湖->呼家楼->金台夕照->国贸->永安里->建国门->北京站->崇文门->东单->灯市口->东四->南锣鼓巷->北海北->平安里->车公庄->阜成门->复兴门->长椿街->宣武门->西单->天安门西\n"
     ]
    }
   ],
   "source": [
    "search(station_connect,\"奥体中心\",\"天安门西\",\"dfs\")"
   ]
  },
  {
   "cell_type": "markdown",
   "metadata": {},
   "source": [
    "### (Optional) Improve your agent to make it able to find a path based on different strategies"
   ]
  },
  {
   "cell_type": "markdown",
   "metadata": {},
   "source": [
    "Some ideas you might want to try:"
   ]
  },
  {
   "cell_type": "markdown",
   "metadata": {},
   "source": [
    "a. Find the shortest path between two stations."
   ]
  },
  {
   "cell_type": "code",
   "execution_count": 51,
   "metadata": {},
   "outputs": [],
   "source": [
    "\"\"\"\n",
    "用BFS，对于某个站点，每次小循环找下一站，就利用上面计算距离的函数，计算当前所有路线的距离。\n",
    "对当前的所有路径按距离进行排序，距离最短的路线排在前面。\n",
    "继续循环搜索，当搜索到终点站时，输出结果。\n",
    "由于每次大循环都从距离最短的路线开始，所以搜索到终点站时，距离也是最短的。\n",
    "\"\"\"\n",
    "def get_city_distance(city1,city2):\n",
    "    return geo_distance(station_info[city1],station_info[city2])\n",
    "\n",
    "def get_distance_of_path(path):\n",
    "    distance = 0\n",
    "    for i,_ in enumerate(path[:-1]):\n",
    "        distance += get_city_distance(path[i],path[i+1])\n",
    "    return distance\n",
    "    \n",
    "def sort_by_distance(pathes):\n",
    "    return sorted(pathes,key=get_distance_of_path)\n",
    "\n",
    "def search_shortest(graph,start,destination,search_strategy):\n",
    "    pathes = [[start]]\n",
    "    \n",
    "    while pathes:\n",
    "        path = pathes.pop(0)\n",
    "        frontier = path[-1]\n",
    "        successors = graph[frontier]\n",
    "        \n",
    "        for city in list(successors.keys()):\n",
    "            if city in path: continue\n",
    "                \n",
    "            new_path = path + [city]\n",
    "            pathes.append(new_path)\n",
    "            \n",
    "        pathes = search_strategy(pathes)\n",
    "        if pathes and (destination == pathes[0][-1]):\n",
    "            print('->'.join(pathes[0]))\n",
    "            return "
   ]
  },
  {
   "cell_type": "code",
   "execution_count": 52,
   "metadata": {},
   "outputs": [
    {
     "name": "stdout",
     "output_type": "stream",
     "text": [
      "奥体中心->北土城->安华桥->安德里北街->鼓楼大街->什刹海->南锣鼓巷->东四->灯市口->东单->王府井->天安门东->天安门西\n"
     ]
    }
   ],
   "source": [
    "search_shortest(station_connect,\"奥体中心\",\"天安门西\",sort_by_distance)"
   ]
  },
  {
   "cell_type": "code",
   "execution_count": 53,
   "metadata": {},
   "outputs": [
    {
     "name": "stdout",
     "output_type": "stream",
     "text": [
      "奥体中心->北土城->安华桥->安德里北街->鼓楼大街->积水潭->西直门->车公庄->阜成门->复兴门->西单->天安门西\n",
      "奥体中心->北土城->安华桥->安德里北街->鼓楼大街->什刹海->南锣鼓巷->东四->灯市口->东单->王府井->天安门东->天安门西\n"
     ]
    }
   ],
   "source": [
    "\"\"\"\n",
    "计算纯BFS和用最短路径的BFS搜索的路径的距离\n",
    "比较一下，看最短路径的算法是否正确\n",
    "\"\"\"\n",
    "search(station_connect,\"奥体中心\",\"天安门西\",\"bfs\")\n",
    "search_shortest(station_connect,\"奥体中心\",\"天安门西\",sort_by_distance)"
   ]
  },
  {
   "cell_type": "code",
   "execution_count": 54,
   "metadata": {},
   "outputs": [],
   "source": [
    "path_bfs = \"奥体中心->北土城->安华桥->安德里北街->鼓楼大街->积水潭->西直门->车公庄->阜成门->复兴门->西单->天安门西\".split(\"->\")\n",
    "path_shortest = \"奥体中心->北土城->安华桥->安德里北街->鼓楼大街->什刹海->南锣鼓巷->东四->灯市口->东单->王府井->天安门东->天安门西\".split(\"->\")"
   ]
  },
  {
   "cell_type": "code",
   "execution_count": 55,
   "metadata": {},
   "outputs": [
    {
     "name": "stdout",
     "output_type": "stream",
     "text": [
      "最短路径算法输出结果正确！\n"
     ]
    }
   ],
   "source": [
    "if get_distance_of_path(path_bfs) >= get_distance_of_path(path_shortest):\n",
    "    print(\"最短路径算法输出结果正确！\")"
   ]
  },
  {
   "cell_type": "markdown",
   "metadata": {},
   "source": [
    "b. Find the path that requires minimum transfers between two stations."
   ]
  },
  {
   "cell_type": "code",
   "execution_count": 88,
   "metadata": {},
   "outputs": [],
   "source": [
    "\"\"\"\n",
    "方法1：先用BFS尽可能多找出几条路径，由于BFS像超声波一样从内向外搜索，所以其实前几条路径就包含了换乘最少的路径。\n",
    "      所以我把visited 这个判断条件去掉，而单独把找到的路线放在 pathes_target这个列表里，找到前10条路径时，就跳出循环。\n",
    "      再计算每条路径的换乘次数，进行排序，输出换乘最少的路径。\n",
    "\"\"\"\n",
    "\n",
    "def get_transfer_of_path(path):\n",
    "    transfer_num = len(set(path.values()))-1\n",
    "    return transfer_num\n",
    "\n",
    "def sort_by_transfer(pathes):\n",
    "    return sorted(pathes,key=get_transfer_of_path)\n",
    "\n",
    "def search_transfer_1(graph, start, destination, search_strategy):\n",
    "    pathes = [{start:'start'}]\n",
    "    pathes_target = []\n",
    "    \n",
    "    while pathes:\n",
    "        path = pathes.pop(0)\n",
    "        frontier = list(path.items())[-1][0]      \n",
    "        successors = graph[frontier]\n",
    "\n",
    "        for city,line in successors.items():\n",
    "            if city in path: continue\n",
    "            new_path = dict(path,**{city:line})\n",
    "\n",
    "            if city == destination:\n",
    "                pathes_target.append(new_path)\n",
    "                continue\n",
    "            pathes.append(new_path)\n",
    "        \n",
    "        if len(pathes_target) > 10:\n",
    "            break\n",
    "            \n",
    "    pathes_sorted = search_strategy(pathes_target)\n",
    "    print('->'.join(list(pathes_sorted[0].keys())))\n",
    "    return"
   ]
  },
  {
   "cell_type": "code",
   "execution_count": 81,
   "metadata": {},
   "outputs": [
    {
     "name": "stdout",
     "output_type": "stream",
     "text": [
      "奥体中心->北土城->安华桥->安德里北街->鼓楼大街->积水潭->西直门->车公庄->阜成门->复兴门->西单->天安门西\n"
     ]
    }
   ],
   "source": [
    "search_transfer_1(station_connect,\"奥体中心\",\"天安门西\",sort_by_transfer)"
   ]
  },
  {
   "cell_type": "code",
   "execution_count": 74,
   "metadata": {},
   "outputs": [],
   "source": [
    "\"\"\"\n",
    "方法2：借鉴上面找最短距离路线的方法，写一个计算换乘的函数，用来在每次小循环结束后，对当前所有路线进行排序。\n",
    "      用BFS，对于某个站点，每次小循环找完下一站，就利用计算换乘次数的函数，计算当前所有路线的换乘次数。\n",
    "      对当前的所有路径按换乘次数进行排序，换乘最少的路线排在前面。\n",
    "      继续循环搜索，当搜索到终点站时，输出结果。\n",
    "      由于每次大循环都从换乘最少的路线开始，所以搜索到终点站时，换乘也是最少的。\n",
    "\"\"\"\n",
    "\n",
    "def get_transfer_of_path(path):\n",
    "    transfer_num = len(set(path.values()))-1\n",
    "    return transfer_num\n",
    "\n",
    "def sort_by_transfer(pathes):\n",
    "    return sorted(pathes,key=get_transfer_of_path)\n",
    "\n",
    "def search_transfer_2(graph, start, destination, search_strategy):\n",
    "    pathes = [{start:'start'}]\n",
    "    \n",
    "    while pathes:\n",
    "        path = pathes.pop(0)\n",
    "        frontier = list(path.items())[-1][0]      \n",
    "        successors = graph[frontier]\n",
    "\n",
    "        for city,line in successors.items():\n",
    "            if city in path: continue\n",
    "            new_path = dict(path,**{city:line})\n",
    "            pathes.append(new_path)\n",
    "        \n",
    "        pathes = search_strategy(pathes)\n",
    "        if pathes and (list(pathes[0].keys())[-1] == destination):\n",
    "            print('->'.join(list(pathes[0].keys())))\n",
    "            return"
   ]
  },
  {
   "cell_type": "code",
   "execution_count": 75,
   "metadata": {},
   "outputs": [
    {
     "name": "stdout",
     "output_type": "stream",
     "text": [
      "奥体中心->北土城->安华桥->安德里北街->鼓楼大街->积水潭->西直门->车公庄->阜成门->复兴门->西单->天安门西\n"
     ]
    }
   ],
   "source": [
    "search_transfer_2(station_connect,\"奥体中心\",\"天安门西\",sort_by_transfer)"
   ]
  },
  {
   "cell_type": "code",
   "execution_count": 82,
   "metadata": {},
   "outputs": [
    {
     "name": "stdout",
     "output_type": "stream",
     "text": [
      "奥体中心->北土城->安华桥->安德里北街->鼓楼大街->积水潭->西直门->车公庄->阜成门->复兴门->西单->天安门西\n"
     ]
    }
   ],
   "source": [
    "search_transfer_1(station_connect,\"奥体中心\",\"天安门西\",sort_by_transfer)"
   ]
  },
  {
   "cell_type": "code",
   "execution_count": null,
   "metadata": {},
   "outputs": [],
   "source": []
  },
  {
   "cell_type": "markdown",
   "metadata": {},
   "source": [
    "把距离最短的算法和换乘最少的算法进行比较，可以看到，从奥体中心到五道口，换乘最少的路线，远比距离最短的路线的站点要多很明显，这里我们应该选择距离最短的路线。"
   ]
  },
  {
   "cell_type": "code",
   "execution_count": 89,
   "metadata": {},
   "outputs": [
    {
     "name": "stdout",
     "output_type": "stream",
     "text": [
      "奥体中心->奥林匹克公园->森林公园南门->林萃桥->永泰庄->西小口->育新->霍营->回龙观->龙泽->西二旗->上地->五道口\n"
     ]
    }
   ],
   "source": [
    "search_transfer_1(station_connect,\"奥体中心\",\"五道口\",sort_by_transfer)"
   ]
  },
  {
   "cell_type": "code",
   "execution_count": 90,
   "metadata": {},
   "outputs": [
    {
     "name": "stdout",
     "output_type": "stream",
     "text": [
      "奥体中心->北土城->健德门->牡丹园->西土城->知春路->五道口\n"
     ]
    }
   ],
   "source": [
    "search_shortest(station_connect,\"奥体中心\",\"五道口\",sort_by_distance)"
   ]
  },
  {
   "cell_type": "markdown",
   "metadata": {},
   "source": [
    "c. Combine the previous two ideas, find a more suitable path."
   ]
  },
  {
   "cell_type": "markdown",
   "metadata": {},
   "source": [
    "如果出现上面的情况，换乘最少的路线和距离最短的路线不相同，那么要在换乘和距离之间权衡。\n",
    "\n",
    "站内换乘的时间=步行(2分钟)+候车时间(1-2分钟)，大概为4分钟，\n",
    "而如果不换乘，那么4分钟内，地铁停靠花去1分钟，大概能跑3分钟。以北京地铁时速最高80公里算，\n",
    "那么少换乘一站的收益约等价于距离缩短4公里（80*3/60)。\n",
    "\n",
    "那么我计算一个比值：\n",
    "\n",
    "比值 = 两条路线的距离之差/两条路线的换乘次数之差\n",
    "\n",
    "其中：\n",
    "\n",
    "两条路线的距离之差 = 换乘最少的路线的距离 - 距离最短的路线的距离\n",
    "\n",
    "两条路线的换乘次数之差 = 距离最短的路线的换乘次数 - 换乘最少的路线的换乘次数，\n",
    "\n",
    "以4为阈值，比值大于4，则取距离最短的路线，小于4，则取换乘最少的路线。"
   ]
  },
  {
   "cell_type": "code",
   "execution_count": 93,
   "metadata": {},
   "outputs": [],
   "source": [
    "def get_city_distance(city1,city2):\n",
    "    return geo_distance(station_info[city1],station_info[city2])\n",
    "\n",
    "def get_distance_of_path(path):\n",
    "    distance = 0\n",
    "    path = list(path.keys())\n",
    "    for i,_ in enumerate(path[:-1]):\n",
    "        distance += get_city_distance(path[i],path[i+1])\n",
    "    return distance\n",
    "    \n",
    "def sort_by_distance(pathes):\n",
    "    return sorted(pathes,key=get_distance_of_path)\n",
    "\n",
    "\n",
    "def get_transfer_of_path(path):\n",
    "    transfer_num = len(set(path.values()))-1\n",
    "    return transfer_num\n",
    "\n",
    "def sort_by_transfer(pathes):\n",
    "    return sorted(pathes,key=get_transfer_of_path)\n",
    "\n",
    "\n",
    "def search_transfer_merge(graph, start, destination, threshold,sort_by_distance,sort_by_transfer):\n",
    "    pathes = [{start:'start'}]\n",
    "    pathes_target = []\n",
    "    \n",
    "    while pathes:\n",
    "        path = pathes.pop(0)\n",
    "        frontier = list(path.items())[-1][0]      \n",
    "        successors = graph[frontier]\n",
    "\n",
    "        for city,line in successors.items():\n",
    "            if city in path: continue\n",
    "            new_path = dict(path,**{city:line})\n",
    "\n",
    "            if city == destination:\n",
    "                pathes_target.append(new_path)\n",
    "                continue\n",
    "            pathes.append(new_path)\n",
    "        \n",
    "        if len(pathes_target) > 10:\n",
    "            break\n",
    "            \n",
    "    pathes_sorted_dist = sort_by_distance(pathes_target)\n",
    "    pathes_sorted_trans = sort_by_transfer(pathes_target)\n",
    "    \n",
    "    if (pathes_sorted_dist[0] == pathes_sorted_trans[0]):\n",
    "        print('->'.join(list(pathes_sorted_dist[0].keys())))\n",
    "    else:\n",
    "        diff_dist = get_distance_of_path(pathes_sorted_trans[0]) - get_distance_of_path(pathes_sorted_dist[0])\n",
    "        diff_trans = get_transfer_of_path(pathes_sorted_dist[0]) - get_transfer_of_path(pathes_sorted_trans[0])\n",
    "        if diff_dist / diff_trans > threshold:\n",
    "            print('->'.join(list(pathes_sorted_dist[0].keys())))\n",
    "        else:\n",
    "            print('->'.join(list(pathes_sorted_trans[0].keys())))\n",
    "    return"
   ]
  },
  {
   "cell_type": "code",
   "execution_count": 94,
   "metadata": {},
   "outputs": [
    {
     "name": "stdout",
     "output_type": "stream",
     "text": [
      "奥体中心->北土城->健德门->牡丹园->西土城->知春路->五道口\n"
     ]
    }
   ],
   "source": [
    "search_transfer_merge(station_connect,\"奥体中心\",\"五道口\",4, sort_by_distance,sort_by_transfer)"
   ]
  },
  {
   "cell_type": "markdown",
   "metadata": {},
   "source": [
    "Compare your results with results obtained by using some apps such as Baidu map, A map, Google map or Apple map. If there is difference, try to explanate it."
   ]
  },
  {
   "cell_type": "markdown",
   "metadata": {},
   "source": [
    "## Congratulations ! You have finished the assignment of week 2."
   ]
  },
  {
   "cell_type": "markdown",
   "metadata": {},
   "source": [
    "![](https://timgsa.baidu.com/timg?image&quality=80&size=b9999_10000&sec=1562415163815&di=4b29a2a863a8285212033760f288ed7a&imgtype=0&src=http%3A%2F%2F5b0988e595225.cdn.sohucs.com%2Fimages%2F20180710%2F8704194a1d7f46a383ddc29d40c9bca5.jpeg)"
   ]
  },
  {
   "cell_type": "markdown",
   "metadata": {},
   "source": [
    "### If you have any suggestions regarding the teaching, please feel free to send them to my eamil (eric.lee.xiao@gmail.com) "
   ]
  }
 ],
 "metadata": {
  "kernelspec": {
   "display_name": "Python 3",
   "language": "python",
   "name": "python3"
  },
  "language_info": {
   "codemirror_mode": {
    "name": "ipython",
    "version": 3
   },
   "file_extension": ".py",
   "mimetype": "text/x-python",
   "name": "python",
   "nbconvert_exporter": "python",
   "pygments_lexer": "ipython3",
   "version": "3.6.2"
  }
 },
 "nbformat": 4,
 "nbformat_minor": 2
}
