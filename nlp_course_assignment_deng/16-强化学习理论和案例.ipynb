{
 "cells": [
  {
   "cell_type": "markdown",
   "metadata": {},
   "source": [
    "### 1.复习上课内容。"
   ]
  },
  {
   "cell_type": "markdown",
   "metadata": {},
   "source": [
    "### 2.理论题"
   ]
  },
  {
   "cell_type": "markdown",
   "metadata": {},
   "source": [
    "1. Why we need $\\gamma$ in reinforcement learning ?"
   ]
  },
  {
   "cell_type": "markdown",
   "metadata": {},
   "source": [
    "$\\gamma$ is called reward discout coefficient，and  $\\gamma\\in (0,1)$ .As the name suggests, the reward need to decrease as step goes on.\n",
    "\n",
    "There are two main reason for why we need $\\gamma$:\n",
    "\n",
    "1: If the agent encounters a extreme case in which it take an action $a_1$ for state $s_1$ and return to state $s_1$ rather than reach $s_2$. In this extreme case, the agent cannot reach the terminated state, and the total rewards would be infinity. So when we take $\\gamma^n$ into the reward function, the reward would be smaller and smaller as step goes on.\n",
    "\n",
    "2: People prefer short-term rewards, so we need to give a discount for long-term rewards."
   ]
  },
  {
   "cell_type": "markdown",
   "metadata": {},
   "source": []
  },
  {
   "cell_type": "markdown",
   "metadata": {},
   "source": [
    "2. Please breifly explain what is value function and what is Q function ?"
   ]
  },
  {
   "cell_type": "markdown",
   "metadata": {},
   "source": [
    "If we are given the transaction probability and reward function, we can use Bellman Equation to find the way to achieve the max reward.\n",
    "\n",
    "There are two functions in Bellman Equation: value function and Q function.\n",
    "\n",
    "Value function is the  expected value of rewards of a certain state after  a series of actions. We use expected value because the action, which the agent to take after a certain state ,**is uncertain or is a probability distribution**.\n",
    "\n",
    "Q function is similar to value function, but there is a difference that in Q function, the action after a state is certain, such as the agent goes left."
   ]
  },
  {
   "cell_type": "markdown",
   "metadata": {},
   "source": []
  },
  {
   "cell_type": "markdown",
   "metadata": {},
   "source": [
    "3. How temperal difference related to dynamic programming and monte-carlo methods ?"
   ]
  },
  {
   "cell_type": "markdown",
   "metadata": {},
   "source": [
    "Temperal difference combines the dynamic programming and monte-carlo methods to solve the RL problem.\n",
    "\n",
    "Temperal difference would firstly use monte-carlo methods to sample several steps rather than sample until the end, then to use the V value of next step, which is calculated by dynamic programming , to do iteration.\n",
    "\n",
    "Compared to dynamic programming, temperal difference don't need to know the transaction probability.\n",
    "\n",
    "Compared to monte-carlo methods, temperal difference could be faster in calculation speed."
   ]
  },
  {
   "cell_type": "code",
   "execution_count": null,
   "metadata": {},
   "outputs": [],
   "source": []
  },
  {
   "cell_type": "markdown",
   "metadata": {},
   "source": [
    "4. Please briefly describe what are value iteration and policy iteration ?"
   ]
  },
  {
   "cell_type": "markdown",
   "metadata": {},
   "source": [
    "There are two functions in Bellman Equation: Value function and Q function. Then, how to find the solution in practice using Bellman Equation? We can use Dynamic Programming.\n",
    "\n",
    "Value iteration, which corresponds to value function, would randomly initialize a V value for every state so that we can get the transaction probability. Then, we iteratively update the V value until the difference between two V value is less than a threshold.\n",
    "\n",
    "Policy iteration, which corresponds to Q function, would randomly give a policy or an action, then to calculate the V value. Then, we iteratively update the policy until the difference between two policies is less than a threshold."
   ]
  },
  {
   "cell_type": "markdown",
   "metadata": {},
   "source": [
    "5. How can we use deep lerning in reinforcement learning ?"
   ]
  },
  {
   "cell_type": "markdown",
   "metadata": {},
   "source": [
    "We can regard deep neural network as a function, to which if we input a state,it would return V value or Q value of every actions.\n",
    "\n",
    "So, the input of the deep Q-network is a state, the output is the Q value of every actions, or probability of actions though softmax.\n",
    "\n",
    "Then we can use gradient ascent to maximing reward function."
   ]
  },
  {
   "cell_type": "code",
   "execution_count": null,
   "metadata": {},
   "outputs": [],
   "source": []
  },
  {
   "cell_type": "markdown",
   "metadata": {},
   "source": [
    "### 选做题 （实践）"
   ]
  },
  {
   "cell_type": "code",
   "execution_count": 1,
   "metadata": {},
   "outputs": [],
   "source": [
    "import matplotlib\n",
    "import matplotlib.pyplot as plt\n",
    "import numpy as np\n",
    "from matplotlib.table import Table"
   ]
  },
  {
   "cell_type": "code",
   "execution_count": 10,
   "metadata": {},
   "outputs": [],
   "source": [
    "def draw_image(image):\n",
    "    fig,ax = plt.subplots()\n",
    "    ax.set_axis_off()\n",
    "    tb = Table(ax,bbox=[0,0,1,1])\n",
    "\n",
    "    nrows,ncols = image.shape\n",
    "    width,height = 1.0/ncols,1.0/nrows\n",
    "\n",
    "    for (i,j), val in np.ndenumerate(image):\n",
    "        if (i,j) == (0,1):\n",
    "            val = \"A\"\n",
    "        elif (i,j) == (0,3):\n",
    "            val = \"B\"\n",
    "        elif (i,j) == (4,1):\n",
    "            val = \"A'\"\n",
    "        elif (i,j) == (2,3):\n",
    "            val = \"B'\"\n",
    "        tb.add_cell(i,j,width,height,text=val,\n",
    "                    loc='center',facecolor='white')\n",
    "\n",
    "    for i in range(len(image)):\n",
    "        tb.add_cell(i,-1,width,height,text=i+1,loc='right',\n",
    "                    edgecolor='none',facecolor='none')\n",
    "        tb.add_cell(-1,i,width,height/2,text=i+1,loc='center',\n",
    "                    edgecolor='none',facecolor='none')\n",
    "    ax.add_table(tb)"
   ]
  },
  {
   "cell_type": "code",
   "execution_count": 12,
   "metadata": {
    "scrolled": true
   },
   "outputs": [
    {
     "data": {
      "image/png": "[encoded data removed]",
      "text/plain": [
       "<Figure size 432x288 with 1 Axes>"
      ]
     },
     "metadata": {
      "needs_background": "light"
     },
     "output_type": "display_data"
    }
   ],
   "source": [
    "WORLD_SIZE=5\n",
    "draw_image(np.zeros((WORLD_SIZE,WORLD_SIZE)))"
   ]
  },
  {
   "cell_type": "markdown",
   "metadata": {},
   "source": [
    "Figure above shows a rectangular gridworld. The cell of the grid correspond to the state of the environment. At each cell, four actions with equal probability are possible: north, south, east and west, which deterministically cause the agent to move one cell in the respective direction on the grid. Actions that would take the agent off the grid leave its unchanged, but also result in a reward -1. Other actions result in a reward of 0, expect those taht move the agent out of the special states A and B. From state A, all four actions yield a reward of +10 and take the agent to A'. From state B, all actions yield a reward of +5 and take the agent to B'. "
   ]
  },
  {
   "cell_type": "markdown",
   "metadata": {},
   "source": [
    "#### Try to compute the value of each state ? You can choose any algorithms we leanred in the class.\n",
    "Good luck and happy new year. !!"
   ]
  },
  {
   "cell_type": "code",
   "execution_count": 1,
   "metadata": {},
   "outputs": [],
   "source": [
    "import matplotlib\n",
    "import matplotlib.pyplot as plt\n",
    "import numpy as np\n",
    "from matplotlib.table import Table\n",
    "\n",
    "WORLD_SIZE = 5\n",
    "\n",
    "A_POS = [0,1]\n",
    "A_PRIME_POS = [4,1]\n",
    "B_POS = [0,3]\n",
    "B_PRIME_POS = [2,3]\n",
    "DISCOUNT = 0.9\n",
    "\n",
    "ACTIONS = [np.array([0,-1]),\n",
    "           np.array([-1,0]),\n",
    "           np.array([0,1]),\n",
    "           np.array([1,0])]\n",
    "ACTION_PROB = 0.25\n",
    "\n",
    "def step(state,action):\n",
    "    if state == A_POS:\n",
    "        return A_PRIME_POS,10\n",
    "    if state == B_POS:\n",
    "        return B_PRIME_POS,5\n",
    "    next_state = (np.array(state)+action).tolist()\n",
    "    x,y = next_state\n",
    "    if x < 0 or x >= WORLD_SIZE or \\\n",
    "            y < 0 or y >= WORLD_SIZE:\n",
    "        reward = -1.0\n",
    "        next_state = state\n",
    "    else:\n",
    "        reward = 0\n",
    "    return next_state, reward\n",
    "\n",
    "def draw_image(image):\n",
    "    fig,ax = plt.subplots()\n",
    "    ax.set_axis_off()\n",
    "    tb = Table(ax,bbox=[0,0,1,1])\n",
    "\n",
    "    nrows,ncols = image.shape\n",
    "    width,height = 1.0/ncols,1.0/nrows\n",
    "\n",
    "    for (i,j), val in np.ndenumerate(image):\n",
    "        tb.add_cell(i,j,width,height,text=val,\n",
    "                    loc='center',facecolor='white')\n",
    "\n",
    "    for i in range(len(image)):\n",
    "        tb.add_cell(i,-1,width,height,text=i+1,loc='right',\n",
    "                    edgecolor='none',facecolor='none')\n",
    "        tb.add_cell(-1,i,width,height/2,text=i+1,loc='center',\n",
    "                    edgecolor='none',facecolor='none')\n",
    "    ax.add_table(tb)"
   ]
  },
  {
   "cell_type": "code",
   "execution_count": 2,
   "metadata": {},
   "outputs": [],
   "source": [
    "def results():\n",
    "    value= np.zeros((WORLD_SIZE,WORLD_SIZE))\n",
    "    while True:\n",
    "        new_value = np.zeros_like(value)\n",
    "        for i in range(WORLD_SIZE):\n",
    "            for j in range(WORLD_SIZE):\n",
    "                for action in ACTIONS:\n",
    "                    (next_i,next_J),reward = step([i,j],action)\n",
    "                    new_value[i,j] += ACTION_PROB*(reward+DISCOUNT*value[next_i,next_J])\n",
    "\n",
    "        if np.sum(np.abs(value-new_value)) < 1e-4:\n",
    "            draw_image(np.round(new_value,decimals=2))\n",
    "            plt.show()\n",
    "            break\n",
    "        value = new_value"
   ]
  },
  {
   "cell_type": "code",
   "execution_count": 3,
   "metadata": {},
   "outputs": [
    {
     "data": {
      "image/png": "[encoded data removed]",
      "text/plain": [
       "<matplotlib.figure.Figure at 0x7ff98cc2ba20>"
      ]
     },
     "metadata": {},
     "output_type": "display_data"
    }
   ],
   "source": [
    "results()"
   ]
  },
  {
   "cell_type": "code",
   "execution_count": null,
   "metadata": {},
   "outputs": [],
   "source": []
  }
 ],
 "metadata": {
  "kernelspec": {
   "display_name": "Python 3",
   "language": "python",
   "name": "python3"
  },
  "language_info": {
   "codemirror_mode": {
    "name": "ipython",
    "version": 3
   },
   "file_extension": ".py",
   "mimetype": "text/x-python",
   "name": "python",
   "nbconvert_exporter": "python",
   "pygments_lexer": "ipython3",
   "version": "3.6.2"
  }
 },
 "nbformat": 4,
 "nbformat_minor": 2
}
