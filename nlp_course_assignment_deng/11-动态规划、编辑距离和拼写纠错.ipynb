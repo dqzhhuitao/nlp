{
 "cells": [
  {
   "cell_type": "markdown",
   "metadata": {},
   "source": [
    "## 第一部分：复现课堂代码"
   ]
  },
  {
   "cell_type": "markdown",
   "metadata": {},
   "source": [
    "### 一、 Dynamic Programming"
   ]
  },
  {
   "cell_type": "code",
   "execution_count": 1,
   "metadata": {},
   "outputs": [],
   "source": [
    "from collections import defaultdict"
   ]
  },
  {
   "cell_type": "code",
   "execution_count": 2,
   "metadata": {},
   "outputs": [
    {
     "name": "stdout",
     "output_type": "stream",
     "text": [
      "defaultdict(<class 'int'>, {1: 1, 2: 5, 3: 8, 4: 9, 5: 10, 6: 17, 7: 17, 8: 20, 9: 24, 10: 30, 11: 35})\n"
     ]
    }
   ],
   "source": [
    "original_price = [1, 5, 8, 9, 10, 17, 17, 20, 24, 30, 35]\n",
    "\n",
    "price = defaultdict(int)\n",
    "for i,p in enumerate(original_price):\n",
    "    price[i+1] = p\n",
    "    \n",
    "print(price)"
   ]
  },
  {
   "cell_type": "code",
   "execution_count": 3,
   "metadata": {},
   "outputs": [],
   "source": [
    "def r(n):\n",
    "    return max([price[n]] + [r(i) + r(n-i) for i in range(1,n)])"
   ]
  },
  {
   "cell_type": "code",
   "execution_count": 4,
   "metadata": {},
   "outputs": [
    {
     "data": {
      "text/plain": [
       "30"
      ]
     },
     "execution_count": 4,
     "metadata": {},
     "output_type": "execute_result"
    }
   ],
   "source": [
    "r(10)"
   ]
  },
  {
   "cell_type": "code",
   "execution_count": 5,
   "metadata": {
    "scrolled": true
   },
   "outputs": [
    {
     "data": {
      "text/plain": [
       "35"
      ]
     },
     "execution_count": 5,
     "metadata": {},
     "output_type": "execute_result"
    }
   ],
   "source": [
    "r(11)"
   ]
  },
  {
   "cell_type": "code",
   "execution_count": 6,
   "metadata": {},
   "outputs": [],
   "source": [
    "from functools import wraps"
   ]
  },
  {
   "cell_type": "code",
   "execution_count": 7,
   "metadata": {},
   "outputs": [],
   "source": [
    "def memo(f): \n",
    "    memo.already_computed = {}\n",
    "    \n",
    "    @wraps(f)\n",
    "    def _wrap(arg):\n",
    "        result = None\n",
    "        if arg in memo.already_computed: \n",
    "            result = memo.already_computed[arg]\n",
    "        else:\n",
    "            result = f(arg)\n",
    "            memo.already_computed[arg] = result\n",
    "        return result\n",
    "    \n",
    "    return _wrap"
   ]
  },
  {
   "cell_type": "code",
   "execution_count": 8,
   "metadata": {},
   "outputs": [],
   "source": [
    "solution = {}\n",
    "\n",
    "@memo\n",
    "def r(n):\n",
    "    max_price, max_split = max([(price[n], 0)] + [(r(i) + r(n-i), i) for i in range(1, n)], key=lambda x: x[0])\n",
    "    solution[n] = (n - max_split, max_split) \n",
    "    return max_price"
   ]
  },
  {
   "cell_type": "code",
   "execution_count": 9,
   "metadata": {},
   "outputs": [
    {
     "data": {
      "text/plain": [
       "45"
      ]
     },
     "execution_count": 9,
     "metadata": {},
     "output_type": "execute_result"
    }
   ],
   "source": [
    "r(15)"
   ]
  },
  {
   "cell_type": "code",
   "execution_count": 10,
   "metadata": {},
   "outputs": [
    {
     "data": {
      "text/plain": [
       "{1: (1, 0),\n",
       " 2: (2, 0),\n",
       " 3: (3, 0),\n",
       " 4: (2, 2),\n",
       " 5: (3, 2),\n",
       " 6: (6, 0),\n",
       " 7: (6, 1),\n",
       " 8: (6, 2),\n",
       " 9: (6, 3),\n",
       " 10: (10, 0),\n",
       " 11: (11, 0),\n",
       " 12: (11, 1),\n",
       " 13: (11, 2),\n",
       " 14: (11, 3),\n",
       " 15: (13, 2)}"
      ]
     },
     "execution_count": 10,
     "metadata": {},
     "output_type": "execute_result"
    }
   ],
   "source": [
    "solution"
   ]
  },
  {
   "cell_type": "code",
   "execution_count": 11,
   "metadata": {},
   "outputs": [],
   "source": [
    "def parse_solution(n):\n",
    "    left_split,right_split = solution[n]\n",
    "    if right_split == 0:return [left_split]\n",
    "    \n",
    "    return parse_solution(left_split) + parse_solution(right_split)"
   ]
  },
  {
   "cell_type": "code",
   "execution_count": 12,
   "metadata": {},
   "outputs": [
    {
     "data": {
      "text/plain": [
       "92"
      ]
     },
     "execution_count": 12,
     "metadata": {},
     "output_type": "execute_result"
    }
   ],
   "source": [
    "r(30)"
   ]
  },
  {
   "cell_type": "code",
   "execution_count": 13,
   "metadata": {},
   "outputs": [
    {
     "data": {
      "text/plain": [
       "[11, 11, 6, 2]"
      ]
     },
     "execution_count": 13,
     "metadata": {},
     "output_type": "execute_result"
    }
   ],
   "source": [
    "parse_solution(30)"
   ]
  },
  {
   "cell_type": "code",
   "execution_count": null,
   "metadata": {},
   "outputs": [],
   "source": []
  },
  {
   "cell_type": "markdown",
   "metadata": {},
   "source": [
    "### 二、Edit Distance"
   ]
  },
  {
   "cell_type": "code",
   "execution_count": 14,
   "metadata": {},
   "outputs": [],
   "source": [
    "from functools import lru_cache"
   ]
  },
  {
   "cell_type": "code",
   "execution_count": 15,
   "metadata": {},
   "outputs": [],
   "source": [
    "solution = {}"
   ]
  },
  {
   "cell_type": "code",
   "execution_count": 16,
   "metadata": {},
   "outputs": [],
   "source": [
    "@lru_cache(maxsize=2**10)\n",
    "def edit_distance(string1,string2):\n",
    "    if len(string1) == 0:return len(string2)\n",
    "    if len(string2) == 0:return len(string1)\n",
    "    \n",
    "    tail_s1 = string1[-1]\n",
    "    tail_s2 = string2[-1]\n",
    "    \n",
    "    candidates = [\n",
    "        (edit_distance(string1[:-1],string2) + 1,'DEL {}'.format(tail_s1)),\n",
    "        (edit_distance(string1,string2[:-1]) + 1,'ADD {}'.format(tail_s2))\n",
    "    ]\n",
    "    \n",
    "    if tail_s1 == tail_s2:\n",
    "        both_forward = (edit_distance(string1[:-1],string2[:-1]) + 0,'')\n",
    "    else:\n",
    "        both_forward = (edit_distance(string1[:-1],string2[:-1]) + 1,\n",
    "                        'SUB {} => {}'.format(tail_s1,tail_s2))\n",
    "    candidates.append(both_forward)\n",
    "    \n",
    "    min_distance, operation = min(candidates,key=lambda x:x[0])\n",
    "    solution[(string1,string2)] = operation\n",
    "    \n",
    "    return min_distance"
   ]
  },
  {
   "cell_type": "code",
   "execution_count": 17,
   "metadata": {},
   "outputs": [
    {
     "data": {
      "text/plain": [
       "3"
      ]
     },
     "execution_count": 17,
     "metadata": {},
     "output_type": "execute_result"
    }
   ],
   "source": [
    "edit_distance('ABCDE','ABCCEFD')"
   ]
  },
  {
   "cell_type": "code",
   "execution_count": 18,
   "metadata": {
    "scrolled": true
   },
   "outputs": [
    {
     "data": {
      "text/plain": [
       "{('A', 'A'): '',\n",
       " ('A', 'AB'): 'ADD B',\n",
       " ('A', 'ABC'): 'ADD C',\n",
       " ('A', 'ABCC'): 'ADD C',\n",
       " ('A', 'ABCCE'): 'ADD E',\n",
       " ('A', 'ABCCEF'): 'ADD F',\n",
       " ('A', 'ABCCEFD'): 'ADD D',\n",
       " ('AB', 'A'): 'DEL B',\n",
       " ('AB', 'AB'): '',\n",
       " ('AB', 'ABC'): 'ADD C',\n",
       " ('AB', 'ABCC'): 'ADD C',\n",
       " ('AB', 'ABCCE'): 'ADD E',\n",
       " ('AB', 'ABCCEF'): 'ADD F',\n",
       " ('AB', 'ABCCEFD'): 'ADD D',\n",
       " ('ABC', 'A'): 'DEL C',\n",
       " ('ABC', 'AB'): 'DEL C',\n",
       " ('ABC', 'ABC'): '',\n",
       " ('ABC', 'ABCC'): 'ADD C',\n",
       " ('ABC', 'ABCCE'): 'ADD E',\n",
       " ('ABC', 'ABCCEF'): 'ADD F',\n",
       " ('ABC', 'ABCCEFD'): 'ADD D',\n",
       " ('ABCD', 'A'): 'DEL D',\n",
       " ('ABCD', 'AB'): 'DEL D',\n",
       " ('ABCD', 'ABC'): 'DEL D',\n",
       " ('ABCD', 'ABCC'): 'SUB D => C',\n",
       " ('ABCD', 'ABCCE'): 'ADD E',\n",
       " ('ABCD', 'ABCCEF'): 'ADD F',\n",
       " ('ABCD', 'ABCCEFD'): '',\n",
       " ('ABCDE', 'A'): 'DEL E',\n",
       " ('ABCDE', 'AB'): 'DEL E',\n",
       " ('ABCDE', 'ABC'): 'DEL E',\n",
       " ('ABCDE', 'ABCC'): 'DEL E',\n",
       " ('ABCDE', 'ABCCE'): '',\n",
       " ('ABCDE', 'ABCCEF'): 'ADD F',\n",
       " ('ABCDE', 'ABCCEFD'): 'ADD D'}"
      ]
     },
     "execution_count": 18,
     "metadata": {},
     "output_type": "execute_result"
    }
   ],
   "source": [
    "solution"
   ]
  },
  {
   "cell_type": "markdown",
   "metadata": {},
   "source": [
    "### 作业一：解析编辑距离的结果"
   ]
  },
  {
   "cell_type": "code",
   "execution_count": 19,
   "metadata": {},
   "outputs": [],
   "source": [
    "\"\"\"\n",
    "递归终止条件：两字符串相等，返回[]\n",
    "如果字符串不相等，却无需操作，那么就是长度相等且最后一个字符相等的情况，直接判断前n-1个字符的操作；\n",
    "如果字符串不相等，而长度相等，那么替换，然后判断前n-1字符的操作；\n",
    "如果字符串不相等，而后一个字符串更长，那么前一字符串插入，然后判断前n-1字符的操作；\n",
    "如果字符串不相等，而前一个字符串更长，那么前一字符串删除，然后判断前n-1字符的操作。\n",
    "\"\"\"\n",
    "\n",
    "def parse_solution(string1,string2):\n",
    "    '''\n",
    "    :string1,string2: 两个字符串\n",
    "    :return: 包含插入、删除或替换三种操作的列表\n",
    "    '''\n",
    "    if string1 == string2:return []\n",
    "    \n",
    "    operations = []\n",
    "    operation = solution[(string1,string2)]\n",
    "    \n",
    "    if operation is '':\n",
    "        operations = parse_solution(string1[:-1],string2[:-1]) + operations\n",
    "    else:\n",
    "        operations.append(operation)\n",
    "        if len(string1) == len(string2):\n",
    "            operations = parse_solution(string1[:-1],string2[:-1]) + operations\n",
    "        elif len(string1) < len(string2):\n",
    "            operations = parse_solution(string1,string2[:-1]) + operations\n",
    "        elif len(string1) > len(string2):\n",
    "            operations = parse_solution(string1[:-1],string2) + operations\n",
    "            \n",
    "    return operations"
   ]
  },
  {
   "cell_type": "code",
   "execution_count": 20,
   "metadata": {},
   "outputs": [
    {
     "data": {
      "text/plain": [
       "['SUB D => C', 'ADD F', 'ADD D']"
      ]
     },
     "execution_count": 20,
     "metadata": {},
     "output_type": "execute_result"
    }
   ],
   "source": [
    "parse_solution('ABCDE','ABCCEFD')"
   ]
  },
  {
   "cell_type": "code",
   "execution_count": 21,
   "metadata": {},
   "outputs": [
    {
     "name": "stdout",
     "output_type": "stream",
     "text": [
      "3\n",
      "['SUB C => D', 'DEL F', 'DEL D']\n"
     ]
    }
   ],
   "source": [
    "'''换成前一个字符串更长的例子'''\n",
    "print(edit_distance('ABCCEFD','ABCDE'))\n",
    "print(parse_solution('ABCCEFD','ABCDE'))"
   ]
  },
  {
   "cell_type": "code",
   "execution_count": null,
   "metadata": {},
   "outputs": [],
   "source": []
  },
  {
   "cell_type": "code",
   "execution_count": 22,
   "metadata": {},
   "outputs": [],
   "source": [
    "chinese_charaters = open('article_9k.txt').read()"
   ]
  },
  {
   "cell_type": "code",
   "execution_count": 23,
   "metadata": {},
   "outputs": [
    {
     "data": {
      "text/plain": [
       "'此外自本周6月12日起除小米手机6等15款机型外其余机型已暂停更新发布含开发版体验版内测稳定版暂不受影响以确保工程师可以集中全部精力进行系统优化工作有人猜测这也是将精力主要用到MIUI9的研发之中MI'"
      ]
     },
     "execution_count": 23,
     "metadata": {},
     "output_type": "execute_result"
    }
   ],
   "source": [
    "chinese_charaters[:100]"
   ]
  },
  {
   "cell_type": "code",
   "execution_count": 24,
   "metadata": {},
   "outputs": [],
   "source": [
    "import pinyin"
   ]
  },
  {
   "cell_type": "code",
   "execution_count": 25,
   "metadata": {},
   "outputs": [
    {
     "data": {
      "text/plain": [
       "'ni hao'"
      ]
     },
     "execution_count": 25,
     "metadata": {},
     "output_type": "execute_result"
    }
   ],
   "source": [
    "pinyin.get('你好',format='strip',delimiter=' ')"
   ]
  },
  {
   "cell_type": "code",
   "execution_count": 26,
   "metadata": {},
   "outputs": [],
   "source": [
    "def chinese_to_pinyin(character):\n",
    "    return pinyin.get(character, format=\"strip\", delimiter=\" \")"
   ]
  },
  {
   "cell_type": "code",
   "execution_count": 27,
   "metadata": {},
   "outputs": [],
   "source": [
    "chinese_pinyin_copys = chinese_to_pinyin(chinese_charaters)"
   ]
  },
  {
   "cell_type": "code",
   "execution_count": 28,
   "metadata": {},
   "outputs": [
    {
     "data": {
      "text/plain": [
       "'ci wai zi ben zhou 6 yue 1 2 ri qi chu xiao mi shou ji 6 deng 1 5 kuan ji xing wai qi yu ji xing yi '"
      ]
     },
     "execution_count": 28,
     "metadata": {},
     "output_type": "execute_result"
    }
   ],
   "source": [
    "chinese_pinyin_copys[:100]"
   ]
  },
  {
   "cell_type": "code",
   "execution_count": 29,
   "metadata": {},
   "outputs": [
    {
     "data": {
      "text/plain": [
       "129433034"
      ]
     },
     "execution_count": 29,
     "metadata": {},
     "output_type": "execute_result"
    }
   ],
   "source": [
    "len(chinese_pinyin_copys)"
   ]
  },
  {
   "cell_type": "code",
   "execution_count": 30,
   "metadata": {},
   "outputs": [],
   "source": [
    "import re"
   ]
  },
  {
   "cell_type": "code",
   "execution_count": 31,
   "metadata": {},
   "outputs": [],
   "source": [
    "def tokens(text):\n",
    "    '''找出所有的拼音'''\n",
    "    return re.findall('[a-z]+',text.lower())"
   ]
  },
  {
   "cell_type": "code",
   "execution_count": 32,
   "metadata": {},
   "outputs": [
    {
     "data": {
      "text/plain": [
       "'ci wai zi ben zhou yue ri qi chu xiao mi shou ji deng kuan ji xing wai qi yu ji xing yi'"
      ]
     },
     "execution_count": 32,
     "metadata": {},
     "output_type": "execute_result"
    }
   ],
   "source": [
    "' '.join(tokens(chinese_pinyin_copys[:100]))"
   ]
  },
  {
   "cell_type": "code",
   "execution_count": 33,
   "metadata": {},
   "outputs": [],
   "source": [
    "from collections import Counter,defaultdict"
   ]
  },
  {
   "cell_type": "code",
   "execution_count": 34,
   "metadata": {},
   "outputs": [],
   "source": [
    "pinyin_count = Counter(tokens(chinese_pinyin_copys))"
   ]
  },
  {
   "cell_type": "code",
   "execution_count": 35,
   "metadata": {},
   "outputs": [],
   "source": [
    "def correct(word):\n",
    "    '''基于编辑距离，找出所有可能的拼音\n",
    "    偏向于编辑距离为0,1,2的，否则返回自身的拼音。\n",
    "    '''\n",
    "    candidates = (konwn(edits0(word)) or\n",
    "                  konwn(edits1(word)) or\n",
    "                  konwn(edits2(word)) or\n",
    "                  [word]\n",
    "                 )\n",
    "    return max(candidates,key=pinyin_count.get)"
   ]
  },
  {
   "cell_type": "code",
   "execution_count": 36,
   "metadata": {},
   "outputs": [],
   "source": [
    "def konwn(words):\n",
    "    ''''''\n",
    "    return {w for w in words if w in pinyin_count}\n",
    "\n",
    "def edits0(word):\n",
    "    '''编辑距离为0，也就是它本身'''\n",
    "    return {word}\n",
    "\n",
    "def edits2(word):\n",
    "    '''\n",
    "    返回与目标拼音的编辑距离为2的所有拼音\n",
    "    '''\n",
    "    return {e2 for e1 in edits1(word) for e2 in edits1(e1)}"
   ]
  },
  {
   "cell_type": "code",
   "execution_count": 37,
   "metadata": {},
   "outputs": [],
   "source": [
    "def edits1(word):\n",
    "    '''返回与这个拼音只有一个编辑距离的所有拼音\n",
    "    '''\n",
    "    pairs      = splits(word)\n",
    "    deletes    = [a + b[1:]               for (a,b) in pairs if b]\n",
    "    transposes = [a + b[1] + b[0] + b[2:] for (a,b) in pairs if len(b) > 1]\n",
    "    replaces   = [a + c + b[1:]           for (a,b) in pairs for c in alphabet if b]\n",
    "    inserts    = [a + c + b               for (a,b) in pairs for c in alphabet]\n",
    "    return set(deletes + transposes + replaces + inserts)\n",
    "    \n",
    "def splits(word):\n",
    "    '''\n",
    "    '''\n",
    "    return [(word[:i],word[i:]) for i in range(len(word)+1)]"
   ]
  },
  {
   "cell_type": "code",
   "execution_count": 38,
   "metadata": {},
   "outputs": [],
   "source": [
    "alphabet = 'abcdefghijklmnopqrstuvwxyz'"
   ]
  },
  {
   "cell_type": "code",
   "execution_count": 39,
   "metadata": {},
   "outputs": [
    {
     "data": {
      "text/plain": [
       "[('', 'pinyin'),\n",
       " ('p', 'inyin'),\n",
       " ('pi', 'nyin'),\n",
       " ('pin', 'yin'),\n",
       " ('piny', 'in'),\n",
       " ('pinyi', 'n'),\n",
       " ('pinyin', '')]"
      ]
     },
     "execution_count": 39,
     "metadata": {},
     "output_type": "execute_result"
    }
   ],
   "source": [
    "splits('pinyin')"
   ]
  },
  {
   "cell_type": "code",
   "execution_count": 40,
   "metadata": {},
   "outputs": [
    {
     "name": "stdout",
     "output_type": "stream",
     "text": [
      "{'pinyin'}\n"
     ]
    }
   ],
   "source": [
    "print(edits0('pinyin'))"
   ]
  },
  {
   "cell_type": "code",
   "execution_count": 41,
   "metadata": {},
   "outputs": [
    {
     "name": "stdout",
     "output_type": "stream",
     "text": [
      "{'pinpyin', 'pinyinj', 'piyyin', 'cpinyin', 'pbnyin', 'poinyin', 'ppinyin', 'pqnyin', 'pinyan', 'pinyyin', 'pjnyin', 'kinyin', 'pinyix', 'piyin', 'ainyin', 'gpinyin', 'pionyin', 'pimnyin', 'pinyil', 'inyin', 'pinyjn', 'fpinyin', 'pjinyin', 'pinyibn', 'pitnyin', 'ponyin', 'minyin', 'pinxin', 'ypinyin', 'oinyin', 'pinyyn', 'hinyin', 'piknyin', 'pifnyin', 'piunyin', 'pibyin', 'pinyitn', 'pinyion', 'qpinyin', 'pinyrn', 'piuyin', 'pinjyin', 'pinyein', 'pinyinm', 'pipyin', 'pinyik', 'piayin', 'npinyin', 'pminyin', 'pinyiwn', 'pienyin', 'pinycn', 'pinyinc', 'pinwin', 'pinyinb', 'pinnyin', 'pinymin', 'pinyifn', 'pinzyin', 'pinyvin', 'pinyine', 'piqnyin', 'pinyina', 'pindyin', 'pinyiln', 'ppnyin', 'piniin', 'pisyin', 'pinyie', 'pinuin', 'pinwyin', 'pinyn', 'pinyidn', 'pinynin', 'pinyini', 'rpinyin', 'pinyxn', 'pinyi', 'prnyin', 'dpinyin', 'hpinyin', 'pinyien', 'pinyinw', 'pinhin', 'pingyin', 'vinyin', 'pivnyin', 'pintyin', 'pinyjin', 'pinyiv', 'psnyin', 'pbinyin', 'pnyin', 'pinyzin', 'pijyin', 'uinyin', 'pinkin', 'pinyivn', 'pinyink', 'linyin', 'piwnyin', 'pdnyin', 'pinzin', 'pznyin', 'pityin', 'zpinyin', 'pinyiun', 'pixnyin', 'pinryin', 'pinyirn', 'ipinyin', 'pinyio', 'pihyin', 'pinyim', 'pwnyin', 'pinyih', 'pinnin', 'pginyin', 'pinfin', 'pninyin', 'pinyiw', 'pinyxin', 'punyin', 'pizyin', 'pinyinn', 'piynin', 'pirnyin', 'pinyimn', 'pinykn', 'mpinyin', 'pvinyin', 'pyinyin', 'pkinyin', 'pcnyin', 'pineyin', 'pinyun', 'winyin', 'pinying', 'pvnyin', 'pinkyin', 'pinqin', 'pinyuin', 'pinydin', 'epinyin', 'pinlyin', 'pinein', 'finyin', 'ptinyin', 'piniyin', 'pinyiny', 'pigyin', 'kpinyin', 'pinyian', 'binyin', 'pinoyin', 'piryin', 'pinyiy', 'ipnyin', 'pinyijn', 'pioyin', 'pinain', 'pimyin', 'pinbyin', 'pxnyin', 'pikyin', 'pinyqn', 'pinyis', 'pinlin', 'pilnyin', 'pxinyin', 'pinhyin', 'pinyain', 'pivyin', 'pinyij', 'pinyint', 'xinyin', 'pinyiu', 'bpinyin', 'panyin', 'pinyon', 'pinyqin', 'pinyiq', 'pinytn', 'pinmyin', 'pinyid', 'pinfyin', 'pynyin', 'pinyib', 'pcinyin', 'pfnyin', 'pinyign', 'pinymn', 'penyin', 'pinyhin', 'tinyin', 'sinyin', 'pincin', 'pinygn', 'pinytin', 'pinrin', 'pinyipn', 'pinyins', 'ptnyin', 'pinyiin', 'pinjin', 'zinyin', 'xpinyin', 'pinin', 'lpinyin', 'pinyif', 'pinvyin', 'pignyin', 'pieyin', 'pinyinv', 'pniyin', 'pinypn', 'pidyin', 'pifyin', 'iinyin', 'pinyino', 'piniyn', 'pinyiqn', 'pinybn', 'pinyfn', 'pinyinf', 'picnyin', 'pinyln', 'picyin', 'pinysn', 'pinyikn', 'pinyinl', 'pixyin', 'tpinyin', 'pinqyin', 'cinyin', 'pinyin', 'pinyen', 'phnyin', 'pinyiyn', 'pinyit', 'pinyia', 'pinyinr', 'pinypin', 'pinyfin', 'qinyin', 'pinyip', 'pinyhn', 'pinyig', 'pinyicn', 'pnnyin', 'ginyin', 'pilyin', 'pinmin', 'upinyin', 'piiyin', 'pinoin', 'pindin', 'prinyin', 'vpinyin', 'pinydn', 'pinsyin', 'pzinyin', 'pfinyin', 'puinyin', 'pinybin', 'pinyinz', 'opinyin', 'pinvin', 'painyin', 'pibnyin', 'pgnyin', 'wpinyin', 'jinyin', 'piznyin', 'pipnyin', 'pinsin', 'psinyin', 'pianyin', 'pinyzn', 'pinywn', 'pdinyin', 'pinpin', 'pqinyin', 'plnyin', 'pisnyin', 'peinyin', 'yinyin', 'pinynn', 'jpinyin', 'plinyin', 'pihnyin', 'pinylin', 'rinyin', 'pinayin', 'piqyin', 'pinyind', 'ninyin', 'pinyiz', 'pinyrin', 'pknyin', 'pinyir', 'pingin', 'pinyvn', 'dinyin', 'pidnyin', 'pinykin', 'pinyinp', 'spinyin', 'pinyixn', 'pinywin', 'piynyin', 'pintin', 'pinyoin', 'pinyic', 'pinyinu', 'pinyii', 'einyin', 'pmnyin', 'piinyin', 'pinyisn', 'pinyihn', 'phinyin', 'pinyinx', 'pinyizn', 'pijnyin', 'piwyin', 'pinygin', 'pinysin', 'apinyin', 'pinyni', 'pincyin', 'pinycin', 'pinuyin', 'pinyinq', 'pinxyin', 'pinbin', 'pwinyin', 'pinyinh'}\n"
     ]
    }
   ],
   "source": [
    "print(edits1('pinyin'))"
   ]
  },
  {
   "cell_type": "code",
   "execution_count": 42,
   "metadata": {},
   "outputs": [
    {
     "data": {
      "text/plain": [
       "338"
      ]
     },
     "execution_count": 42,
     "metadata": {},
     "output_type": "execute_result"
    }
   ],
   "source": [
    "len(edits1('pinyin'))"
   ]
  },
  {
   "cell_type": "code",
   "execution_count": 43,
   "metadata": {},
   "outputs": [
    {
     "data": {
      "text/plain": [
       "52168"
      ]
     },
     "execution_count": 43,
     "metadata": {},
     "output_type": "execute_result"
    }
   ],
   "source": [
    "len(edits2('pinyin'))"
   ]
  },
  {
   "cell_type": "code",
   "execution_count": 44,
   "metadata": {},
   "outputs": [
    {
     "data": {
      "text/plain": [
       "'yin'"
      ]
     },
     "execution_count": 44,
     "metadata": {},
     "output_type": "execute_result"
    }
   ],
   "source": [
    "correct('yin')"
   ]
  },
  {
   "cell_type": "code",
   "execution_count": 45,
   "metadata": {},
   "outputs": [
    {
     "data": {
      "text/plain": [
       "'ying'"
      ]
     },
     "execution_count": 45,
     "metadata": {},
     "output_type": "execute_result"
    }
   ],
   "source": [
    "correct('yign')"
   ]
  },
  {
   "cell_type": "code",
   "execution_count": 46,
   "metadata": {},
   "outputs": [
    {
     "data": {
      "text/plain": [
       "'ying'"
      ]
     },
     "execution_count": 46,
     "metadata": {},
     "output_type": "execute_result"
    }
   ],
   "source": [
    "correct('yinn')"
   ]
  },
  {
   "cell_type": "markdown",
   "metadata": {},
   "source": [
    "### 文字:这是一个测试"
   ]
  },
  {
   "cell_type": "code",
   "execution_count": 48,
   "metadata": {},
   "outputs": [],
   "source": [
    "def correct_sequence_pinyin(text_pingyin):\n",
    "    return ' '.join(map(correct, text_pingyin.split()))"
   ]
  },
  {
   "cell_type": "code",
   "execution_count": 49,
   "metadata": {},
   "outputs": [
    {
     "data": {
      "text/plain": [
       "'zhe shi yi ge ce shi'"
      ]
     },
     "execution_count": 49,
     "metadata": {},
     "output_type": "execute_result"
    }
   ],
   "source": [
    "correct_sequence_pinyin('zhe sih yi ge ce sho')"
   ]
  },
  {
   "cell_type": "markdown",
   "metadata": {},
   "source": [
    "### 文字：我想上清华大学"
   ]
  },
  {
   "cell_type": "code",
   "execution_count": 50,
   "metadata": {},
   "outputs": [
    {
     "data": {
      "text/plain": [
       "'wo xiang shang qing hua da xue'"
      ]
     },
     "execution_count": 50,
     "metadata": {},
     "output_type": "execute_result"
    }
   ],
   "source": [
    "correct_sequence_pinyin('wo xiang shagn qinng hua da xue')"
   ]
  },
  {
   "cell_type": "code",
   "execution_count": null,
   "metadata": {},
   "outputs": [],
   "source": []
  },
  {
   "cell_type": "markdown",
   "metadata": {},
   "source": [
    "## 思考题：如何在不带空格的时候完成自动修整？--> 如何完成拼音的自动分割？\n",
    "\n",
    "## 提示：用语言模型。"
   ]
  },
  {
   "cell_type": "code",
   "execution_count": 51,
   "metadata": {},
   "outputs": [],
   "source": [
    "sentence_pinyin = 'woxiangshagnqinnghuadaxue'"
   ]
  },
  {
   "cell_type": "code",
   "execution_count": null,
   "metadata": {},
   "outputs": [],
   "source": [
    "方案1：动态规划，先把前面的处理好，再不断往后纠正\n",
    "\n",
    "对于一个短句，划分可能的句子；\n",
    "对于每一个句子，用编辑距离进行修正；\n",
    "再用语言模型计算每一个句子的概率；\n",
    "用两种算法，gready search 和 beam search，去得到概率最高的句子；\n",
    "动态规划，往后继续计算。"
   ]
  },
  {
   "cell_type": "code",
   "execution_count": 52,
   "metadata": {},
   "outputs": [],
   "source": [
    "pinyin_corpus = tokens(chinese_pinyin_copys)"
   ]
  },
  {
   "cell_type": "code",
   "execution_count": 53,
   "metadata": {},
   "outputs": [],
   "source": [
    "pinyin_corpus_bi = [''.join(pinyin_corpus[i:i+2]) for i in range(len(pinyin_corpus[:-2]))]"
   ]
  },
  {
   "cell_type": "code",
   "execution_count": 54,
   "metadata": {},
   "outputs": [
    {
     "data": {
      "text/plain": [
       "['ci', 'wai', 'zi', 'ben', 'zhou']"
      ]
     },
     "execution_count": 54,
     "metadata": {},
     "output_type": "execute_result"
    }
   ],
   "source": [
    "pinyin_corpus[:5]"
   ]
  },
  {
   "cell_type": "code",
   "execution_count": 55,
   "metadata": {},
   "outputs": [
    {
     "data": {
      "text/plain": [
       "['ciwai', 'waizi', 'ziben', 'benzhou', 'zhouyue']"
      ]
     },
     "execution_count": 55,
     "metadata": {},
     "output_type": "execute_result"
    }
   ],
   "source": [
    "pinyin_corpus_bi[:5]"
   ]
  },
  {
   "cell_type": "code",
   "execution_count": 56,
   "metadata": {},
   "outputs": [],
   "source": [
    "pinyin_count_bi = Counter(pinyin_corpus_bi)"
   ]
  },
  {
   "cell_type": "code",
   "execution_count": 57,
   "metadata": {},
   "outputs": [],
   "source": [
    "def unigram(py):\n",
    "    if py in pinyin_corpus:\n",
    "        return (pinyin_count[py] + 1) / (len(pinyin_count)+len(pinyin_corpus))\n",
    "    else:\n",
    "        return 1 / (len(pinyin_count)+len(pinyin_corpus))\n",
    "\n",
    "\n",
    "def bigram(py):\n",
    "    _,py1 = py.split()\n",
    "    if py in pinyin_count_bi:\n",
    "        prob = (pinyin_count_bi[py] + 1) / (pinyin_count_bi[py1]+len(pinyin_corpus))\n",
    "        return prob\n",
    "    else:\n",
    "        return 1 / (pinyin_count[py1]+len(pinyin_corpus))\n",
    "    \n",
    "def calcu_prob(sentence):\n",
    "    sentences = sentence.split()\n",
    "    sentence_prob = 1\n",
    "    for i,py in enumerate(sentences[:-1]):\n",
    "        next_py = sentences[i+1]\n",
    "        sentence_prob *= bigram(py,next_py)\n",
    "    return sentence_prob"
   ]
  },
  {
   "cell_type": "markdown",
   "metadata": {},
   "source": [
    "## 原谅我写不出来了，只能参考优秀作业了。。。"
   ]
  },
  {
   "cell_type": "code",
   "execution_count": null,
   "metadata": {},
   "outputs": [],
   "source": []
  }
 ],
 "metadata": {
  "kernelspec": {
   "display_name": "Python 3",
   "language": "python",
   "name": "python3"
  },
  "language_info": {
   "codemirror_mode": {
    "name": "ipython",
    "version": 3
   },
   "file_extension": ".py",
   "mimetype": "text/x-python",
   "name": "python",
   "nbconvert_exporter": "python",
   "pygments_lexer": "ipython3",
   "version": "3.7.6"
  }
 },
 "nbformat": 4,
 "nbformat_minor": 4
}
