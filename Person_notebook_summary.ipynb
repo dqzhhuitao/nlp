{
 "cells": [
  {
   "cell_type": "markdown",
   "metadata": {},
   "source": [
    "# <center>笔记整理</center>"
   ]
  },
  {
   "cell_type": "markdown",
   "metadata": {},
   "source": [
    "## 邓杨勇git:https://github.com/DengYangyong"
   ]
  },
  {
   "cell_type": "markdown",
   "metadata": {},
   "source": [
    "##                         Dictionary Case"
   ]
  },
  {
   "cell_type": "code",
   "execution_count": 3,
   "metadata": {},
   "outputs": [],
   "source": [
    "def generate_grammer(grammer_str: str):\n",
    "    grammar = {}\n",
    "\n",
    "    for line in grammer_str:\n",
    "        if not line: continue\n",
    "    \n",
    "        grammar[line.split('++$++')[0]] = line.split('++$++')[2]\n",
    "\n",
    "        \n",
    "    return grammar\n",
    "#返回一个字典"
   ]
  },
  {
   "cell_type": "code",
   "execution_count": null,
   "metadata": {},
   "outputs": [],
   "source": [
    "genera"
   ]
  },
  {
   "cell_type": "code",
   "execution_count": null,
   "metadata": {},
   "outputs": [],
   "source": [
    "def generate_grammer(grammer_str):\n",
    "    grammar = {}\n",
    "\n",
    "    for s1 in grammer_str:\n",
    "        \n",
    "    \n",
    "        grammar[s1] = _2_gram(s1)\n",
    "\n",
    "        \n",
    "    return grammar\n"
   ]
  },
  {
   "cell_type": "code",
   "execution_count": 7,
   "metadata": {},
   "outputs": [],
   "source": [
    "def get_tfidf_from_sentence(sentence_cut):   \n",
    "    '''\n",
    "    return : a dictionary\n",
    "    '''\n",
    "    \n",
    "    tf_idf_words = dict()\n",
    "    \n",
    "    for c in set(sentence_cut):\n",
    "        tf_idf_words[c] = tfidf(c, sentence_cut)\n",
    "        \n",
    "    return tf_idf_words"
   ]
  },
  {
   "cell_type": "markdown",
   "metadata": {},
   "source": [
    "## 数据类型转化"
   ]
  },
  {
   "cell_type": "code",
   "execution_count": null,
   "metadata": {},
   "outputs": [],
   "source": [
    "numbers = re.findall(r\"\\d+\\.?\\d*\",str(new_cards_1))\n",
    "    print(numbers)\n",
    "for i in range(4):\n",
    "    numbe_2 = [int(num) for num in numbers]\n",
    "print(numbe_2)\n",
    "'''\n",
    "result：\n",
    "['11', '13', '3', '6']\n",
    "[11, 13, 3, 6]\n",
    "'''"
   ]
  },
  {
   "cell_type": "markdown",
   "metadata": {},
   "source": [
    "## 函数中形参输入"
   ]
  },
  {
   "cell_type": "code",
   "execution_count": null,
   "metadata": {},
   "outputs": [],
   "source": [
    "generate_by_grammar(grammar: dict, target=str):\n",
    "#grammar的数据类型是字典\n",
    "def generate_grammar(grammar_str: str, split='=>'): \n",
    "#grammar_str的数据类型是字符串"
   ]
  },
  {
   "cell_type": "markdown",
   "metadata": {},
   "source": [
    "## 难点理解"
   ]
  },
  {
   "cell_type": "code",
   "execution_count": null,
   "metadata": {},
   "outputs": [],
   "source": [
    "def generate_by_grammar(grammar: dict, target=str):\n",
    "    if target not in grammar: return target \n",
    "    # the above line is to test if target is a key \n",
    "    expr = random.choice(grammar[target])\n",
    "    \n",
    "    return ''.join(generate_by_grammar(grammar, t) for t in expr)\n",
    "generate_by_grammar(grammar, target='expression')"
   ]
  },
  {
   "cell_type": "markdown",
   "metadata": {},
   "source": [
    "##### 翻译如下：定义generate_by_grammar函数，有两个输入参数为grammar和target，首先判断target是否在grammar里，如果在，表示target是终结字符，那么返回target；否则就从grammar中随机选择一个target的表达式，继续对表达式中的每个字符运行generate_by_grammar函数，直到获得终结字符，结束递归"
   ]
  },
  {
   "cell_type": "markdown",
   "metadata": {},
   "source": [
    "## 切分例子"
   ]
  },
  {
   "cell_type": "code",
   "execution_count": 4,
   "metadata": {
    "collapsed": true,
    "jupyter": {
     "outputs_hidden": true
    }
   },
   "outputs": [
    {
     "ename": "NameError",
     "evalue": "name 'line' is not defined",
     "output_type": "error",
     "traceback": [
      "\u001b[1;31m---------------------------------------------------------------------------\u001b[0m",
      "\u001b[1;31mNameError\u001b[0m                                 Traceback (most recent call last)",
      "\u001b[1;32m<ipython-input-4-9897e4cbed6f>\u001b[0m in \u001b[0;36m<module>\u001b[1;34m\u001b[0m\n\u001b[0;32m      3\u001b[0m \u001b[0msentences\u001b[0m \u001b[1;33m=\u001b[0m \u001b[0mCHARACTERS\u001b[0m\u001b[1;33m.\u001b[0m\u001b[0msplit\u001b[0m\u001b[1;33m(\u001b[0m\u001b[1;34m'\\n'\u001b[0m\u001b[1;33m)\u001b[0m\u001b[1;33m\u001b[0m\u001b[1;33m\u001b[0m\u001b[0m\n\u001b[0;32m      4\u001b[0m \u001b[1;31m#先用\\n切分得到行\u001b[0m\u001b[1;33m\u001b[0m\u001b[1;33m\u001b[0m\u001b[1;33m\u001b[0m\u001b[0m\n\u001b[1;32m----> 5\u001b[1;33m \u001b[0mline\u001b[0m\u001b[1;33m.\u001b[0m\u001b[0msplit\u001b[0m\u001b[1;33m(\u001b[0m\u001b[1;34m'++$++'\u001b[0m\u001b[1;33m)\u001b[0m\u001b[1;33m\u001b[0m\u001b[1;33m\u001b[0m\u001b[0m\n\u001b[0m\u001b[0;32m      6\u001b[0m \u001b[1;31m#用++$++切分\u001b[0m\u001b[1;33m\u001b[0m\u001b[1;33m\u001b[0m\u001b[1;33m\u001b[0m\u001b[0m\n",
      "\u001b[1;31mNameError\u001b[0m: name 'line' is not defined"
     ]
    }
   ],
   "source": [
    "content = open('dataset/train.txt',encoding='utf-8')\n",
    "CHARACTERS = content.read()\n",
    "sentences = CHARACTERS.split('\\n')\n",
    "#先用\\n切分得到行\n",
    "line.split('++$++')\n",
    "#用++$++切分"
   ]
  },
  {
   "cell_type": "markdown",
   "metadata": {},
   "source": [
    "#### split返回的是一个列表，[0]就把第一个元素取出来了，没有[0]就返回列表类型的数据"
   ]
  },
  {
   "attachments": {
    "image.png": {
     "image/png": "[encoded data removed]"
    }
   },
   "cell_type": "markdown",
   "metadata": {},
   "source": [
    "![image.png](attachment:image.png)"
   ]
  },
  {
   "cell_type": "markdown",
   "metadata": {},
   "source": [
    "## 提取内容并追加"
   ]
  },
  {
   "cell_type": "code",
   "execution_count": null,
   "metadata": {},
   "outputs": [],
   "source": [
    "def generate_text(grammer_str: str):\n",
    "    grammars = []\n",
    "\n",
    "    for line in grammer_str:\n",
    "        if not line: continue\n",
    "        grammars.append(line.split('++$++')[2])\n",
    "          \n",
    "    return grammars\n",
    "#提取第二个并追加"
   ]
  },
  {
   "cell_type": "markdown",
   "metadata": {},
   "source": [
    "## 提取纯净文本"
   ]
  },
  {
   "cell_type": "code",
   "execution_count": null,
   "metadata": {},
   "outputs": [],
   "source": [
    "def generate_text(grammer_str: str):\n",
    "    grammars = []\n",
    "\n",
    "    for line in grammer_str:\n",
    "        if not line: continue\n",
    "        grammars.append(line.split('++$++')[2])\n",
    "          \n",
    "    return grammars\n",
    "\n",
    "CHARACTERS = generate_text(sentences)"
   ]
  },
  {
   "cell_type": "markdown",
   "metadata": {},
   "source": [
    "## cut的使用，只能对字符串操作"
   ]
  },
  {
   "cell_type": "code",
   "execution_count": null,
   "metadata": {},
   "outputs": [],
   "source": [
    "import jieba\n",
    "def cut(string):\n",
    "    return list(jieba.cut(string))\n",
    "\n",
    "def generate_cut(grammar_str):   \n",
    "    tokenlist = []\n",
    "    for line in grammar_str:\n",
    "        if not line:continue\n",
    "        tokenlist.append(cut(line)[1])\n",
    "        #tokenlist.append(cut(line))\n",
    "        \n",
    "    return tokenlist"
   ]
  },
  {
   "cell_type": "code",
   "execution_count": null,
   "metadata": {},
   "outputs": [],
   "source": [
    "#使用如下\n",
    "ALL_TOKENS = generate_cut(CHARACTERS)\n",
    "TOLEN_2_GRAM = [''.join(ALL_TOKENS[i:i+2]) for i in range(len(ALL_TOKENS[:-2]))]"
   ]
  },
  {
   "cell_type": "markdown",
   "metadata": {},
   "source": [
    "###### TOKEN_2_GRAM为什么用[i:i+2]是因为就像孙同学说的是前闭后开的，i:i+2取出的元素包含第i个元素和第i+1个元素"
   ]
  },
  {
   "cell_type": "markdown",
   "metadata": {},
   "source": [
    "# 几个关键点（note）\n",
    "## 1、prob_1\n",
    "## 2、prob_2\n",
    "## 3、word_counts、word_counts_2\n",
    "## 4、_2_gram公式要牢记"
   ]
  },
  {
   "cell_type": "code",
   "execution_count": null,
   "metadata": {},
   "outputs": [],
   "source": [
    "from collections import Counter\n",
    "word_counts = Counter(ALL_TOKENS)\n",
    "word_count_2 = Counter(TOLEN_2_GRAM)\n",
    "def prob_1(word):\n",
    "    if word in word_counts:\n",
    "        return word_counts[word]/len(ALL_TOKENS)\n",
    "    else:\n",
    "       \n",
    "        return min_frequences/len(ALL_TOKENS)\n",
    "def prob_2(word1,word2):\n",
    "    combine = word1 + word2\n",
    "    if combine in word_count_2:\n",
    "        return word_count_2[combine]/(word_counts[word2]+1)\n",
    "    else:\n",
    "        return 1/len(word_counts)\n",
    "def _2_gram(sentence):\n",
    "    words = cut(sentence)\n",
    "    prob = 1\n",
    "    for i in range(len(words)-1):\n",
    "        word,next_word = words[i],words[i+1]\n",
    "\n",
    "        prob *= prob_2(word,next_word)\n",
    "       \n",
    "    prob *= prob_1(words[-1])\n",
    "    return prob"
   ]
  },
  {
   "cell_type": "markdown",
   "metadata": {},
   "source": [
    "## 排序的应用：用sorted和lambda"
   ]
  },
  {
   "cell_type": "code",
   "execution_count": null,
   "metadata": {},
   "outputs": [],
   "source": [
    "##case 1\n",
    "user=generate_grammer(CHARACTERS)\n",
    "sort=sorted(user.items(),key=lambda e:e[1],reverse=True)   #排序\n",
    "for item in sort:\n",
    "    print (item[0],item[1])\n",
    "## case2\n",
    "student_info = {\n",
    "    'A': 9,\n",
    "    'B': 4,\n",
    "    'Z': 8,\n",
    "    'D': 1\n",
    "}\n",
    "sorted(student_info.items(), key=lambda x: x[1])\n",
    "sorted(student_info.items(), key=lambda x: x[1], reverse=True)"
   ]
  },
  {
   "cell_type": "markdown",
   "metadata": {},
   "source": [
    "## 一些固定语法理解"
   ]
  },
  {
   "cell_type": "code",
   "execution_count": 6,
   "metadata": {},
   "outputs": [
    {
     "ename": "SyntaxError",
     "evalue": "unexpected EOF while parsing (<ipython-input-6-4c1627dfc818>, line 4)",
     "output_type": "error",
     "traceback": [
      "\u001b[1;36m  File \u001b[1;32m\"<ipython-input-6-4c1627dfc818>\"\u001b[1;36m, line \u001b[1;32m4\u001b[0m\n\u001b[1;33m    for p in product(operators, repeat=3):\u001b[0m\n\u001b[1;37m                                          ^\u001b[0m\n\u001b[1;31mSyntaxError\u001b[0m\u001b[1;31m:\u001b[0m unexpected EOF while parsing\n"
     ]
    }
   ],
   "source": [
    "frequencies = [f for w,f in word_counts.most_common(100)]  #1、2\n",
    "print('我找到方法啦😁: {} {} {} {} {} {} {}'.format(car1, op1, car2, op2, car3, op3, car4))  #format使用\n",
    "new_cards = [rand_card() for i in range(4)] #range使用\n",
    "for p in product(operators, repeat=3):\n",
    "\"1 + 3 + 10 * 5\".split()[0::2]\n",
    "\"1 + 3 + 10 * 5\".split()[1::2]"
   ]
  },
  {
   "cell_type": "code",
   "execution_count": 1,
   "metadata": {},
   "outputs": [
    {
     "ename": "NameError",
     "evalue": "name 'word_counts' is not defined",
     "output_type": "error",
     "traceback": [
      "\u001b[1;31m---------------------------------------------------------------------------\u001b[0m",
      "\u001b[1;31mNameError\u001b[0m                                 Traceback (most recent call last)",
      "\u001b[1;32m<ipython-input-1-6a3103c9ad62>\u001b[0m in \u001b[0;36m<module>\u001b[1;34m\u001b[0m\n\u001b[1;32m----> 1\u001b[1;33m \u001b[0mmost_common_10000_to_10050\u001b[0m \u001b[1;33m=\u001b[0m \u001b[1;33m[\u001b[0m\u001b[0mw\u001b[0m \u001b[1;32mfor\u001b[0m \u001b[0mw\u001b[0m\u001b[1;33m,\u001b[0m \u001b[0mf\u001b[0m \u001b[1;32min\u001b[0m \u001b[0mword_counts\u001b[0m\u001b[1;33m.\u001b[0m\u001b[0mmost_common\u001b[0m\u001b[1;33m(\u001b[0m\u001b[1;36m10050\u001b[0m\u001b[1;33m)\u001b[0m\u001b[1;33m[\u001b[0m\u001b[1;36m50\u001b[0m\u001b[1;33m:\u001b[0m\u001b[1;33m]\u001b[0m\u001b[1;33m]\u001b[0m\u001b[1;33m\u001b[0m\u001b[1;33m\u001b[0m\u001b[0m\n\u001b[0m\u001b[0;32m      2\u001b[0m \u001b[1;31m#获得词频排序10000到10050的词的词频，不是从50到10050\u001b[0m\u001b[1;33m\u001b[0m\u001b[1;33m\u001b[0m\u001b[1;33m\u001b[0m\u001b[0m\n",
      "\u001b[1;31mNameError\u001b[0m: name 'word_counts' is not defined"
     ]
    }
   ],
   "source": [
    "most_common_10000_to_10050 = [w for w, f in word_counts.most_common(10050)[50:]]\n",
    "#获得词频排序50到10050的词的词频，不是从10000到10050\n",
    "most_common_10000_to_10050 = [w for w, f in word_counts.most_common(10050)[-50:]]\n",
    "#获得词频排序10000到10050的词的词频"
   ]
  },
  {
   "cell_type": "markdown",
   "metadata": {},
   "source": [
    "## 总结：\n",
    "### 1、word_counts.most_common返回值为w f\n",
    "### 2、从w和f中挑选出f,赋值给列表\n",
    "### 3、product用于组合\n",
    "### 4、enumerate的使用"
   ]
  },
  {
   "cell_type": "code",
   "execution_count": null,
   "metadata": {},
   "outputs": [],
   "source": [
    "def random_real_card():\n",
    "    cards = '2 3 4 5 6 7 8 9 10 J Q K A'.split()\n",
    "    color = '红桃 黑桃 方片 梅花'.split()\n",
    "    \n",
    "    return random.choice(color)+random.choice(cards)\n",
    "\n",
    "[random_real_card() for _ in range(4)]"
   ]
  },
  {
   "attachments": {
    "image.png": {
     "image/png": "[encoded data removed]"
    }
   },
   "cell_type": "markdown",
   "metadata": {},
   "source": [
    "![image.png](attachment:image.png)"
   ]
  },
  {
   "cell_type": "code",
   "execution_count": null,
   "metadata": {},
   "outputs": [],
   "source": [
    "\n",
    "def join_op_with_brace_number(operators, with_brace):\n",
    "    finally_exp = with_brace[0]\n",
    "    \n",
    "    for i, op in enumerate(operators):\n",
    "        finally_exp += (op + ' ' + with_brace[i+1])\n",
    "    \n",
    "    return finally_exp\n",
    "join_op_with_brace_number(['+', '+', '*'], ['(1', '(3', '(10', '5)))'])\n"
   ]
  },
  {
   "attachments": {
    "image.png": {
     "image/png": "[encoded data removed]"
    }
   },
   "cell_type": "markdown",
   "metadata": {},
   "source": [
    "![image.png](attachment:image.png)"
   ]
  },
  {
   "cell_type": "markdown",
   "metadata": {},
   "source": [
    "## 应用trick"
   ]
  },
  {
   "cell_type": "markdown",
   "metadata": {},
   "source": [
    "#### 1、自动补全需要自己配置\n",
    "#### 2、https://www.cnblogs.com/pinpin/p/10258876.html\n",
    "#### 3、https://www.jianshu.com/p/6efc8e412397\n",
    "#### 4、https://blog.csdn.net/nanerxue/article/details/102050213"
   ]
  },
  {
   "cell_type": "markdown",
   "metadata": {},
   "source": [
    "## 1.语法可以通过定义最简单的函数来实现"
   ]
  },
  {
   "cell_type": "markdown",
   "metadata": {},
   "source": [
    "## 2.我们可以通过递归，来生成复杂的，无限长的文字"
   ]
  },
  {
   "cell_type": "code",
   "execution_count": 24,
   "metadata": {},
   "outputs": [
    {
     "name": "stdout",
     "output_type": "stream",
     "text": [
      "expression 是由 expression num_op 或 num_op构成的\n",
      "expression  [' expression num_op ', ' num_op']\n",
      "num_op 是由 num op num 构成的\n",
      "num_op  [' num op num ']\n",
      "op 是由 + 或 - 或 * 或 /构成的\n",
      "op  [' + ', ' - ', ' * ', ' /']\n",
      "num 是由 0 或 1 或 2 或 3 或 4 构成的\n",
      "num  [' 0 ', ' 1 ', ' 2 ', ' 3 ', ' 4 ']\n"
     ]
    }
   ],
   "source": [
    "for line in numbers_ops.split('\\n'):\n",
    "    if not line:continue\n",
    "    expr,formula = line.split('=>')\n",
    "    formulas = formula.split('|')\n",
    "    #formulas = [f.split() for f in formulas]\n",
    "    #print('{}是由{}构成的'.format(expr,formula))\n",
    "    print('{}是由{}构成的'.format(expr,'或'.join(formulas)))\n",
    "    #print(line)\n",
    "    print(expr,formulas)"
   ]
  },
  {
   "cell_type": "code",
   "execution_count": 25,
   "metadata": {},
   "outputs": [
    {
     "name": "stdout",
     "output_type": "stream",
     "text": [
      "expression 是由expression-连起来-num_op或num_op构成的\n",
      "expression  ['expression-连起来-num_op', 'num_op']\n",
      "num_op 是由num-连起来-op-连起来-num构成的\n",
      "num_op  ['num-连起来-op-连起来-num']\n",
      "op 是由+或-或*或/构成的\n",
      "op  ['+', '-', '*', '/']\n",
      "num 是由0或1或2或3或4构成的\n",
      "num  ['0', '1', '2', '3', '4']\n"
     ]
    }
   ],
   "source": [
    "\n",
    "for line in numbers_ops.split('\\n'):\n",
    "    if not line:continue\n",
    "    expr,formula = line.split('=>')\n",
    "    formulas = formula.split('|')\n",
    "    formulas = ['-连起来-'.join(f.split()) for f in formulas]\n",
    "    #print('{}是由{}构成的'.format(expr,formula))\n",
    "    print('{}是由{}构成的'.format(expr,'或'.join(formulas)))\n",
    "    #print(line)\n",
    "    print(expr,formulas)"
   ]
  },
  {
   "cell_type": "code",
   "execution_count": 26,
   "metadata": {},
   "outputs": [],
   "source": [
    "def generate_grammar(grammar_str: str, split='=>'):   \n",
    "    grammar = {}\n",
    "    for line in grammar_str.split('\\n'):\n",
    "        if not line:continue\n",
    "        expr,formula = line.split(split)\n",
    "        formulas = formula.split('|')\n",
    "\n",
    "        formulas = [f.split() for f in formulas]\n",
    "        grammar[expr.strip()] = formulas\n",
    "        #grammar[expr.strip()] = formulas\n",
    "        #print('{}是由{}构成的'.format(expr,formula))\n",
    "        #print('--{}'.format(formulas))\n",
    "        #print(line)\n",
    "        #print(expr,formulas)\n",
    "    return grammar"
   ]
  },
  {
   "cell_type": "code",
   "execution_count": null,
   "metadata": {},
   "outputs": [],
   "source": [
    "generate_"
   ]
  },
  {
   "cell_type": "code",
   "execution_count": 28,
   "metadata": {},
   "outputs": [],
   "source": [
    "def generate_by_grammar(grammar: dict, target=str):\n",
    "    if target not in grammar: return target \n",
    "    # the above line is to test if target is a key \n",
    "    expr = random.choice(grammar[target])\n",
    "    \n",
    "    return ''.join(generate_by_grammar(grammar, t) for t in expr)\n"
   ]
  },
  {
   "cell_type": "code",
   "execution_count": 29,
   "metadata": {},
   "outputs": [
    {
     "ename": "NameError",
     "evalue": "name 'grammar' is not defined",
     "output_type": "error",
     "traceback": [
      "\u001b[1;31m---------------------------------------------------------------------------\u001b[0m",
      "\u001b[1;31mNameError\u001b[0m                                 Traceback (most recent call last)",
      "\u001b[1;32m<ipython-input-29-da72a9f462b3>\u001b[0m in \u001b[0;36m<module>\u001b[1;34m\u001b[0m\n\u001b[1;32m----> 1\u001b[1;33m \u001b[0mgenerate_by_grammar\u001b[0m\u001b[1;33m(\u001b[0m\u001b[0mgrammar\u001b[0m\u001b[1;33m,\u001b[0m \u001b[0mtarget\u001b[0m\u001b[1;33m=\u001b[0m\u001b[1;34m'expression'\u001b[0m\u001b[1;33m)\u001b[0m\u001b[1;33m\u001b[0m\u001b[1;33m\u001b[0m\u001b[0m\n\u001b[0m",
      "\u001b[1;31mNameError\u001b[0m: name 'grammar' is not defined"
     ]
    }
   ],
   "source": [
    "generate_by_grammar(grammar, target='expression')"
   ]
  },
  {
   "cell_type": "code",
   "execution_count": 30,
   "metadata": {},
   "outputs": [],
   "source": [
    "def generate_by_str(grammar_str, target,split='=>'):\n",
    "    #grammar = generate_grammar(grammar_str, target, split)\n",
    "    return generate_by_grammar(grammar=generate_grammar(grammar_str,split), target=target)"
   ]
  },
  {
   "cell_type": "code",
   "execution_count": 31,
   "metadata": {},
   "outputs": [
    {
     "ename": "NameError",
     "evalue": "name 'generate' is not defined",
     "output_type": "error",
     "traceback": [
      "\u001b[1;31m---------------------------------------------------------------------------\u001b[0m",
      "\u001b[1;31mNameError\u001b[0m                                 Traceback (most recent call last)",
      "\u001b[1;32m<ipython-input-31-5590485d716c>\u001b[0m in \u001b[0;36m<module>\u001b[1;34m\u001b[0m\n\u001b[1;32m----> 1\u001b[1;33m \u001b[0mgenerate\u001b[0m\u001b[1;33m\u001b[0m\u001b[1;33m\u001b[0m\u001b[0m\n\u001b[0m",
      "\u001b[1;31mNameError\u001b[0m: name 'generate' is not defined"
     ]
    }
   ],
   "source": [
    "generate"
   ]
  },
  {
   "cell_type": "code",
   "execution_count": 32,
   "metadata": {},
   "outputs": [
    {
     "data": {
      "text/plain": [
       "'4/22-01*0'"
      ]
     },
     "execution_count": 32,
     "metadata": {},
     "output_type": "execute_result"
    }
   ],
   "source": [
    "generate_by_str(numbers_ops, target='expression')"
   ]
  },
  {
   "cell_type": "code",
   "execution_count": 33,
   "metadata": {},
   "outputs": [],
   "source": [
    "sentence =\"\"\"\n",
    "句子 => 主 谓 宾\n",
    "主 => 你 | 我 | 他\n",
    "谓 => 吃 | 喝\n",
    "宾 => 橘子 | 汽水 | 茶\n",
    "\"\"\""
   ]
  },
  {
   "cell_type": "code",
   "execution_count": 34,
   "metadata": {},
   "outputs": [
    {
     "name": "stdout",
     "output_type": "stream",
     "text": [
      "他吃茶\n",
      "他吃橘子\n",
      "我喝橘子\n",
      "你吃汽水\n",
      "你喝橘子\n",
      "你吃茶\n",
      "他喝茶\n",
      "他吃汽水\n",
      "你喝橘子\n",
      "他吃橘子\n"
     ]
    }
   ],
   "source": [
    "for _ in range(10):\n",
    "    print(generate_by_grammar(generate_grammar(sentence),target='句子'))"
   ]
  },
  {
   "cell_type": "code",
   "execution_count": 35,
   "metadata": {},
   "outputs": [],
   "source": [
    "human = \"\"\"\n",
    "human = 自己 寻找 活动\n",
    "自己 = 我 | 俺 | 我们 \n",
    "寻找 = 找找 | 想找点 \n",
    "活动 = 乐子 | 玩的\n",
    "\"\"\""
   ]
  },
  {
   "cell_type": "code",
   "execution_count": 36,
   "metadata": {},
   "outputs": [],
   "source": [
    "假如既然 = \"\"\"\n",
    "句子 = if someone state , then do something\n",
    "if = 既然 | 如果 | 假设\n",
    "someone = one 和 someone | one\n",
    "one = 小红 | 小蓝 | 小绿 | 白白\n",
    "state = 饿了 | 醒了 | 醉了 | 癫狂了\n",
    "then = 那么 | 就 | 可以\n",
    "do = 去  \n",
    "something = 吃饭 | 玩耍 | 去浪 | 睡觉\n",
    "\"\"\""
   ]
  },
  {
   "cell_type": "code",
   "execution_count": 37,
   "metadata": {},
   "outputs": [],
   "source": [
    "host = \"\"\"\n",
    "host = 寒暄 报数 询问 业务相关 结尾 \n",
    "报数 = 我是 数字 号 ,\n",
    "数字 = 单个数字 | 数字 单个数字 \n",
    "单个数字 = 1 | 2 | 3 | 4 | 5 | 6 | 7 | 8 | 9 \n",
    "寒暄 = 称谓 打招呼 | 打招呼\n",
    "称谓 = 人称 ,\n",
    "人称 = 先生 | 女士 | 小朋友\n",
    "打招呼 = 你好 | 您好 \n",
    "询问 = 请问你要 | 您需要\n",
    "业务相关 = 具体业务\n",
    "具体业务 = 喝酒 | 打牌 | 打猎 | 赌博\n",
    "结尾 = 吗？\n",
    "\"\"\""
   ]
  },
  {
   "cell_type": "code",
   "execution_count": 38,
   "metadata": {},
   "outputs": [
    {
     "name": "stdout",
     "output_type": "stream",
     "text": [
      "我们想找点玩的\n",
      "我想找点乐子\n",
      "我想找点乐子\n",
      "俺找找乐子\n",
      "我找找玩的\n",
      "俺想找点乐子\n",
      "俺想找点玩的\n",
      "我们想找点玩的\n",
      "我们想找点玩的\n",
      "我们找找乐子\n"
     ]
    }
   ],
   "source": [
    "for i in range(10):\n",
    "    print(generate_by_str(human, 'human','='))"
   ]
  },
  {
   "cell_type": "code",
   "execution_count": 39,
   "metadata": {},
   "outputs": [
    {
     "name": "stdout",
     "output_type": "stream",
     "text": [
      "如果小蓝和小蓝和小红醉了,那么去玩耍\n",
      "既然小绿醉了,就去去浪\n",
      "假设白白和白白和小红和小蓝和小红和小红癫狂了,就去睡觉\n",
      "如果小红醒了,就去吃饭\n",
      "假设小绿醉了,可以去吃饭\n",
      "如果小绿和小绿和小蓝醒了,就去玩耍\n",
      "如果白白和小红饿了,可以去去浪\n",
      "假设小绿和小绿和小蓝癫狂了,就去睡觉\n",
      "如果白白和小红醒了,就去睡觉\n",
      "如果小蓝和小红癫狂了,那么去睡觉\n"
     ]
    }
   ],
   "source": [
    "for i in range(10):\n",
    "    print(generate_by_str(假如既然, '句子','='))"
   ]
  },
  {
   "cell_type": "code",
   "execution_count": 40,
   "metadata": {},
   "outputs": [
    {
     "name": "stdout",
     "output_type": "stream",
     "text": [
      "先生,你好我是865号,您需要赌博吗？\n",
      "先生,你好我是89568362号,您需要打猎吗？\n",
      "你好我是5号,请问你要打牌吗？\n",
      "女士,你好我是8956号,请问你要打猎吗？\n",
      "女士,你好我是1号,您需要赌博吗？\n",
      "先生,您好我是7844号,您需要赌博吗？\n",
      "您好我是467922号,您需要赌博吗？\n",
      "女士,你好我是6175号,请问你要打牌吗？\n",
      "小朋友,你好我是333号,请问你要喝酒吗？\n",
      "你好我是74号,请问你要打牌吗？\n"
     ]
    }
   ],
   "source": [
    "for i in range(10):\n",
    "    print(generate_by_str(host, 'host','='))"
   ]
  },
  {
   "cell_type": "code",
   "execution_count": 41,
   "metadata": {},
   "outputs": [],
   "source": [
    "simpel_programming = '''\n",
    "programming => if_stmt | assign | while_loop\n",
    "while_loop => while ( cond ) { change_line stmt change_line }\n",
    "if_stmt => if ( cond )  { change_line stmt change_line } | if ( cond )  { change_line stmt change_line } else { change_line stmt change_line } \n",
    "change_line => /N\n",
    "cond => var op var\n",
    "op => | == | < | >= | <= \n",
    "stmt => assign | if_stmt\n",
    "assign => var = var\n",
    "var =>  var _ num | words \n",
    "words => words _ word | word \n",
    "word => name | info |  student | lib | database \n",
    "nums => nums num | num\n",
    "num => 1 | 2 | 3 | 4 | 5 | 6 | 7 | 8 | 9 | 0\n",
    "'''"
   ]
  },
  {
   "cell_type": "code",
   "execution_count": 42,
   "metadata": {},
   "outputs": [
    {
     "name": "stdout",
     "output_type": "stream",
     "text": [
      "if(student_lib_lib_database_8_9_2_8_5_0_3_1_8<student){/Ninfo=student/N}else{/Nlib=info_name/N}\n"
     ]
    }
   ],
   "source": [
    "print(generate_by_str(simpel_programming, target='programming', split='=>'))"
   ]
  },
  {
   "cell_type": "code",
   "execution_count": 44,
   "metadata": {},
   "outputs": [],
   "source": [
    "def pretty_print(line):\n",
    "    # utility tool function\n",
    "    lines = line.split('/N')\n",
    "    \n",
    "    code_lines = []\n",
    "    \n",
    "    for i, sen in enumerate(lines):\n",
    "        if i < len(lines) / 2: \n",
    "            #print()\n",
    "            code_lines.append(i * \"  \" + sen)\n",
    "        else:\n",
    "            code_lines.append((len(lines) - i) * \" \" + sen)\n",
    "    \n",
    "    return code_lines"
   ]
  },
  {
   "cell_type": "code",
   "execution_count": 45,
   "metadata": {},
   "outputs": [],
   "source": [
    "generated_programming = []\n",
    "\n",
    "for i in range(20):\n",
    "    generated_programming += pretty_print(generate_by_str(simpel_programming, target='programming', split='=>'))"
   ]
  },
  {
   "cell_type": "code",
   "execution_count": 46,
   "metadata": {
    "collapsed": true,
    "jupyter": {
     "outputs_hidden": true
    }
   },
   "outputs": [
    {
     "name": "stdout",
     "output_type": "stream",
     "text": [
      "student_2_5=student_lib\n",
      "while(name_6==database){\n",
      "  if(lib_0>=database_0){\n",
      "    if(nameinfo_database){\n",
      "      name_1=database\n",
      "        }\n",
      "          }else{\n",
      "            if(lib_lib_student_student_1_0_5student_4){\n",
      "      lib_name_lib_info=database_lib_7\n",
      "     }else{\n",
      "    name_1_9_8_0=lib_info_database\n",
      "   }\n",
      "  }\n",
      " }\n",
      "name_lib_student=database\n",
      "lib_database_1_9_2_4=info_student_8\n",
      "while(lib_lib==info_8_1){\n",
      "  if(database_0<=lib_database_7){\n",
      "    if(info>=info_info){\n",
      "      if(databasestudent_database_9_7){\n",
      "        lib_student_info_student=database_name_database_info_database\n",
      "          }else{\n",
      "     student_info_0_4=database_info_name_1\n",
      "    }\n",
      "   }\n",
      "  }\n",
      " }\n",
      "student_1_3_5_3_4=student_database\n",
      "while(name_libname_5){\n",
      "  name=database_info_3\n",
      " }\n",
      "lib=database_info_info_info_0_4_9_2_1_2_6_1\n",
      "name_7_1=student\n",
      "if(database_6_8_1_6name_0){\n",
      "  database_info_9=database_4\n",
      " }\n",
      "while(name_info_info_lib_8_7>=lib){\n",
      "  info_3=student_5\n",
      " }\n",
      "database=student_5\n",
      "lib_lib_lib=database_info\n",
      "student_name_lib_student_database_4=info_lib_student\n",
      "database_name_student=name_info_info_5\n",
      "student=name_6\n",
      "if(nameinfo){\n",
      "  if(lib_info==database_name){\n",
      "    if(info_lib_name==name){\n",
      "      student_6_4_7=info_name_info_lib_database_student\n",
      "        }else{\n",
      "          database=database\n",
      "     }\n",
      "    }else{\n",
      "   info_student_name_lib_name_name_3=lib_info\n",
      "  }\n",
      " }\n",
      "if(student_lib_8>=info){\n",
      "  if(info_database_student_0==lib_student_student_2){\n",
      "    if(name_database_3<=lib){\n",
      "      lib_name_2_2_7_9_7=lib_lib\n",
      "        }else{\n",
      "    student_info_0_3_2_9=student_lib_database_6_3\n",
      "   }\n",
      "  }\n",
      " }\n",
      "if(info_name_name_lib<lib){\n",
      "  if(info_0==lib_database){\n",
      "    if(name<=student_2){\n",
      "      if(info_lib<name_info_name_info_database){\n",
      "        if(info_databasestudent_name){\n",
      "          if(lib_name_0_7<=lib_student){\n",
      "            info_name=name_database_0\n",
      "              }else{\n",
      "                if(name<info){\n",
      "                  if(database_info==database_student_student_info_0){\n",
      "                    lib_lib=student_student_lib_info_student_student_info\n",
      "                      }\n",
      "                        }else{\n",
      "                          if(name<name_database){\n",
      "                            if(info<database_database_name){\n",
      "                              if(student==database_lib_student_database){\n",
      "                                name_7=name\n",
      "                                  }\n",
      "                                    }else{\n",
      "                                      name_database=student\n",
      "                                        }\n",
      "                                          }else{\n",
      "                                            if(student_5info){\n",
      "                                              name=info_database_database\n",
      "                                                }else{\n",
      "                                                  if(name_1>=lib_6_6_0_0){\n",
      "                                                    if(info_3<=lib_database_name){\n",
      "                                                      if(name_4>=student_lib_database_lib_name){\n",
      "                                                        name=lib\n",
      "                                                          }else{\n",
      "                                                            if(lib_5student_name){\n",
      "                                                              database_database=database_lib_info_7_5_1_7\n",
      "                                                                }\n",
      "                                                                  }\n",
      "                                                                    }else{\n",
      "                                  if(database==name){\n",
      "                                 if(lib_name>=lib_name){\n",
      "                                if(info==name_lib_4_5_2_4_2){\n",
      "                               if(info_database_database_lib<name_database_name_database_name_1_4_9){\n",
      "                              name=lib\n",
      "                             }else{\n",
      "                            if(student<=info){\n",
      "                           lib_info_0=name_lib_student_lib\n",
      "                          }\n",
      "                         }\n",
      "                        }\n",
      "                       }\n",
      "                      }else{\n",
      "                     name=student\n",
      "                    }\n",
      "                   }\n",
      "                  }else{\n",
      "                 lib_0=info_database_4\n",
      "                }\n",
      "               }\n",
      "              }\n",
      "             }\n",
      "            }\n",
      "           }\n",
      "          }else{\n",
      "         student_6_2_1_8_4=lib\n",
      "        }\n",
      "       }else{\n",
      "      database=info_info\n",
      "     }\n",
      "    }else{\n",
      "   database_student_database=name_3_1\n",
      "  }\n",
      " }\n",
      "if(student_info_database_name_student==student){\n",
      "  student_0_5=lib_2\n",
      " }\n"
     ]
    }
   ],
   "source": [
    "for line in generated_programming:\n",
    "    print(line)"
   ]
  },
  {
   "cell_type": "markdown",
   "metadata": {
    "jupyter": {
     "source_hidden": true
    }
   },
   "source": [
    "## data driven"
   ]
  },
  {
   "cell_type": "code",
   "execution_count": 48,
   "metadata": {},
   "outputs": [],
   "source": [
    "import jieba"
   ]
  },
  {
   "cell_type": "code",
   "execution_count": 49,
   "metadata": {},
   "outputs": [
    {
     "data": {
      "text/plain": [
       "['我', '是', '一只', '小狗']"
      ]
     },
     "execution_count": 49,
     "metadata": {},
     "output_type": "execute_result"
    }
   ],
   "source": [
    "def cut(string):return list(jieba.cut(string))\n",
    "cut('我是一只小狗')"
   ]
  },
  {
   "cell_type": "code",
   "execution_count": 50,
   "metadata": {},
   "outputs": [
    {
     "ename": "UnicodeDecodeError",
     "evalue": "'gbk' codec can't decode byte 0xa4 in position 4: illegal multibyte sequence",
     "output_type": "error",
     "traceback": [
      "\u001b[1;31m---------------------------------------------------------------------------\u001b[0m",
      "\u001b[1;31mUnicodeDecodeError\u001b[0m                        Traceback (most recent call last)",
      "\u001b[1;32m<ipython-input-50-5f8a356e0f8d>\u001b[0m in \u001b[0;36m<module>\u001b[1;34m\u001b[0m\n\u001b[1;32m----> 1\u001b[1;33m \u001b[0mCHARACTERS\u001b[0m \u001b[1;33m=\u001b[0m \u001b[0mopen\u001b[0m\u001b[1;33m(\u001b[0m\u001b[1;34m'dataset/article_9k.txt'\u001b[0m\u001b[1;33m)\u001b[0m\u001b[1;33m.\u001b[0m\u001b[0mread\u001b[0m\u001b[1;33m(\u001b[0m\u001b[1;33m)\u001b[0m\u001b[1;33m\u001b[0m\u001b[1;33m\u001b[0m\u001b[0m\n\u001b[0m",
      "\u001b[1;31mUnicodeDecodeError\u001b[0m: 'gbk' codec can't decode byte 0xa4 in position 4: illegal multibyte sequence"
     ]
    }
   ],
   "source": [
    "CHARACTERS = open('dataset/article_9k.txt').read()"
   ]
  },
  {
   "cell_type": "code",
   "execution_count": 51,
   "metadata": {},
   "outputs": [],
   "source": [
    "content = open('dataset/article_9k.txt',encoding='utf-8')\n",
    "CHARACTERS = content.read()"
   ]
  },
  {
   "cell_type": "code",
   "execution_count": 52,
   "metadata": {},
   "outputs": [
    {
     "data": {
      "text/plain": [
       "33425826"
      ]
     },
     "execution_count": 52,
     "metadata": {},
     "output_type": "execute_result"
    }
   ],
   "source": [
    "len(CHARACTERS)"
   ]
  },
  {
   "cell_type": "code",
   "execution_count": 53,
   "metadata": {},
   "outputs": [],
   "source": [
    "ALL_TOKENS = cut(CHARACTERS)"
   ]
  },
  {
   "cell_type": "code",
   "execution_count": 150,
   "metadata": {},
   "outputs": [
    {
     "data": {
      "text/plain": [
       "['此外', '自', '本周', '6', '月', '12', '日起', '除', '小米', '手机']"
      ]
     },
     "execution_count": 150,
     "metadata": {},
     "output_type": "execute_result"
    }
   ],
   "source": [
    "ALL_TOKENS[:10]"
   ]
  },
  {
   "cell_type": "code",
   "execution_count": 1,
   "metadata": {},
   "outputs": [],
   "source": [
    "#import matplotlib\n",
    "from collections import Counter"
   ]
  },
  {
   "cell_type": "code",
   "execution_count": 2,
   "metadata": {},
   "outputs": [
    {
     "ename": "NameError",
     "evalue": "name 'ALL_TOKENS' is not defined",
     "output_type": "error",
     "traceback": [
      "\u001b[1;31m---------------------------------------------------------------------------\u001b[0m",
      "\u001b[1;31mNameError\u001b[0m                                 Traceback (most recent call last)",
      "\u001b[1;32m<ipython-input-2-37081b27935f>\u001b[0m in \u001b[0;36m<module>\u001b[1;34m\u001b[0m\n\u001b[1;32m----> 1\u001b[1;33m \u001b[0mword_counts\u001b[0m \u001b[1;33m=\u001b[0m \u001b[0mCounter\u001b[0m\u001b[1;33m(\u001b[0m\u001b[0mALL_TOKENS\u001b[0m\u001b[1;33m)\u001b[0m\u001b[1;33m\u001b[0m\u001b[1;33m\u001b[0m\u001b[0m\n\u001b[0m",
      "\u001b[1;31mNameError\u001b[0m: name 'ALL_TOKENS' is not defined"
     ]
    }
   ],
   "source": [
    "word_counts = Counter(ALL_TOKENS)"
   ]
  },
  {
   "cell_type": "code",
   "execution_count": 5,
   "metadata": {},
   "outputs": [
    {
     "ename": "NameError",
     "evalue": "name 'word_counts' is not defined",
     "output_type": "error",
     "traceback": [
      "\u001b[1;31m---------------------------------------------------------------------------\u001b[0m",
      "\u001b[1;31mNameError\u001b[0m                                 Traceback (most recent call last)",
      "\u001b[1;32m<ipython-input-5-936c5254d7d6>\u001b[0m in \u001b[0;36m<module>\u001b[1;34m\u001b[0m\n\u001b[1;32m----> 1\u001b[1;33m \u001b[0mword_counts\u001b[0m\u001b[1;33m.\u001b[0m\u001b[0mmost_common\u001b[0m\u001b[1;33m(\u001b[0m\u001b[1;36m100\u001b[0m\u001b[1;33m)\u001b[0m\u001b[1;33m\u001b[0m\u001b[1;33m\u001b[0m\u001b[0m\n\u001b[0m",
      "\u001b[1;31mNameError\u001b[0m: name 'word_counts' is not defined"
     ]
    }
   ],
   "source": [
    "word_counts.most_common(100)"
   ]
  },
  {
   "cell_type": "code",
   "execution_count": 59,
   "metadata": {},
   "outputs": [],
   "source": [
    "frequencies = [f for w,f in word_counts.most_common(100)]"
   ]
  },
  {
   "cell_type": "code",
   "execution_count": 60,
   "metadata": {},
   "outputs": [],
   "source": [
    "x = [i for i in range(100)]"
   ]
  },
  {
   "cell_type": "code",
   "execution_count": 61,
   "metadata": {},
   "outputs": [],
   "source": [
    "import matplotlib.pyplot as plt"
   ]
  },
  {
   "cell_type": "code",
   "execution_count": 65,
   "metadata": {},
   "outputs": [
    {
     "data": {
      "text/plain": [
       "[<matplotlib.lines.Line2D at 0xd282d08>]"
      ]
     },
     "execution_count": 65,
     "metadata": {},
     "output_type": "execute_result"
    },
    {
     "data": {
      "image/png": "[encoded data removed]",
      "text/plain": [
       "<Figure size 432x288 with 1 Axes>"
      ]
     },
     "metadata": {
      "needs_background": "light"
     },
     "output_type": "display_data"
    }
   ],
   "source": [
    "plt.plot(x,frequencies)"
   ]
  },
  {
   "cell_type": "code",
   "execution_count": 66,
   "metadata": {},
   "outputs": [
    {
     "name": "stderr",
     "output_type": "stream",
     "text": [
      "'ls' 不是内部或外部命令，也不是可运行的程序\n",
      "或批处理文件。\n"
     ]
    }
   ],
   "source": [
    "!ls"
   ]
  },
  {
   "cell_type": "code",
   "execution_count": 110,
   "metadata": {},
   "outputs": [],
   "source": [
    "most_common_500 = [w for w, f in word_counts.most_common(500)]\n",
    "#print(most_common_500)"
   ]
  },
  {
   "cell_type": "code",
   "execution_count": 111,
   "metadata": {},
   "outputs": [],
   "source": [
    "most_common_500_to_1000 = [w for w, f in word_counts.most_common(1000)[500:]]\n",
    "#print(most_common_500_to_1000)"
   ]
  },
  {
   "cell_type": "code",
   "execution_count": 112,
   "metadata": {},
   "outputs": [],
   "source": [
    "most_common_10000_to_10050 = [w for w, f in word_counts.most_common(10050)[50:]]\n",
    "#print(most_common_10000_to_10050)"
   ]
  },
  {
   "cell_type": "code",
   "execution_count": 113,
   "metadata": {},
   "outputs": [
    {
     "data": {
      "text/plain": [
       "'铁路照片10３n5来自在工程战略进入'"
      ]
     },
     "execution_count": 113,
     "metadata": {},
     "output_type": "execute_result"
    }
   ],
   "source": [
    "''.join(random.sample(most_common_500,k=10))"
   ]
  },
  {
   "cell_type": "code",
   "execution_count": 114,
   "metadata": {},
   "outputs": [
    {
     "data": {
      "text/plain": [
       "'应措施必须nan保持价值袭击严重结合研发'"
      ]
     },
     "execution_count": 114,
     "metadata": {},
     "output_type": "execute_result"
    }
   ],
   "source": [
    "''.join(random.sample(most_common_500_to_1000,k=10))"
   ]
  },
  {
   "cell_type": "code",
   "execution_count": 115,
   "metadata": {},
   "outputs": [
    {
     "data": {
      "text/plain": [
       "'投机情形学规范化研究会课题投资携带物种多媒体'"
      ]
     },
     "execution_count": 115,
     "metadata": {},
     "output_type": "execute_result"
    }
   ],
   "source": [
    "''.join(random.sample(most_common_10000_to_10050,k=10))"
   ]
  },
  {
   "cell_type": "markdown",
   "metadata": {},
   "source": [
    "## 只要你的数量集足够大，那么，出现次数最多的单词的频率 "
   ]
  },
  {
   "cell_type": "markdown",
   "metadata": {},
   "source": [
    "language - model ="
   ]
  },
  {
   "cell_type": "code",
   "execution_count": 116,
   "metadata": {},
   "outputs": [],
   "source": [
    "min_frequences = min([f for w,f in word_counts.most_common()])\n",
    "        \n",
    "def prob_1(word):\n",
    "    if word in word_counts:\n",
    "        return word_counts[word]/len(ALL_TOKENS)\n",
    "    else:\n",
    "       \n",
    "        return min_frequences/len(ALL_TOKENS)"
   ]
  },
  {
   "cell_type": "code",
   "execution_count": 117,
   "metadata": {},
   "outputs": [
    {
     "data": {
      "text/plain": [
       "0.0011341645999654677"
      ]
     },
     "execution_count": 117,
     "metadata": {},
     "output_type": "execute_result"
    }
   ],
   "source": [
    "prob_1('我们')"
   ]
  },
  {
   "cell_type": "code",
   "execution_count": 118,
   "metadata": {},
   "outputs": [
    {
     "data": {
      "text/plain": [
       "19982"
      ]
     },
     "execution_count": 118,
     "metadata": {},
     "output_type": "execute_result"
    }
   ],
   "source": [
    "word_counts['我们']"
   ]
  },
  {
   "cell_type": "code",
   "execution_count": 119,
   "metadata": {},
   "outputs": [
    {
     "data": {
      "text/plain": [
       "0.0014465111014973448"
      ]
     },
     "execution_count": 119,
     "metadata": {},
     "output_type": "execute_result"
    }
   ],
   "source": [
    "prob_1('美国')"
   ]
  },
  {
   "cell_type": "code",
   "execution_count": 120,
   "metadata": {},
   "outputs": [],
   "source": [
    "from functools import reduce\n",
    "from operator import mul"
   ]
  },
  {
   "cell_type": "code",
   "execution_count": 121,
   "metadata": {},
   "outputs": [
    {
     "data": {
      "text/plain": [
       "5040"
      ]
     },
     "execution_count": 121,
     "metadata": {},
     "output_type": "execute_result"
    }
   ],
   "source": [
    "reduce(mul,[1,2,3,4,5,6,7])"
   ]
  },
  {
   "cell_type": "code",
   "execution_count": 122,
   "metadata": {},
   "outputs": [
    {
     "data": {
      "text/plain": [
       "[1, 2, 3, 4, 5, 6, 7]"
      ]
     },
     "execution_count": 122,
     "metadata": {},
     "output_type": "execute_result"
    }
   ],
   "source": [
    "[1,2,3,4,5,6,7]"
   ]
  },
  {
   "cell_type": "code",
   "execution_count": 123,
   "metadata": {},
   "outputs": [
    {
     "ename": "NameError",
     "evalue": "name 'recuce' is not defined",
     "output_type": "error",
     "traceback": [
      "\u001b[1;31m---------------------------------------------------------------------------\u001b[0m",
      "\u001b[1;31mNameError\u001b[0m                                 Traceback (most recent call last)",
      "\u001b[1;32m<ipython-input-123-56ce9e78d5d7>\u001b[0m in \u001b[0;36m<module>\u001b[1;34m\u001b[0m\n\u001b[1;32m----> 1\u001b[1;33m \u001b[0mrecuce\u001b[0m\u001b[1;33m(\u001b[0m\u001b[1;32mlambda\u001b[0m \u001b[0mx\u001b[0m\u001b[1;33m,\u001b[0m\u001b[0my\u001b[0m\u001b[1;33m:\u001b[0m\u001b[0mx\u001b[0m\u001b[1;33m*\u001b[0m\u001b[0my\u001b[0m\u001b[1;33m,\u001b[0m\u001b[1;33m[\u001b[0m\u001b[1;36m1\u001b[0m\u001b[1;33m,\u001b[0m\u001b[1;36m2\u001b[0m\u001b[1;33m,\u001b[0m\u001b[1;36m3\u001b[0m\u001b[1;33m,\u001b[0m\u001b[1;36m4\u001b[0m\u001b[1;33m,\u001b[0m\u001b[1;36m5\u001b[0m\u001b[1;33m,\u001b[0m\u001b[1;36m6\u001b[0m\u001b[1;33m,\u001b[0m\u001b[1;36m7\u001b[0m\u001b[1;33m]\u001b[0m\u001b[1;33m)\u001b[0m\u001b[1;33m\u001b[0m\u001b[1;33m\u001b[0m\u001b[0m\n\u001b[0m",
      "\u001b[1;31mNameError\u001b[0m: name 'recuce' is not defined"
     ]
    }
   ],
   "source": [
    "recuce(lambda x,y:x*y,[1,2,3,4,5,6,7])"
   ]
  },
  {
   "cell_type": "code",
   "execution_count": 124,
   "metadata": {},
   "outputs": [],
   "source": [
    "def _1_gram(sentence):\n",
    "    words = cut(sentence)\n",
    "    return reduce(mul,[prob_1(w) for w in words])"
   ]
  },
  {
   "cell_type": "code",
   "execution_count": 125,
   "metadata": {},
   "outputs": [
    {
     "data": {
      "text/plain": [
       "7.7820177302833e-12"
      ]
     },
     "execution_count": 125,
     "metadata": {},
     "output_type": "execute_result"
    }
   ],
   "source": [
    "_1_gram('我今天回家')"
   ]
  },
  {
   "cell_type": "code",
   "execution_count": 151,
   "metadata": {},
   "outputs": [
    {
     "data": {
      "text/plain": [
       "1.7146818727742862e-12"
      ]
     },
     "execution_count": 151,
     "metadata": {},
     "output_type": "execute_result"
    }
   ],
   "source": [
    "_1_gram('我今天西瓜')"
   ]
  },
  {
   "cell_type": "code",
   "execution_count": 152,
   "metadata": {},
   "outputs": [],
   "source": [
    "TOLEN_2_GRAM = [''.join(ALL_TOKENS[i:i+2]) for i in range(len(ALL_TOKENS[:-2]))]"
   ]
  },
  {
   "cell_type": "code",
   "execution_count": 153,
   "metadata": {},
   "outputs": [
    {
     "data": {
      "text/plain": [
       "['6等',\n",
       " '等15',\n",
       " '15款',\n",
       " '款机型',\n",
       " '机型外',\n",
       " '外其余',\n",
       " '其余机型',\n",
       " '机型已',\n",
       " '已暂停',\n",
       " '暂停更新',\n",
       " '更新发布',\n",
       " '发布含',\n",
       " '含开发',\n",
       " '开发版',\n",
       " '版体验版',\n",
       " '体验版内测',\n",
       " '内测稳定版',\n",
       " '稳定版暂不受',\n",
       " '暂不受影响',\n",
       " '影响以',\n",
       " '以确保',\n",
       " '确保工程师',\n",
       " '工程师可以',\n",
       " '可以集中',\n",
       " '集中全部',\n",
       " '全部精力',\n",
       " '精力进行',\n",
       " '进行系统优化',\n",
       " '系统优化工作',\n",
       " '工作有人',\n",
       " '有人猜测',\n",
       " '猜测这',\n",
       " '这也',\n",
       " '也是',\n",
       " '是将',\n",
       " '将精力',\n",
       " '精力主要',\n",
       " '主要用到',\n",
       " '用到MIUI9',\n",
       " 'MIUI9的',\n",
       " '的研发',\n",
       " '研发之中',\n",
       " '之中MIUI8',\n",
       " 'MIUI8去年',\n",
       " '去年5',\n",
       " '5月',\n",
       " '月发布',\n",
       " '发布距今已有',\n",
       " '距今已有一年',\n",
       " '一年有余',\n",
       " '有余也',\n",
       " '也是',\n",
       " '是时候',\n",
       " '时候更新换代',\n",
       " '更新换代了',\n",
       " '了当然',\n",
       " '当然关于',\n",
       " '关于MIUI9',\n",
       " 'MIUI9的',\n",
       " '的确切',\n",
       " '确切信息',\n",
       " '信息我们',\n",
       " '我们还是',\n",
       " '还是等待',\n",
       " '等待官方消息',\n",
       " '官方消息\\n',\n",
       " '\\n骁龙',\n",
       " '骁龙835',\n",
       " '835作为',\n",
       " '作为唯一',\n",
       " '唯一通过',\n",
       " '通过Windows10',\n",
       " 'Windows10桌面',\n",
       " '桌面平台',\n",
       " '平台认证',\n",
       " '认证的',\n",
       " '的ARM',\n",
       " 'ARM处理器',\n",
       " '处理器高通',\n",
       " '高通强调',\n",
       " '强调不会',\n",
       " '不会因为',\n",
       " '因为只',\n",
       " '只考虑',\n",
       " '考虑性能',\n",
       " '性能而',\n",
       " '而去',\n",
       " '去屏蔽掉',\n",
       " '屏蔽掉小',\n",
       " '小核心',\n",
       " '核心相反',\n",
       " '相反他们',\n",
       " '他们正',\n",
       " '正联手',\n",
       " '联手微软',\n",
       " '微软找到',\n",
       " '找到一种',\n",
       " '一种适合',\n",
       " '适合桌面',\n",
       " '桌面平台',\n",
       " '平台的',\n",
       " '的兼顾',\n",
       " '兼顾性能',\n",
       " '性能和',\n",
       " '和功耗',\n",
       " '功耗的',\n",
       " '的完美',\n",
       " '完美方案',\n",
       " '方案报道',\n",
       " '报道称',\n",
       " '称微软',\n",
       " '微软已经',\n",
       " '已经拿到',\n",
       " '拿到了',\n",
       " '了一些',\n",
       " '一些新',\n",
       " '新的',\n",
       " '的源码',\n",
       " '源码以便',\n",
       " '以便Windows10',\n",
       " 'Windows10更好',\n",
       " '更好地',\n",
       " '地理解',\n",
       " '理解biglittle',\n",
       " 'biglittle架构',\n",
       " '架构资料',\n",
       " '资料显示',\n",
       " '显示骁龙',\n",
       " '骁龙835',\n",
       " '835作为',\n",
       " '作为一款',\n",
       " '一款集成',\n",
       " '集成了',\n",
       " '了CPUGPU',\n",
       " 'CPUGPU基带',\n",
       " '基带蓝牙',\n",
       " '蓝牙WiFi',\n",
       " 'WiFi的',\n",
       " '的SoC',\n",
       " 'SoC比',\n",
       " '比传统',\n",
       " '传统的',\n",
       " '的Wintel',\n",
       " 'Wintel方案',\n",
       " '方案可以',\n",
       " '可以节省',\n",
       " '节省至少',\n",
       " '至少30',\n",
       " '30的',\n",
       " '的PCB',\n",
       " 'PCB空间',\n",
       " '空间按计划',\n",
       " '按计划今年',\n",
       " '今年Q4',\n",
       " 'Q4华硕',\n",
       " '华硕惠普',\n",
       " '惠普联想',\n",
       " '联想将',\n",
       " '将首发',\n",
       " '首发骁龙',\n",
       " '骁龙835Win10',\n",
       " '835Win10电脑',\n",
       " '电脑预计',\n",
       " '预计均',\n",
       " '均是',\n",
       " '是二合一',\n",
       " '二合一形态',\n",
       " '形态的',\n",
       " '的产品',\n",
       " '产品当然',\n",
       " '当然高通',\n",
       " '高通骁龙',\n",
       " '骁龙只是',\n",
       " '只是个',\n",
       " '个开始',\n",
       " '开始未来',\n",
       " '未来也许',\n",
       " '也许还',\n",
       " '还能',\n",
       " '能见到',\n",
       " '见到三星',\n",
       " '三星Exynos',\n",
       " 'Exynos联发科',\n",
       " '联发科华为',\n",
       " '华为麒麟',\n",
       " '麒麟小米',\n",
       " '小米澎湃',\n",
       " '澎湃等',\n",
       " '等进入',\n",
       " '进入Windows10',\n",
       " 'Windows10桌面',\n",
       " '桌面平台',\n",
       " '平台\\n',\n",
       " '\\n此前',\n",
       " '此前的',\n",
       " '的一加',\n",
       " '一加3T',\n",
       " '3T搭载',\n",
       " '搭载的',\n",
       " '的是',\n",
       " '是3400mAh',\n",
       " '3400mAh电池',\n",
       " '电池DashCharge',\n",
       " 'DashCharge快充',\n",
       " '快充规格',\n",
       " '规格为',\n",
       " '为5V4A',\n",
       " '5V4A至于',\n",
       " '至于电池',\n",
       " '电池缩水',\n",
       " '缩水可能',\n",
       " '可能与',\n",
       " '与刘作',\n",
       " '刘作虎',\n",
       " '虎所说',\n",
       " '所说一加',\n",
       " '一加手机',\n",
       " '手机5',\n",
       " '5要',\n",
       " '要做',\n",
       " '做市面',\n",
       " '市面最',\n",
       " '最轻薄',\n",
       " '轻薄大屏',\n",
       " '大屏旗舰',\n",
       " '旗舰的',\n",
       " '的设定',\n",
       " '设定有关',\n",
       " '有关按照',\n",
       " '按照目前',\n",
       " '目前掌握',\n",
       " '掌握的',\n",
       " '的资料',\n",
       " '资料一加',\n",
       " '一加手机',\n",
       " '手机5',\n",
       " '5拥有',\n",
       " '拥有55',\n",
       " '55寸',\n",
       " '寸1080P',\n",
       " '1080P三星',\n",
       " '三星AMOLED',\n",
       " 'AMOLED显示屏',\n",
       " '显示屏6G8GBRAM64GB128GBROM',\n",
       " '6G8GBRAM64GB128GBROM双',\n",
       " '双1600',\n",
       " '1600万',\n",
       " '万摄像头',\n",
       " '摄像头备货',\n",
       " '备货量',\n",
       " '量惊喜',\n",
       " '惊喜根据',\n",
       " '根据京东',\n",
       " '京东泄露',\n",
       " '泄露的',\n",
       " '的信息',\n",
       " '信息一加',\n",
       " '一加5',\n",
       " '5起',\n",
       " '起售价',\n",
       " '售价是',\n",
       " '是xx99',\n",
       " 'xx99元',\n",
       " '元应该',\n",
       " '应该是',\n",
       " '是在',\n",
       " '在279928992999',\n",
       " '279928992999中',\n",
       " '中的',\n",
       " '的某个',\n",
       " '某个\\n',\n",
       " '\\n这是',\n",
       " '这是6',\n",
       " '6月',\n",
       " '月18',\n",
       " '18日',\n",
       " '日在',\n",
       " '在葡萄牙',\n",
       " '葡萄牙中部',\n",
       " '中部大',\n",
       " '大佩德罗',\n",
       " '佩德罗冈',\n",
       " '冈地区',\n",
       " '地区拍摄',\n",
       " '拍摄的',\n",
       " '的被',\n",
       " '被森林',\n",
       " '森林大火',\n",
       " '大火烧毁',\n",
       " '烧毁的',\n",
       " '的汽车',\n",
       " '汽车新华社',\n",
       " '新华社记者',\n",
       " '记者张立',\n",
       " '张立云摄',\n",
       " '云摄\\n',\n",
       " '\\n原',\n",
       " '原标题',\n",
       " '标题44',\n",
       " '44岁',\n",
       " '岁女子',\n",
       " '女子跑',\n",
       " '跑深圳',\n",
       " '深圳约会',\n",
       " '约会网友',\n",
       " '网友被',\n",
       " '被拒',\n",
       " '拒暴雨',\n",
       " '暴雨中',\n",
       " '中裸身',\n",
       " '裸身奔走',\n",
       " '奔走深圳',\n",
       " '深圳交警',\n",
       " '交警微博称',\n",
       " '微博称昨日',\n",
       " '昨日清晨',\n",
       " '清晨交警',\n",
       " '交警发现',\n",
       " '发现有',\n",
       " '有一',\n",
       " '一女子',\n",
       " '女子赤裸',\n",
       " '赤裸上身',\n",
       " '上身行走',\n",
       " '行走在',\n",
       " '在南坪',\n",
       " '南坪快速',\n",
       " '快速上',\n",
       " '上期间',\n",
       " '期间还',\n",
       " '还起',\n",
       " '起了',\n",
       " '了轻生',\n",
       " '轻生年头',\n",
       " '年头一辅警',\n",
       " '一辅警发现',\n",
       " '发现后',\n",
       " '后赶紧',\n",
       " '赶紧为',\n",
       " '为其',\n",
       " '其披上',\n",
       " '披上黄衣',\n",
       " '黄衣并',\n",
       " '并一路',\n",
       " '一路劝说',\n",
       " '劝说她',\n",
       " '她那么',\n",
       " '那么事发',\n",
       " '事发时',\n",
       " '时到底',\n",
       " '到底都',\n",
       " '都发生',\n",
       " '发生了',\n",
       " '了些',\n",
       " '些什么',\n",
       " '什么呢',\n",
       " '呢南',\n",
       " '南都',\n",
       " '都记者',\n",
       " '记者带',\n",
       " '带您',\n",
       " '您一起',\n",
       " '一起还原',\n",
       " '还原现场',\n",
       " '现场南',\n",
       " '南都',\n",
       " '都记者',\n",
       " '记者在',\n",
       " '在龙岗',\n",
       " '龙岗大队',\n",
       " '大队坂田',\n",
       " '坂田中队',\n",
       " '中队见到',\n",
       " '见到了',\n",
       " '了辅警',\n",
       " '辅警刘青',\n",
       " '刘青发现',\n",
       " '发现女生',\n",
       " '女生的',\n",
       " '的辅警',\n",
       " '辅警一位',\n",
       " '一位外表',\n",
       " '外表高大',\n",
       " '高大帅气',\n",
       " '帅气说话',\n",
       " '说话略带',\n",
       " '略带些',\n",
       " '些腼腆',\n",
       " '腼腆的',\n",
       " '的90',\n",
       " '90后',\n",
       " '后青年',\n",
       " '青年刘青',\n",
       " '刘青介绍',\n",
       " '介绍6',\n",
       " '6月',\n",
       " '月16',\n",
       " '16日',\n",
       " '日早上',\n",
       " '早上7',\n",
       " '7时',\n",
       " '时36',\n",
       " '36分',\n",
       " '分他',\n",
       " '他正在',\n",
       " '正在环城',\n",
       " '环城南路',\n",
       " '南路附近',\n",
       " '附近值勤',\n",
       " '值勤接到',\n",
       " '接到中队',\n",
       " '中队关于',\n",
       " '关于一位',\n",
       " '一位女子',\n",
       " '女子裸身',\n",
       " '裸身进入',\n",
       " '进入机动车',\n",
       " '机动车可能',\n",
       " '可能有',\n",
       " '有危险',\n",
       " '危险的',\n",
       " '的警情',\n",
       " '警情随后',\n",
       " '随后骑着',\n",
       " '骑着小',\n",
       " '小铁骑',\n",
       " '铁骑开始',\n",
       " '开始沿路',\n",
       " '沿路寻找',\n",
       " '寻找大概',\n",
       " '大概花',\n",
       " '花了',\n",
       " '了十多分钟',\n",
       " '十多分钟在',\n",
       " '在南坪',\n",
       " '南坪大道',\n",
       " '大道坂田',\n",
       " '坂田出口',\n",
       " '出口往',\n",
       " '往龙岗',\n",
       " '龙岗方向',\n",
       " '方向的',\n",
       " '的逆行',\n",
       " '逆行辅道',\n",
       " '辅道上',\n",
       " '上发现',\n",
       " '发现该',\n",
       " '该女子',\n",
       " '女子女子',\n",
       " '女子身上',\n",
       " '身上一丝不挂',\n",
       " '一丝不挂地逆',\n",
       " '地逆车流',\n",
       " '车流而',\n",
       " '而行时',\n",
       " '行时走时',\n",
       " '走时停时',\n",
       " '停时坐时',\n",
       " '坐时躺',\n",
       " '躺险象环生',\n",
       " '险象环生刘青停',\n",
       " '刘青停好',\n",
       " '好小',\n",
       " '小铁骑',\n",
       " '铁骑和',\n",
       " '和另外',\n",
       " '另外一名',\n",
       " '一名巡防',\n",
       " '巡防员',\n",
       " '员追',\n",
       " '追了',\n",
       " '了上去',\n",
       " '上去发现',\n",
       " '发现女子',\n",
       " '女子的',\n",
       " '的情绪',\n",
       " '情绪很',\n",
       " '很低落',\n",
       " '低落话',\n",
       " '话不',\n",
       " '不多',\n",
       " '多刘青',\n",
       " '刘青尝试',\n",
       " '尝试和',\n",
       " '和女子',\n",
       " '女子交流',\n",
       " '交流劝说',\n",
       " '劝说女子',\n",
       " '女子离开',\n",
       " '离开可',\n",
       " '可女子',\n",
       " '女子并',\n",
       " '并不',\n",
       " '不愿意',\n",
       " '愿意接受',\n",
       " '接受继续',\n",
       " '继续缓慢',\n",
       " '缓慢地往',\n",
       " '地往南坪',\n",
       " '南坪快速路',\n",
       " '快速路的',\n",
       " '的主干道',\n",
       " '主干道上',\n",
       " '上走',\n",
       " '走去',\n",
       " '去此时',\n",
       " '此时路边',\n",
       " '路边上',\n",
       " '上已经',\n",
       " '已经聚集',\n",
       " '聚集了',\n",
       " '了很',\n",
       " '很市民',\n",
       " '市民围观',\n",
       " '围观为了',\n",
       " '为了不',\n",
       " '不刺激',\n",
       " '刺激女子',\n",
       " '女子的',\n",
       " '的情绪',\n",
       " '情绪刘青',\n",
       " '刘青和',\n",
       " '和巡防',\n",
       " '巡防员',\n",
       " '员一边',\n",
       " '一边盯',\n",
       " '盯着',\n",
       " '着女子',\n",
       " '女子一边',\n",
       " '一边驱赶',\n",
       " '驱赶着',\n",
       " '着围观',\n",
       " '围观的',\n",
       " '的群众',\n",
       " '群众现场',\n",
       " '现场还原',\n",
       " '还原从',\n",
       " '从警方',\n",
       " '警方提供',\n",
       " '提供的',\n",
       " '的一份',\n",
       " '一份视频',\n",
       " '视频了解',\n",
       " '了解到',\n",
       " '到16',\n",
       " '16日',\n",
       " '日早上',\n",
       " '早上7',\n",
       " '7时',\n",
       " '时25',\n",
       " '25分',\n",
       " '分女子',\n",
       " '女子出现',\n",
       " '出现在',\n",
       " '在坂雪岗',\n",
       " '坂雪岗大道',\n",
       " '大道与',\n",
       " '与环城',\n",
       " '环城南路',\n",
       " '南路的',\n",
       " '的监控',\n",
       " '监控视频',\n",
       " '视频中',\n",
       " '中此时',\n",
       " '此时女子',\n",
       " '女子还',\n",
       " '还穿着',\n",
       " '穿着白色',\n",
       " '白色的',\n",
       " '的内裤',\n",
       " '内裤正',\n",
       " '正沿着',\n",
       " '沿着坂雪岗',\n",
       " '坂雪岗大道',\n",
       " '大道往',\n",
       " '往南坪',\n",
       " '南坪快速',\n",
       " '快速的',\n",
       " '的方向',\n",
       " '方向缓慢',\n",
       " '缓慢地',\n",
       " '地走',\n",
       " '走着',\n",
       " '着当时',\n",
       " '当时正值',\n",
       " '正值上班',\n",
       " '上班高峰期',\n",
       " '高峰期十字路口',\n",
       " '十字路口的',\n",
       " '的车流',\n",
       " '车流已经',\n",
       " '已经排起',\n",
       " '排起了',\n",
       " '了长队',\n",
       " '长队当',\n",
       " '当女子',\n",
       " '女子出现',\n",
       " '出现时',\n",
       " '时路上',\n",
       " '路上的',\n",
       " '的市民',\n",
       " '市民纷纷',\n",
       " '纷纷驻足',\n",
       " '驻足观望',\n",
       " '观望不少',\n",
       " '不少车辆',\n",
       " '车辆也',\n",
       " '也放慢',\n",
       " '放慢了',\n",
       " '了速度',\n",
       " '速度但',\n",
       " '但女子',\n",
       " '女子并',\n",
       " '并不',\n",
       " '不为',\n",
       " '为市民',\n",
       " '市民观望',\n",
       " '观望停下',\n",
       " '停下脚步',\n",
       " '脚步依然',\n",
       " '依然缓慢',\n",
       " '缓慢走',\n",
       " '走着',\n",
       " '着当',\n",
       " '当女子',\n",
       " '女子行进',\n",
       " '行进到',\n",
       " '到十字路口',\n",
       " '十字路口中间',\n",
       " '中间时',\n",
       " '时一辆',\n",
       " '一辆大',\n",
       " '大货车',\n",
       " '货车挡住',\n",
       " '挡住了',\n",
       " '了镜头',\n",
       " '镜头但是',\n",
       " '但是当',\n",
       " '当女子',\n",
       " '女子再次出现',\n",
       " '再次出现镜头',\n",
       " '镜头时',\n",
       " '时可以',\n",
       " '可以发现',\n",
       " '发现女子',\n",
       " '女子已经',\n",
       " '已经没',\n",
       " '没穿',\n",
       " '穿内裤',\n",
       " '内裤了',\n",
       " '了全身',\n",
       " '全身裸露',\n",
       " '裸露继续',\n",
       " '继续朝着',\n",
       " '朝着南坪',\n",
       " '南坪快速',\n",
       " '快速方向',\n",
       " '方向走',\n",
       " '走去',\n",
       " '去记者',\n",
       " '记者发现',\n",
       " '发现视频',\n",
       " '视频中',\n",
       " '中女子',\n",
       " '女子周围',\n",
       " '周围并',\n",
       " '并没有',\n",
       " '没有人',\n",
       " '人尾随',\n",
       " '尾随或者',\n",
       " '或者上前',\n",
       " '上前劝止',\n",
       " '劝止的',\n",
       " '的市民',\n",
       " '市民一',\n",
       " '一大清早',\n",
       " '大清早路上',\n",
       " '路上看到',\n",
       " '看到这样',\n",
       " '这样的',\n",
       " '的情况',\n",
       " '情况恐怕',\n",
       " '恐怕大家',\n",
       " '大家都',\n",
       " '都没',\n",
       " '没办法',\n",
       " '办法淡定',\n",
       " '淡定面对',\n",
       " '面对这一',\n",
       " '这一情况',\n",
       " '情况刘青',\n",
       " '刘青表示',\n",
       " '表示一',\n",
       " '一开始',\n",
       " '开始根本',\n",
       " '根本不敢',\n",
       " '不敢看',\n",
       " '看她',\n",
       " '她心里',\n",
       " '心里挺',\n",
       " '挺别扭',\n",
       " '别扭感觉',\n",
       " '感觉很',\n",
       " '很尴尬',\n",
       " '尴尬但',\n",
       " '但当',\n",
       " '当刘青',\n",
       " '刘青跟随',\n",
       " '跟随女子',\n",
       " '女子上',\n",
       " '上了',\n",
       " '了南坪',\n",
       " '南坪快速路',\n",
       " '快速路主干道',\n",
       " '主干道时',\n",
       " '时女子',\n",
       " '女子作出',\n",
       " '作出了',\n",
       " '了让',\n",
       " '让人',\n",
       " '人意想不到',\n",
       " '意想不到的',\n",
       " '的举动',\n",
       " '举动她',\n",
       " '她突然',\n",
       " '突然靠近',\n",
       " '靠近护栏',\n",
       " '护栏要',\n",
       " '要从',\n",
       " '从上面',\n",
       " '上面跳下去',\n",
       " '跳下去刘青',\n",
       " '刘青赶忙',\n",
       " '赶忙冲上去',\n",
       " '冲上去拉住',\n",
       " '拉住了',\n",
       " '了女子',\n",
       " '女子的',\n",
       " '的手',\n",
       " '手将',\n",
       " '将其',\n",
       " '其控制',\n",
       " '控制住',\n",
       " '住并',\n",
       " '并远离',\n",
       " '远离护栏',\n",
       " '护栏碍于',\n",
       " '碍于女子',\n",
       " '女子没有',\n",
       " '没有穿衣服',\n",
       " '穿衣服刘青递',\n",
       " '刘青递上',\n",
       " '上衣服',\n",
       " '衣服女子',\n",
       " '女子没',\n",
       " '没接受',\n",
       " '接受还',\n",
       " '还把',\n",
       " '把衣服',\n",
       " '衣服扔',\n",
       " '扔到',\n",
       " '到排水沟',\n",
       " '排水沟里',\n",
       " '里继续',\n",
       " '继续往前走',\n",
       " '往前走没',\n",
       " '没办法',\n",
       " '办法刘青',\n",
       " '刘青只能',\n",
       " '只能紧紧',\n",
       " '紧紧拉',\n",
       " '拉着',\n",
       " '着她',\n",
       " '她的',\n",
       " '的一只',\n",
       " '一只手',\n",
       " '手跟',\n",
       " '跟在',\n",
       " '在后面',\n",
       " '后面刘青',\n",
       " '刘青一路上',\n",
       " '一路上耐心',\n",
       " '耐心地',\n",
       " '地开导',\n",
       " '开导安慰',\n",
       " '安慰她',\n",
       " '她但',\n",
       " '但只',\n",
       " '只听到',\n",
       " '听到她',\n",
       " '她不断',\n",
       " '不断地',\n",
       " '地重复',\n",
       " '重复着',\n",
       " '着一句',\n",
       " '一句话',\n",
       " '话要是',\n",
       " '要是你',\n",
       " '你也',\n",
       " '也遭遇',\n",
       " '遭遇我',\n",
       " '我的',\n",
       " '的事',\n",
       " '事你',\n",
       " '你也',\n",
       " '也会',\n",
       " '会这样',\n",
       " '这样的',\n",
       " '的期间',\n",
       " '期间她',\n",
       " '她还',\n",
       " '还不时',\n",
       " '不时试图',\n",
       " '试图挣脱',\n",
       " '挣脱刘青',\n",
       " '刘青的',\n",
       " '的手要',\n",
       " '手要冲向',\n",
       " '冲向护栏',\n",
       " '护栏往下跳',\n",
       " '往下跳就',\n",
       " '就这样',\n",
       " '这样我',\n",
       " '我被',\n",
       " '被牵',\n",
       " '牵着',\n",
       " '着走',\n",
       " '走了',\n",
       " '了大概',\n",
       " '大概十多分钟',\n",
       " '十多分钟天',\n",
       " '天突然',\n",
       " '突然下起',\n",
       " '下起了',\n",
       " '了大暴雨',\n",
       " '大暴雨雨大',\n",
       " '雨大的',\n",
       " '的连',\n",
       " '连眼睛',\n",
       " '眼睛都',\n",
       " '都睁不开',\n",
       " '睁不开刘青',\n",
       " '刘青继续',\n",
       " '继续说',\n",
       " '说着',\n",
       " '着瞬间',\n",
       " '瞬间他们',\n",
       " '他们就',\n",
       " '就被',\n",
       " '被雨',\n",
       " '雨透',\n",
       " '透了',\n",
       " '了但',\n",
       " '但女子',\n",
       " '女子依然',\n",
       " '依然不',\n",
       " '不愿意',\n",
       " '愿意接受',\n",
       " '接受刘青',\n",
       " '刘青的',\n",
       " '的帮助',\n",
       " '帮助就',\n",
       " '就继续',\n",
       " '继续冒',\n",
       " '冒着',\n",
       " '着大雨',\n",
       " '大雨往前走',\n",
       " '往前走大概',\n",
       " '大概走',\n",
       " '走了',\n",
       " '了有',\n",
       " '有四十分钟',\n",
       " '四十分钟吧',\n",
       " '吧女子',\n",
       " '女子突然',\n",
       " '突然停下',\n",
       " '停下来说',\n",
       " '来说我',\n",
       " '我想',\n",
       " '想回家',\n",
       " '回家了',\n",
       " '了然后',\n",
       " '然后女子',\n",
       " '女子也',\n",
       " '也接受',\n",
       " '接受了',\n",
       " '了刘青',\n",
       " '刘青递过来',\n",
       " '递过来的',\n",
       " '的小',\n",
       " '小黄衣',\n",
       " '黄衣就',\n",
       " '就出现',\n",
       " '出现了',\n",
       " '了深圳',\n",
       " '深圳微博上',\n",
       " '微博上的',\n",
       " '的照片',\n",
       " '照片女子',\n",
       " '女子披着',\n",
       " '披着小',\n",
       " '小黄衣',\n",
       " '黄衣刘青',\n",
       " '刘青小心翼翼',\n",
       " '小心翼翼地',\n",
       " '地在',\n",
       " '在旁边',\n",
       " '旁边走',\n",
       " '走着',\n",
       " '着的',\n",
       " '的场景',\n",
       " '场景从',\n",
       " '从南平',\n",
       " '南平快速',\n",
       " '快速下来',\n",
       " '下来后',\n",
       " '后刘青',\n",
       " '刘青和',\n",
       " '和巡防',\n",
       " '巡防员',\n",
       " '员将',\n",
       " '将女子',\n",
       " '女子带到',\n",
       " '带到了',\n",
       " '了附近',\n",
       " '附近的',\n",
       " '的坂田',\n",
       " '坂田派出所',\n",
       " '派出所那',\n",
       " '那姑娘',\n",
       " '姑娘到底',\n",
       " '到底是',\n",
       " '是遭遇',\n",
       " '遭遇了',\n",
       " '了什么样',\n",
       " '什么样的',\n",
       " '的事情',\n",
       " '事情才',\n",
       " '才会',\n",
       " '会说',\n",
       " '说要是',\n",
       " '要是你',\n",
       " '你也',\n",
       " '也遭遇',\n",
       " '遭遇我',\n",
       " '我的',\n",
       " '的事',\n",
       " '事你',\n",
       " '你也',\n",
       " '也会',\n",
       " '会这样',\n",
       " '这样据',\n",
       " '据警方',\n",
       " '警方透露',\n",
       " '透露该',\n",
       " '该女子',\n",
       " '女子姓',\n",
       " '姓陈系',\n",
       " '陈系湖北',\n",
       " '湖北人',\n",
       " '人今年',\n",
       " '今年44',\n",
       " '44岁',\n",
       " '岁据',\n",
       " '据家属',\n",
       " '家属反映',\n",
       " '反映其有',\n",
       " '其有精神病',\n",
       " '精神病史',\n",
       " '史三天',\n",
       " '三天前',\n",
       " '前陈某',\n",
       " '陈某从',\n",
       " '从老家',\n",
       " '老家来',\n",
       " '来深圳',\n",
       " '深圳约会',\n",
       " '约会网友',\n",
       " '网友但',\n",
       " '但约会',\n",
       " '约会受挫',\n",
       " '受挫导致',\n",
       " '导致情绪',\n",
       " '情绪异常',\n",
       " '异常女子',\n",
       " '女子遂',\n",
       " '遂产生',\n",
       " '产生轻生',\n",
       " '轻生念头',\n",
       " '念头目前',\n",
       " '目前陈某',\n",
       " '陈某已经',\n",
       " '已经被',\n",
       " '被送往',\n",
       " '送往深圳',\n",
       " '深圳某',\n",
       " '某精神病',\n",
       " '精神病医院',\n",
       " '医院进行',\n",
       " '进行治疗',\n",
       " ...]"
      ]
     },
     "execution_count": 153,
     "metadata": {},
     "output_type": "execute_result"
    }
   ],
   "source": [
    "TOLEN_2_GRAM[10:]"
   ]
  },
  {
   "cell_type": "code",
   "execution_count": 154,
   "metadata": {},
   "outputs": [
    {
     "data": {
      "text/plain": [
       "17618252"
      ]
     },
     "execution_count": 154,
     "metadata": {},
     "output_type": "execute_result"
    }
   ],
   "source": [
    "len(TOLEN_2_GRAM)"
   ]
  },
  {
   "cell_type": "code",
   "execution_count": 155,
   "metadata": {},
   "outputs": [],
   "source": [
    "word_count_2 = Counter(TOLEN_2_GRAM)"
   ]
  },
  {
   "cell_type": "code",
   "execution_count": 179,
   "metadata": {},
   "outputs": [],
   "source": [
    "def prob_2(word1,word2):\n",
    "    combine = word1 + word2\n",
    "    if combine in word_count_2:\n",
    "        return word_count_2[combine]/word_counts[word2]\n",
    "    else:\n",
    "        return 1/len(word_counts)"
   ]
  },
  {
   "cell_type": "code",
   "execution_count": null,
   "metadata": {},
   "outputs": [],
   "source": []
  },
  {
   "cell_type": "code",
   "execution_count": 211,
   "metadata": {},
   "outputs": [],
   "source": [
    "def _2_gram(sentence):\n",
    "    words = cut(sentence)\n",
    "    prob = 1\n",
    "    for i in range(len(words)-1):\n",
    "        word,next_word = words[i],words[i+1]\n",
    "#         print(word)\n",
    "#         print(word_count_2[word+next_word])\n",
    "#         print(word_counts[next_word])\n",
    "        prob *= prob_2(word,next_word)\n",
    "        #prob *= word_count_2[word+next_word] / word_counts[next_word]\n",
    "    prob *= prob_1(words[-1])\n",
    "    return prob"
   ]
  },
  {
   "cell_type": "code",
   "execution_count": 181,
   "metadata": {},
   "outputs": [
    {
     "data": {
      "text/plain": [
       "[('\\n新华社', 69033),\n",
       " ('2017年', 61480),\n",
       " ('外代二线', 61301),\n",
       " ('n新华社', 59794),\n",
       " ('日n', 52216),\n",
       " ('新华社照片', 50401),\n",
       " ('5月', 37977),\n",
       " ('4月', 34571),\n",
       " ('新华社记者', 30864),\n",
       " ('２０', 27166)]"
      ]
     },
     "execution_count": 181,
     "metadata": {},
     "output_type": "execute_result"
    }
   ],
   "source": [
    "word_count_2.most_common(10)"
   ]
  },
  {
   "cell_type": "code",
   "execution_count": 182,
   "metadata": {},
   "outputs": [
    {
     "data": {
      "text/plain": [
       "0"
      ]
     },
     "execution_count": 182,
     "metadata": {},
     "output_type": "execute_result"
    }
   ],
   "source": [
    "word_count_2['我们']"
   ]
  },
  {
   "cell_type": "code",
   "execution_count": 186,
   "metadata": {},
   "outputs": [
    {
     "name": "stdout",
     "output_type": "stream",
     "text": [
      "我们\n",
      "0\n",
      "260\n",
      "形容\n",
      "0\n",
      "558\n",
      "一句\n",
      "245\n",
      "780\n"
     ]
    },
    {
     "data": {
      "text/plain": [
       "1.8572324951179333e-16"
      ]
     },
     "execution_count": 186,
     "metadata": {},
     "output_type": "execute_result"
    }
   ],
   "source": [
    "_2_gram('我们形容一句话')"
   ]
  },
  {
   "cell_type": "code",
   "execution_count": 185,
   "metadata": {},
   "outputs": [
    {
     "name": "stdout",
     "output_type": "stream",
     "text": [
      "中国\n",
      "7\n",
      "1813\n",
      "发射\n",
      "41\n",
      "357\n",
      "一枚\n",
      "7\n",
      "1294\n"
     ]
    },
    {
     "data": {
      "text/plain": [
       "1.7617774612710593e-10"
      ]
     },
     "execution_count": 185,
     "metadata": {},
     "output_type": "execute_result"
    }
   ],
   "source": [
    "_2_gram('中国发射一枚火箭')"
   ]
  },
  {
   "cell_type": "code",
   "execution_count": null,
   "metadata": {},
   "outputs": [],
   "source": [
    "# 1\n",
    "# 2\n",
    "# 3"
   ]
  },
  {
   "cell_type": "code",
   "execution_count": 212,
   "metadata": {},
   "outputs": [],
   "source": [
    "need_compared = [\n",
    "    ('今天晚上请你吃大餐，我们一起吃日料','今天晚上请你吃大餐，我们一起吃苹果'),\n",
    "    ('真是一只好看的老虎','真是一个漂亮的帅哥'),\n",
    "    ('今晚我去吃火锅','今晚火锅去吃我'),\n",
    "    ('洋葱奶昔来一杯','星巴克咖啡来一口')\n",
    "]"
   ]
  },
  {
   "cell_type": "code",
   "execution_count": 213,
   "metadata": {},
   "outputs": [
    {
     "name": "stdout",
     "output_type": "stream",
     "text": [
      "Pr(今天晚上请你吃大餐，我们一起吃日料) = 1.5903389425741782e-45\n",
      "Pr(今天晚上请你吃大餐，我们一起吃苹果) = 8.703384317468003e-40\n",
      "Pr(真是一只好看的老虎) = 2.8438500336066374e-22\n",
      "Pr(真是一个漂亮的帅哥) = 1.9556501873376929e-16\n",
      "Pr(今晚我去吃火锅) = 1.7325227255339101e-18\n",
      "Pr(今晚火锅去吃我) = 1.4852604423993444e-20\n",
      "Pr(洋葱奶昔来一杯) = 7.580540796399728e-19\n",
      "Pr(星巴克咖啡来一口) = 2.999126743716112e-14\n"
     ]
    }
   ],
   "source": [
    "for s1, s2 in need_compared:\n",
    "    print('Pr({}) = {}'.format(s1, _2_gram(s1)))\n",
    "    print('Pr({}) = {}'.format(s2, _2_gram(s2)))"
   ]
  },
  {
   "cell_type": "code",
   "execution_count": 22,
   "metadata": {},
   "outputs": [],
   "source": [
    "from functools import reduce"
   ]
  },
  {
   "cell_type": "code",
   "execution_count": 25,
   "metadata": {},
   "outputs": [
    {
     "ename": "SyntaxError",
     "evalue": "invalid syntax (<ipython-input-25-1ec9917ecf25>, line 1)",
     "output_type": "error",
     "traceback": [
      "\u001b[1;36m  File \u001b[1;32m\"<ipython-input-25-1ec9917ecf25>\"\u001b[1;36m, line \u001b[1;32m1\u001b[0m\n\u001b[1;33m    form operator import mul\u001b[0m\n\u001b[1;37m                ^\u001b[0m\n\u001b[1;31mSyntaxError\u001b[0m\u001b[1;31m:\u001b[0m invalid syntax\n"
     ]
    }
   ],
   "source": [
    "form operator import mul"
   ]
  },
  {
   "cell_type": "markdown",
   "metadata": {},
   "source": [
    "## 怎么让这句话变成？？"
   ]
  },
  {
   "cell_type": "code",
   "execution_count": null,
   "metadata": {},
   "outputs": [],
   "source": []
  }
 ],
 "metadata": {
  "kernelspec": {
   "display_name": "Python 3",
   "language": "python",
   "name": "python3"
  },
  "language_info": {
   "codemirror_mode": {
    "name": "ipython",
    "version": 3
   },
   "file_extension": ".py",
   "mimetype": "text/x-python",
   "name": "python",
   "nbconvert_exporter": "python",
   "pygments_lexer": "ipython3",
   "version": "3.7.6"
  }
 },
 "nbformat": 4,
 "nbformat_minor": 4
}
